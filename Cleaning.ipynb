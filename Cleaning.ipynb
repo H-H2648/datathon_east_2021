{
 "cells": [
  {
   "cell_type": "code",
   "execution_count": 1,
   "metadata": {},
   "outputs": [
    {
     "name": "stdout",
     "output_type": "stream",
     "text": [
      "Requirement already satisfied: pandas in c:\\users\\hhong\\appdata\\local\\packages\\pythonsoftwarefoundation.python.3.8_qbz5n2kfra8p0\\localcache\\local-packages\\python38\\site-packages (1.1.2)\n",
      "Requirement already satisfied: pytz>=2017.2 in c:\\users\\hhong\\appdata\\local\\packages\\pythonsoftwarefoundation.python.3.8_qbz5n2kfra8p0\\localcache\\local-packages\\python38\\site-packages (from pandas) (2020.1)\n",
      "Requirement already satisfied: python-dateutil>=2.7.3 in c:\\users\\hhong\\appdata\\local\\packages\\pythonsoftwarefoundation.python.3.8_qbz5n2kfra8p0\\localcache\\local-packages\\python38\\site-packages (from pandas) (2.8.1)\n",
      "Requirement already satisfied: numpy>=1.15.4 in c:\\users\\hhong\\appdata\\local\\packages\\pythonsoftwarefoundation.python.3.8_qbz5n2kfra8p0\\localcache\\local-packages\\python38\\site-packages (from pandas) (1.18.5)\n",
      "Requirement already satisfied: six>=1.5 in c:\\users\\hhong\\appdata\\local\\packages\\pythonsoftwarefoundation.python.3.8_qbz5n2kfra8p0\\localcache\\local-packages\\python38\\site-packages (from python-dateutil>=2.7.3->pandas) (1.15.0)\n"
     ]
    },
    {
     "name": "stderr",
     "output_type": "stream",
     "text": [
      "WARNING: You are using pip version 20.2.3; however, version 21.0.1 is available.\n",
      "You should consider upgrading via the 'C:\\Users\\hhong\\AppData\\Local\\Microsoft\\WindowsApps\\PythonSoftwareFoundation.Python.3.8_qbz5n2kfra8p0\\python.exe -m pip install --upgrade pip' command.\n"
     ]
    }
   ],
   "source": [
    "!pip install pandas"
   ]
  },
  {
   "cell_type": "code",
   "execution_count": 2,
   "metadata": {},
   "outputs": [],
   "source": [
    "import pandas as pd\n",
    "import json \n",
    "import numpy as np"
   ]
  },
  {
   "cell_type": "code",
   "execution_count": 3,
   "metadata": {},
   "outputs": [],
   "source": [
    "#cleaning up country.csv\n",
    "#nothing really to clean tbh\n",
    "#but I will make a dictionary for number to country\n",
    "countryDf = pd.read_csv('country.csv')\n",
    "countryDict = dict(zip(countryDf.country_id, countryDf.name))\n",
    "countryDict_to_json = json.dumps(countryDict)\n",
    "with open(\"id_to_country.json\", \"w\") as outputfile:\n",
    "    json.dump(countryDict_to_json, outputfile)\n",
    "#maybe we might need country to number later(?) but that will be for an another day lol"
   ]
  },
  {
   "cell_type": "code",
   "execution_count": 21,
   "metadata": {},
   "outputs": [
    {
     "data": {
      "text/plain": [
       "player_id                 0\n",
       "date                      0\n",
       "overall_rating          836\n",
       "potential               836\n",
       "preferred_foot          836\n",
       "attacking_work_rate    3230\n",
       "defensive_work_rate     836\n",
       "crossing                836\n",
       "finishing               836\n",
       "heading_accuracy        836\n",
       "short_passing           836\n",
       "volleys                2713\n",
       "dribbling               836\n",
       "curve                  2713\n",
       "free_kick_accuracy      836\n",
       "long_passing            836\n",
       "ball_control            836\n",
       "acceleration            836\n",
       "sprint_speed            836\n",
       "agility                2713\n",
       "reactions               836\n",
       "balance                2713\n",
       "shot_power              836\n",
       "jumping                2713\n",
       "stamina                 836\n",
       "strength                836\n",
       "long_shots              836\n",
       "aggression              836\n",
       "interceptions           836\n",
       "positioning             836\n",
       "vision                 2713\n",
       "penalties               836\n",
       "marking                 836\n",
       "standing_tackle         836\n",
       "sliding_tackle         2713\n",
       "gk_diving               836\n",
       "gk_handling             836\n",
       "gk_kicking              836\n",
       "gk_positioning          836\n",
       "gk_reflexes             836\n",
       "dtype: int64"
      ]
     },
     "execution_count": 21,
     "metadata": {},
     "output_type": "execute_result"
    }
   ],
   "source": [
    "#cleaning up player_attributes\n",
    "player_attributesDf = pd.read_csv('player_attributes.csv')\n",
    "player_attributesDf.head()\n",
    "missing_values_count_total = player_attributesDf.isnull().sum()\n",
    "missing_values_count_total\n",
    "#only thing not missing is player_id and date (which makes sense)"
   ]
  },
  {
   "cell_type": "code",
   "execution_count": 22,
   "metadata": {},
   "outputs": [
    {
     "name": "stdout",
     "output_type": "stream",
     "text": [
      "The percentage of missing cells is: 0.6427534813945146%\n"
     ]
    }
   ],
   "source": [
    "total_cells = np.product(player_attributesDf.shape)\n",
    "total_missing = missing_values_count_total.sum()\n",
    "print(\"The percentage of missing cells is: {0}%\".format(total_missing/total_cells*100))"
   ]
  },
  {
   "cell_type": "code",
   "execution_count": 23,
   "metadata": {},
   "outputs": [
    {
     "data": {
      "text/plain": [
       "player_id                0\n",
       "date                     0\n",
       "overall_rating         836\n",
       "potential              836\n",
       "preferred_foot         836\n",
       "attacking_work_rate    836\n",
       "defensive_work_rate    836\n",
       "crossing               836\n",
       "finishing              836\n",
       "heading_accuracy       836\n",
       "short_passing          836\n",
       "volleys                836\n",
       "dribbling              836\n",
       "curve                  836\n",
       "free_kick_accuracy     836\n",
       "long_passing           836\n",
       "ball_control           836\n",
       "acceleration           836\n",
       "sprint_speed           836\n",
       "agility                836\n",
       "reactions              836\n",
       "balance                836\n",
       "shot_power             836\n",
       "jumping                836\n",
       "stamina                836\n",
       "strength               836\n",
       "long_shots             836\n",
       "aggression             836\n",
       "interceptions          836\n",
       "positioning            836\n",
       "vision                 836\n",
       "penalties              836\n",
       "marking                836\n",
       "standing_tackle        836\n",
       "sliding_tackle         836\n",
       "gk_diving              836\n",
       "gk_handling            836\n",
       "gk_kicking             836\n",
       "gk_positioning         836\n",
       "gk_reflexes            836\n",
       "dtype: int64"
      ]
     },
     "execution_count": 23,
     "metadata": {},
     "output_type": "execute_result"
    }
   ],
   "source": [
    "player_attributes_missing_rating = player_attributesDf[player_attributesDf['overall_rating'].isnull()]\n",
    "missing_values_count_rating = player_attributes_missing_rating.isnull().sum()\n",
    "missing_values_count_rating"
   ]
  },
  {
   "cell_type": "code",
   "execution_count": 24,
   "metadata": {},
   "outputs": [
    {
     "data": {
      "text/plain": [
       "player_id                 0\n",
       "date                      0\n",
       "overall_rating            0\n",
       "potential                 0\n",
       "preferred_foot            0\n",
       "attacking_work_rate    2394\n",
       "defensive_work_rate       0\n",
       "crossing                  0\n",
       "finishing                 0\n",
       "heading_accuracy          0\n",
       "short_passing             0\n",
       "volleys                1877\n",
       "dribbling                 0\n",
       "curve                  1877\n",
       "free_kick_accuracy        0\n",
       "long_passing              0\n",
       "ball_control              0\n",
       "acceleration              0\n",
       "sprint_speed              0\n",
       "agility                1877\n",
       "reactions                 0\n",
       "balance                1877\n",
       "shot_power                0\n",
       "jumping                1877\n",
       "stamina                   0\n",
       "strength                  0\n",
       "long_shots                0\n",
       "aggression                0\n",
       "interceptions             0\n",
       "positioning               0\n",
       "vision                 1877\n",
       "penalties                 0\n",
       "marking                   0\n",
       "standing_tackle           0\n",
       "sliding_tackle         1877\n",
       "gk_diving                 0\n",
       "gk_handling               0\n",
       "gk_kicking                0\n",
       "gk_positioning            0\n",
       "gk_reflexes               0\n",
       "dtype: int64"
      ]
     },
     "execution_count": 24,
     "metadata": {},
     "output_type": "execute_result"
    }
   ],
   "source": [
    "#all of them are 836 meaning (there are only 836 rows (since 836 in total overall_rating is missing))\n",
    "#this means the 836 of the rows are absolutely useless (they only give you id and date)\n",
    "#so we are gonna ignore that row\n",
    "player_attributesDf = player_attributesDf[player_attributesDf['overall_rating'].notna()]\n",
    "missing_values_count_total = player_attributesDf.isnull().sum()\n",
    "missing_values_count_total"
   ]
  },
  {
   "cell_type": "code",
   "execution_count": 25,
   "metadata": {},
   "outputs": [
    {
     "name": "stdout",
     "output_type": "stream",
     "text": [
      "183142\n"
     ]
    }
   ],
   "source": [
    "print(len(player_attributesDf))"
   ]
  },
  {
   "cell_type": "code",
   "execution_count": 26,
   "metadata": {},
   "outputs": [
    {
     "data": {
      "text/plain": [
       "player_id                 0\n",
       "date                      0\n",
       "overall_rating            0\n",
       "potential                 0\n",
       "preferred_foot            0\n",
       "attacking_work_rate    2394\n",
       "defensive_work_rate       0\n",
       "crossing                  0\n",
       "finishing                 0\n",
       "heading_accuracy          0\n",
       "short_passing             0\n",
       "volleys                   0\n",
       "dribbling                 0\n",
       "curve                     0\n",
       "free_kick_accuracy        0\n",
       "long_passing              0\n",
       "ball_control              0\n",
       "acceleration              0\n",
       "sprint_speed              0\n",
       "agility                   0\n",
       "reactions                 0\n",
       "balance                   0\n",
       "shot_power                0\n",
       "jumping                   0\n",
       "stamina                   0\n",
       "strength                  0\n",
       "long_shots                0\n",
       "aggression                0\n",
       "interceptions             0\n",
       "positioning               0\n",
       "vision                    0\n",
       "penalties                 0\n",
       "marking                   0\n",
       "standing_tackle           0\n",
       "sliding_tackle            0\n",
       "gk_diving                 0\n",
       "gk_handling               0\n",
       "gk_kicking                0\n",
       "gk_positioning            0\n",
       "gk_reflexes               0\n",
       "dtype: int64"
      ]
     },
     "execution_count": 26,
     "metadata": {},
     "output_type": "execute_result"
    }
   ],
   "source": [
    "#the rest has useful data like overall_rating, potential, sterngth, stamina, etc.\n",
    "#the values missing like vision, sliding_tackle, jumping, etc.\n",
    "#the missing value are all categorical. So we will assign it \"missing\" for now lol\n",
    "player_attributesDf[['volleys',  'curve', 'agility', 'balance', 'jumping', 'vision', 'sliding_tackle']] = player_attributesDf[['volleys',  'curve', 'agility', 'balance', 'jumping', 'vision', 'sliding_tackle']].fillna(player_attributesDf[['volleys',  'curve', 'agility', 'balance', 'jumping', 'vision', 'sliding_tackle']].mean())\n",
    "missing_values_count_total = player_attributesDf.isnull().sum()\n",
    "missing_values_count_total"
   ]
  },
  {
   "cell_type": "code",
   "execution_count": 27,
   "metadata": {},
   "outputs": [
    {
     "data": {
      "text/plain": [
       "player_id              0\n",
       "date                   0\n",
       "overall_rating         0\n",
       "potential              0\n",
       "preferred_foot         0\n",
       "attacking_work_rate    0\n",
       "defensive_work_rate    0\n",
       "crossing               0\n",
       "finishing              0\n",
       "heading_accuracy       0\n",
       "short_passing          0\n",
       "volleys                0\n",
       "dribbling              0\n",
       "curve                  0\n",
       "free_kick_accuracy     0\n",
       "long_passing           0\n",
       "ball_control           0\n",
       "acceleration           0\n",
       "sprint_speed           0\n",
       "agility                0\n",
       "reactions              0\n",
       "balance                0\n",
       "shot_power             0\n",
       "jumping                0\n",
       "stamina                0\n",
       "strength               0\n",
       "long_shots             0\n",
       "aggression             0\n",
       "interceptions          0\n",
       "positioning            0\n",
       "vision                 0\n",
       "penalties              0\n",
       "marking                0\n",
       "standing_tackle        0\n",
       "sliding_tackle         0\n",
       "gk_diving              0\n",
       "gk_handling            0\n",
       "gk_kicking             0\n",
       "gk_positioning         0\n",
       "gk_reflexes            0\n",
       "dtype: int64"
      ]
     },
     "execution_count": 27,
     "metadata": {},
     "output_type": "execute_result"
    }
   ],
   "source": [
    "player_attributesDf = player_attributesDf.fillna(\"missing\")\n",
    "missing_values_count_total = player_attributesDf.isnull().sum()\n",
    "missing_values_count_total"
   ]
  },
  {
   "cell_type": "code",
   "execution_count": 28,
   "metadata": {},
   "outputs": [],
   "source": [
    "#no more missing value\n",
    "#time to clean the dates\n",
    "player_attributesDf['date'] = pd.to_datetime(player_attributesDf['date'])"
   ]
  },
  {
   "cell_type": "code",
   "execution_count": 29,
   "metadata": {},
   "outputs": [
    {
     "data": {
      "text/plain": [
       "0        2016-02-18\n",
       "1        2015-11-19\n",
       "2        2015-09-21\n",
       "3        2015-03-20\n",
       "4        2007-02-22\n",
       "            ...    \n",
       "183973   2009-08-30\n",
       "183974   2009-02-22\n",
       "183975   2008-08-30\n",
       "183976   2007-08-30\n",
       "183977   2007-02-22\n",
       "Name: date, Length: 183142, dtype: datetime64[ns]"
      ]
     },
     "execution_count": 29,
     "metadata": {},
     "output_type": "execute_result"
    }
   ],
   "source": [
    "player_attributesDf['date']"
   ]
  },
  {
   "cell_type": "code",
   "execution_count": 30,
   "metadata": {},
   "outputs": [],
   "source": [
    "player_attributesDf.to_csv('player_attributes_CLEANED.csv', index=False)"
   ]
  },
  {
   "cell_type": "code",
   "execution_count": 31,
   "metadata": {},
   "outputs": [],
   "source": [
    "player_attributesDf.to_pickle(\"player_attributes_CLEANED.pkl\")"
   ]
  },
  {
   "cell_type": "code",
   "execution_count": 3,
   "metadata": {},
   "outputs": [
    {
     "data": {
      "text/plain": [
       "country_id        0\n",
       "league_id         0\n",
       "season            0\n",
       "stage             0\n",
       "date              0\n",
       "              ...  \n",
       "GBD           11817\n",
       "GBA           11817\n",
       "BSH           11818\n",
       "BSD           11818\n",
       "BSA           11818\n",
       "Length: 62, dtype: int64"
      ]
     },
     "execution_count": 3,
     "metadata": {},
     "output_type": "execute_result"
    }
   ],
   "source": [
    "#cleaning up match.csv\n",
    "matchDf = pd.read_csv('match.csv')\n",
    "matchDf.head()\n",
    "missing_values_count_total = matchDf.isnull().sum()\n",
    "missing_values_count_total"
   ]
  },
  {
   "cell_type": "code",
   "execution_count": 4,
   "metadata": {},
   "outputs": [
    {
     "name": "stdout",
     "output_type": "stream",
     "text": [
      "The percentage of missing cells is: 14.448208168135801%\n"
     ]
    }
   ],
   "source": [
    "total_cells = np.product(matchDf.shape)\n",
    "total_missing = missing_values_count_total.sum()\n",
    "print(\"The percentage of missing cells is: {0}%\".format(total_missing/total_cells*100))"
   ]
  },
  {
   "cell_type": "code",
   "execution_count": 6,
   "metadata": {},
   "outputs": [
    {
     "name": "stdout",
     "output_type": "stream",
     "text": [
      "country_id:\t0\n",
      "league_id:\t0\n",
      "season:\t0\n",
      "stage:\t0\n",
      "date:\t0\n",
      "match_id:\t0\n",
      "home_team_id:\t0\n",
      "away_team_id:\t0\n",
      "home_team_goal:\t0\n",
      "away_team_goal:\t0\n",
      "home_player_1:\t1224\n",
      "home_player_2:\t1315\n",
      "home_player_3:\t1281\n",
      "home_player_4:\t1323\n",
      "home_player_5:\t1316\n",
      "home_player_6:\t1325\n",
      "home_player_7:\t1227\n",
      "home_player_8:\t1309\n",
      "home_player_9:\t1273\n",
      "home_player_10:\t1436\n",
      "home_player_11:\t1555\n",
      "away_player_1:\t1234\n",
      "away_player_2:\t1278\n",
      "away_player_3:\t1293\n",
      "away_player_4:\t1321\n",
      "away_player_5:\t1335\n",
      "away_player_6:\t1313\n",
      "away_player_7:\t1235\n",
      "away_player_8:\t1341\n",
      "away_player_9:\t1328\n",
      "away_player_10:\t1441\n",
      "away_player_11:\t1554\n",
      "B365H:\t3387\n",
      "B365D:\t3387\n",
      "B365A:\t3387\n",
      "BWH:\t3404\n",
      "BWD:\t3404\n",
      "BWA:\t3404\n",
      "IWH:\t3459\n",
      "IWD:\t3459\n",
      "IWA:\t3459\n",
      "LBH:\t3423\n",
      "LBD:\t3423\n",
      "LBA:\t3423\n",
      "PSH:\t14811\n",
      "PSD:\t14811\n",
      "PSA:\t14811\n",
      "WHH:\t3408\n",
      "WHD:\t3408\n",
      "WHA:\t3408\n",
      "SJH:\t8882\n",
      "SJD:\t8882\n",
      "SJA:\t8882\n",
      "VCH:\t3411\n",
      "VCD:\t3411\n",
      "VCA:\t3411\n",
      "GBH:\t11817\n",
      "GBD:\t11817\n",
      "GBA:\t11817\n",
      "BSH:\t11818\n",
      "BSD:\t11818\n",
      "BSA:\t11818\n"
     ]
    }
   ],
   "source": [
    "for col in matchDf:\n",
    "    print(\"{0}:\\t{1}\".format(col, matchDf[col].isnull().sum()))"
   ]
  },
  {
   "cell_type": "code",
   "execution_count": 8,
   "metadata": {},
   "outputs": [],
   "source": [
    "#all of the missing values are probably because they just couldn't find it. It's not data that we could possible impute\n",
    "#So we will just replace all NaNs with \"missing\"\n",
    "matchDf = matchDf.fillna(\"missing\")"
   ]
  },
  {
   "cell_type": "code",
   "execution_count": 9,
   "metadata": {},
   "outputs": [],
   "source": [
    "#standardizing date\n",
    "matchDf['date'] = pd.to_datetime(matchDf['date'])"
   ]
  },
  {
   "cell_type": "code",
   "execution_count": 10,
   "metadata": {},
   "outputs": [],
   "source": [
    "matchDf.to_csv('match_CLEANED.csv', index=False)\n",
    "matchDf.to_pickle(\"match_CLEANED.pkl\")"
   ]
  },
  {
   "cell_type": "code",
   "execution_count": 11,
   "metadata": {},
   "outputs": [
    {
     "data": {
      "text/plain": [
       "league_id     0\n",
       "country_id    0\n",
       "name          0\n",
       "dtype: int64"
      ]
     },
     "execution_count": 11,
     "metadata": {},
     "output_type": "execute_result"
    }
   ],
   "source": [
    "#cleaning up league.csv\n",
    "leagueDf = pd.read_csv('league.csv')\n",
    "leagueDf.head()\n",
    "missing_values_count_total = leagueDf.isnull().sum()\n",
    "missing_values_count_total"
   ]
  },
  {
   "cell_type": "code",
   "execution_count": 13,
   "metadata": {},
   "outputs": [
    {
     "name": "stdout",
     "output_type": "stream",
     "text": [
      "0     0\n",
      "1     0\n",
      "2     0\n",
      "3     0\n",
      "4     0\n",
      "5     0\n",
      "6     0\n",
      "7     0\n",
      "8     0\n",
      "9     0\n",
      "10    0\n",
      "dtype: int64\n"
     ]
    }
   ],
   "source": [
    "#this seems basically perfect to me\n",
    "#I will just quickly make a dictionary for it\n",
    "print(leagueDf['league_id'] - leagueDf['country_id'])\n",
    "#league_id and country_id is identitcal"
   ]
  },
  {
   "cell_type": "code",
   "execution_count": 14,
   "metadata": {},
   "outputs": [],
   "source": [
    "leagueDict = dict(zip(leagueDf.country_id, leagueDf.name))\n",
    "leagueDict_to_json = json.dumps(leagueDict)\n",
    "with open(\"id_to_team_name.json\", \"w\") as outputfile:\n",
    "    json.dump(leagueDict_to_json, outputfile)"
   ]
  },
  {
   "cell_type": "code",
   "execution_count": 16,
   "metadata": {},
   "outputs": [
    {
     "data": {
      "text/plain": [
       "player_id      0\n",
       "player_name    0\n",
       "birthday       0\n",
       "height         0\n",
       "weight         0\n",
       "dtype: int64"
      ]
     },
     "execution_count": 16,
     "metadata": {},
     "output_type": "execute_result"
    }
   ],
   "source": [
    "#cleaning up player.csv\n",
    "playerDf = pd.read_csv('player.csv')\n",
    "playerDf.head()\n",
    "missing_values_count_total = playerDf.isnull().sum()\n",
    "missing_values_count_total"
   ]
  },
  {
   "cell_type": "code",
   "execution_count": 17,
   "metadata": {},
   "outputs": [],
   "source": [
    "#wow perfectly clean!"
   ]
  },
  {
   "cell_type": "code",
   "execution_count": 20,
   "metadata": {},
   "outputs": [],
   "source": [
    "#I will just standardize the date\n",
    "playerDf['birthday'] = pd.to_datetime(playerDf['birthday'])"
   ]
  },
  {
   "cell_type": "code",
   "execution_count": 21,
   "metadata": {},
   "outputs": [],
   "source": [
    "matchDf.to_csv('player_CLEANED.csv', index=False)\n",
    "matchDf.to_pickle(\"player_CLEANED.pkl\")"
   ]
  },
  {
   "cell_type": "code",
   "execution_count": 22,
   "metadata": {},
   "outputs": [
    {
     "data": {
      "text/plain": [
       "team_id                             0\n",
       "date                                0\n",
       "buildUpPlaySpeed                    0\n",
       "buildUpPlaySpeedClass               0\n",
       "buildUpPlayDribbling              969\n",
       "buildUpPlayDribblingClass           0\n",
       "buildUpPlayPassing                  0\n",
       "buildUpPlayPassingClass             0\n",
       "buildUpPlayPositioningClass         0\n",
       "chanceCreationPassing               0\n",
       "chanceCreationPassingClass          0\n",
       "chanceCreationCrossing              0\n",
       "chanceCreationCrossingClass         0\n",
       "chanceCreationShooting              0\n",
       "chanceCreationShootingClass         0\n",
       "chanceCreationPositioningClass      0\n",
       "defencePressure                     0\n",
       "defencePressureClass                0\n",
       "defenceAggression                   0\n",
       "defenceAggressionClass              0\n",
       "defenceTeamWidth                    0\n",
       "defenceTeamWidthClass               0\n",
       "defenceDefenderLineClass            0\n",
       "dtype: int64"
      ]
     },
     "execution_count": 22,
     "metadata": {},
     "output_type": "execute_result"
    }
   ],
   "source": [
    "#cleaning up player.csv\n",
    "team_attributesDf = pd.read_csv('team_attributes.csv')\n",
    "missing_values_count_total = team_attributesDf.isnull().sum()\n",
    "missing_values_count_total"
   ]
  },
  {
   "cell_type": "code",
   "execution_count": 23,
   "metadata": {},
   "outputs": [],
   "source": [
    "#okay only thing missing is buildUpPlayDribbling\n",
    "#uhh ill just impute with mean\n",
    "team_attributesDf = team_attributesDf.fillna(team_attributesDf.mean())"
   ]
  },
  {
   "cell_type": "code",
   "execution_count": 24,
   "metadata": {},
   "outputs": [],
   "source": [
    "team_attributesDf['date'] = pd.to_datetime(team_attributesDf['date'])"
   ]
  },
  {
   "cell_type": "code",
   "execution_count": 25,
   "metadata": {},
   "outputs": [],
   "source": [
    "team_attributesDf.to_csv('team_attributes_CLEANED.csv', index=False)\n",
    "team_attributesDf.to_pickle(\"team_attributes_CLEANED.pkl\")"
   ]
  },
  {
   "cell_type": "code",
   "execution_count": 29,
   "metadata": {},
   "outputs": [
    {
     "data": {
      "text/plain": [
       "team_id            0\n",
       "team_long_name     0\n",
       "team_short_name    0\n",
       "dtype: int64"
      ]
     },
     "execution_count": 29,
     "metadata": {},
     "output_type": "execute_result"
    }
   ],
   "source": [
    "#cleaning up team.csv\n",
    "#we add an encoding parameter because pandas can't read it for some reason (probably accents?)\n",
    "teamDf = pd.read_csv('team.csv', encoding =  \"ISO-8859-1\")\n",
    "missing_values_count_total = teamDf.isnull().sum()\n",
    "missing_values_count_total"
   ]
  },
  {
   "cell_type": "code",
   "execution_count": 30,
   "metadata": {},
   "outputs": [],
   "source": [
    "#wow perfect!\n",
    "#I will just make a dict"
   ]
  },
  {
   "cell_type": "code",
   "execution_count": 31,
   "metadata": {},
   "outputs": [],
   "source": [
    "teamShortDict = dict(zip(teamDf.team_id, teamDf.team_short_name))\n",
    "teamShortDict_to_json = json.dumps(teamShortDict)\n",
    "with open(\"id_to_team_short_name.json\", \"w\") as outputfile:\n",
    "    json.dump(teamShortDict_to_json, outputfile)\n",
    "teamLongDict = dict(zip(teamDf.team_id, teamDf.team_long_name))\n",
    "teamLongDict_to_json = json.dumps(teamLongDict)\n",
    "with open(\"id_to_team_long_name.json\", \"w\") as outputfile:\n",
    "    json.dump(teamLongDict_to_json, outputfile)"
   ]
  },
  {
   "cell_type": "code",
   "execution_count": null,
   "metadata": {},
   "outputs": [],
   "source": []
  }
 ],
 "metadata": {
  "kernelspec": {
   "display_name": "Python 3",
   "language": "python",
   "name": "python3"
  },
  "language_info": {
   "codemirror_mode": {
    "name": "ipython",
    "version": 3
   },
   "file_extension": ".py",
   "mimetype": "text/x-python",
   "name": "python",
   "nbconvert_exporter": "python",
   "pygments_lexer": "ipython3",
   "version": "3.8.8"
  }
 },
 "nbformat": 4,
 "nbformat_minor": 4
}
