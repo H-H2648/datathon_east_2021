{
 "metadata": {
  "language_info": {
   "codemirror_mode": {
    "name": "ipython",
    "version": 3
   },
   "file_extension": ".py",
   "mimetype": "text/x-python",
   "name": "python",
   "nbconvert_exporter": "python",
   "pygments_lexer": "ipython3",
   "version": "3.7.3-final"
  },
  "orig_nbformat": 2,
  "kernelspec": {
   "name": "python3",
   "display_name": "Python 3.7.3 64-bit",
   "metadata": {
    "interpreter": {
     "hash": "aee8b7b246df8f9039afb4144a1f6fd8d2ca17a180786b69acc140d282b71a49"
    }
   }
  }
 },
 "nbformat": 4,
 "nbformat_minor": 2,
 "cells": [
  {
   "cell_type": "code",
   "execution_count": 51,
   "metadata": {},
   "outputs": [],
   "source": [
    "import pandas as pd\n",
    "import numpy as np\n",
    "import seaborn as sn\n",
    "\n",
    "import matplotlib.pyplot as plt\n",
    "from matplotlib import cm\n",
    "from matplotlib.ticker import LinearLocator, FormatStrFormatter\n",
    "from mpl_toolkits.mplot3d import Axes3D\n",
    "\n",
    "from sklearn.linear_model import LinearRegression\n",
    "from sklearn.neural_network import MLPRegressor\n",
    "from sklearn.model_selection import train_test_split\n",
    "from sklearn.metrics import mean_squared_error, r2_score"
   ]
  },
  {
   "cell_type": "code",
   "execution_count": 2,
   "metadata": {},
   "outputs": [
    {
     "output_type": "execute_result",
     "data": {
      "text/plain": [
       "       home_team_id  away_team_id  home_score  away_score\n",
       "16656          1601          8021           1          -1\n",
       "16526          1601          2182           1          -1\n",
       "17248          1601         10265          -1           1\n",
       "17087          1601          8033          -1           1\n",
       "16046          1601          8021          -1           1\n",
       "...             ...           ...         ...         ...\n",
       "1300         274581          9986          -1           1\n",
       "1324         274581          8635           1          -1\n",
       "1304         274581          9989           1          -1\n",
       "1379         274581          8571          -1           1\n",
       "1341         274581          8475           1          -1\n",
       "\n",
       "[25979 rows x 4 columns]"
      ],
      "text/html": "<div>\n<style scoped>\n    .dataframe tbody tr th:only-of-type {\n        vertical-align: middle;\n    }\n\n    .dataframe tbody tr th {\n        vertical-align: top;\n    }\n\n    .dataframe thead th {\n        text-align: right;\n    }\n</style>\n<table border=\"1\" class=\"dataframe\">\n  <thead>\n    <tr style=\"text-align: right;\">\n      <th></th>\n      <th>home_team_id</th>\n      <th>away_team_id</th>\n      <th>home_score</th>\n      <th>away_score</th>\n    </tr>\n  </thead>\n  <tbody>\n    <tr>\n      <th>16656</th>\n      <td>1601</td>\n      <td>8021</td>\n      <td>1</td>\n      <td>-1</td>\n    </tr>\n    <tr>\n      <th>16526</th>\n      <td>1601</td>\n      <td>2182</td>\n      <td>1</td>\n      <td>-1</td>\n    </tr>\n    <tr>\n      <th>17248</th>\n      <td>1601</td>\n      <td>10265</td>\n      <td>-1</td>\n      <td>1</td>\n    </tr>\n    <tr>\n      <th>17087</th>\n      <td>1601</td>\n      <td>8033</td>\n      <td>-1</td>\n      <td>1</td>\n    </tr>\n    <tr>\n      <th>16046</th>\n      <td>1601</td>\n      <td>8021</td>\n      <td>-1</td>\n      <td>1</td>\n    </tr>\n    <tr>\n      <th>...</th>\n      <td>...</td>\n      <td>...</td>\n      <td>...</td>\n      <td>...</td>\n    </tr>\n    <tr>\n      <th>1300</th>\n      <td>274581</td>\n      <td>9986</td>\n      <td>-1</td>\n      <td>1</td>\n    </tr>\n    <tr>\n      <th>1324</th>\n      <td>274581</td>\n      <td>8635</td>\n      <td>1</td>\n      <td>-1</td>\n    </tr>\n    <tr>\n      <th>1304</th>\n      <td>274581</td>\n      <td>9989</td>\n      <td>1</td>\n      <td>-1</td>\n    </tr>\n    <tr>\n      <th>1379</th>\n      <td>274581</td>\n      <td>8571</td>\n      <td>-1</td>\n      <td>1</td>\n    </tr>\n    <tr>\n      <th>1341</th>\n      <td>274581</td>\n      <td>8475</td>\n      <td>1</td>\n      <td>-1</td>\n    </tr>\n  </tbody>\n</table>\n<p>25979 rows × 4 columns</p>\n</div>"
     },
     "metadata": {},
     "execution_count": 2
    }
   ],
   "source": [
    "match = pd.read_csv('match.csv')\n",
    "match['home_score'] = np.sign(match['home_team_goal'] - match['away_team_goal'])\n",
    "match['away_score'] = np.sign(match['away_team_goal'] - match['home_team_goal'])\n",
    "match = match[['home_team_id', 'away_team_id', 'home_score', 'away_score']]\n",
    "match.sort_values('home_team_id')"
   ]
  },
  {
   "cell_type": "code",
   "execution_count": 3,
   "metadata": {},
   "outputs": [
    {
     "output_type": "execute_result",
     "data": {
      "text/plain": [
       "     team_id        WR\n",
       "0       1601  0.502083\n",
       "1       1773  0.400000\n",
       "2       1957  0.495833\n",
       "3       2033  0.396667\n",
       "4       2182  0.641667\n",
       "..       ...       ...\n",
       "294   158085  0.433673\n",
       "295   177361  0.416667\n",
       "296   188163  0.323529\n",
       "297   208931  0.381579\n",
       "298   274581  0.350000\n",
       "\n",
       "[299 rows x 2 columns]"
      ],
      "text/html": "<div>\n<style scoped>\n    .dataframe tbody tr th:only-of-type {\n        vertical-align: middle;\n    }\n\n    .dataframe tbody tr th {\n        vertical-align: top;\n    }\n\n    .dataframe thead th {\n        text-align: right;\n    }\n</style>\n<table border=\"1\" class=\"dataframe\">\n  <thead>\n    <tr style=\"text-align: right;\">\n      <th></th>\n      <th>team_id</th>\n      <th>WR</th>\n    </tr>\n  </thead>\n  <tbody>\n    <tr>\n      <th>0</th>\n      <td>1601</td>\n      <td>0.502083</td>\n    </tr>\n    <tr>\n      <th>1</th>\n      <td>1773</td>\n      <td>0.400000</td>\n    </tr>\n    <tr>\n      <th>2</th>\n      <td>1957</td>\n      <td>0.495833</td>\n    </tr>\n    <tr>\n      <th>3</th>\n      <td>2033</td>\n      <td>0.396667</td>\n    </tr>\n    <tr>\n      <th>4</th>\n      <td>2182</td>\n      <td>0.641667</td>\n    </tr>\n    <tr>\n      <th>...</th>\n      <td>...</td>\n      <td>...</td>\n    </tr>\n    <tr>\n      <th>294</th>\n      <td>158085</td>\n      <td>0.433673</td>\n    </tr>\n    <tr>\n      <th>295</th>\n      <td>177361</td>\n      <td>0.416667</td>\n    </tr>\n    <tr>\n      <th>296</th>\n      <td>188163</td>\n      <td>0.323529</td>\n    </tr>\n    <tr>\n      <th>297</th>\n      <td>208931</td>\n      <td>0.381579</td>\n    </tr>\n    <tr>\n      <th>298</th>\n      <td>274581</td>\n      <td>0.350000</td>\n    </tr>\n  </tbody>\n</table>\n<p>299 rows × 2 columns</p>\n</div>"
     },
     "metadata": {},
     "execution_count": 3
    }
   ],
   "source": [
    "wr1 = match.groupby('home_team_id').home_score.value_counts().unstack().reset_index()\n",
    "wr1.columns = [\"team_id\", \"lose\", \"tie\", \"win\"]\n",
    "wr2 = match.groupby('away_team_id').away_score.value_counts().unstack().reset_index()\n",
    "wr2.columns = [\"team_id\", \"lose\", \"tie\", \"win\"]\n",
    "wr = wr1.set_index('team_id').join(wr2.set_index('team_id'), how='inner', lsuffix='_home', rsuffix='_away')\n",
    "wr['win'] = wr['win_home'] + wr['win_away']\n",
    "wr['tie'] = wr['tie_home'] + wr['tie_away']\n",
    "wr['lose'] = wr['lose_home'] + wr['lose_away']\n",
    "wr['WR'] = (wr['win'] + 0.5 * wr['tie']) / (wr['win'] + wr['tie'] + wr['lose'])\n",
    "wr = wr.reset_index()[['team_id', 'WR']]\n",
    "wr"
   ]
  },
  {
   "cell_type": "code",
   "execution_count": 4,
   "metadata": {},
   "outputs": [
    {
     "output_type": "execute_result",
     "data": {
      "text/plain": [
       "       home_team_id  away_team_id  home_score  away_score   WR_home   WR_away\n",
       "0              1601          1957           1          -1  0.495833  0.502083\n",
       "1              1601          1957           1          -1  0.495833  0.502083\n",
       "2              1601          1957           1          -1  0.495833  0.502083\n",
       "3              1601          1957          -1           1  0.495833  0.502083\n",
       "4              1601          1957           1          -1  0.495833  0.502083\n",
       "...             ...           ...         ...         ...       ...       ...\n",
       "25974        274581          9997          -1           1  0.377119  0.350000\n",
       "25975        274581         10000           0           0  0.514151  0.350000\n",
       "25976        274581         10000           1          -1  0.514151  0.350000\n",
       "25977        274581         10001          -1           1  0.423077  0.350000\n",
       "25978        274581         10001           0           0  0.423077  0.350000\n",
       "\n",
       "[25979 rows x 6 columns]"
      ],
      "text/html": "<div>\n<style scoped>\n    .dataframe tbody tr th:only-of-type {\n        vertical-align: middle;\n    }\n\n    .dataframe tbody tr th {\n        vertical-align: top;\n    }\n\n    .dataframe thead th {\n        text-align: right;\n    }\n</style>\n<table border=\"1\" class=\"dataframe\">\n  <thead>\n    <tr style=\"text-align: right;\">\n      <th></th>\n      <th>home_team_id</th>\n      <th>away_team_id</th>\n      <th>home_score</th>\n      <th>away_score</th>\n      <th>WR_home</th>\n      <th>WR_away</th>\n    </tr>\n  </thead>\n  <tbody>\n    <tr>\n      <th>0</th>\n      <td>1601</td>\n      <td>1957</td>\n      <td>1</td>\n      <td>-1</td>\n      <td>0.495833</td>\n      <td>0.502083</td>\n    </tr>\n    <tr>\n      <th>1</th>\n      <td>1601</td>\n      <td>1957</td>\n      <td>1</td>\n      <td>-1</td>\n      <td>0.495833</td>\n      <td>0.502083</td>\n    </tr>\n    <tr>\n      <th>2</th>\n      <td>1601</td>\n      <td>1957</td>\n      <td>1</td>\n      <td>-1</td>\n      <td>0.495833</td>\n      <td>0.502083</td>\n    </tr>\n    <tr>\n      <th>3</th>\n      <td>1601</td>\n      <td>1957</td>\n      <td>-1</td>\n      <td>1</td>\n      <td>0.495833</td>\n      <td>0.502083</td>\n    </tr>\n    <tr>\n      <th>4</th>\n      <td>1601</td>\n      <td>1957</td>\n      <td>1</td>\n      <td>-1</td>\n      <td>0.495833</td>\n      <td>0.502083</td>\n    </tr>\n    <tr>\n      <th>...</th>\n      <td>...</td>\n      <td>...</td>\n      <td>...</td>\n      <td>...</td>\n      <td>...</td>\n      <td>...</td>\n    </tr>\n    <tr>\n      <th>25974</th>\n      <td>274581</td>\n      <td>9997</td>\n      <td>-1</td>\n      <td>1</td>\n      <td>0.377119</td>\n      <td>0.350000</td>\n    </tr>\n    <tr>\n      <th>25975</th>\n      <td>274581</td>\n      <td>10000</td>\n      <td>0</td>\n      <td>0</td>\n      <td>0.514151</td>\n      <td>0.350000</td>\n    </tr>\n    <tr>\n      <th>25976</th>\n      <td>274581</td>\n      <td>10000</td>\n      <td>1</td>\n      <td>-1</td>\n      <td>0.514151</td>\n      <td>0.350000</td>\n    </tr>\n    <tr>\n      <th>25977</th>\n      <td>274581</td>\n      <td>10001</td>\n      <td>-1</td>\n      <td>1</td>\n      <td>0.423077</td>\n      <td>0.350000</td>\n    </tr>\n    <tr>\n      <th>25978</th>\n      <td>274581</td>\n      <td>10001</td>\n      <td>0</td>\n      <td>0</td>\n      <td>0.423077</td>\n      <td>0.350000</td>\n    </tr>\n  </tbody>\n</table>\n<p>25979 rows × 6 columns</p>\n</div>"
     },
     "metadata": {},
     "execution_count": 4
    }
   ],
   "source": [
    "match = match.set_index('home_team_id').join(wr.set_index('team_id'), how='inner', rsuffix='_home').reset_index()\n",
    "match = match.set_index('away_team_id').join(wr.set_index('team_id'), how='inner', rsuffix='_away').reset_index()\n",
    "match.columns = ['home_team_id', 'away_team_id', 'home_score', 'away_score', 'WR_home', 'WR_away']\n",
    "match['WR_home'] = match['WR_home'].fillna(0)\n",
    "match['WR_away'] = match['WR_away'].fillna(0)\n",
    "match"
   ]
  },
  {
   "cell_type": "code",
   "execution_count": 5,
   "metadata": {},
   "outputs": [],
   "source": [
    "home = match.groupby('home_team_id').agg({'WR_away': ['count', 'sum']}).reset_index()\n",
    "away = match.groupby('away_team_id').agg({'WR_home': ['count', 'sum']}).reset_index()\n",
    "owr = home.set_index('home_team_id').join(away.set_index('away_team_id'), how='inner').reset_index()\n",
    "\n",
    "owr['OWR'] = (owr['WR_away']['sum'] + owr['WR_home']['sum']) / (owr['WR_away']['count'] + owr['WR_home']['count'])\n",
    "owr = owr[['home_team_id', 'OWR']]\n",
    "owr.columns = ['team_id', 'OWR']"
   ]
  },
  {
   "cell_type": "code",
   "execution_count": 6,
   "metadata": {},
   "outputs": [
    {
     "output_type": "execute_result",
     "data": {
      "text/plain": [
       "       home_team_id  away_team_id  home_score  away_score   WR_home   WR_away  \\\n",
       "0              1601          1957           0           0  0.502083  0.495833   \n",
       "1              1601          1957           1          -1  0.502083  0.495833   \n",
       "2              1601          1957           0           0  0.502083  0.495833   \n",
       "3              1601          1957           1          -1  0.502083  0.495833   \n",
       "4              1601          1957           0           0  0.502083  0.495833   \n",
       "...             ...           ...         ...         ...       ...       ...   \n",
       "25974        274581          9997          -1           1  0.350000  0.377119   \n",
       "25975        274581         10000          -1           1  0.350000  0.514151   \n",
       "25976        274581         10000           0           0  0.350000  0.514151   \n",
       "25977        274581         10001           1          -1  0.350000  0.423077   \n",
       "25978        274581         10001           0           0  0.350000  0.423077   \n",
       "\n",
       "       OWR_home  OWR_away  \n",
       "0      0.495833  0.502083  \n",
       "1      0.495833  0.502083  \n",
       "2      0.495833  0.502083  \n",
       "3      0.495833  0.502083  \n",
       "4      0.495833  0.502083  \n",
       "...         ...       ...  \n",
       "25974  0.377119  0.350000  \n",
       "25975  0.514151  0.350000  \n",
       "25976  0.514151  0.350000  \n",
       "25977  0.423077  0.350000  \n",
       "25978  0.423077  0.350000  \n",
       "\n",
       "[25979 rows x 8 columns]"
      ],
      "text/html": "<div>\n<style scoped>\n    .dataframe tbody tr th:only-of-type {\n        vertical-align: middle;\n    }\n\n    .dataframe tbody tr th {\n        vertical-align: top;\n    }\n\n    .dataframe thead th {\n        text-align: right;\n    }\n</style>\n<table border=\"1\" class=\"dataframe\">\n  <thead>\n    <tr style=\"text-align: right;\">\n      <th></th>\n      <th>home_team_id</th>\n      <th>away_team_id</th>\n      <th>home_score</th>\n      <th>away_score</th>\n      <th>WR_home</th>\n      <th>WR_away</th>\n      <th>OWR_home</th>\n      <th>OWR_away</th>\n    </tr>\n  </thead>\n  <tbody>\n    <tr>\n      <th>0</th>\n      <td>1601</td>\n      <td>1957</td>\n      <td>0</td>\n      <td>0</td>\n      <td>0.502083</td>\n      <td>0.495833</td>\n      <td>0.495833</td>\n      <td>0.502083</td>\n    </tr>\n    <tr>\n      <th>1</th>\n      <td>1601</td>\n      <td>1957</td>\n      <td>1</td>\n      <td>-1</td>\n      <td>0.502083</td>\n      <td>0.495833</td>\n      <td>0.495833</td>\n      <td>0.502083</td>\n    </tr>\n    <tr>\n      <th>2</th>\n      <td>1601</td>\n      <td>1957</td>\n      <td>0</td>\n      <td>0</td>\n      <td>0.502083</td>\n      <td>0.495833</td>\n      <td>0.495833</td>\n      <td>0.502083</td>\n    </tr>\n    <tr>\n      <th>3</th>\n      <td>1601</td>\n      <td>1957</td>\n      <td>1</td>\n      <td>-1</td>\n      <td>0.502083</td>\n      <td>0.495833</td>\n      <td>0.495833</td>\n      <td>0.502083</td>\n    </tr>\n    <tr>\n      <th>4</th>\n      <td>1601</td>\n      <td>1957</td>\n      <td>0</td>\n      <td>0</td>\n      <td>0.502083</td>\n      <td>0.495833</td>\n      <td>0.495833</td>\n      <td>0.502083</td>\n    </tr>\n    <tr>\n      <th>...</th>\n      <td>...</td>\n      <td>...</td>\n      <td>...</td>\n      <td>...</td>\n      <td>...</td>\n      <td>...</td>\n      <td>...</td>\n      <td>...</td>\n    </tr>\n    <tr>\n      <th>25974</th>\n      <td>274581</td>\n      <td>9997</td>\n      <td>-1</td>\n      <td>1</td>\n      <td>0.350000</td>\n      <td>0.377119</td>\n      <td>0.377119</td>\n      <td>0.350000</td>\n    </tr>\n    <tr>\n      <th>25975</th>\n      <td>274581</td>\n      <td>10000</td>\n      <td>-1</td>\n      <td>1</td>\n      <td>0.350000</td>\n      <td>0.514151</td>\n      <td>0.514151</td>\n      <td>0.350000</td>\n    </tr>\n    <tr>\n      <th>25976</th>\n      <td>274581</td>\n      <td>10000</td>\n      <td>0</td>\n      <td>0</td>\n      <td>0.350000</td>\n      <td>0.514151</td>\n      <td>0.514151</td>\n      <td>0.350000</td>\n    </tr>\n    <tr>\n      <th>25977</th>\n      <td>274581</td>\n      <td>10001</td>\n      <td>1</td>\n      <td>-1</td>\n      <td>0.350000</td>\n      <td>0.423077</td>\n      <td>0.423077</td>\n      <td>0.350000</td>\n    </tr>\n    <tr>\n      <th>25978</th>\n      <td>274581</td>\n      <td>10001</td>\n      <td>0</td>\n      <td>0</td>\n      <td>0.350000</td>\n      <td>0.423077</td>\n      <td>0.423077</td>\n      <td>0.350000</td>\n    </tr>\n  </tbody>\n</table>\n<p>25979 rows × 8 columns</p>\n</div>"
     },
     "metadata": {},
     "execution_count": 6
    }
   ],
   "source": [
    "match = match.set_index('home_team_id').join(owr.set_index('team_id'), how='inner', rsuffix='_home').reset_index()\n",
    "match = match.set_index('away_team_id').join(owr.set_index('team_id'), how='inner', rsuffix='_away').reset_index()\n",
    "match.columns = ['home_team_id', 'away_team_id', 'home_score', 'away_score', 'WR_home', 'WR_away', \"OWR_home\", 'OWR_away']\n",
    "match"
   ]
  },
  {
   "cell_type": "code",
   "execution_count": 7,
   "metadata": {},
   "outputs": [],
   "source": [
    "home = match.groupby('home_team_id').agg({'OWR_away': ['count', 'sum']}).reset_index()\n",
    "home\n",
    "away = match.groupby('away_team_id').agg({'OWR_home': ['count', 'sum']}).reset_index()\n",
    "oowr = home.set_index('home_team_id').join(away.set_index('away_team_id'), how='inner').reset_index()\n",
    "\n",
    "oowr['OOWR'] = (oowr['OWR_away']['sum'] + oowr['OWR_home']['sum']) / (oowr['OWR_away']['count'] + oowr['OWR_home']['count'])\n",
    "oowr = oowr[['home_team_id', 'OOWR']]\n",
    "oowr.columns = ['team_id', 'OOWR']"
   ]
  },
  {
   "cell_type": "code",
   "execution_count": 8,
   "metadata": {},
   "outputs": [
    {
     "output_type": "execute_result",
     "data": {
      "text/plain": [
       "       home_team_id  away_team_id  home_score  away_score   WR_home   WR_away  \\\n",
       "0              1601          1957           1          -1  0.495833  0.502083   \n",
       "1              1601          1957           1          -1  0.495833  0.502083   \n",
       "2              1601          1957           1          -1  0.495833  0.502083   \n",
       "3              1601          1957          -1           1  0.495833  0.502083   \n",
       "4              1601          1957           1          -1  0.495833  0.502083   \n",
       "...             ...           ...         ...         ...       ...       ...   \n",
       "25974        274581          9997          -1           1  0.377119  0.350000   \n",
       "25975        274581         10000           0           0  0.514151  0.350000   \n",
       "25976        274581         10000           1          -1  0.514151  0.350000   \n",
       "25977        274581         10001          -1           1  0.423077  0.350000   \n",
       "25978        274581         10001           0           0  0.423077  0.350000   \n",
       "\n",
       "       OWR_away  OWR_home  OOWR_home  OOWR_away  \n",
       "0      0.502083  0.495833   0.495833   0.502083  \n",
       "1      0.502083  0.495833   0.495833   0.502083  \n",
       "2      0.502083  0.495833   0.495833   0.502083  \n",
       "3      0.502083  0.495833   0.495833   0.502083  \n",
       "4      0.502083  0.495833   0.495833   0.502083  \n",
       "...         ...       ...        ...        ...  \n",
       "25974  0.350000  0.377119   0.377119   0.350000  \n",
       "25975  0.350000  0.514151   0.514151   0.350000  \n",
       "25976  0.350000  0.514151   0.514151   0.350000  \n",
       "25977  0.350000  0.423077   0.423077   0.350000  \n",
       "25978  0.350000  0.423077   0.423077   0.350000  \n",
       "\n",
       "[25979 rows x 10 columns]"
      ],
      "text/html": "<div>\n<style scoped>\n    .dataframe tbody tr th:only-of-type {\n        vertical-align: middle;\n    }\n\n    .dataframe tbody tr th {\n        vertical-align: top;\n    }\n\n    .dataframe thead th {\n        text-align: right;\n    }\n</style>\n<table border=\"1\" class=\"dataframe\">\n  <thead>\n    <tr style=\"text-align: right;\">\n      <th></th>\n      <th>home_team_id</th>\n      <th>away_team_id</th>\n      <th>home_score</th>\n      <th>away_score</th>\n      <th>WR_home</th>\n      <th>WR_away</th>\n      <th>OWR_away</th>\n      <th>OWR_home</th>\n      <th>OOWR_home</th>\n      <th>OOWR_away</th>\n    </tr>\n  </thead>\n  <tbody>\n    <tr>\n      <th>0</th>\n      <td>1601</td>\n      <td>1957</td>\n      <td>1</td>\n      <td>-1</td>\n      <td>0.495833</td>\n      <td>0.502083</td>\n      <td>0.502083</td>\n      <td>0.495833</td>\n      <td>0.495833</td>\n      <td>0.502083</td>\n    </tr>\n    <tr>\n      <th>1</th>\n      <td>1601</td>\n      <td>1957</td>\n      <td>1</td>\n      <td>-1</td>\n      <td>0.495833</td>\n      <td>0.502083</td>\n      <td>0.502083</td>\n      <td>0.495833</td>\n      <td>0.495833</td>\n      <td>0.502083</td>\n    </tr>\n    <tr>\n      <th>2</th>\n      <td>1601</td>\n      <td>1957</td>\n      <td>1</td>\n      <td>-1</td>\n      <td>0.495833</td>\n      <td>0.502083</td>\n      <td>0.502083</td>\n      <td>0.495833</td>\n      <td>0.495833</td>\n      <td>0.502083</td>\n    </tr>\n    <tr>\n      <th>3</th>\n      <td>1601</td>\n      <td>1957</td>\n      <td>-1</td>\n      <td>1</td>\n      <td>0.495833</td>\n      <td>0.502083</td>\n      <td>0.502083</td>\n      <td>0.495833</td>\n      <td>0.495833</td>\n      <td>0.502083</td>\n    </tr>\n    <tr>\n      <th>4</th>\n      <td>1601</td>\n      <td>1957</td>\n      <td>1</td>\n      <td>-1</td>\n      <td>0.495833</td>\n      <td>0.502083</td>\n      <td>0.502083</td>\n      <td>0.495833</td>\n      <td>0.495833</td>\n      <td>0.502083</td>\n    </tr>\n    <tr>\n      <th>...</th>\n      <td>...</td>\n      <td>...</td>\n      <td>...</td>\n      <td>...</td>\n      <td>...</td>\n      <td>...</td>\n      <td>...</td>\n      <td>...</td>\n      <td>...</td>\n      <td>...</td>\n    </tr>\n    <tr>\n      <th>25974</th>\n      <td>274581</td>\n      <td>9997</td>\n      <td>-1</td>\n      <td>1</td>\n      <td>0.377119</td>\n      <td>0.350000</td>\n      <td>0.350000</td>\n      <td>0.377119</td>\n      <td>0.377119</td>\n      <td>0.350000</td>\n    </tr>\n    <tr>\n      <th>25975</th>\n      <td>274581</td>\n      <td>10000</td>\n      <td>0</td>\n      <td>0</td>\n      <td>0.514151</td>\n      <td>0.350000</td>\n      <td>0.350000</td>\n      <td>0.514151</td>\n      <td>0.514151</td>\n      <td>0.350000</td>\n    </tr>\n    <tr>\n      <th>25976</th>\n      <td>274581</td>\n      <td>10000</td>\n      <td>1</td>\n      <td>-1</td>\n      <td>0.514151</td>\n      <td>0.350000</td>\n      <td>0.350000</td>\n      <td>0.514151</td>\n      <td>0.514151</td>\n      <td>0.350000</td>\n    </tr>\n    <tr>\n      <th>25977</th>\n      <td>274581</td>\n      <td>10001</td>\n      <td>-1</td>\n      <td>1</td>\n      <td>0.423077</td>\n      <td>0.350000</td>\n      <td>0.350000</td>\n      <td>0.423077</td>\n      <td>0.423077</td>\n      <td>0.350000</td>\n    </tr>\n    <tr>\n      <th>25978</th>\n      <td>274581</td>\n      <td>10001</td>\n      <td>0</td>\n      <td>0</td>\n      <td>0.423077</td>\n      <td>0.350000</td>\n      <td>0.350000</td>\n      <td>0.423077</td>\n      <td>0.423077</td>\n      <td>0.350000</td>\n    </tr>\n  </tbody>\n</table>\n<p>25979 rows × 10 columns</p>\n</div>"
     },
     "metadata": {},
     "execution_count": 8
    }
   ],
   "source": [
    "match = match.set_index('home_team_id').join(oowr.set_index('team_id'), how='inner', rsuffix='_home').reset_index()\n",
    "match = match.set_index('away_team_id').join(oowr.set_index('team_id'), how='inner', rsuffix='_away').reset_index()\n",
    "match.columns = ['home_team_id', 'away_team_id', 'home_score', 'away_score', 'WR_home', 'WR_away', \"OWR_away\", 'OWR_home', \"OOWR_home\", 'OOWR_away']\n",
    "match"
   ]
  },
  {
   "cell_type": "code",
   "execution_count": 9,
   "metadata": {},
   "outputs": [
    {
     "output_type": "execute_result",
     "data": {
      "text/plain": [
       "Index(['index', 'home_team_id', 'away_team_id', 'home_score', 'away_score',\n",
       "       'WR_home', 'WR_away', 'OWR_away', 'OWR_home', 'OOWR_home', 'OOWR_away'],\n",
       "      dtype='object')"
      ]
     },
     "metadata": {},
     "execution_count": 9
    }
   ],
   "source": [
    "match.reset_index().columns"
   ]
  },
  {
   "cell_type": "code",
   "execution_count": 10,
   "metadata": {},
   "outputs": [
    {
     "output_type": "execute_result",
     "data": {
      "text/plain": [
       "       home_team_id  away_team_id  home_score  away_score   WR_home   WR_away  \\\n",
       "0              1601          1957           1          -1  0.495833  0.502083   \n",
       "1              1601          1957           1          -1  0.495833  0.502083   \n",
       "2              1601          1957           1          -1  0.495833  0.502083   \n",
       "3              1601          1957          -1           1  0.495833  0.502083   \n",
       "4              1601          1957           1          -1  0.495833  0.502083   \n",
       "...             ...           ...         ...         ...       ...       ...   \n",
       "25974        274581          9997          -1           1  0.377119  0.350000   \n",
       "25975        274581         10000           0           0  0.514151  0.350000   \n",
       "25976        274581         10000           1          -1  0.514151  0.350000   \n",
       "25977        274581         10001          -1           1  0.423077  0.350000   \n",
       "25978        274581         10001           0           0  0.423077  0.350000   \n",
       "\n",
       "       OWR_away  OWR_home  OOWR_home  OOWR_away  RPI_home  RPI_away  \n",
       "0      0.502083  0.495833   0.495833   0.502083  0.495833  0.502083  \n",
       "1      0.502083  0.495833   0.495833   0.502083  0.495833  0.502083  \n",
       "2      0.502083  0.495833   0.495833   0.502083  0.495833  0.502083  \n",
       "3      0.502083  0.495833   0.495833   0.502083  0.495833  0.502083  \n",
       "4      0.502083  0.495833   0.495833   0.502083  0.495833  0.502083  \n",
       "...         ...       ...        ...        ...       ...       ...  \n",
       "25974  0.350000  0.377119   0.377119   0.350000  0.377119  0.350000  \n",
       "25975  0.350000  0.514151   0.514151   0.350000  0.514151  0.350000  \n",
       "25976  0.350000  0.514151   0.514151   0.350000  0.514151  0.350000  \n",
       "25977  0.350000  0.423077   0.423077   0.350000  0.423077  0.350000  \n",
       "25978  0.350000  0.423077   0.423077   0.350000  0.423077  0.350000  \n",
       "\n",
       "[25979 rows x 12 columns]"
      ],
      "text/html": "<div>\n<style scoped>\n    .dataframe tbody tr th:only-of-type {\n        vertical-align: middle;\n    }\n\n    .dataframe tbody tr th {\n        vertical-align: top;\n    }\n\n    .dataframe thead th {\n        text-align: right;\n    }\n</style>\n<table border=\"1\" class=\"dataframe\">\n  <thead>\n    <tr style=\"text-align: right;\">\n      <th></th>\n      <th>home_team_id</th>\n      <th>away_team_id</th>\n      <th>home_score</th>\n      <th>away_score</th>\n      <th>WR_home</th>\n      <th>WR_away</th>\n      <th>OWR_away</th>\n      <th>OWR_home</th>\n      <th>OOWR_home</th>\n      <th>OOWR_away</th>\n      <th>RPI_home</th>\n      <th>RPI_away</th>\n    </tr>\n  </thead>\n  <tbody>\n    <tr>\n      <th>0</th>\n      <td>1601</td>\n      <td>1957</td>\n      <td>1</td>\n      <td>-1</td>\n      <td>0.495833</td>\n      <td>0.502083</td>\n      <td>0.502083</td>\n      <td>0.495833</td>\n      <td>0.495833</td>\n      <td>0.502083</td>\n      <td>0.495833</td>\n      <td>0.502083</td>\n    </tr>\n    <tr>\n      <th>1</th>\n      <td>1601</td>\n      <td>1957</td>\n      <td>1</td>\n      <td>-1</td>\n      <td>0.495833</td>\n      <td>0.502083</td>\n      <td>0.502083</td>\n      <td>0.495833</td>\n      <td>0.495833</td>\n      <td>0.502083</td>\n      <td>0.495833</td>\n      <td>0.502083</td>\n    </tr>\n    <tr>\n      <th>2</th>\n      <td>1601</td>\n      <td>1957</td>\n      <td>1</td>\n      <td>-1</td>\n      <td>0.495833</td>\n      <td>0.502083</td>\n      <td>0.502083</td>\n      <td>0.495833</td>\n      <td>0.495833</td>\n      <td>0.502083</td>\n      <td>0.495833</td>\n      <td>0.502083</td>\n    </tr>\n    <tr>\n      <th>3</th>\n      <td>1601</td>\n      <td>1957</td>\n      <td>-1</td>\n      <td>1</td>\n      <td>0.495833</td>\n      <td>0.502083</td>\n      <td>0.502083</td>\n      <td>0.495833</td>\n      <td>0.495833</td>\n      <td>0.502083</td>\n      <td>0.495833</td>\n      <td>0.502083</td>\n    </tr>\n    <tr>\n      <th>4</th>\n      <td>1601</td>\n      <td>1957</td>\n      <td>1</td>\n      <td>-1</td>\n      <td>0.495833</td>\n      <td>0.502083</td>\n      <td>0.502083</td>\n      <td>0.495833</td>\n      <td>0.495833</td>\n      <td>0.502083</td>\n      <td>0.495833</td>\n      <td>0.502083</td>\n    </tr>\n    <tr>\n      <th>...</th>\n      <td>...</td>\n      <td>...</td>\n      <td>...</td>\n      <td>...</td>\n      <td>...</td>\n      <td>...</td>\n      <td>...</td>\n      <td>...</td>\n      <td>...</td>\n      <td>...</td>\n      <td>...</td>\n      <td>...</td>\n    </tr>\n    <tr>\n      <th>25974</th>\n      <td>274581</td>\n      <td>9997</td>\n      <td>-1</td>\n      <td>1</td>\n      <td>0.377119</td>\n      <td>0.350000</td>\n      <td>0.350000</td>\n      <td>0.377119</td>\n      <td>0.377119</td>\n      <td>0.350000</td>\n      <td>0.377119</td>\n      <td>0.350000</td>\n    </tr>\n    <tr>\n      <th>25975</th>\n      <td>274581</td>\n      <td>10000</td>\n      <td>0</td>\n      <td>0</td>\n      <td>0.514151</td>\n      <td>0.350000</td>\n      <td>0.350000</td>\n      <td>0.514151</td>\n      <td>0.514151</td>\n      <td>0.350000</td>\n      <td>0.514151</td>\n      <td>0.350000</td>\n    </tr>\n    <tr>\n      <th>25976</th>\n      <td>274581</td>\n      <td>10000</td>\n      <td>1</td>\n      <td>-1</td>\n      <td>0.514151</td>\n      <td>0.350000</td>\n      <td>0.350000</td>\n      <td>0.514151</td>\n      <td>0.514151</td>\n      <td>0.350000</td>\n      <td>0.514151</td>\n      <td>0.350000</td>\n    </tr>\n    <tr>\n      <th>25977</th>\n      <td>274581</td>\n      <td>10001</td>\n      <td>-1</td>\n      <td>1</td>\n      <td>0.423077</td>\n      <td>0.350000</td>\n      <td>0.350000</td>\n      <td>0.423077</td>\n      <td>0.423077</td>\n      <td>0.350000</td>\n      <td>0.423077</td>\n      <td>0.350000</td>\n    </tr>\n    <tr>\n      <th>25978</th>\n      <td>274581</td>\n      <td>10001</td>\n      <td>0</td>\n      <td>0</td>\n      <td>0.423077</td>\n      <td>0.350000</td>\n      <td>0.350000</td>\n      <td>0.423077</td>\n      <td>0.423077</td>\n      <td>0.350000</td>\n      <td>0.423077</td>\n      <td>0.350000</td>\n    </tr>\n  </tbody>\n</table>\n<p>25979 rows × 12 columns</p>\n</div>"
     },
     "metadata": {},
     "execution_count": 10
    }
   ],
   "source": [
    "match['RPI_home'] = 0.25 * match['WR_home'] + 0.5 * match['OWR_home'] + 0.25 * match['OOWR_home'] \n",
    "match['RPI_away'] = 0.25 * match['WR_away'] + 0.5 * match['OWR_away'] + 0.25 * match['OOWR_away'] \n",
    "match"
   ]
  },
  {
   "cell_type": "code",
   "execution_count": 22,
   "metadata": {},
   "outputs": [],
   "source": [
    "X, y = match[['RPI_home', 'RPI_away']], match['home_score']\n",
    "X_train, X_test, y_train, y_test = train_test_split(X, y, test_size=0.33, random_state=42)\n"
   ]
  },
  {
   "cell_type": "code",
   "execution_count": 53,
   "metadata": {},
   "outputs": [
    {
     "output_type": "stream",
     "name": "stdout",
     "text": [
      "0.7821690921955302\n"
     ]
    }
   ],
   "source": [
    "reg = LinearRegression().fit(X_train, y_train)\n",
    "y_pred = reg.predict(X_test)\n",
    "print(np.sqrt(mean_squared_error(y_test, y_pred)))"
   ]
  },
  {
   "cell_type": "code",
   "execution_count": 54,
   "metadata": {},
   "outputs": [
    {
     "output_type": "execute_result",
     "data": {
      "text/plain": [
       "0.7818145731665848"
      ]
     },
     "metadata": {},
     "execution_count": 54
    }
   ],
   "source": [
    "reg = MLPRegressor(hidden_layer_sizes=(10, 10), random_state=1, max_iter=500).fit(X_train, y_train)\n",
    "y_pred = reg.predict(X_test)\n",
    "np.sqrt(mean_squared_error(y_test, y_pred))"
   ]
  },
  {
   "cell_type": "code",
   "execution_count": null,
   "metadata": {},
   "outputs": [],
   "source": []
  }
 ]
}