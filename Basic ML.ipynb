{
 "cells": [
  {
   "cell_type": "code",
   "execution_count": 47,
   "metadata": {},
   "outputs": [
    {
     "name": "stdout",
     "output_type": "stream",
     "text": [
      "Collecting hyperopt"
     ]
    },
    {
     "name": "stderr",
     "output_type": "stream",
     "text": [
      "  WARNING: The script hyperopt-mongo-worker.exe is installed in 'C:\\Users\\hhong\\AppData\\Local\\Packages\\PythonSoftwareFoundation.Python.3.8_qbz5n2kfra8p0\\LocalCache\\local-packages\\Python38\\Scripts' which is not on PATH.\n",
      "  Consider adding this directory to PATH or, if you prefer to suppress this warning, use --no-warn-script-location.\n",
      "WARNING: You are using pip version 20.2.3; however, version 21.0.1 is available.\n",
      "You should consider upgrading via the 'C:\\Users\\hhong\\AppData\\Local\\Microsoft\\WindowsApps\\PythonSoftwareFoundation.Python.3.8_qbz5n2kfra8p0\\python.exe -m pip install --upgrade pip' command.\n"
     ]
    },
    {
     "name": "stdout",
     "output_type": "stream",
     "text": [
      "\n",
      "  Downloading hyperopt-0.2.5-py2.py3-none-any.whl (965 kB)\n",
      "Requirement already satisfied: scipy in c:\\users\\hhong\\appdata\\local\\packages\\pythonsoftwarefoundation.python.3.8_qbz5n2kfra8p0\\localcache\\local-packages\\python38\\site-packages (from hyperopt) (1.4.1)\n",
      "Requirement already satisfied: numpy in c:\\users\\hhong\\appdata\\local\\packages\\pythonsoftwarefoundation.python.3.8_qbz5n2kfra8p0\\localcache\\local-packages\\python38\\site-packages (from hyperopt) (1.18.5)\n",
      "Requirement already satisfied: future in c:\\users\\hhong\\appdata\\local\\packages\\pythonsoftwarefoundation.python.3.8_qbz5n2kfra8p0\\localcache\\local-packages\\python38\\site-packages (from hyperopt) (0.18.2)\n",
      "Requirement already satisfied: six in c:\\users\\hhong\\appdata\\local\\packages\\pythonsoftwarefoundation.python.3.8_qbz5n2kfra8p0\\localcache\\local-packages\\python38\\site-packages (from hyperopt) (1.15.0)\n",
      "Requirement already satisfied: tqdm in c:\\users\\hhong\\appdata\\local\\packages\\pythonsoftwarefoundation.python.3.8_qbz5n2kfra8p0\\localcache\\local-packages\\python38\\site-packages (from hyperopt) (4.54.1)\n",
      "Requirement already satisfied: cloudpickle in c:\\users\\hhong\\appdata\\local\\packages\\pythonsoftwarefoundation.python.3.8_qbz5n2kfra8p0\\localcache\\local-packages\\python38\\site-packages (from hyperopt) (1.6.0)\n",
      "Collecting networkx>=2.2\n",
      "  Using cached networkx-2.5-py3-none-any.whl (1.6 MB)\n",
      "Requirement already satisfied: decorator>=4.3.0 in c:\\users\\hhong\\appdata\\local\\packages\\pythonsoftwarefoundation.python.3.8_qbz5n2kfra8p0\\localcache\\local-packages\\python38\\site-packages (from networkx>=2.2->hyperopt) (4.4.2)\n",
      "Installing collected packages: networkx, hyperopt\n",
      "Successfully installed hyperopt-0.2.5 networkx-2.5\n"
     ]
    }
   ],
   "source": [
    "#!pip install xgboost\n",
    "#!pip install hyperopt"
   ]
  },
  {
   "cell_type": "code",
   "execution_count": 1,
   "metadata": {},
   "outputs": [],
   "source": [
    "#quick random forest regression for predicting wins\n",
    "import pandas as pd\n",
    "from sklearn.ensemble import RandomForestRegressor\n",
    "from sklearn.metrics import mean_absolute_error\n",
    "from sklearn.tree import DecisionTreeRegressor\n",
    "from sklearn.model_selection import train_test_split\n",
    "import xgboost\n",
    "from xgboost import XGBRegressor\n",
    "from xgboost import XGBClassifier\n",
    "from sklearn.linear_model import LinearRegression\n",
    "from sklearn.linear_model import Ridge\n",
    "from sklearn.linear_model import Lasso\n",
    "from sklearn.pipeline import make_pipeline\n",
    "from sklearn.decomposition import PCA\n",
    "from sklearn.cross_decomposition import PLSRegression\n",
    "from sklearn.preprocessing import StandardScaler\n",
    "from sklearn.metrics import precision_score, recall_score, accuracy_score\n",
    "import numpy as np\n",
    "from sklearn.neural_network import MLPClassifier\n",
    "from sklearn import svm\n",
    "from sklearn.model_selection import GridSearchCV\n",
    "from hyperopt import STATUS_OK, Trials, fmin, hp, tpe"
   ]
  },
  {
   "cell_type": "code",
   "execution_count": 2,
   "metadata": {},
   "outputs": [
    {
     "data": {
      "text/html": [
       "<div>\n",
       "<style scoped>\n",
       "    .dataframe tbody tr th:only-of-type {\n",
       "        vertical-align: middle;\n",
       "    }\n",
       "\n",
       "    .dataframe tbody tr th {\n",
       "        vertical-align: top;\n",
       "    }\n",
       "\n",
       "    .dataframe thead th {\n",
       "        text-align: right;\n",
       "    }\n",
       "</style>\n",
       "<table border=\"1\" class=\"dataframe\">\n",
       "  <thead>\n",
       "    <tr style=\"text-align: right;\">\n",
       "      <th></th>\n",
       "      <th>home_team_build_up_play_speed_to_away_team_build_up_play_speed_ratio</th>\n",
       "      <th>home_team_build_up_play_speed_to_away_team_build_up_play_dribbling_ratio</th>\n",
       "      <th>home_team_build_up_play_speed_to_away_team_build_up_play_passing_ratio</th>\n",
       "      <th>home_team_build_up_play_speed_to_away_team_chance_creationg_passing_ratio</th>\n",
       "      <th>home_team_build_up_play_speed_to_away_team_chance_creation_crossing_ratio</th>\n",
       "      <th>home_team_build_up_play_speed_to_away_team_chance_creation_shooting_ratio</th>\n",
       "      <th>home_team_build_up_play_speed_to_away_team_defence_pressure_ratio</th>\n",
       "      <th>home_team_build_up_play_speed_to_away_team_defence_aggression_ratio</th>\n",
       "      <th>home_team_build_up_play_speed_to_away_team_defence_team_width_ratio</th>\n",
       "      <th>home_team_build_up_play_dribbling_to_away_team_build_up_play_speed_ratio</th>\n",
       "      <th>...</th>\n",
       "      <th>home_team_defence_team_width_to_away_team_build_up_play_speed_ratio</th>\n",
       "      <th>home_team_defence_team_width_to_away_team_build_up_play_dribbling_ratio</th>\n",
       "      <th>home_team_defence_team_width_to_away_team_build_up_play_passing_ratio</th>\n",
       "      <th>home_team_defence_team_width_to_away_team_chance_creationg_passing_ratio</th>\n",
       "      <th>home_team_defence_team_width_to_away_team_chance_creation_crossing_ratio</th>\n",
       "      <th>home_team_defence_team_width_to_away_team_chance_creation_shooting_ratio</th>\n",
       "      <th>home_team_defence_team_width_to_away_team_defence_pressure_ratio</th>\n",
       "      <th>home_team_defence_team_width_to_away_team_defence_aggression_ratio</th>\n",
       "      <th>home_team_defence_team_width_to_away_team_defence_team_width_ratio</th>\n",
       "      <th>home_team_goal_to_away_team_goal_ratio</th>\n",
       "    </tr>\n",
       "  </thead>\n",
       "  <tbody>\n",
       "    <tr>\n",
       "      <th>0</th>\n",
       "      <td>1.416667</td>\n",
       "      <td>1.028073</td>\n",
       "      <td>1.243902</td>\n",
       "      <td>1.108696</td>\n",
       "      <td>1.000000</td>\n",
       "      <td>1.108696</td>\n",
       "      <td>0.836066</td>\n",
       "      <td>0.718310</td>\n",
       "      <td>0.718310</td>\n",
       "      <td>1.377982</td>\n",
       "      <td>...</td>\n",
       "      <td>1.972222</td>\n",
       "      <td>1.431239</td>\n",
       "      <td>1.731707</td>\n",
       "      <td>1.543478</td>\n",
       "      <td>1.392157</td>\n",
       "      <td>1.543478</td>\n",
       "      <td>1.163934</td>\n",
       "      <td>1.000000</td>\n",
       "      <td>1.000000</td>\n",
       "      <td>1.333333</td>\n",
       "    </tr>\n",
       "    <tr>\n",
       "      <th>1</th>\n",
       "      <td>0.759259</td>\n",
       "      <td>0.826490</td>\n",
       "      <td>1.000000</td>\n",
       "      <td>0.732143</td>\n",
       "      <td>0.732143</td>\n",
       "      <td>0.621212</td>\n",
       "      <td>0.577465</td>\n",
       "      <td>0.577465</td>\n",
       "      <td>0.621212</td>\n",
       "      <td>0.918655</td>\n",
       "      <td>...</td>\n",
       "      <td>1.314815</td>\n",
       "      <td>1.431239</td>\n",
       "      <td>1.731707</td>\n",
       "      <td>1.267857</td>\n",
       "      <td>1.267857</td>\n",
       "      <td>1.075758</td>\n",
       "      <td>1.000000</td>\n",
       "      <td>1.000000</td>\n",
       "      <td>1.075758</td>\n",
       "      <td>0.750000</td>\n",
       "    </tr>\n",
       "    <tr>\n",
       "      <th>2</th>\n",
       "      <td>1.833333</td>\n",
       "      <td>1.330448</td>\n",
       "      <td>1.833333</td>\n",
       "      <td>1.434783</td>\n",
       "      <td>1.609756</td>\n",
       "      <td>1.294118</td>\n",
       "      <td>0.929577</td>\n",
       "      <td>0.929577</td>\n",
       "      <td>0.929577</td>\n",
       "      <td>1.377982</td>\n",
       "      <td>...</td>\n",
       "      <td>1.694444</td>\n",
       "      <td>1.229656</td>\n",
       "      <td>1.694444</td>\n",
       "      <td>1.326087</td>\n",
       "      <td>1.487805</td>\n",
       "      <td>1.196078</td>\n",
       "      <td>0.859155</td>\n",
       "      <td>0.859155</td>\n",
       "      <td>0.859155</td>\n",
       "      <td>2.000000</td>\n",
       "    </tr>\n",
       "    <tr>\n",
       "      <th>3</th>\n",
       "      <td>0.782609</td>\n",
       "      <td>0.725699</td>\n",
       "      <td>0.590164</td>\n",
       "      <td>0.878049</td>\n",
       "      <td>0.782609</td>\n",
       "      <td>0.642857</td>\n",
       "      <td>0.507042</td>\n",
       "      <td>0.507042</td>\n",
       "      <td>0.507042</td>\n",
       "      <td>1.078421</td>\n",
       "      <td>...</td>\n",
       "      <td>1.543478</td>\n",
       "      <td>1.431239</td>\n",
       "      <td>1.163934</td>\n",
       "      <td>1.731707</td>\n",
       "      <td>1.543478</td>\n",
       "      <td>1.267857</td>\n",
       "      <td>1.000000</td>\n",
       "      <td>1.000000</td>\n",
       "      <td>1.000000</td>\n",
       "      <td>1.500000</td>\n",
       "    </tr>\n",
       "    <tr>\n",
       "      <th>4</th>\n",
       "      <td>1.058824</td>\n",
       "      <td>1.088548</td>\n",
       "      <td>1.500000</td>\n",
       "      <td>0.760563</td>\n",
       "      <td>1.058824</td>\n",
       "      <td>0.885246</td>\n",
       "      <td>0.760563</td>\n",
       "      <td>1.058824</td>\n",
       "      <td>0.760563</td>\n",
       "      <td>0.972693</td>\n",
       "      <td>...</td>\n",
       "      <td>1.294118</td>\n",
       "      <td>1.330448</td>\n",
       "      <td>1.833333</td>\n",
       "      <td>0.929577</td>\n",
       "      <td>1.294118</td>\n",
       "      <td>1.081967</td>\n",
       "      <td>0.929577</td>\n",
       "      <td>1.294118</td>\n",
       "      <td>0.929577</td>\n",
       "      <td>0.200000</td>\n",
       "    </tr>\n",
       "    <tr>\n",
       "      <th>...</th>\n",
       "      <td>...</td>\n",
       "      <td>...</td>\n",
       "      <td>...</td>\n",
       "      <td>...</td>\n",
       "      <td>...</td>\n",
       "      <td>...</td>\n",
       "      <td>...</td>\n",
       "      <td>...</td>\n",
       "      <td>...</td>\n",
       "      <td>...</td>\n",
       "      <td>...</td>\n",
       "      <td>...</td>\n",
       "      <td>...</td>\n",
       "      <td>...</td>\n",
       "      <td>...</td>\n",
       "      <td>...</td>\n",
       "      <td>...</td>\n",
       "      <td>...</td>\n",
       "      <td>...</td>\n",
       "      <td>...</td>\n",
       "      <td>...</td>\n",
       "    </tr>\n",
       "    <tr>\n",
       "      <th>18238</th>\n",
       "      <td>1.067797</td>\n",
       "      <td>1.050000</td>\n",
       "      <td>1.750000</td>\n",
       "      <td>0.969231</td>\n",
       "      <td>1.702703</td>\n",
       "      <td>0.940299</td>\n",
       "      <td>1.312500</td>\n",
       "      <td>1.369565</td>\n",
       "      <td>1.166667</td>\n",
       "      <td>0.847458</td>\n",
       "      <td>...</td>\n",
       "      <td>0.966102</td>\n",
       "      <td>0.950000</td>\n",
       "      <td>1.583333</td>\n",
       "      <td>0.876923</td>\n",
       "      <td>1.540541</td>\n",
       "      <td>0.850746</td>\n",
       "      <td>1.187500</td>\n",
       "      <td>1.239130</td>\n",
       "      <td>1.055556</td>\n",
       "      <td>1.000000</td>\n",
       "    </tr>\n",
       "    <tr>\n",
       "      <th>18239</th>\n",
       "      <td>0.898305</td>\n",
       "      <td>0.883333</td>\n",
       "      <td>1.472222</td>\n",
       "      <td>0.815385</td>\n",
       "      <td>1.432432</td>\n",
       "      <td>0.791045</td>\n",
       "      <td>1.104167</td>\n",
       "      <td>1.152174</td>\n",
       "      <td>0.981481</td>\n",
       "      <td>0.796610</td>\n",
       "      <td>...</td>\n",
       "      <td>0.898305</td>\n",
       "      <td>0.883333</td>\n",
       "      <td>1.472222</td>\n",
       "      <td>0.815385</td>\n",
       "      <td>1.432432</td>\n",
       "      <td>0.791045</td>\n",
       "      <td>1.104167</td>\n",
       "      <td>1.152174</td>\n",
       "      <td>0.981481</td>\n",
       "      <td>2.000000</td>\n",
       "    </tr>\n",
       "    <tr>\n",
       "      <th>18240</th>\n",
       "      <td>0.843750</td>\n",
       "      <td>1.038462</td>\n",
       "      <td>1.038462</td>\n",
       "      <td>0.981818</td>\n",
       "      <td>1.317073</td>\n",
       "      <td>0.805970</td>\n",
       "      <td>1.102041</td>\n",
       "      <td>1.000000</td>\n",
       "      <td>1.058824</td>\n",
       "      <td>0.515625</td>\n",
       "      <td>...</td>\n",
       "      <td>0.921875</td>\n",
       "      <td>1.134615</td>\n",
       "      <td>1.134615</td>\n",
       "      <td>1.072727</td>\n",
       "      <td>1.439024</td>\n",
       "      <td>0.880597</td>\n",
       "      <td>1.204082</td>\n",
       "      <td>1.092593</td>\n",
       "      <td>1.156863</td>\n",
       "      <td>0.666667</td>\n",
       "    </tr>\n",
       "    <tr>\n",
       "      <th>18241</th>\n",
       "      <td>0.822581</td>\n",
       "      <td>0.879310</td>\n",
       "      <td>1.342105</td>\n",
       "      <td>0.809524</td>\n",
       "      <td>1.000000</td>\n",
       "      <td>0.944444</td>\n",
       "      <td>1.108696</td>\n",
       "      <td>1.062500</td>\n",
       "      <td>0.927273</td>\n",
       "      <td>0.983871</td>\n",
       "      <td>...</td>\n",
       "      <td>0.774194</td>\n",
       "      <td>0.827586</td>\n",
       "      <td>1.263158</td>\n",
       "      <td>0.761905</td>\n",
       "      <td>0.941176</td>\n",
       "      <td>0.888889</td>\n",
       "      <td>1.043478</td>\n",
       "      <td>1.000000</td>\n",
       "      <td>0.872727</td>\n",
       "      <td>3.000000</td>\n",
       "    </tr>\n",
       "    <tr>\n",
       "      <th>18242</th>\n",
       "      <td>0.854839</td>\n",
       "      <td>0.828125</td>\n",
       "      <td>1.127660</td>\n",
       "      <td>0.791045</td>\n",
       "      <td>0.791045</td>\n",
       "      <td>0.963636</td>\n",
       "      <td>1.104167</td>\n",
       "      <td>0.898305</td>\n",
       "      <td>0.981481</td>\n",
       "      <td>0.919355</td>\n",
       "      <td>...</td>\n",
       "      <td>0.822581</td>\n",
       "      <td>0.796875</td>\n",
       "      <td>1.085106</td>\n",
       "      <td>0.761194</td>\n",
       "      <td>0.761194</td>\n",
       "      <td>0.927273</td>\n",
       "      <td>1.062500</td>\n",
       "      <td>0.864407</td>\n",
       "      <td>0.944444</td>\n",
       "      <td>1.250000</td>\n",
       "    </tr>\n",
       "  </tbody>\n",
       "</table>\n",
       "<p>18243 rows × 82 columns</p>\n",
       "</div>"
      ],
      "text/plain": [
       "       home_team_build_up_play_speed_to_away_team_build_up_play_speed_ratio  \\\n",
       "0                                               1.416667                      \n",
       "1                                               0.759259                      \n",
       "2                                               1.833333                      \n",
       "3                                               0.782609                      \n",
       "4                                               1.058824                      \n",
       "...                                                  ...                      \n",
       "18238                                           1.067797                      \n",
       "18239                                           0.898305                      \n",
       "18240                                           0.843750                      \n",
       "18241                                           0.822581                      \n",
       "18242                                           0.854839                      \n",
       "\n",
       "       home_team_build_up_play_speed_to_away_team_build_up_play_dribbling_ratio  \\\n",
       "0                                               1.028073                          \n",
       "1                                               0.826490                          \n",
       "2                                               1.330448                          \n",
       "3                                               0.725699                          \n",
       "4                                               1.088548                          \n",
       "...                                                  ...                          \n",
       "18238                                           1.050000                          \n",
       "18239                                           0.883333                          \n",
       "18240                                           1.038462                          \n",
       "18241                                           0.879310                          \n",
       "18242                                           0.828125                          \n",
       "\n",
       "       home_team_build_up_play_speed_to_away_team_build_up_play_passing_ratio  \\\n",
       "0                                               1.243902                        \n",
       "1                                               1.000000                        \n",
       "2                                               1.833333                        \n",
       "3                                               0.590164                        \n",
       "4                                               1.500000                        \n",
       "...                                                  ...                        \n",
       "18238                                           1.750000                        \n",
       "18239                                           1.472222                        \n",
       "18240                                           1.038462                        \n",
       "18241                                           1.342105                        \n",
       "18242                                           1.127660                        \n",
       "\n",
       "       home_team_build_up_play_speed_to_away_team_chance_creationg_passing_ratio  \\\n",
       "0                                               1.108696                           \n",
       "1                                               0.732143                           \n",
       "2                                               1.434783                           \n",
       "3                                               0.878049                           \n",
       "4                                               0.760563                           \n",
       "...                                                  ...                           \n",
       "18238                                           0.969231                           \n",
       "18239                                           0.815385                           \n",
       "18240                                           0.981818                           \n",
       "18241                                           0.809524                           \n",
       "18242                                           0.791045                           \n",
       "\n",
       "       home_team_build_up_play_speed_to_away_team_chance_creation_crossing_ratio  \\\n",
       "0                                               1.000000                           \n",
       "1                                               0.732143                           \n",
       "2                                               1.609756                           \n",
       "3                                               0.782609                           \n",
       "4                                               1.058824                           \n",
       "...                                                  ...                           \n",
       "18238                                           1.702703                           \n",
       "18239                                           1.432432                           \n",
       "18240                                           1.317073                           \n",
       "18241                                           1.000000                           \n",
       "18242                                           0.791045                           \n",
       "\n",
       "       home_team_build_up_play_speed_to_away_team_chance_creation_shooting_ratio  \\\n",
       "0                                               1.108696                           \n",
       "1                                               0.621212                           \n",
       "2                                               1.294118                           \n",
       "3                                               0.642857                           \n",
       "4                                               0.885246                           \n",
       "...                                                  ...                           \n",
       "18238                                           0.940299                           \n",
       "18239                                           0.791045                           \n",
       "18240                                           0.805970                           \n",
       "18241                                           0.944444                           \n",
       "18242                                           0.963636                           \n",
       "\n",
       "       home_team_build_up_play_speed_to_away_team_defence_pressure_ratio  \\\n",
       "0                                               0.836066                   \n",
       "1                                               0.577465                   \n",
       "2                                               0.929577                   \n",
       "3                                               0.507042                   \n",
       "4                                               0.760563                   \n",
       "...                                                  ...                   \n",
       "18238                                           1.312500                   \n",
       "18239                                           1.104167                   \n",
       "18240                                           1.102041                   \n",
       "18241                                           1.108696                   \n",
       "18242                                           1.104167                   \n",
       "\n",
       "       home_team_build_up_play_speed_to_away_team_defence_aggression_ratio  \\\n",
       "0                                               0.718310                     \n",
       "1                                               0.577465                     \n",
       "2                                               0.929577                     \n",
       "3                                               0.507042                     \n",
       "4                                               1.058824                     \n",
       "...                                                  ...                     \n",
       "18238                                           1.369565                     \n",
       "18239                                           1.152174                     \n",
       "18240                                           1.000000                     \n",
       "18241                                           1.062500                     \n",
       "18242                                           0.898305                     \n",
       "\n",
       "       home_team_build_up_play_speed_to_away_team_defence_team_width_ratio  \\\n",
       "0                                               0.718310                     \n",
       "1                                               0.621212                     \n",
       "2                                               0.929577                     \n",
       "3                                               0.507042                     \n",
       "4                                               0.760563                     \n",
       "...                                                  ...                     \n",
       "18238                                           1.166667                     \n",
       "18239                                           0.981481                     \n",
       "18240                                           1.058824                     \n",
       "18241                                           0.927273                     \n",
       "18242                                           0.981481                     \n",
       "\n",
       "       home_team_build_up_play_dribbling_to_away_team_build_up_play_speed_ratio  \\\n",
       "0                                               1.377982                          \n",
       "1                                               0.918655                          \n",
       "2                                               1.377982                          \n",
       "3                                               1.078421                          \n",
       "4                                               0.972693                          \n",
       "...                                                  ...                          \n",
       "18238                                           0.847458                          \n",
       "18239                                           0.796610                          \n",
       "18240                                           0.515625                          \n",
       "18241                                           0.983871                          \n",
       "18242                                           0.919355                          \n",
       "\n",
       "       ...  \\\n",
       "0      ...   \n",
       "1      ...   \n",
       "2      ...   \n",
       "3      ...   \n",
       "4      ...   \n",
       "...    ...   \n",
       "18238  ...   \n",
       "18239  ...   \n",
       "18240  ...   \n",
       "18241  ...   \n",
       "18242  ...   \n",
       "\n",
       "       home_team_defence_team_width_to_away_team_build_up_play_speed_ratio  \\\n",
       "0                                               1.972222                     \n",
       "1                                               1.314815                     \n",
       "2                                               1.694444                     \n",
       "3                                               1.543478                     \n",
       "4                                               1.294118                     \n",
       "...                                                  ...                     \n",
       "18238                                           0.966102                     \n",
       "18239                                           0.898305                     \n",
       "18240                                           0.921875                     \n",
       "18241                                           0.774194                     \n",
       "18242                                           0.822581                     \n",
       "\n",
       "       home_team_defence_team_width_to_away_team_build_up_play_dribbling_ratio  \\\n",
       "0                                               1.431239                         \n",
       "1                                               1.431239                         \n",
       "2                                               1.229656                         \n",
       "3                                               1.431239                         \n",
       "4                                               1.330448                         \n",
       "...                                                  ...                         \n",
       "18238                                           0.950000                         \n",
       "18239                                           0.883333                         \n",
       "18240                                           1.134615                         \n",
       "18241                                           0.827586                         \n",
       "18242                                           0.796875                         \n",
       "\n",
       "       home_team_defence_team_width_to_away_team_build_up_play_passing_ratio  \\\n",
       "0                                               1.731707                       \n",
       "1                                               1.731707                       \n",
       "2                                               1.694444                       \n",
       "3                                               1.163934                       \n",
       "4                                               1.833333                       \n",
       "...                                                  ...                       \n",
       "18238                                           1.583333                       \n",
       "18239                                           1.472222                       \n",
       "18240                                           1.134615                       \n",
       "18241                                           1.263158                       \n",
       "18242                                           1.085106                       \n",
       "\n",
       "       home_team_defence_team_width_to_away_team_chance_creationg_passing_ratio  \\\n",
       "0                                               1.543478                          \n",
       "1                                               1.267857                          \n",
       "2                                               1.326087                          \n",
       "3                                               1.731707                          \n",
       "4                                               0.929577                          \n",
       "...                                                  ...                          \n",
       "18238                                           0.876923                          \n",
       "18239                                           0.815385                          \n",
       "18240                                           1.072727                          \n",
       "18241                                           0.761905                          \n",
       "18242                                           0.761194                          \n",
       "\n",
       "       home_team_defence_team_width_to_away_team_chance_creation_crossing_ratio  \\\n",
       "0                                               1.392157                          \n",
       "1                                               1.267857                          \n",
       "2                                               1.487805                          \n",
       "3                                               1.543478                          \n",
       "4                                               1.294118                          \n",
       "...                                                  ...                          \n",
       "18238                                           1.540541                          \n",
       "18239                                           1.432432                          \n",
       "18240                                           1.439024                          \n",
       "18241                                           0.941176                          \n",
       "18242                                           0.761194                          \n",
       "\n",
       "       home_team_defence_team_width_to_away_team_chance_creation_shooting_ratio  \\\n",
       "0                                               1.543478                          \n",
       "1                                               1.075758                          \n",
       "2                                               1.196078                          \n",
       "3                                               1.267857                          \n",
       "4                                               1.081967                          \n",
       "...                                                  ...                          \n",
       "18238                                           0.850746                          \n",
       "18239                                           0.791045                          \n",
       "18240                                           0.880597                          \n",
       "18241                                           0.888889                          \n",
       "18242                                           0.927273                          \n",
       "\n",
       "       home_team_defence_team_width_to_away_team_defence_pressure_ratio  \\\n",
       "0                                               1.163934                  \n",
       "1                                               1.000000                  \n",
       "2                                               0.859155                  \n",
       "3                                               1.000000                  \n",
       "4                                               0.929577                  \n",
       "...                                                  ...                  \n",
       "18238                                           1.187500                  \n",
       "18239                                           1.104167                  \n",
       "18240                                           1.204082                  \n",
       "18241                                           1.043478                  \n",
       "18242                                           1.062500                  \n",
       "\n",
       "       home_team_defence_team_width_to_away_team_defence_aggression_ratio  \\\n",
       "0                                               1.000000                    \n",
       "1                                               1.000000                    \n",
       "2                                               0.859155                    \n",
       "3                                               1.000000                    \n",
       "4                                               1.294118                    \n",
       "...                                                  ...                    \n",
       "18238                                           1.239130                    \n",
       "18239                                           1.152174                    \n",
       "18240                                           1.092593                    \n",
       "18241                                           1.000000                    \n",
       "18242                                           0.864407                    \n",
       "\n",
       "       home_team_defence_team_width_to_away_team_defence_team_width_ratio  \\\n",
       "0                                               1.000000                    \n",
       "1                                               1.075758                    \n",
       "2                                               0.859155                    \n",
       "3                                               1.000000                    \n",
       "4                                               0.929577                    \n",
       "...                                                  ...                    \n",
       "18238                                           1.055556                    \n",
       "18239                                           0.981481                    \n",
       "18240                                           1.156863                    \n",
       "18241                                           0.872727                    \n",
       "18242                                           0.944444                    \n",
       "\n",
       "       home_team_goal_to_away_team_goal_ratio  \n",
       "0                                    1.333333  \n",
       "1                                    0.750000  \n",
       "2                                    2.000000  \n",
       "3                                    1.500000  \n",
       "4                                    0.200000  \n",
       "...                                       ...  \n",
       "18238                                1.000000  \n",
       "18239                                2.000000  \n",
       "18240                                0.666667  \n",
       "18241                                3.000000  \n",
       "18242                                1.250000  \n",
       "\n",
       "[18243 rows x 82 columns]"
      ]
     },
     "execution_count": 2,
     "metadata": {},
     "output_type": "execute_result"
    }
   ],
   "source": [
    "ratioDf = pd.read_pickle('data/all_attributes_ratio.pkl')\n",
    "ratioDf"
   ]
  },
  {
   "cell_type": "code",
   "execution_count": 3,
   "metadata": {},
   "outputs": [
    {
     "data": {
      "text/html": [
       "<div>\n",
       "<style scoped>\n",
       "    .dataframe tbody tr th:only-of-type {\n",
       "        vertical-align: middle;\n",
       "    }\n",
       "\n",
       "    .dataframe tbody tr th {\n",
       "        vertical-align: top;\n",
       "    }\n",
       "\n",
       "    .dataframe thead th {\n",
       "        text-align: right;\n",
       "    }\n",
       "</style>\n",
       "<table border=\"1\" class=\"dataframe\">\n",
       "  <thead>\n",
       "    <tr style=\"text-align: right;\">\n",
       "      <th></th>\n",
       "      <th>home_team_build_up_play_dribbling_to_away_team_build_up_play_dribbling_ratio</th>\n",
       "      <th>home_team_build_up_play_dribbling_to_away_team_build_up_play_passing_ratio</th>\n",
       "      <th>home_team_build_up_play_dribbling_to_away_team_build_up_play_speed_ratio</th>\n",
       "      <th>home_team_build_up_play_dribbling_to_away_team_chance_creation_crossing_ratio</th>\n",
       "      <th>home_team_build_up_play_dribbling_to_away_team_chance_creation_shooting_ratio</th>\n",
       "      <th>home_team_build_up_play_dribbling_to_away_team_chance_creationg_passing_ratio</th>\n",
       "      <th>home_team_build_up_play_dribbling_to_away_team_defence_aggression_ratio</th>\n",
       "      <th>home_team_build_up_play_dribbling_to_away_team_defence_pressure_ratio</th>\n",
       "      <th>home_team_build_up_play_dribbling_to_away_team_defence_team_width_ratio</th>\n",
       "      <th>home_team_build_up_play_passing_to_away_team_build_up_play_dribbling_ratio</th>\n",
       "      <th>...</th>\n",
       "      <th>home_team_defence_pressure_to_away_team_defence_team_width_ratio</th>\n",
       "      <th>home_team_defence_team_width_to_away_team_build_up_play_dribbling_ratio</th>\n",
       "      <th>home_team_defence_team_width_to_away_team_build_up_play_passing_ratio</th>\n",
       "      <th>home_team_defence_team_width_to_away_team_build_up_play_speed_ratio</th>\n",
       "      <th>home_team_defence_team_width_to_away_team_chance_creation_crossing_ratio</th>\n",
       "      <th>home_team_defence_team_width_to_away_team_chance_creation_shooting_ratio</th>\n",
       "      <th>home_team_defence_team_width_to_away_team_chance_creationg_passing_ratio</th>\n",
       "      <th>home_team_defence_team_width_to_away_team_defence_aggression_ratio</th>\n",
       "      <th>home_team_defence_team_width_to_away_team_defence_pressure_ratio</th>\n",
       "      <th>home_team_defence_team_width_to_away_team_defence_team_width_ratio</th>\n",
       "    </tr>\n",
       "  </thead>\n",
       "  <tbody>\n",
       "    <tr>\n",
       "      <th>0</th>\n",
       "      <td>1.000000</td>\n",
       "      <td>1.209936</td>\n",
       "      <td>1.377982</td>\n",
       "      <td>0.972693</td>\n",
       "      <td>1.078421</td>\n",
       "      <td>1.078421</td>\n",
       "      <td>0.698695</td>\n",
       "      <td>0.813235</td>\n",
       "      <td>0.698695</td>\n",
       "      <td>0.725699</td>\n",
       "      <td>...</td>\n",
       "      <td>1.000000</td>\n",
       "      <td>1.431239</td>\n",
       "      <td>1.731707</td>\n",
       "      <td>1.972222</td>\n",
       "      <td>1.392157</td>\n",
       "      <td>1.543478</td>\n",
       "      <td>1.543478</td>\n",
       "      <td>1.000000</td>\n",
       "      <td>1.163934</td>\n",
       "      <td>1.000000</td>\n",
       "    </tr>\n",
       "    <tr>\n",
       "      <th>1</th>\n",
       "      <td>1.000000</td>\n",
       "      <td>1.209936</td>\n",
       "      <td>0.918655</td>\n",
       "      <td>0.885846</td>\n",
       "      <td>0.751627</td>\n",
       "      <td>0.885846</td>\n",
       "      <td>0.698695</td>\n",
       "      <td>0.698695</td>\n",
       "      <td>0.751627</td>\n",
       "      <td>1.028073</td>\n",
       "      <td>...</td>\n",
       "      <td>1.075758</td>\n",
       "      <td>1.431239</td>\n",
       "      <td>1.731707</td>\n",
       "      <td>1.314815</td>\n",
       "      <td>1.267857</td>\n",
       "      <td>1.075758</td>\n",
       "      <td>1.267857</td>\n",
       "      <td>1.000000</td>\n",
       "      <td>1.000000</td>\n",
       "      <td>1.075758</td>\n",
       "    </tr>\n",
       "    <tr>\n",
       "      <th>2</th>\n",
       "      <td>1.000000</td>\n",
       "      <td>1.377982</td>\n",
       "      <td>1.377982</td>\n",
       "      <td>1.209936</td>\n",
       "      <td>0.972693</td>\n",
       "      <td>1.078421</td>\n",
       "      <td>0.698695</td>\n",
       "      <td>0.698695</td>\n",
       "      <td>0.698695</td>\n",
       "      <td>1.229656</td>\n",
       "      <td>...</td>\n",
       "      <td>0.859155</td>\n",
       "      <td>1.229656</td>\n",
       "      <td>1.694444</td>\n",
       "      <td>1.694444</td>\n",
       "      <td>1.487805</td>\n",
       "      <td>1.196078</td>\n",
       "      <td>1.326087</td>\n",
       "      <td>0.859155</td>\n",
       "      <td>0.859155</td>\n",
       "      <td>0.859155</td>\n",
       "    </tr>\n",
       "    <tr>\n",
       "      <th>3</th>\n",
       "      <td>1.000000</td>\n",
       "      <td>0.813235</td>\n",
       "      <td>1.078421</td>\n",
       "      <td>1.078421</td>\n",
       "      <td>0.885846</td>\n",
       "      <td>1.209936</td>\n",
       "      <td>0.698695</td>\n",
       "      <td>0.698695</td>\n",
       "      <td>0.698695</td>\n",
       "      <td>0.826490</td>\n",
       "      <td>...</td>\n",
       "      <td>0.859155</td>\n",
       "      <td>1.431239</td>\n",
       "      <td>1.163934</td>\n",
       "      <td>1.543478</td>\n",
       "      <td>1.543478</td>\n",
       "      <td>1.267857</td>\n",
       "      <td>1.731707</td>\n",
       "      <td>1.000000</td>\n",
       "      <td>1.000000</td>\n",
       "      <td>1.000000</td>\n",
       "    </tr>\n",
       "    <tr>\n",
       "      <th>4</th>\n",
       "      <td>1.000000</td>\n",
       "      <td>1.377982</td>\n",
       "      <td>0.972693</td>\n",
       "      <td>0.972693</td>\n",
       "      <td>0.813235</td>\n",
       "      <td>0.698695</td>\n",
       "      <td>0.972693</td>\n",
       "      <td>0.698695</td>\n",
       "      <td>0.698695</td>\n",
       "      <td>0.826490</td>\n",
       "      <td>...</td>\n",
       "      <td>1.000000</td>\n",
       "      <td>1.330448</td>\n",
       "      <td>1.833333</td>\n",
       "      <td>1.294118</td>\n",
       "      <td>1.294118</td>\n",
       "      <td>1.081967</td>\n",
       "      <td>0.929577</td>\n",
       "      <td>1.294118</td>\n",
       "      <td>0.929577</td>\n",
       "      <td>0.929577</td>\n",
       "    </tr>\n",
       "    <tr>\n",
       "      <th>...</th>\n",
       "      <td>...</td>\n",
       "      <td>...</td>\n",
       "      <td>...</td>\n",
       "      <td>...</td>\n",
       "      <td>...</td>\n",
       "      <td>...</td>\n",
       "      <td>...</td>\n",
       "      <td>...</td>\n",
       "      <td>...</td>\n",
       "      <td>...</td>\n",
       "      <td>...</td>\n",
       "      <td>...</td>\n",
       "      <td>...</td>\n",
       "      <td>...</td>\n",
       "      <td>...</td>\n",
       "      <td>...</td>\n",
       "      <td>...</td>\n",
       "      <td>...</td>\n",
       "      <td>...</td>\n",
       "      <td>...</td>\n",
       "      <td>...</td>\n",
       "    </tr>\n",
       "    <tr>\n",
       "      <th>18238</th>\n",
       "      <td>0.833333</td>\n",
       "      <td>1.388889</td>\n",
       "      <td>0.847458</td>\n",
       "      <td>1.351351</td>\n",
       "      <td>0.746269</td>\n",
       "      <td>0.769231</td>\n",
       "      <td>1.086957</td>\n",
       "      <td>1.041667</td>\n",
       "      <td>0.925926</td>\n",
       "      <td>0.783333</td>\n",
       "      <td>...</td>\n",
       "      <td>0.888889</td>\n",
       "      <td>0.950000</td>\n",
       "      <td>1.583333</td>\n",
       "      <td>0.966102</td>\n",
       "      <td>1.540541</td>\n",
       "      <td>0.850746</td>\n",
       "      <td>0.876923</td>\n",
       "      <td>1.239130</td>\n",
       "      <td>1.187500</td>\n",
       "      <td>1.055556</td>\n",
       "    </tr>\n",
       "    <tr>\n",
       "      <th>18239</th>\n",
       "      <td>0.783333</td>\n",
       "      <td>1.305556</td>\n",
       "      <td>0.796610</td>\n",
       "      <td>1.270270</td>\n",
       "      <td>0.701493</td>\n",
       "      <td>0.723077</td>\n",
       "      <td>1.021739</td>\n",
       "      <td>0.979167</td>\n",
       "      <td>0.870370</td>\n",
       "      <td>0.816667</td>\n",
       "      <td>...</td>\n",
       "      <td>0.759259</td>\n",
       "      <td>0.883333</td>\n",
       "      <td>1.472222</td>\n",
       "      <td>0.898305</td>\n",
       "      <td>1.432432</td>\n",
       "      <td>0.791045</td>\n",
       "      <td>0.815385</td>\n",
       "      <td>1.152174</td>\n",
       "      <td>1.104167</td>\n",
       "      <td>0.981481</td>\n",
       "    </tr>\n",
       "    <tr>\n",
       "      <th>18240</th>\n",
       "      <td>0.634615</td>\n",
       "      <td>0.634615</td>\n",
       "      <td>0.515625</td>\n",
       "      <td>0.804878</td>\n",
       "      <td>0.492537</td>\n",
       "      <td>0.600000</td>\n",
       "      <td>0.611111</td>\n",
       "      <td>0.673469</td>\n",
       "      <td>0.647059</td>\n",
       "      <td>1.096154</td>\n",
       "      <td>...</td>\n",
       "      <td>0.843137</td>\n",
       "      <td>1.134615</td>\n",
       "      <td>1.134615</td>\n",
       "      <td>0.921875</td>\n",
       "      <td>1.439024</td>\n",
       "      <td>0.880597</td>\n",
       "      <td>1.072727</td>\n",
       "      <td>1.092593</td>\n",
       "      <td>1.204082</td>\n",
       "      <td>1.156863</td>\n",
       "    </tr>\n",
       "    <tr>\n",
       "      <th>18241</th>\n",
       "      <td>1.051724</td>\n",
       "      <td>1.605263</td>\n",
       "      <td>0.983871</td>\n",
       "      <td>1.196078</td>\n",
       "      <td>1.129630</td>\n",
       "      <td>0.968254</td>\n",
       "      <td>1.270833</td>\n",
       "      <td>1.326087</td>\n",
       "      <td>1.109091</td>\n",
       "      <td>0.948276</td>\n",
       "      <td>...</td>\n",
       "      <td>0.672727</td>\n",
       "      <td>0.827586</td>\n",
       "      <td>1.263158</td>\n",
       "      <td>0.774194</td>\n",
       "      <td>0.941176</td>\n",
       "      <td>0.888889</td>\n",
       "      <td>0.761905</td>\n",
       "      <td>1.000000</td>\n",
       "      <td>1.043478</td>\n",
       "      <td>0.872727</td>\n",
       "    </tr>\n",
       "    <tr>\n",
       "      <th>18242</th>\n",
       "      <td>0.890625</td>\n",
       "      <td>1.212766</td>\n",
       "      <td>0.919355</td>\n",
       "      <td>0.850746</td>\n",
       "      <td>1.036364</td>\n",
       "      <td>0.850746</td>\n",
       "      <td>0.966102</td>\n",
       "      <td>1.187500</td>\n",
       "      <td>1.055556</td>\n",
       "      <td>1.015625</td>\n",
       "      <td>...</td>\n",
       "      <td>0.833333</td>\n",
       "      <td>0.796875</td>\n",
       "      <td>1.085106</td>\n",
       "      <td>0.822581</td>\n",
       "      <td>0.761194</td>\n",
       "      <td>0.927273</td>\n",
       "      <td>0.761194</td>\n",
       "      <td>0.864407</td>\n",
       "      <td>1.062500</td>\n",
       "      <td>0.944444</td>\n",
       "    </tr>\n",
       "  </tbody>\n",
       "</table>\n",
       "<p>18243 rows × 81 columns</p>\n",
       "</div>"
      ],
      "text/plain": [
       "       home_team_build_up_play_dribbling_to_away_team_build_up_play_dribbling_ratio  \\\n",
       "0                                               1.000000                              \n",
       "1                                               1.000000                              \n",
       "2                                               1.000000                              \n",
       "3                                               1.000000                              \n",
       "4                                               1.000000                              \n",
       "...                                                  ...                              \n",
       "18238                                           0.833333                              \n",
       "18239                                           0.783333                              \n",
       "18240                                           0.634615                              \n",
       "18241                                           1.051724                              \n",
       "18242                                           0.890625                              \n",
       "\n",
       "       home_team_build_up_play_dribbling_to_away_team_build_up_play_passing_ratio  \\\n",
       "0                                               1.209936                            \n",
       "1                                               1.209936                            \n",
       "2                                               1.377982                            \n",
       "3                                               0.813235                            \n",
       "4                                               1.377982                            \n",
       "...                                                  ...                            \n",
       "18238                                           1.388889                            \n",
       "18239                                           1.305556                            \n",
       "18240                                           0.634615                            \n",
       "18241                                           1.605263                            \n",
       "18242                                           1.212766                            \n",
       "\n",
       "       home_team_build_up_play_dribbling_to_away_team_build_up_play_speed_ratio  \\\n",
       "0                                               1.377982                          \n",
       "1                                               0.918655                          \n",
       "2                                               1.377982                          \n",
       "3                                               1.078421                          \n",
       "4                                               0.972693                          \n",
       "...                                                  ...                          \n",
       "18238                                           0.847458                          \n",
       "18239                                           0.796610                          \n",
       "18240                                           0.515625                          \n",
       "18241                                           0.983871                          \n",
       "18242                                           0.919355                          \n",
       "\n",
       "       home_team_build_up_play_dribbling_to_away_team_chance_creation_crossing_ratio  \\\n",
       "0                                               0.972693                               \n",
       "1                                               0.885846                               \n",
       "2                                               1.209936                               \n",
       "3                                               1.078421                               \n",
       "4                                               0.972693                               \n",
       "...                                                  ...                               \n",
       "18238                                           1.351351                               \n",
       "18239                                           1.270270                               \n",
       "18240                                           0.804878                               \n",
       "18241                                           1.196078                               \n",
       "18242                                           0.850746                               \n",
       "\n",
       "       home_team_build_up_play_dribbling_to_away_team_chance_creation_shooting_ratio  \\\n",
       "0                                               1.078421                               \n",
       "1                                               0.751627                               \n",
       "2                                               0.972693                               \n",
       "3                                               0.885846                               \n",
       "4                                               0.813235                               \n",
       "...                                                  ...                               \n",
       "18238                                           0.746269                               \n",
       "18239                                           0.701493                               \n",
       "18240                                           0.492537                               \n",
       "18241                                           1.129630                               \n",
       "18242                                           1.036364                               \n",
       "\n",
       "       home_team_build_up_play_dribbling_to_away_team_chance_creationg_passing_ratio  \\\n",
       "0                                               1.078421                               \n",
       "1                                               0.885846                               \n",
       "2                                               1.078421                               \n",
       "3                                               1.209936                               \n",
       "4                                               0.698695                               \n",
       "...                                                  ...                               \n",
       "18238                                           0.769231                               \n",
       "18239                                           0.723077                               \n",
       "18240                                           0.600000                               \n",
       "18241                                           0.968254                               \n",
       "18242                                           0.850746                               \n",
       "\n",
       "       home_team_build_up_play_dribbling_to_away_team_defence_aggression_ratio  \\\n",
       "0                                               0.698695                         \n",
       "1                                               0.698695                         \n",
       "2                                               0.698695                         \n",
       "3                                               0.698695                         \n",
       "4                                               0.972693                         \n",
       "...                                                  ...                         \n",
       "18238                                           1.086957                         \n",
       "18239                                           1.021739                         \n",
       "18240                                           0.611111                         \n",
       "18241                                           1.270833                         \n",
       "18242                                           0.966102                         \n",
       "\n",
       "       home_team_build_up_play_dribbling_to_away_team_defence_pressure_ratio  \\\n",
       "0                                               0.813235                       \n",
       "1                                               0.698695                       \n",
       "2                                               0.698695                       \n",
       "3                                               0.698695                       \n",
       "4                                               0.698695                       \n",
       "...                                                  ...                       \n",
       "18238                                           1.041667                       \n",
       "18239                                           0.979167                       \n",
       "18240                                           0.673469                       \n",
       "18241                                           1.326087                       \n",
       "18242                                           1.187500                       \n",
       "\n",
       "       home_team_build_up_play_dribbling_to_away_team_defence_team_width_ratio  \\\n",
       "0                                               0.698695                         \n",
       "1                                               0.751627                         \n",
       "2                                               0.698695                         \n",
       "3                                               0.698695                         \n",
       "4                                               0.698695                         \n",
       "...                                                  ...                         \n",
       "18238                                           0.925926                         \n",
       "18239                                           0.870370                         \n",
       "18240                                           0.647059                         \n",
       "18241                                           1.109091                         \n",
       "18242                                           1.055556                         \n",
       "\n",
       "       home_team_build_up_play_passing_to_away_team_build_up_play_dribbling_ratio  \\\n",
       "0                                               0.725699                            \n",
       "1                                               1.028073                            \n",
       "2                                               1.229656                            \n",
       "3                                               0.826490                            \n",
       "4                                               0.826490                            \n",
       "...                                                  ...                            \n",
       "18238                                           0.783333                            \n",
       "18239                                           0.816667                            \n",
       "18240                                           1.096154                            \n",
       "18241                                           0.948276                            \n",
       "18242                                           1.015625                            \n",
       "\n",
       "       ...  home_team_defence_pressure_to_away_team_defence_team_width_ratio  \\\n",
       "0      ...                                           1.000000                  \n",
       "1      ...                                           1.075758                  \n",
       "2      ...                                           0.859155                  \n",
       "3      ...                                           0.859155                  \n",
       "4      ...                                           1.000000                  \n",
       "...    ...                                                ...                  \n",
       "18238  ...                                           0.888889                  \n",
       "18239  ...                                           0.759259                  \n",
       "18240  ...                                           0.843137                  \n",
       "18241  ...                                           0.672727                  \n",
       "18242  ...                                           0.833333                  \n",
       "\n",
       "       home_team_defence_team_width_to_away_team_build_up_play_dribbling_ratio  \\\n",
       "0                                               1.431239                         \n",
       "1                                               1.431239                         \n",
       "2                                               1.229656                         \n",
       "3                                               1.431239                         \n",
       "4                                               1.330448                         \n",
       "...                                                  ...                         \n",
       "18238                                           0.950000                         \n",
       "18239                                           0.883333                         \n",
       "18240                                           1.134615                         \n",
       "18241                                           0.827586                         \n",
       "18242                                           0.796875                         \n",
       "\n",
       "       home_team_defence_team_width_to_away_team_build_up_play_passing_ratio  \\\n",
       "0                                               1.731707                       \n",
       "1                                               1.731707                       \n",
       "2                                               1.694444                       \n",
       "3                                               1.163934                       \n",
       "4                                               1.833333                       \n",
       "...                                                  ...                       \n",
       "18238                                           1.583333                       \n",
       "18239                                           1.472222                       \n",
       "18240                                           1.134615                       \n",
       "18241                                           1.263158                       \n",
       "18242                                           1.085106                       \n",
       "\n",
       "       home_team_defence_team_width_to_away_team_build_up_play_speed_ratio  \\\n",
       "0                                               1.972222                     \n",
       "1                                               1.314815                     \n",
       "2                                               1.694444                     \n",
       "3                                               1.543478                     \n",
       "4                                               1.294118                     \n",
       "...                                                  ...                     \n",
       "18238                                           0.966102                     \n",
       "18239                                           0.898305                     \n",
       "18240                                           0.921875                     \n",
       "18241                                           0.774194                     \n",
       "18242                                           0.822581                     \n",
       "\n",
       "       home_team_defence_team_width_to_away_team_chance_creation_crossing_ratio  \\\n",
       "0                                               1.392157                          \n",
       "1                                               1.267857                          \n",
       "2                                               1.487805                          \n",
       "3                                               1.543478                          \n",
       "4                                               1.294118                          \n",
       "...                                                  ...                          \n",
       "18238                                           1.540541                          \n",
       "18239                                           1.432432                          \n",
       "18240                                           1.439024                          \n",
       "18241                                           0.941176                          \n",
       "18242                                           0.761194                          \n",
       "\n",
       "       home_team_defence_team_width_to_away_team_chance_creation_shooting_ratio  \\\n",
       "0                                               1.543478                          \n",
       "1                                               1.075758                          \n",
       "2                                               1.196078                          \n",
       "3                                               1.267857                          \n",
       "4                                               1.081967                          \n",
       "...                                                  ...                          \n",
       "18238                                           0.850746                          \n",
       "18239                                           0.791045                          \n",
       "18240                                           0.880597                          \n",
       "18241                                           0.888889                          \n",
       "18242                                           0.927273                          \n",
       "\n",
       "       home_team_defence_team_width_to_away_team_chance_creationg_passing_ratio  \\\n",
       "0                                               1.543478                          \n",
       "1                                               1.267857                          \n",
       "2                                               1.326087                          \n",
       "3                                               1.731707                          \n",
       "4                                               0.929577                          \n",
       "...                                                  ...                          \n",
       "18238                                           0.876923                          \n",
       "18239                                           0.815385                          \n",
       "18240                                           1.072727                          \n",
       "18241                                           0.761905                          \n",
       "18242                                           0.761194                          \n",
       "\n",
       "       home_team_defence_team_width_to_away_team_defence_aggression_ratio  \\\n",
       "0                                               1.000000                    \n",
       "1                                               1.000000                    \n",
       "2                                               0.859155                    \n",
       "3                                               1.000000                    \n",
       "4                                               1.294118                    \n",
       "...                                                  ...                    \n",
       "18238                                           1.239130                    \n",
       "18239                                           1.152174                    \n",
       "18240                                           1.092593                    \n",
       "18241                                           1.000000                    \n",
       "18242                                           0.864407                    \n",
       "\n",
       "       home_team_defence_team_width_to_away_team_defence_pressure_ratio  \\\n",
       "0                                               1.163934                  \n",
       "1                                               1.000000                  \n",
       "2                                               0.859155                  \n",
       "3                                               1.000000                  \n",
       "4                                               0.929577                  \n",
       "...                                                  ...                  \n",
       "18238                                           1.187500                  \n",
       "18239                                           1.104167                  \n",
       "18240                                           1.204082                  \n",
       "18241                                           1.043478                  \n",
       "18242                                           1.062500                  \n",
       "\n",
       "       home_team_defence_team_width_to_away_team_defence_team_width_ratio  \n",
       "0                                               1.000000                   \n",
       "1                                               1.075758                   \n",
       "2                                               0.859155                   \n",
       "3                                               1.000000                   \n",
       "4                                               0.929577                   \n",
       "...                                                  ...                   \n",
       "18238                                           1.055556                   \n",
       "18239                                           0.981481                   \n",
       "18240                                           1.156863                   \n",
       "18241                                           0.872727                   \n",
       "18242                                           0.944444                   \n",
       "\n",
       "[18243 rows x 81 columns]"
      ]
     },
     "execution_count": 3,
     "metadata": {},
     "output_type": "execute_result"
    }
   ],
   "source": [
    "X = ratioDf[ratioDf.columns.difference(['home_team_goal_to_away_team_goal_ratio'])]\n",
    "y = ratioDf[['home_team_goal_to_away_team_goal_ratio']]\n",
    "X"
   ]
  },
  {
   "cell_type": "code",
   "execution_count": 4,
   "metadata": {},
   "outputs": [
    {
     "data": {
      "text/html": [
       "<div>\n",
       "<style scoped>\n",
       "    .dataframe tbody tr th:only-of-type {\n",
       "        vertical-align: middle;\n",
       "    }\n",
       "\n",
       "    .dataframe tbody tr th {\n",
       "        vertical-align: top;\n",
       "    }\n",
       "\n",
       "    .dataframe thead th {\n",
       "        text-align: right;\n",
       "    }\n",
       "</style>\n",
       "<table border=\"1\" class=\"dataframe\">\n",
       "  <thead>\n",
       "    <tr style=\"text-align: right;\">\n",
       "      <th></th>\n",
       "      <th>home_team_goal_to_away_team_goal_ratio</th>\n",
       "    </tr>\n",
       "  </thead>\n",
       "  <tbody>\n",
       "    <tr>\n",
       "      <th>0</th>\n",
       "      <td>1.333333</td>\n",
       "    </tr>\n",
       "    <tr>\n",
       "      <th>1</th>\n",
       "      <td>0.750000</td>\n",
       "    </tr>\n",
       "    <tr>\n",
       "      <th>2</th>\n",
       "      <td>2.000000</td>\n",
       "    </tr>\n",
       "    <tr>\n",
       "      <th>3</th>\n",
       "      <td>1.500000</td>\n",
       "    </tr>\n",
       "    <tr>\n",
       "      <th>4</th>\n",
       "      <td>0.200000</td>\n",
       "    </tr>\n",
       "    <tr>\n",
       "      <th>...</th>\n",
       "      <td>...</td>\n",
       "    </tr>\n",
       "    <tr>\n",
       "      <th>18238</th>\n",
       "      <td>1.000000</td>\n",
       "    </tr>\n",
       "    <tr>\n",
       "      <th>18239</th>\n",
       "      <td>2.000000</td>\n",
       "    </tr>\n",
       "    <tr>\n",
       "      <th>18240</th>\n",
       "      <td>0.666667</td>\n",
       "    </tr>\n",
       "    <tr>\n",
       "      <th>18241</th>\n",
       "      <td>3.000000</td>\n",
       "    </tr>\n",
       "    <tr>\n",
       "      <th>18242</th>\n",
       "      <td>1.250000</td>\n",
       "    </tr>\n",
       "  </tbody>\n",
       "</table>\n",
       "<p>18243 rows × 1 columns</p>\n",
       "</div>"
      ],
      "text/plain": [
       "       home_team_goal_to_away_team_goal_ratio\n",
       "0                                    1.333333\n",
       "1                                    0.750000\n",
       "2                                    2.000000\n",
       "3                                    1.500000\n",
       "4                                    0.200000\n",
       "...                                       ...\n",
       "18238                                1.000000\n",
       "18239                                2.000000\n",
       "18240                                0.666667\n",
       "18241                                3.000000\n",
       "18242                                1.250000\n",
       "\n",
       "[18243 rows x 1 columns]"
      ]
     },
     "execution_count": 4,
     "metadata": {},
     "output_type": "execute_result"
    }
   ],
   "source": [
    "y"
   ]
  },
  {
   "cell_type": "code",
   "execution_count": 5,
   "metadata": {},
   "outputs": [],
   "source": [
    "train_X, val_X, train_y, val_y = train_test_split(X, y, random_state = 0)\n",
    "# Define model\n",
    "#decision_tree = DecisionTreeRegressor()\n",
    "# Fit model\n",
    "#decision_tree.fit(train_X, train_y)"
   ]
  },
  {
   "cell_type": "code",
   "execution_count": 7,
   "metadata": {},
   "outputs": [
    {
     "name": "stdout",
     "output_type": "stream",
     "text": [
      "1.1744880042002384\n"
     ]
    }
   ],
   "source": [
    "# get predicted prices on validation data\n",
    "val_predictions = decision_tree.predict(val_X)\n",
    "print(mean_absolute_error(val_y, val_predictions))\n",
    "#MAE of 1.1744880042002384"
   ]
  },
  {
   "cell_type": "code",
   "execution_count": 8,
   "metadata": {},
   "outputs": [
    {
     "name": "stderr",
     "output_type": "stream",
     "text": [
      "<ipython-input-8-2b229f6f45d0>:2: DataConversionWarning: A column-vector y was passed when a 1d array was expected. Please change the shape of y to (n_samples,), for example using ravel().\n",
      "  forest_model.fit(train_X, train_y)\n"
     ]
    },
    {
     "name": "stdout",
     "output_type": "stream",
     "text": [
      "0.9210903005750616\n"
     ]
    }
   ],
   "source": [
    "forest_model = RandomForestRegressor(random_state=1)\n",
    "forest_model.fit(train_X, train_y)\n",
    "prediction = forest_model.predict(val_X)\n",
    "print(mean_absolute_error(val_y, prediction))\n",
    "#MAE of 0.9210903005750616\n",
    "#FINALLY BELOW 1 :D"
   ]
  },
  {
   "cell_type": "code",
   "execution_count": 10,
   "metadata": {},
   "outputs": [
    {
     "name": "stdout",
     "output_type": "stream",
     "text": [
      "0.8201117971202221\n"
     ]
    }
   ],
   "source": [
    "XG_model = XGBRegressor(n_estimators= 3)\n",
    "XG_model.fit(train_X, train_y, \n",
    "             early_stopping_rounds=5, \n",
    "             eval_set=[(val_X, val_y)],\n",
    "             verbose=False)\n",
    "predictions = XG_model.predict(val_X)\n",
    "MAE = mean_absolute_error(val_y, predictions)\n",
    "print(MAE)"
   ]
  },
  {
   "cell_type": "code",
   "execution_count": 13,
   "metadata": {},
   "outputs": [
    {
     "name": "stdout",
     "output_type": "stream",
     "text": [
      "1.0064765940125453\n"
     ]
    }
   ],
   "source": [
    "win_lossDf = ratioDf[ratioDf['home_team_goal_to_away_team_goal_ratio']!= 1]\n",
    "X = win_lossDf[win_lossDf.columns.difference(['home_team_goal_to_away_team_goal_ratio'])]\n",
    "y = win_lossDf[['home_team_goal_to_away_team_goal_ratio']]\n",
    "train_X, val_X, train_y, val_y = train_test_split(X, y, random_state = 0)\n",
    "XG_model = XGBRegressor(n_estimators= 6)\n",
    "XG_model.fit(train_X, train_y, \n",
    "             early_stopping_rounds=5, \n",
    "             eval_set=[(val_X, val_y)],\n",
    "             verbose=False)\n",
    "predictions = XG_model.predict(val_X)\n",
    "MAE = mean_absolute_error(val_y, predictions)\n",
    "print(MAE)"
   ]
  },
  {
   "cell_type": "code",
   "execution_count": 32,
   "metadata": {},
   "outputs": [
    {
     "name": "stdout",
     "output_type": "stream",
     "text": [
      "[-1.  1.  1. ...  1.  1.  1.]\n",
      "9733    -1.0\n",
      "194      1.0\n",
      "1479     1.0\n",
      "15601    1.0\n",
      "615     -1.0\n",
      "        ... \n",
      "9465     1.0\n",
      "9282    -1.0\n",
      "5285    -1.0\n",
      "13851    1.0\n",
      "8606    -1.0\n",
      "Name: home_team_goal_to_away_team_goal_ratio, Length: 3404, dtype: float64\n"
     ]
    }
   ],
   "source": [
    "ultimate_predictions = np.sign(np.log(predictions))\n",
    "answer = np.sign(np.log(val_y['home_team_goal_to_away_team_goal_ratio']))\n",
    "print(ultimate_predictions)\n",
    "print(answer)"
   ]
  },
  {
   "cell_type": "code",
   "execution_count": 33,
   "metadata": {},
   "outputs": [
    {
     "name": "stdout",
     "output_type": "stream",
     "text": [
      "2146\n",
      "3404\n",
      "0.6304347826086957\n"
     ]
    }
   ],
   "source": [
    "correct = np.sum(ultimate_predictions == answer)\n",
    "total = len(ultimate_predictions)\n",
    "print(correct)\n",
    "print(total)\n",
    "print(correct/total)"
   ]
  },
  {
   "cell_type": "code",
   "execution_count": 14,
   "metadata": {},
   "outputs": [
    {
     "name": "stdout",
     "output_type": "stream",
     "text": [
      "10211 3404\n",
      "10211 3404\n",
      "[[-1.]\n",
      " [ 1.]\n",
      " [ 1.]\n",
      " ...\n",
      " [ 1.]\n",
      " [ 1.]\n",
      " [-1.]]\n"
     ]
    }
   ],
   "source": [
    "train_class_y = np.sign(np.log(train_y)).to_numpy()  \n",
    "val_class_y = np.sign(np.log(val_y)).to_numpy()  \n",
    "print(len(train_class_y), len(val_class_y))\n",
    "print(len(train_X), len(val_X))\n",
    "print(train_class_y)"
   ]
  },
  {
   "cell_type": "code",
   "execution_count": 15,
   "metadata": {},
   "outputs": [
    {
     "name": "stdout",
     "output_type": "stream",
     "text": [
      "\r",
      "  0%|                                                                          | 0/100 [00:00<?, ?trial/s, best loss=?]"
     ]
    },
    {
     "name": "stderr",
     "output_type": "stream",
     "text": [
      "C:\\Users\\hhong\\AppData\\Local\\Packages\\PythonSoftwareFoundation.Python.3.8_qbz5n2kfra8p0\\LocalCache\\local-packages\\Python38\\site-packages\\xgboost\\sklearn.py:888: UserWarning: The use of label encoder in XGBClassifier is deprecated and will be removed in a future release. To remove this warning, do the following: 1) Pass option use_label_encoder=False when constructing XGBClassifier object; and 2) Encode your labels (y) as integers starting with 0, i.e. 0, 1, 2, ..., [num_class - 1].\n",
      "  warnings.warn(label_encoder_deprecation_msg, UserWarning)\n",
      "\n",
      "C:\\Users\\hhong\\AppData\\Local\\Packages\\PythonSoftwareFoundation.Python.3.8_qbz5n2kfra8p0\\LocalCache\\local-packages\\Python38\\site-packages\\sklearn\\utils\\validation.py:72: DataConversionWarning: A column-vector y was passed when a 1d array was expected. Please change the shape of y to (n_samples, ), for example using ravel().\n",
      "  return f(**kwargs)\n",
      "\n"
     ]
    },
    {
     "name": "stdout",
     "output_type": "stream",
     "text": [
      "SCORE:                                                                                                                 \n",
      "0.6263219741480611                                                                                                     \n",
      "SCORE:                                                                                                                 \n",
      "0.6263219741480611                                                                                                     \n",
      "SCORE:                                                                                                                 \n",
      "0.6263219741480611                                                                                                     \n",
      "SCORE:                                                                                                                 \n",
      "0.6263219741480611                                                                                                     \n",
      "SCORE:                                                                                                                 \n",
      "0.6263219741480611                                                                                                     \n",
      "SCORE:                                                                                                                 \n",
      "0.6263219741480611                                                                                                     \n",
      "SCORE:                                                                                                                 \n",
      "0.6263219741480611                                                                                                     \n",
      "SCORE:                                                                                                                 \n",
      "0.6263219741480611                                                                                                     \n",
      "SCORE:                                                                                                                 \n",
      "0.6263219741480611                                                                                                     \n",
      "SCORE:                                                                                                                 \n",
      "0.6263219741480611                                                                                                     \n",
      "SCORE:                                                                                                                 \n",
      "0.6263219741480611                                                                                                     \n",
      "SCORE:                                                                                                                 \n",
      "0.6263219741480611                                                                                                     \n",
      "SCORE:                                                                                                                 \n",
      "0.6263219741480611                                                                                                     \n",
      "SCORE:                                                                                                                 \n",
      "0.6263219741480611                                                                                                     \n",
      "SCORE:                                                                                                                 \n",
      "0.6263219741480611                                                                                                     \n",
      "SCORE:                                                                                                                 \n",
      "0.6263219741480611                                                                                                     \n",
      "SCORE:                                                                                                                 \n",
      "0.6263219741480611                                                                                                     \n",
      "SCORE:                                                                                                                 \n",
      "0.6263219741480611                                                                                                     \n",
      "SCORE:                                                                                                                 \n",
      "0.6263219741480611                                                                                                     \n",
      "SCORE:                                                                                                                 \n",
      "0.6263219741480611                                                                                                     \n",
      "SCORE:                                                                                                                 \n",
      "0.6263219741480611                                                                                                     \n",
      "SCORE:                                                                                                                 \n",
      "0.6263219741480611                                                                                                     \n",
      "SCORE:                                                                                                                 \n",
      "0.6263219741480611                                                                                                     \n",
      "SCORE:                                                                                                                 \n",
      "0.6263219741480611                                                                                                     \n",
      "SCORE:                                                                                                                 \n",
      "0.6263219741480611                                                                                                     \n",
      "SCORE:                                                                                                                 \n",
      "0.6263219741480611                                                                                                     \n",
      "SCORE:                                                                                                                 \n",
      "0.6263219741480611                                                                                                     \n",
      "SCORE:                                                                                                                 \n",
      "0.6263219741480611                                                                                                     \n",
      "SCORE:                                                                                                                 \n",
      "0.6263219741480611                                                                                                     \n",
      "SCORE:                                                                                                                 \n",
      "0.6263219741480611                                                                                                     \n",
      "SCORE:                                                                                                                 \n",
      "0.6263219741480611                                                                                                     \n",
      "SCORE:                                                                                                                 \n",
      "0.6263219741480611                                                                                                     \n",
      "SCORE:                                                                                                                 \n",
      "0.6263219741480611                                                                                                     \n",
      "SCORE:                                                                                                                 \n",
      "0.6263219741480611                                                                                                     \n"
     ]
    },
    {
     "name": "stdout",
     "output_type": "stream",
     "text": [
      "SCORE:                                                                                                                 \n",
      "0.6263219741480611                                                                                                     \n",
      "SCORE:                                                                                                                 \n",
      "0.6263219741480611                                                                                                     \n",
      "SCORE:                                                                                                                 \n",
      "0.6263219741480611                                                                                                     \n",
      "SCORE:                                                                                                                 \n",
      "0.6263219741480611                                                                                                     \n",
      "SCORE:                                                                                                                 \n",
      "0.6263219741480611                                                                                                     \n",
      "SCORE:                                                                                                                 \n",
      "0.6263219741480611                                                                                                     \n",
      "SCORE:                                                                                                                 \n",
      "0.6263219741480611                                                                                                     \n",
      "SCORE:                                                                                                                 \n",
      "0.6263219741480611                                                                                                     \n",
      "SCORE:                                                                                                                 \n",
      "0.6263219741480611                                                                                                     \n",
      "SCORE:                                                                                                                 \n",
      "0.6263219741480611                                                                                                     \n",
      "SCORE:                                                                                                                 \n",
      "0.6263219741480611                                                                                                     \n",
      "SCORE:                                                                                                                 \n",
      "0.6263219741480611                                                                                                     \n",
      "SCORE:                                                                                                                 \n",
      "0.6263219741480611                                                                                                     \n",
      "SCORE:                                                                                                                 \n",
      "0.6263219741480611                                                                                                     \n",
      "SCORE:                                                                                                                 \n",
      "0.6263219741480611                                                                                                     \n",
      "SCORE:                                                                                                                 \n",
      "0.6263219741480611                                                                                                     \n",
      "SCORE:                                                                                                                 \n",
      "0.6263219741480611                                                                                                     \n",
      "SCORE:                                                                                                                 \n",
      "0.6263219741480611                                                                                                     \n",
      "SCORE:                                                                                                                 \n",
      "0.6263219741480611                                                                                                     \n",
      "SCORE:                                                                                                                 \n",
      "0.6263219741480611                                                                                                     \n",
      "SCORE:                                                                                                                 \n",
      "0.6263219741480611                                                                                                     \n",
      "SCORE:                                                                                                                 \n",
      "0.6263219741480611                                                                                                     \n",
      "SCORE:                                                                                                                 \n",
      "0.6263219741480611                                                                                                     \n",
      "SCORE:                                                                                                                 \n",
      "0.6263219741480611                                                                                                     \n",
      "SCORE:                                                                                                                 \n",
      "0.6263219741480611                                                                                                     \n",
      "SCORE:                                                                                                                 \n",
      "0.6263219741480611                                                                                                     \n",
      "SCORE:                                                                                                                 \n",
      "0.6263219741480611                                                                                                     \n",
      "SCORE:                                                                                                                 \n",
      "0.6263219741480611                                                                                                     \n",
      "SCORE:                                                                                                                 \n",
      "0.6263219741480611                                                                                                     \n",
      "SCORE:                                                                                                                 \n",
      "0.6263219741480611                                                                                                     \n",
      "SCORE:                                                                                                                 \n",
      "0.6263219741480611                                                                                                     \n",
      "SCORE:                                                                                                                 \n",
      "0.6263219741480611                                                                                                     \n",
      "SCORE:                                                                                                                 \n",
      "0.6263219741480611                                                                                                     \n",
      "SCORE:                                                                                                                 \n",
      "0.6263219741480611                                                                                                     \n"
     ]
    },
    {
     "name": "stdout",
     "output_type": "stream",
     "text": [
      "SCORE:                                                                                                                 \n",
      "0.6263219741480611                                                                                                     \n",
      "SCORE:                                                                                                                 \n",
      "0.6263219741480611                                                                                                     \n",
      "SCORE:                                                                                                                 \n",
      "0.6263219741480611                                                                                                     \n",
      "SCORE:                                                                                                                 \n",
      "0.6263219741480611                                                                                                     \n",
      "SCORE:                                                                                                                 \n",
      "0.6263219741480611                                                                                                     \n",
      "SCORE:                                                                                                                 \n",
      "0.6263219741480611                                                                                                     \n",
      "SCORE:                                                                                                                 \n",
      "0.6263219741480611                                                                                                     \n",
      "SCORE:                                                                                                                 \n",
      "0.6263219741480611                                                                                                     \n",
      "SCORE:                                                                                                                 \n",
      "0.6263219741480611                                                                                                     \n",
      "SCORE:                                                                                                                 \n",
      "0.6263219741480611                                                                                                     \n",
      "SCORE:                                                                                                                 \n",
      "0.6263219741480611                                                                                                     \n",
      "SCORE:                                                                                                                 \n",
      "0.6263219741480611                                                                                                     \n",
      "SCORE:                                                                                                                 \n",
      "0.6263219741480611                                                                                                     \n",
      "SCORE:                                                                                                                 \n",
      "0.6263219741480611                                                                                                     \n",
      "SCORE:                                                                                                                 \n",
      "0.6263219741480611                                                                                                     \n",
      "SCORE:                                                                                                                 \n",
      "0.6263219741480611                                                                                                     \n",
      "SCORE:                                                                                                                 \n",
      "0.6263219741480611                                                                                                     \n",
      "SCORE:                                                                                                                 \n",
      "0.6263219741480611                                                                                                     \n",
      "SCORE:                                                                                                                 \n",
      "0.6263219741480611                                                                                                     \n",
      "SCORE:                                                                                                                 \n",
      "0.6263219741480611                                                                                                     \n",
      "SCORE:                                                                                                                 \n",
      "0.6263219741480611                                                                                                     \n",
      "SCORE:                                                                                                                 \n",
      "0.6263219741480611                                                                                                     \n",
      "SCORE:                                                                                                                 \n",
      "0.6260282021151586                                                                                                     \n",
      "SCORE:                                                                                                                 \n",
      "0.6263219741480611                                                                                                     \n",
      "SCORE:                                                                                                                 \n",
      "0.6263219741480611                                                                                                     \n",
      "SCORE:                                                                                                                 \n",
      "0.6263219741480611                                                                                                     \n",
      "SCORE:                                                                                                                 \n",
      "0.6263219741480611                                                                                                     \n",
      "SCORE:                                                                                                                 \n",
      "0.6263219741480611                                                                                                     \n",
      "SCORE:                                                                                                                 \n",
      "0.6263219741480611                                                                                                     \n",
      "SCORE:                                                                                                                 \n",
      "0.6263219741480611                                                                                                     \n",
      "SCORE:                                                                                                                 \n",
      "0.6263219741480611                                                                                                     \n",
      "SCORE:                                                                                                                 \n",
      "0.6263219741480611                                                                                                     \n",
      "100%|█████████████████████████████████████████████| 100/100 [00:38<00:00,  2.60trial/s, best loss: -0.6263219741480611]\n"
     ]
    }
   ],
   "source": [
    "space={'max_depth': hp.quniform(\"max_depth\", 3, 18, 1),\n",
    "        'gamma': hp.uniform ('gamma', 1,9),\n",
    "        'reg_alpha' : hp.quniform('reg_alpha', 40, 180,1),\n",
    "        'reg_lambda' : hp.uniform('reg_lambda', 0,1),\n",
    "        'colsample_bytree' : hp.uniform('colsample_bytree', 0.5,1),\n",
    "        'min_child_weight' : hp.quniform('min_child_weight', 0, 10, 1),\n",
    "        'n_estimators': 180,\n",
    "        'seed': 0\n",
    "    }\n",
    "\n",
    "def objective(space):\n",
    "    clf=XGBClassifier(\n",
    "                    n_estimators =space['n_estimators'], max_depth = int(space['max_depth']), gamma = space['gamma'],\n",
    "                    reg_alpha = int(space['reg_alpha']),min_child_weight=int(space['min_child_weight']),\n",
    "                    colsample_bytree=int(space['colsample_bytree']))\n",
    "    \n",
    "    evaluation = [( train_X, train_class_y + 1 ), (val_X, val_class_y + 1 )]\n",
    "    \n",
    "    clf.fit(train_X, train_class_y + 1  ,\n",
    "            eval_set=evaluation, eval_metric=\"auc\",\n",
    "            early_stopping_rounds=10,verbose=False)\n",
    "    \n",
    "\n",
    "    pred = clf.predict(val_X)\n",
    "    accuracy = accuracy_score(val_class_y + 1 , pred)\n",
    "    print (\"SCORE:\", accuracy)\n",
    "    return {'loss': -accuracy, 'status': STATUS_OK }\n",
    "\n",
    "trials = Trials()\n",
    "\n",
    "best_hyperparams = fmin(fn = objective,\n",
    "                        space = space,\n",
    "                        algo = tpe.suggest,\n",
    "                        max_evals = 100,\n",
    "                        trials = trials)\n"
   ]
  },
  {
   "cell_type": "code",
   "execution_count": 16,
   "metadata": {},
   "outputs": [
    {
     "name": "stdout",
     "output_type": "stream",
     "text": [
      "The best hyperparameters are :  \n",
      "\n",
      "{'colsample_bytree': 0.6324392871808494, 'gamma': 6.887233371560449, 'max_depth': 5.0, 'min_child_weight': 6.0, 'reg_alpha': 59.0, 'reg_lambda': 0.8803752081639911}\n"
     ]
    }
   ],
   "source": [
    "print(\"The best hyperparameters are : \",\"\\n\")\n",
    "print(best_hyperparams)"
   ]
  },
  {
   "cell_type": "code",
   "execution_count": 19,
   "metadata": {},
   "outputs": [
    {
     "name": "stdout",
     "output_type": "stream",
     "text": [
      "SCORE: 0.6263219741480611\n"
     ]
    }
   ],
   "source": [
    "space = best_hyperparams\n",
    "clf=XGBClassifier(\n",
    "                    n_estimators =180, max_depth = int(space['max_depth']), gamma = space['gamma'],\n",
    "                    reg_alpha = int(space['reg_alpha']),min_child_weight=int(space['min_child_weight']),\n",
    "                    colsample_bytree=int(space['colsample_bytree']))\n",
    "evaluation = [( train_X, train_class_y + 1), (val_X, val_class_y + 1)]\n",
    "clf.fit(train_X, train_class_y + 1,\n",
    "            eval_set=evaluation, eval_metric=\"auc\",\n",
    "            early_stopping_rounds=10,verbose=False)\n",
    "\n",
    "pred = clf.predict(val_X)\n",
    "accuracy = accuracy_score(val_class_y + 1, pred)\n",
    "print (\"SCORE:\", accuracy)\n"
   ]
  },
  {
   "cell_type": "code",
   "execution_count": 27,
   "metadata": {},
   "outputs": [],
   "source": [
    "train_class_y = np.sign(np.log(train_y))\n",
    "val_class_y = np.sign(np.log(val_y))"
   ]
  },
  {
   "cell_type": "code",
   "execution_count": 11,
   "metadata": {},
   "outputs": [
    {
     "name": "stdout",
     "output_type": "stream",
     "text": [
      "[1. 1. 1. ... 1. 1. 1.]\n",
      "2838     0.0\n",
      "1854    -1.0\n",
      "4166    -1.0\n",
      "13260   -1.0\n",
      "5659     1.0\n",
      "        ... \n",
      "16227    1.0\n",
      "12743    1.0\n",
      "15429    1.0\n",
      "3291    -1.0\n",
      "313     -1.0\n",
      "Name: home_team_goal_to_away_team_goal_ratio, Length: 4561, dtype: float64\n"
     ]
    }
   ],
   "source": [
    "ultimate_predictions = np.sign(np.log(predictions))\n",
    "answer = np.sign(np.log(val_y['home_team_goal_to_away_team_goal_ratio']))\n",
    "print(ultimate_predictions)\n",
    "print(answer)"
   ]
  },
  {
   "cell_type": "code",
   "execution_count": 15,
   "metadata": {},
   "outputs": [],
   "source": [
    "correct = np.sum(ultimate_predictions == answer)\n",
    "total = len(ultimate_predictions)"
   ]
  },
  {
   "cell_type": "code",
   "execution_count": 16,
   "metadata": {},
   "outputs": [
    {
     "name": "stdout",
     "output_type": "stream",
     "text": [
      "2132\n",
      "4561\n",
      "0.46744135058101294\n"
     ]
    }
   ],
   "source": [
    "print(correct)\n",
    "print(total)\n",
    "print(correct/total)"
   ]
  },
  {
   "cell_type": "code",
   "execution_count": 8,
   "metadata": {},
   "outputs": [
    {
     "name": "stdout",
     "output_type": "stream",
     "text": [
      "1 0.8988448052918955\n",
      "2 0.828059705735997\n",
      "3 0.8201117971202221\n",
      "4 0.8265075607525294\n",
      "5 0.8364662003203178\n",
      "6 0.8443963268262343\n",
      "7 0.850325498432269\n",
      "8 0.8555635208030091\n",
      "9 0.8599685561181803\n",
      "10 0.8626865759939615\n",
      "11 0.8626865759939615\n",
      "12 0.8626865759939615\n",
      "13 0.8626865759939615\n",
      "14 0.8626865759939615\n",
      "15 0.8626865759939615\n",
      "16 0.8626865759939615\n",
      "17 0.8626865759939615\n",
      "18 0.8626865759939615\n",
      "19 0.8626865759939615\n",
      "20 0.8626865759939615\n",
      "21 0.8626865759939615\n",
      "22 0.8626865759939615\n",
      "23 0.8626865759939615\n",
      "24 0.8626865759939615\n",
      "25 0.8626865759939615\n",
      "26 0.8626865759939615\n",
      "27 0.8626865759939615\n",
      "28 0.8626865759939615\n",
      "29 0.8626865759939615\n",
      "30 0.8626865759939615\n",
      "31 0.8626865759939615\n",
      "32 0.8626865759939615\n",
      "33 0.8626865759939615\n",
      "34 0.8626865759939615\n",
      "35 0.8626865759939615\n",
      "36 0.8626865759939615\n",
      "37 0.8626865759939615\n",
      "38 0.8626865759939615\n",
      "39 0.8626865759939615\n",
      "40 0.8626865759939615\n",
      "41 0.8626865759939615\n",
      "42 0.8626865759939615\n",
      "43 0.8626865759939615\n",
      "44 0.8626865759939615\n",
      "45 0.8626865759939615\n",
      "46 0.8626865759939615\n",
      "47 0.8626865759939615\n",
      "48 0.8626865759939615\n",
      "49 0.8626865759939615\n",
      "50 0.8626865759939615\n",
      "51 0.8626865759939615\n",
      "52 0.8626865759939615\n",
      "53 0.8626865759939615\n",
      "54 0.8626865759939615\n",
      "55 0.8626865759939615\n",
      "56 0.8626865759939615\n",
      "57 0.8626865759939615\n",
      "58 0.8626865759939615\n",
      "59 0.8626865759939615\n",
      "60 0.8626865759939615\n",
      "61 0.8626865759939615\n",
      "62 0.8626865759939615\n",
      "63 0.8626865759939615\n",
      "64 0.8626865759939615\n",
      "65 0.8626865759939615\n",
      "66 0.8626865759939615\n",
      "67 0.8626865759939615\n",
      "68 0.8626865759939615\n",
      "69 0.8626865759939615\n",
      "70 0.8626865759939615\n",
      "71 0.8626865759939615\n",
      "72 0.8626865759939615\n",
      "73 0.8626865759939615\n",
      "74 0.8626865759939615\n",
      "75 0.8626865759939615\n",
      "76 0.8626865759939615\n",
      "77 0.8626865759939615\n",
      "78 0.8626865759939615\n",
      "79 0.8626865759939615\n",
      "80 0.8626865759939615\n",
      "81 0.8626865759939615\n",
      "82 0.8626865759939615\n",
      "83 0.8626865759939615\n",
      "84 0.8626865759939615\n",
      "85 0.8626865759939615\n",
      "86 0.8626865759939615\n",
      "87 0.8626865759939615\n",
      "88 0.8626865759939615\n",
      "89 0.8626865759939615\n",
      "90 0.8626865759939615\n",
      "91 0.8626865759939615\n",
      "92 0.8626865759939615\n",
      "93 0.8626865759939615\n",
      "94 0.8626865759939615\n",
      "95 0.8626865759939615\n",
      "96 0.8626865759939615\n",
      "97 0.8626865759939615\n",
      "98 0.8626865759939615\n",
      "99 0.8626865759939615\n",
      "3\n",
      "0.8201117971202221\n"
     ]
    }
   ],
   "source": [
    "minimum = 1000\n",
    "bestIndex = -1\n",
    "#you can't have 0 as n_estimator\n",
    "for ii in range(1, 100):\n",
    "    XG_model = XGBRegressor(n_estimators= ii)\n",
    "    XG_model.fit(train_X, train_y, \n",
    "                 early_stopping_rounds=5, \n",
    "                 eval_set=[(val_X, val_y)],\n",
    "                 verbose=False)\n",
    "    predictions = XG_model.predict(val_X)\n",
    "    MAE = mean_absolute_error(val_y, predictions)\n",
    "    if MAE < minimum:\n",
    "        minimum = MAE\n",
    "        bestIndex = ii\n",
    "    print(ii, MAE)\n",
    "\n",
    "print(bestIndex)\n",
    "print(minimum)"
   ]
  },
  {
   "cell_type": "code",
   "execution_count": 47,
   "metadata": {},
   "outputs": [
    {
     "name": "stdout",
     "output_type": "stream",
     "text": [
      "[23:34:50] WARNING: C:/Users/Administrator/workspace/xgboost-win64_release_1.3.0/src/learner.cc:541: \n",
      "Parameters: { n_estimator } might not be used.\n",
      "\n",
      "  This may not be accurate due to some parameters are only used in language bindings but\n",
      "  passed down to XGBoost core.  Or some parameters are not used but slip through this\n",
      "  verification. Please open an issue if you find above cases.\n",
      "\n",
      "\n"
     ]
    }
   ],
   "source": [
    "XG_model = XGBRegressor(n_estimator = 3)\n",
    "XG_model.fit(train_X, train_y, \n",
    "                 early_stopping_rounds=5, \n",
    "                 eval_set=[(val_X, val_y)],\n",
    "                 verbose=False)\n",
    "predictions = XG_model.predict(val_X)"
   ]
  },
  {
   "cell_type": "code",
   "execution_count": 6,
   "metadata": {},
   "outputs": [
    {
     "name": "stdout",
     "output_type": "stream",
     "text": [
      "[1.5200262 1.5705578 2.27411   ... 1.3190311 1.510308  2.027149 ]\n"
     ]
    }
   ],
   "source": [
    "print(predictions)"
   ]
  },
  {
   "cell_type": "code",
   "execution_count": 7,
   "metadata": {},
   "outputs": [
    {
     "name": "stdout",
     "output_type": "stream",
     "text": [
      "0.8626865759939615\n"
     ]
    }
   ],
   "source": [
    "print(mean_absolute_error(predictions, val_y))"
   ]
  },
  {
   "cell_type": "code",
   "execution_count": 16,
   "metadata": {},
   "outputs": [
    {
     "name": "stdout",
     "output_type": "stream",
     "text": [
      "[1. 1. 1. ... 1. 1. 1.]\n",
      "2838     0.0\n",
      "1854    -1.0\n",
      "4166    -1.0\n",
      "13260   -1.0\n",
      "5659     1.0\n",
      "        ... \n",
      "16227    1.0\n",
      "12743    1.0\n",
      "15429    1.0\n",
      "3291    -1.0\n",
      "313     -1.0\n",
      "Name: home_team_goal_to_away_team_goal_ratio, Length: 4561, dtype: float64\n"
     ]
    }
   ],
   "source": [
    "ultimate_predictions = np.sign(np.log(predictions))\n",
    "answer = np.sign(np.log(val_y['home_team_goal_to_away_team_goal_ratio']))\n",
    "print(ultimate_predictions)\n",
    "print(answer)"
   ]
  },
  {
   "cell_type": "code",
   "execution_count": 17,
   "metadata": {},
   "outputs": [],
   "source": [
    "correct = np.sum(ultimate_predictions == answer)\n",
    "total = len(ultimate_predictions)"
   ]
  },
  {
   "cell_type": "code",
   "execution_count": 18,
   "metadata": {},
   "outputs": [
    {
     "name": "stdout",
     "output_type": "stream",
     "text": [
      "2118\n"
     ]
    }
   ],
   "source": [
    "print(correct)"
   ]
  },
  {
   "cell_type": "code",
   "execution_count": 19,
   "metadata": {},
   "outputs": [
    {
     "name": "stdout",
     "output_type": "stream",
     "text": [
      "0.4643718482788862\n"
     ]
    }
   ],
   "source": [
    "print(correct/total)"
   ]
  },
  {
   "cell_type": "code",
   "execution_count": 93,
   "metadata": {},
   "outputs": [
    {
     "name": "stdout",
     "output_type": "stream",
     "text": [
      "1\n",
      "2\n",
      "3\n",
      "4\n",
      "5\n",
      "6\n",
      "7\n",
      "8\n",
      "9\n",
      "10\n",
      "11\n",
      "12\n",
      "13\n",
      "14\n",
      "15\n",
      "16\n",
      "17\n",
      "18\n",
      "19\n",
      "20\n",
      "21\n",
      "22\n",
      "23\n",
      "24\n",
      "25\n",
      "26\n",
      "27\n",
      "28\n",
      "29\n",
      "30\n",
      "31\n",
      "32\n",
      "33\n",
      "34\n",
      "35\n",
      "36\n",
      "37\n",
      "38\n",
      "39\n",
      "40\n",
      "41\n",
      "42\n",
      "43\n",
      "44\n",
      "45\n",
      "46\n",
      "47\n",
      "48\n",
      "49\n",
      "50\n",
      "51\n",
      "52\n",
      "53\n",
      "54\n",
      "55\n",
      "56\n",
      "57\n",
      "58\n",
      "59\n",
      "60\n",
      "61\n",
      "62\n",
      "63\n",
      "64\n",
      "65\n",
      "66\n",
      "67\n",
      "68\n",
      "69\n",
      "70\n",
      "71\n",
      "72\n",
      "73\n",
      "74\n",
      "75\n",
      "76\n",
      "77\n",
      "78\n",
      "79\n",
      "80\n",
      "81\n",
      "82\n",
      "83\n",
      "84\n",
      "85\n",
      "86\n",
      "87\n",
      "88\n",
      "89\n",
      "90\n",
      "91\n",
      "92\n",
      "93\n",
      "94\n",
      "95\n",
      "96\n",
      "97\n",
      "98\n",
      "99\n",
      "4\n",
      "0.8139627553133364\n"
     ]
    }
   ],
   "source": [
    "minimum = 1000\n",
    "bestIndex = -1\n",
    "#you can't have 0 as n_estimator\n",
    "for ii in range(1, 100):\n",
    "    print(ii)\n",
    "    XG_model = XGBRegressor(n_estimators= ii)\n",
    "    XG_model.fit(train_X, train_y, \n",
    "                 early_stopping_rounds=5, \n",
    "                 eval_set=[(val_X, val_y)],\n",
    "                 verbose=False)\n",
    "    predictions = np.rint(XG_model.predict(val_X))\n",
    "    MAE = mean_absolute_error(val_y, predictions)\n",
    "    if MAE < minimum:\n",
    "        minimum = MAE\n",
    "        bestIndex = ii\n",
    "\n",
    "print(bestIndex)\n",
    "print(minimum)"
   ]
  },
  {
   "cell_type": "code",
   "execution_count": 20,
   "metadata": {},
   "outputs": [],
   "source": [
    "cheat_predictions = np.sign(np.log(XG_model.predict(train_X)))\n",
    "real_answer = np.sign(np.log(train_y['home_team_goal_to_away_team_goal_ratio']))\n",
    "cheat_correct = np.sum(cheat_predictions == real_answer)\n",
    "cheat_total = len(cheat_predictions)"
   ]
  },
  {
   "cell_type": "code",
   "execution_count": 21,
   "metadata": {},
   "outputs": [
    {
     "name": "stdout",
     "output_type": "stream",
     "text": [
      "6436\n",
      "13682\n"
     ]
    }
   ],
   "source": [
    "print(cheat_correct)\n",
    "print(cheat_total)"
   ]
  },
  {
   "cell_type": "code",
   "execution_count": 22,
   "metadata": {},
   "outputs": [
    {
     "name": "stdout",
     "output_type": "stream",
     "text": [
      "0.4703990644642596\n"
     ]
    }
   ],
   "source": [
    "print(cheat_correct/cheat_total)"
   ]
  },
  {
   "cell_type": "code",
   "execution_count": 23,
   "metadata": {},
   "outputs": [],
   "source": [
    "def encode(num):\n",
    "    if num == 1:\n",
    "        return np.array([1, 0, 0])\n",
    "    if num == 0:\n",
    "        return np.array([0, 1, 0])\n",
    "    if num == -1:\n",
    "        return np.array([0, 0, 1])"
   ]
  },
  {
   "cell_type": "code",
   "execution_count": 27,
   "metadata": {},
   "outputs": [],
   "source": [
    "encoded_answer = []\n",
    "for elem in answer:\n",
    "    encoded_answer.append(encode(elem))\n",
    "encoded_answer = np.array(encoded_answer)\n",
    "# Output : ar"
   ]
  },
  {
   "cell_type": "code",
   "execution_count": 28,
   "metadata": {},
   "outputs": [],
   "source": [
    "encoded_real_answer = []\n",
    "for elem in real_answer:\n",
    "    encoded_real_answer.append(encode(elem))\n",
    "encoded_real_answer = np.array(encoded_real_answer)"
   ]
  },
  {
   "cell_type": "code",
   "execution_count": 75,
   "metadata": {},
   "outputs": [],
   "source": [
    "clf = MLPClassifier(solver='adam', alpha=1e-5, hidden_layer_sizes=(18, 16, 8, 3), random_state=1)"
   ]
  },
  {
   "cell_type": "code",
   "execution_count": 76,
   "metadata": {},
   "outputs": [
    {
     "data": {
      "text/plain": [
       "MLPClassifier(alpha=1e-05, hidden_layer_sizes=(18, 16, 8, 3), random_state=1)"
      ]
     },
     "execution_count": 76,
     "metadata": {},
     "output_type": "execute_result"
    }
   ],
   "source": [
    "clf.fit(train_X, encoded_real_answer)"
   ]
  },
  {
   "cell_type": "code",
   "execution_count": 77,
   "metadata": {},
   "outputs": [],
   "source": [
    "guesses = clf.predict_proba(val_X)"
   ]
  },
  {
   "cell_type": "code",
   "execution_count": 78,
   "metadata": {},
   "outputs": [
    {
     "name": "stdout",
     "output_type": "stream",
     "text": [
      "[1 1 1 ... 1 0 1]\n"
     ]
    }
   ],
   "source": [
    "def translate(num):\n",
    "    if num == 0:\n",
    "        return 1\n",
    "    if num == 1:\n",
    "        return 0\n",
    "    if num == 2:\n",
    "        return -1\n",
    "    else:\n",
    "        print(\"SOMETHING IS WRONG\")\n",
    "guessesLst = []\n",
    "for guess in guesses:\n",
    "    guessesLst.append(translate(np.argmax(guess)))\n",
    "translated_guess = np.array(guessesLst)\n",
    "print(translated_guess)"
   ]
  },
  {
   "cell_type": "code",
   "execution_count": 79,
   "metadata": {},
   "outputs": [
    {
     "name": "stdout",
     "output_type": "stream",
     "text": [
      "2838     0.0\n",
      "1854    -1.0\n",
      "4166    -1.0\n",
      "13260   -1.0\n",
      "5659     1.0\n",
      "        ... \n",
      "16227    1.0\n",
      "12743    1.0\n",
      "15429    1.0\n",
      "3291    -1.0\n",
      "313     -1.0\n",
      "Name: home_team_goal_to_away_team_goal_ratio, Length: 4561, dtype: float64\n",
      "[1 1 1 ... 1 0 1]\n",
      "2119\n",
      "4561\n"
     ]
    }
   ],
   "source": [
    "correct = np.sum(answer == translated_guess)\n",
    "print(answer)\n",
    "print(translated_guess)\n",
    "total = len(translated_guess)\n",
    "print(correct)\n",
    "print(total)"
   ]
  },
  {
   "cell_type": "code",
   "execution_count": 85,
   "metadata": {},
   "outputs": [
    {
     "name": "stdout",
     "output_type": "stream",
     "text": [
      "0.46459109844332386\n"
     ]
    }
   ],
   "source": [
    "print(correct/total)"
   ]
  },
  {
   "cell_type": "code",
   "execution_count": 83,
   "metadata": {},
   "outputs": [],
   "source": [
    "clf = svm.SVC()"
   ]
  },
  {
   "cell_type": "code",
   "execution_count": 87,
   "metadata": {},
   "outputs": [
    {
     "data": {
      "text/plain": [
       "SVC()"
      ]
     },
     "execution_count": 87,
     "metadata": {},
     "output_type": "execute_result"
    }
   ],
   "source": [
    "clf.fit(train_X, real_answer)"
   ]
  },
  {
   "cell_type": "code",
   "execution_count": 88,
   "metadata": {},
   "outputs": [],
   "source": [
    "prediction = clf.predict(val_X)"
   ]
  },
  {
   "cell_type": "code",
   "execution_count": 89,
   "metadata": {},
   "outputs": [
    {
     "name": "stdout",
     "output_type": "stream",
     "text": [
      "[1. 1. 1. ... 1. 1. 1.]\n"
     ]
    }
   ],
   "source": [
    "print(prediction)"
   ]
  },
  {
   "cell_type": "code",
   "execution_count": 90,
   "metadata": {},
   "outputs": [
    {
     "name": "stdout",
     "output_type": "stream",
     "text": [
      "2838     0.0\n",
      "1854    -1.0\n",
      "4166    -1.0\n",
      "13260   -1.0\n",
      "5659     1.0\n",
      "        ... \n",
      "16227    1.0\n",
      "12743    1.0\n",
      "15429    1.0\n",
      "3291    -1.0\n",
      "313     -1.0\n",
      "Name: home_team_goal_to_away_team_goal_ratio, Length: 4561, dtype: float64\n",
      "[1 1 1 ... 1 0 1]\n",
      "2119\n",
      "4561\n"
     ]
    }
   ],
   "source": [
    "correct = np.sum(answer == translated_guess)\n",
    "print(answer)\n",
    "print(translated_guess)\n",
    "total = len(translated_guess)\n",
    "print(correct)\n",
    "print(total)"
   ]
  },
  {
   "cell_type": "code",
   "execution_count": 91,
   "metadata": {},
   "outputs": [
    {
     "name": "stdout",
     "output_type": "stream",
     "text": [
      "0.46459109844332386\n"
     ]
    }
   ],
   "source": [
    "print(correct/total)"
   ]
  },
  {
   "cell_type": "code",
   "execution_count": 92,
   "metadata": {},
   "outputs": [
    {
     "name": "stdout",
     "output_type": "stream",
     "text": [
      "[ 1. -1.  1. ...  1.  1.  1.]\n",
      "2838     0.0\n",
      "1854    -1.0\n",
      "4166    -1.0\n",
      "13260   -1.0\n",
      "5659     1.0\n",
      "        ... \n",
      "16227    1.0\n",
      "12743    1.0\n",
      "15429    1.0\n",
      "3291    -1.0\n",
      "313     -1.0\n",
      "Name: home_team_goal_to_away_team_goal_ratio, Length: 4561, dtype: float64\n",
      "[1 1 1 ... 1 0 1]\n",
      "2119\n",
      "4561\n",
      "0.46459109844332386\n"
     ]
    }
   ],
   "source": [
    "clf = svm.NuSVC()\n",
    "clf.fit(train_X, real_answer)\n",
    "prediction = clf.predict(val_X)\n",
    "print(prediction)\n",
    "correct = np.sum(answer == translated_guess)\n",
    "print(answer)\n",
    "print(translated_guess)\n",
    "total = len(translated_guess)\n",
    "print(correct)\n",
    "print(total)\n",
    "print(correct/total)"
   ]
  },
  {
   "cell_type": "code",
   "execution_count": 6,
   "metadata": {},
   "outputs": [
    {
     "data": {
      "text/html": [
       "<div>\n",
       "<style scoped>\n",
       "    .dataframe tbody tr th:only-of-type {\n",
       "        vertical-align: middle;\n",
       "    }\n",
       "\n",
       "    .dataframe tbody tr th {\n",
       "        vertical-align: top;\n",
       "    }\n",
       "\n",
       "    .dataframe thead th {\n",
       "        text-align: right;\n",
       "    }\n",
       "</style>\n",
       "<table border=\"1\" class=\"dataframe\">\n",
       "  <thead>\n",
       "    <tr style=\"text-align: right;\">\n",
       "      <th></th>\n",
       "      <th>home_team_build_up_play_dribbling_to_away_team_build_up_play_dribbling_ratio</th>\n",
       "      <th>home_team_build_up_play_dribbling_to_away_team_build_up_play_passing_ratio</th>\n",
       "      <th>home_team_build_up_play_dribbling_to_away_team_build_up_play_speed_ratio</th>\n",
       "      <th>home_team_build_up_play_dribbling_to_away_team_chance_creation_crossing_ratio</th>\n",
       "      <th>home_team_build_up_play_dribbling_to_away_team_chance_creation_shooting_ratio</th>\n",
       "      <th>home_team_build_up_play_dribbling_to_away_team_chance_creationg_passing_ratio</th>\n",
       "      <th>home_team_build_up_play_dribbling_to_away_team_defence_aggression_ratio</th>\n",
       "      <th>home_team_build_up_play_dribbling_to_away_team_defence_pressure_ratio</th>\n",
       "      <th>home_team_build_up_play_dribbling_to_away_team_defence_team_width_ratio</th>\n",
       "      <th>home_team_build_up_play_passing_to_away_team_build_up_play_dribbling_ratio</th>\n",
       "      <th>...</th>\n",
       "      <th>home_team_defence_pressure_to_away_team_defence_team_width_ratio</th>\n",
       "      <th>home_team_defence_team_width_to_away_team_build_up_play_dribbling_ratio</th>\n",
       "      <th>home_team_defence_team_width_to_away_team_build_up_play_passing_ratio</th>\n",
       "      <th>home_team_defence_team_width_to_away_team_build_up_play_speed_ratio</th>\n",
       "      <th>home_team_defence_team_width_to_away_team_chance_creation_crossing_ratio</th>\n",
       "      <th>home_team_defence_team_width_to_away_team_chance_creation_shooting_ratio</th>\n",
       "      <th>home_team_defence_team_width_to_away_team_chance_creationg_passing_ratio</th>\n",
       "      <th>home_team_defence_team_width_to_away_team_defence_aggression_ratio</th>\n",
       "      <th>home_team_defence_team_width_to_away_team_defence_pressure_ratio</th>\n",
       "      <th>home_team_defence_team_width_to_away_team_defence_team_width_ratio</th>\n",
       "    </tr>\n",
       "  </thead>\n",
       "  <tbody>\n",
       "    <tr>\n",
       "      <th>0</th>\n",
       "      <td>1.000000</td>\n",
       "      <td>1.209936</td>\n",
       "      <td>1.377982</td>\n",
       "      <td>0.972693</td>\n",
       "      <td>1.078421</td>\n",
       "      <td>1.078421</td>\n",
       "      <td>0.698695</td>\n",
       "      <td>0.813235</td>\n",
       "      <td>0.698695</td>\n",
       "      <td>0.725699</td>\n",
       "      <td>...</td>\n",
       "      <td>1.000000</td>\n",
       "      <td>1.431239</td>\n",
       "      <td>1.731707</td>\n",
       "      <td>1.972222</td>\n",
       "      <td>1.392157</td>\n",
       "      <td>1.543478</td>\n",
       "      <td>1.543478</td>\n",
       "      <td>1.000000</td>\n",
       "      <td>1.163934</td>\n",
       "      <td>1.000000</td>\n",
       "    </tr>\n",
       "    <tr>\n",
       "      <th>1</th>\n",
       "      <td>1.000000</td>\n",
       "      <td>1.209936</td>\n",
       "      <td>0.918655</td>\n",
       "      <td>0.885846</td>\n",
       "      <td>0.751627</td>\n",
       "      <td>0.885846</td>\n",
       "      <td>0.698695</td>\n",
       "      <td>0.698695</td>\n",
       "      <td>0.751627</td>\n",
       "      <td>1.028073</td>\n",
       "      <td>...</td>\n",
       "      <td>1.075758</td>\n",
       "      <td>1.431239</td>\n",
       "      <td>1.731707</td>\n",
       "      <td>1.314815</td>\n",
       "      <td>1.267857</td>\n",
       "      <td>1.075758</td>\n",
       "      <td>1.267857</td>\n",
       "      <td>1.000000</td>\n",
       "      <td>1.000000</td>\n",
       "      <td>1.075758</td>\n",
       "    </tr>\n",
       "    <tr>\n",
       "      <th>2</th>\n",
       "      <td>1.000000</td>\n",
       "      <td>1.377982</td>\n",
       "      <td>1.377982</td>\n",
       "      <td>1.209936</td>\n",
       "      <td>0.972693</td>\n",
       "      <td>1.078421</td>\n",
       "      <td>0.698695</td>\n",
       "      <td>0.698695</td>\n",
       "      <td>0.698695</td>\n",
       "      <td>1.229656</td>\n",
       "      <td>...</td>\n",
       "      <td>0.859155</td>\n",
       "      <td>1.229656</td>\n",
       "      <td>1.694444</td>\n",
       "      <td>1.694444</td>\n",
       "      <td>1.487805</td>\n",
       "      <td>1.196078</td>\n",
       "      <td>1.326087</td>\n",
       "      <td>0.859155</td>\n",
       "      <td>0.859155</td>\n",
       "      <td>0.859155</td>\n",
       "    </tr>\n",
       "    <tr>\n",
       "      <th>3</th>\n",
       "      <td>1.000000</td>\n",
       "      <td>0.813235</td>\n",
       "      <td>1.078421</td>\n",
       "      <td>1.078421</td>\n",
       "      <td>0.885846</td>\n",
       "      <td>1.209936</td>\n",
       "      <td>0.698695</td>\n",
       "      <td>0.698695</td>\n",
       "      <td>0.698695</td>\n",
       "      <td>0.826490</td>\n",
       "      <td>...</td>\n",
       "      <td>0.859155</td>\n",
       "      <td>1.431239</td>\n",
       "      <td>1.163934</td>\n",
       "      <td>1.543478</td>\n",
       "      <td>1.543478</td>\n",
       "      <td>1.267857</td>\n",
       "      <td>1.731707</td>\n",
       "      <td>1.000000</td>\n",
       "      <td>1.000000</td>\n",
       "      <td>1.000000</td>\n",
       "    </tr>\n",
       "    <tr>\n",
       "      <th>4</th>\n",
       "      <td>1.000000</td>\n",
       "      <td>1.377982</td>\n",
       "      <td>0.972693</td>\n",
       "      <td>0.972693</td>\n",
       "      <td>0.813235</td>\n",
       "      <td>0.698695</td>\n",
       "      <td>0.972693</td>\n",
       "      <td>0.698695</td>\n",
       "      <td>0.698695</td>\n",
       "      <td>0.826490</td>\n",
       "      <td>...</td>\n",
       "      <td>1.000000</td>\n",
       "      <td>1.330448</td>\n",
       "      <td>1.833333</td>\n",
       "      <td>1.294118</td>\n",
       "      <td>1.294118</td>\n",
       "      <td>1.081967</td>\n",
       "      <td>0.929577</td>\n",
       "      <td>1.294118</td>\n",
       "      <td>0.929577</td>\n",
       "      <td>0.929577</td>\n",
       "    </tr>\n",
       "    <tr>\n",
       "      <th>...</th>\n",
       "      <td>...</td>\n",
       "      <td>...</td>\n",
       "      <td>...</td>\n",
       "      <td>...</td>\n",
       "      <td>...</td>\n",
       "      <td>...</td>\n",
       "      <td>...</td>\n",
       "      <td>...</td>\n",
       "      <td>...</td>\n",
       "      <td>...</td>\n",
       "      <td>...</td>\n",
       "      <td>...</td>\n",
       "      <td>...</td>\n",
       "      <td>...</td>\n",
       "      <td>...</td>\n",
       "      <td>...</td>\n",
       "      <td>...</td>\n",
       "      <td>...</td>\n",
       "      <td>...</td>\n",
       "      <td>...</td>\n",
       "      <td>...</td>\n",
       "    </tr>\n",
       "    <tr>\n",
       "      <th>18236</th>\n",
       "      <td>1.727273</td>\n",
       "      <td>1.000000</td>\n",
       "      <td>1.055556</td>\n",
       "      <td>1.055556</td>\n",
       "      <td>1.212766</td>\n",
       "      <td>1.461538</td>\n",
       "      <td>1.676471</td>\n",
       "      <td>1.325581</td>\n",
       "      <td>0.966102</td>\n",
       "      <td>1.969697</td>\n",
       "      <td>...</td>\n",
       "      <td>0.762712</td>\n",
       "      <td>1.545455</td>\n",
       "      <td>0.894737</td>\n",
       "      <td>0.944444</td>\n",
       "      <td>0.944444</td>\n",
       "      <td>1.085106</td>\n",
       "      <td>1.307692</td>\n",
       "      <td>1.500000</td>\n",
       "      <td>1.186047</td>\n",
       "      <td>0.864407</td>\n",
       "    </tr>\n",
       "    <tr>\n",
       "      <th>18239</th>\n",
       "      <td>0.783333</td>\n",
       "      <td>1.305556</td>\n",
       "      <td>0.796610</td>\n",
       "      <td>1.270270</td>\n",
       "      <td>0.701493</td>\n",
       "      <td>0.723077</td>\n",
       "      <td>1.021739</td>\n",
       "      <td>0.979167</td>\n",
       "      <td>0.870370</td>\n",
       "      <td>0.816667</td>\n",
       "      <td>...</td>\n",
       "      <td>0.759259</td>\n",
       "      <td>0.883333</td>\n",
       "      <td>1.472222</td>\n",
       "      <td>0.898305</td>\n",
       "      <td>1.432432</td>\n",
       "      <td>0.791045</td>\n",
       "      <td>0.815385</td>\n",
       "      <td>1.152174</td>\n",
       "      <td>1.104167</td>\n",
       "      <td>0.981481</td>\n",
       "    </tr>\n",
       "    <tr>\n",
       "      <th>18240</th>\n",
       "      <td>0.634615</td>\n",
       "      <td>0.634615</td>\n",
       "      <td>0.515625</td>\n",
       "      <td>0.804878</td>\n",
       "      <td>0.492537</td>\n",
       "      <td>0.600000</td>\n",
       "      <td>0.611111</td>\n",
       "      <td>0.673469</td>\n",
       "      <td>0.647059</td>\n",
       "      <td>1.096154</td>\n",
       "      <td>...</td>\n",
       "      <td>0.843137</td>\n",
       "      <td>1.134615</td>\n",
       "      <td>1.134615</td>\n",
       "      <td>0.921875</td>\n",
       "      <td>1.439024</td>\n",
       "      <td>0.880597</td>\n",
       "      <td>1.072727</td>\n",
       "      <td>1.092593</td>\n",
       "      <td>1.204082</td>\n",
       "      <td>1.156863</td>\n",
       "    </tr>\n",
       "    <tr>\n",
       "      <th>18241</th>\n",
       "      <td>1.051724</td>\n",
       "      <td>1.605263</td>\n",
       "      <td>0.983871</td>\n",
       "      <td>1.196078</td>\n",
       "      <td>1.129630</td>\n",
       "      <td>0.968254</td>\n",
       "      <td>1.270833</td>\n",
       "      <td>1.326087</td>\n",
       "      <td>1.109091</td>\n",
       "      <td>0.948276</td>\n",
       "      <td>...</td>\n",
       "      <td>0.672727</td>\n",
       "      <td>0.827586</td>\n",
       "      <td>1.263158</td>\n",
       "      <td>0.774194</td>\n",
       "      <td>0.941176</td>\n",
       "      <td>0.888889</td>\n",
       "      <td>0.761905</td>\n",
       "      <td>1.000000</td>\n",
       "      <td>1.043478</td>\n",
       "      <td>0.872727</td>\n",
       "    </tr>\n",
       "    <tr>\n",
       "      <th>18242</th>\n",
       "      <td>0.890625</td>\n",
       "      <td>1.212766</td>\n",
       "      <td>0.919355</td>\n",
       "      <td>0.850746</td>\n",
       "      <td>1.036364</td>\n",
       "      <td>0.850746</td>\n",
       "      <td>0.966102</td>\n",
       "      <td>1.187500</td>\n",
       "      <td>1.055556</td>\n",
       "      <td>1.015625</td>\n",
       "      <td>...</td>\n",
       "      <td>0.833333</td>\n",
       "      <td>0.796875</td>\n",
       "      <td>1.085106</td>\n",
       "      <td>0.822581</td>\n",
       "      <td>0.761194</td>\n",
       "      <td>0.927273</td>\n",
       "      <td>0.761194</td>\n",
       "      <td>0.864407</td>\n",
       "      <td>1.062500</td>\n",
       "      <td>0.944444</td>\n",
       "    </tr>\n",
       "  </tbody>\n",
       "</table>\n",
       "<p>13615 rows × 81 columns</p>\n",
       "</div>"
      ],
      "text/plain": [
       "       home_team_build_up_play_dribbling_to_away_team_build_up_play_dribbling_ratio  \\\n",
       "0                                               1.000000                              \n",
       "1                                               1.000000                              \n",
       "2                                               1.000000                              \n",
       "3                                               1.000000                              \n",
       "4                                               1.000000                              \n",
       "...                                                  ...                              \n",
       "18236                                           1.727273                              \n",
       "18239                                           0.783333                              \n",
       "18240                                           0.634615                              \n",
       "18241                                           1.051724                              \n",
       "18242                                           0.890625                              \n",
       "\n",
       "       home_team_build_up_play_dribbling_to_away_team_build_up_play_passing_ratio  \\\n",
       "0                                               1.209936                            \n",
       "1                                               1.209936                            \n",
       "2                                               1.377982                            \n",
       "3                                               0.813235                            \n",
       "4                                               1.377982                            \n",
       "...                                                  ...                            \n",
       "18236                                           1.000000                            \n",
       "18239                                           1.305556                            \n",
       "18240                                           0.634615                            \n",
       "18241                                           1.605263                            \n",
       "18242                                           1.212766                            \n",
       "\n",
       "       home_team_build_up_play_dribbling_to_away_team_build_up_play_speed_ratio  \\\n",
       "0                                               1.377982                          \n",
       "1                                               0.918655                          \n",
       "2                                               1.377982                          \n",
       "3                                               1.078421                          \n",
       "4                                               0.972693                          \n",
       "...                                                  ...                          \n",
       "18236                                           1.055556                          \n",
       "18239                                           0.796610                          \n",
       "18240                                           0.515625                          \n",
       "18241                                           0.983871                          \n",
       "18242                                           0.919355                          \n",
       "\n",
       "       home_team_build_up_play_dribbling_to_away_team_chance_creation_crossing_ratio  \\\n",
       "0                                               0.972693                               \n",
       "1                                               0.885846                               \n",
       "2                                               1.209936                               \n",
       "3                                               1.078421                               \n",
       "4                                               0.972693                               \n",
       "...                                                  ...                               \n",
       "18236                                           1.055556                               \n",
       "18239                                           1.270270                               \n",
       "18240                                           0.804878                               \n",
       "18241                                           1.196078                               \n",
       "18242                                           0.850746                               \n",
       "\n",
       "       home_team_build_up_play_dribbling_to_away_team_chance_creation_shooting_ratio  \\\n",
       "0                                               1.078421                               \n",
       "1                                               0.751627                               \n",
       "2                                               0.972693                               \n",
       "3                                               0.885846                               \n",
       "4                                               0.813235                               \n",
       "...                                                  ...                               \n",
       "18236                                           1.212766                               \n",
       "18239                                           0.701493                               \n",
       "18240                                           0.492537                               \n",
       "18241                                           1.129630                               \n",
       "18242                                           1.036364                               \n",
       "\n",
       "       home_team_build_up_play_dribbling_to_away_team_chance_creationg_passing_ratio  \\\n",
       "0                                               1.078421                               \n",
       "1                                               0.885846                               \n",
       "2                                               1.078421                               \n",
       "3                                               1.209936                               \n",
       "4                                               0.698695                               \n",
       "...                                                  ...                               \n",
       "18236                                           1.461538                               \n",
       "18239                                           0.723077                               \n",
       "18240                                           0.600000                               \n",
       "18241                                           0.968254                               \n",
       "18242                                           0.850746                               \n",
       "\n",
       "       home_team_build_up_play_dribbling_to_away_team_defence_aggression_ratio  \\\n",
       "0                                               0.698695                         \n",
       "1                                               0.698695                         \n",
       "2                                               0.698695                         \n",
       "3                                               0.698695                         \n",
       "4                                               0.972693                         \n",
       "...                                                  ...                         \n",
       "18236                                           1.676471                         \n",
       "18239                                           1.021739                         \n",
       "18240                                           0.611111                         \n",
       "18241                                           1.270833                         \n",
       "18242                                           0.966102                         \n",
       "\n",
       "       home_team_build_up_play_dribbling_to_away_team_defence_pressure_ratio  \\\n",
       "0                                               0.813235                       \n",
       "1                                               0.698695                       \n",
       "2                                               0.698695                       \n",
       "3                                               0.698695                       \n",
       "4                                               0.698695                       \n",
       "...                                                  ...                       \n",
       "18236                                           1.325581                       \n",
       "18239                                           0.979167                       \n",
       "18240                                           0.673469                       \n",
       "18241                                           1.326087                       \n",
       "18242                                           1.187500                       \n",
       "\n",
       "       home_team_build_up_play_dribbling_to_away_team_defence_team_width_ratio  \\\n",
       "0                                               0.698695                         \n",
       "1                                               0.751627                         \n",
       "2                                               0.698695                         \n",
       "3                                               0.698695                         \n",
       "4                                               0.698695                         \n",
       "...                                                  ...                         \n",
       "18236                                           0.966102                         \n",
       "18239                                           0.870370                         \n",
       "18240                                           0.647059                         \n",
       "18241                                           1.109091                         \n",
       "18242                                           1.055556                         \n",
       "\n",
       "       home_team_build_up_play_passing_to_away_team_build_up_play_dribbling_ratio  \\\n",
       "0                                               0.725699                            \n",
       "1                                               1.028073                            \n",
       "2                                               1.229656                            \n",
       "3                                               0.826490                            \n",
       "4                                               0.826490                            \n",
       "...                                                  ...                            \n",
       "18236                                           1.969697                            \n",
       "18239                                           0.816667                            \n",
       "18240                                           1.096154                            \n",
       "18241                                           0.948276                            \n",
       "18242                                           1.015625                            \n",
       "\n",
       "       ...  home_team_defence_pressure_to_away_team_defence_team_width_ratio  \\\n",
       "0      ...                                           1.000000                  \n",
       "1      ...                                           1.075758                  \n",
       "2      ...                                           0.859155                  \n",
       "3      ...                                           0.859155                  \n",
       "4      ...                                           1.000000                  \n",
       "...    ...                                                ...                  \n",
       "18236  ...                                           0.762712                  \n",
       "18239  ...                                           0.759259                  \n",
       "18240  ...                                           0.843137                  \n",
       "18241  ...                                           0.672727                  \n",
       "18242  ...                                           0.833333                  \n",
       "\n",
       "       home_team_defence_team_width_to_away_team_build_up_play_dribbling_ratio  \\\n",
       "0                                               1.431239                         \n",
       "1                                               1.431239                         \n",
       "2                                               1.229656                         \n",
       "3                                               1.431239                         \n",
       "4                                               1.330448                         \n",
       "...                                                  ...                         \n",
       "18236                                           1.545455                         \n",
       "18239                                           0.883333                         \n",
       "18240                                           1.134615                         \n",
       "18241                                           0.827586                         \n",
       "18242                                           0.796875                         \n",
       "\n",
       "       home_team_defence_team_width_to_away_team_build_up_play_passing_ratio  \\\n",
       "0                                               1.731707                       \n",
       "1                                               1.731707                       \n",
       "2                                               1.694444                       \n",
       "3                                               1.163934                       \n",
       "4                                               1.833333                       \n",
       "...                                                  ...                       \n",
       "18236                                           0.894737                       \n",
       "18239                                           1.472222                       \n",
       "18240                                           1.134615                       \n",
       "18241                                           1.263158                       \n",
       "18242                                           1.085106                       \n",
       "\n",
       "       home_team_defence_team_width_to_away_team_build_up_play_speed_ratio  \\\n",
       "0                                               1.972222                     \n",
       "1                                               1.314815                     \n",
       "2                                               1.694444                     \n",
       "3                                               1.543478                     \n",
       "4                                               1.294118                     \n",
       "...                                                  ...                     \n",
       "18236                                           0.944444                     \n",
       "18239                                           0.898305                     \n",
       "18240                                           0.921875                     \n",
       "18241                                           0.774194                     \n",
       "18242                                           0.822581                     \n",
       "\n",
       "       home_team_defence_team_width_to_away_team_chance_creation_crossing_ratio  \\\n",
       "0                                               1.392157                          \n",
       "1                                               1.267857                          \n",
       "2                                               1.487805                          \n",
       "3                                               1.543478                          \n",
       "4                                               1.294118                          \n",
       "...                                                  ...                          \n",
       "18236                                           0.944444                          \n",
       "18239                                           1.432432                          \n",
       "18240                                           1.439024                          \n",
       "18241                                           0.941176                          \n",
       "18242                                           0.761194                          \n",
       "\n",
       "       home_team_defence_team_width_to_away_team_chance_creation_shooting_ratio  \\\n",
       "0                                               1.543478                          \n",
       "1                                               1.075758                          \n",
       "2                                               1.196078                          \n",
       "3                                               1.267857                          \n",
       "4                                               1.081967                          \n",
       "...                                                  ...                          \n",
       "18236                                           1.085106                          \n",
       "18239                                           0.791045                          \n",
       "18240                                           0.880597                          \n",
       "18241                                           0.888889                          \n",
       "18242                                           0.927273                          \n",
       "\n",
       "       home_team_defence_team_width_to_away_team_chance_creationg_passing_ratio  \\\n",
       "0                                               1.543478                          \n",
       "1                                               1.267857                          \n",
       "2                                               1.326087                          \n",
       "3                                               1.731707                          \n",
       "4                                               0.929577                          \n",
       "...                                                  ...                          \n",
       "18236                                           1.307692                          \n",
       "18239                                           0.815385                          \n",
       "18240                                           1.072727                          \n",
       "18241                                           0.761905                          \n",
       "18242                                           0.761194                          \n",
       "\n",
       "       home_team_defence_team_width_to_away_team_defence_aggression_ratio  \\\n",
       "0                                               1.000000                    \n",
       "1                                               1.000000                    \n",
       "2                                               0.859155                    \n",
       "3                                               1.000000                    \n",
       "4                                               1.294118                    \n",
       "...                                                  ...                    \n",
       "18236                                           1.500000                    \n",
       "18239                                           1.152174                    \n",
       "18240                                           1.092593                    \n",
       "18241                                           1.000000                    \n",
       "18242                                           0.864407                    \n",
       "\n",
       "       home_team_defence_team_width_to_away_team_defence_pressure_ratio  \\\n",
       "0                                               1.163934                  \n",
       "1                                               1.000000                  \n",
       "2                                               0.859155                  \n",
       "3                                               1.000000                  \n",
       "4                                               0.929577                  \n",
       "...                                                  ...                  \n",
       "18236                                           1.186047                  \n",
       "18239                                           1.104167                  \n",
       "18240                                           1.204082                  \n",
       "18241                                           1.043478                  \n",
       "18242                                           1.062500                  \n",
       "\n",
       "       home_team_defence_team_width_to_away_team_defence_team_width_ratio  \n",
       "0                                               1.000000                   \n",
       "1                                               1.075758                   \n",
       "2                                               0.859155                   \n",
       "3                                               1.000000                   \n",
       "4                                               0.929577                   \n",
       "...                                                  ...                   \n",
       "18236                                           0.864407                   \n",
       "18239                                           0.981481                   \n",
       "18240                                           1.156863                   \n",
       "18241                                           0.872727                   \n",
       "18242                                           0.944444                   \n",
       "\n",
       "[13615 rows x 81 columns]"
      ]
     },
     "execution_count": 6,
     "metadata": {},
     "output_type": "execute_result"
    }
   ],
   "source": [
    "win_lossDf = ratioDf[ratioDf['home_team_goal_to_away_team_goal_ratio']!= 1]\n",
    "X = win_lossDf[win_lossDf.columns.difference(['home_team_goal_to_away_team_goal_ratio'])]\n",
    "y = win_lossDf[['home_team_goal_to_away_team_goal_ratio']]\n",
    "X"
   ]
  },
  {
   "cell_type": "code",
   "execution_count": 23,
   "metadata": {},
   "outputs": [
    {
     "name": "stdout",
     "output_type": "stream",
     "text": [
      "1\n",
      "2\n",
      "3\n",
      "4\n",
      "5\n",
      "6\n",
      "7\n",
      "8\n",
      "9\n",
      "10\n",
      "11\n",
      "12\n",
      "13\n",
      "14\n",
      "15\n",
      "16\n",
      "17\n",
      "18\n",
      "19\n",
      "20\n",
      "21\n",
      "22\n",
      "23\n",
      "24\n",
      "25\n",
      "26\n",
      "27\n",
      "28\n",
      "29\n",
      "30\n",
      "31\n",
      "32\n",
      "33\n",
      "34\n",
      "35\n",
      "36\n",
      "37\n",
      "38\n",
      "39\n",
      "40\n",
      "41\n",
      "42\n",
      "43\n",
      "44\n",
      "45\n",
      "46\n",
      "47\n",
      "48\n",
      "49\n",
      "50\n",
      "51\n",
      "52\n",
      "53\n",
      "54\n",
      "55\n",
      "56\n",
      "57\n",
      "58\n",
      "59\n",
      "60\n",
      "61\n",
      "62\n",
      "63\n",
      "64\n",
      "65\n",
      "66\n",
      "67\n",
      "68\n",
      "69\n",
      "70\n",
      "71\n",
      "72\n",
      "73\n",
      "74\n",
      "75\n",
      "76\n",
      "77\n",
      "78\n",
      "79\n",
      "80\n",
      "81\n",
      "82\n",
      "83\n",
      "84\n",
      "85\n",
      "86\n",
      "87\n",
      "88\n",
      "89\n",
      "90\n",
      "91\n",
      "92\n",
      "93\n",
      "94\n",
      "95\n",
      "96\n",
      "97\n",
      "98\n",
      "99\n",
      "3\n",
      "0.8201117971202221\n"
     ]
    }
   ],
   "source": [
    "train_X, val_X, train_y, val_y = train_test_split(X, y, random_state = 0)\n",
    "minimum = 1000\n",
    "bestIndex = -1\n",
    "#you can't have 0 as n_estimator\n",
    "for ii in range(1, 100):\n",
    "    print(ii)\n",
    "    XG_model = XGBRegressor(n_estimators= ii)\n",
    "    XG_model.fit(train_X, train_y, \n",
    "                 early_stopping_rounds=5, \n",
    "                 eval_set=[(val_X, val_y)],\n",
    "                 verbose=False)\n",
    "    predictions = XG_model.predict(val_X)\n",
    "    MAE = mean_absolute_error(val_y, predictions)\n",
    "    if MAE < minimum:\n",
    "        minimum = MAE\n",
    "        bestIndex = ii\n",
    "\n",
    "print(bestIndex)\n",
    "print(minimum)"
   ]
  },
  {
   "cell_type": "code",
   "execution_count": 105,
   "metadata": {},
   "outputs": [
    {
     "name": "stdout",
     "output_type": "stream",
     "text": [
      "[23:05:04] WARNING: C:/Users/Administrator/workspace/xgboost-win64_release_1.3.0/src/learner.cc:541: \n",
      "Parameters: { n_estimator } might not be used.\n",
      "\n",
      "  This may not be accurate due to some parameters are only used in language bindings but\n",
      "  passed down to XGBoost core.  Or some parameters are not used but slip through this\n",
      "  verification. Please open an issue if you find above cases.\n",
      "\n",
      "\n"
     ]
    }
   ],
   "source": [
    "XG_model = XGBRegressor(n_estimator = 6)\n",
    "XG_model.fit(train_X, train_y, \n",
    "                 early_stopping_rounds=5, \n",
    "                 eval_set=[(val_X, val_y)],\n",
    "                 verbose=False)\n",
    "predictions = XG_model.predict(val_X)"
   ]
  },
  {
   "cell_type": "code",
   "execution_count": 106,
   "metadata": {},
   "outputs": [
    {
     "name": "stdout",
     "output_type": "stream",
     "text": [
      "[-1.  1.  1. ...  1.  1.  1.]\n",
      "9733    -1.0\n",
      "194      1.0\n",
      "1479     1.0\n",
      "15601    1.0\n",
      "615     -1.0\n",
      "        ... \n",
      "9465     1.0\n",
      "9282    -1.0\n",
      "5285    -1.0\n",
      "13851    1.0\n",
      "8606    -1.0\n",
      "Name: home_team_goal_to_away_team_goal_ratio, Length: 3404, dtype: float64\n"
     ]
    }
   ],
   "source": [
    "ultimate_predictions = np.sign(np.log(predictions))\n",
    "answer = np.sign(np.log(val_y['home_team_goal_to_away_team_goal_ratio']))\n",
    "print(ultimate_predictions)\n",
    "print(answer)"
   ]
  },
  {
   "cell_type": "code",
   "execution_count": 107,
   "metadata": {},
   "outputs": [
    {
     "name": "stdout",
     "output_type": "stream",
     "text": [
      "0.631316098707403\n"
     ]
    }
   ],
   "source": [
    "correct = np.sum(ultimate_predictions == answer)\n",
    "total = len(ultimate_predictions)\n",
    "print(correct/total)"
   ]
  },
  {
   "cell_type": "code",
   "execution_count": 24,
   "metadata": {},
   "outputs": [
    {
     "name": "stdout",
     "output_type": "stream",
     "text": [
      "1\n",
      "[23:15:10] WARNING: C:/Users/Administrator/workspace/xgboost-win64_release_1.3.0/src/learner.cc:1061: Starting in XGBoost 1.3.0, the default evaluation metric used with the objective 'multi:softprob' was changed from 'merror' to 'mlogloss'. Explicitly set eval_metric if you'd like to restore the old behavior.\n",
      "2\n"
     ]
    },
    {
     "name": "stderr",
     "output_type": "stream",
     "text": [
      "C:\\Users\\hhong\\AppData\\Local\\Packages\\PythonSoftwareFoundation.Python.3.8_qbz5n2kfra8p0\\LocalCache\\local-packages\\Python38\\site-packages\\xgboost\\sklearn.py:888: UserWarning: The use of label encoder in XGBClassifier is deprecated and will be removed in a future release. To remove this warning, do the following: 1) Pass option use_label_encoder=False when constructing XGBClassifier object; and 2) Encode your labels (y) as integers starting with 0, i.e. 0, 1, 2, ..., [num_class - 1].\n",
      "  warnings.warn(label_encoder_deprecation_msg, UserWarning)\n",
      "C:\\Users\\hhong\\AppData\\Local\\Packages\\PythonSoftwareFoundation.Python.3.8_qbz5n2kfra8p0\\LocalCache\\local-packages\\Python38\\site-packages\\sklearn\\utils\\validation.py:72: DataConversionWarning: A column-vector y was passed when a 1d array was expected. Please change the shape of y to (n_samples, ), for example using ravel().\n",
      "  return f(**kwargs)\n",
      "C:\\Users\\hhong\\AppData\\Local\\Packages\\PythonSoftwareFoundation.Python.3.8_qbz5n2kfra8p0\\LocalCache\\local-packages\\Python38\\site-packages\\xgboost\\sklearn.py:888: UserWarning: The use of label encoder in XGBClassifier is deprecated and will be removed in a future release. To remove this warning, do the following: 1) Pass option use_label_encoder=False when constructing XGBClassifier object; and 2) Encode your labels (y) as integers starting with 0, i.e. 0, 1, 2, ..., [num_class - 1].\n",
      "  warnings.warn(label_encoder_deprecation_msg, UserWarning)\n",
      "C:\\Users\\hhong\\AppData\\Local\\Packages\\PythonSoftwareFoundation.Python.3.8_qbz5n2kfra8p0\\LocalCache\\local-packages\\Python38\\site-packages\\sklearn\\utils\\validation.py:72: DataConversionWarning: A column-vector y was passed when a 1d array was expected. Please change the shape of y to (n_samples, ), for example using ravel().\n",
      "  return f(**kwargs)\n"
     ]
    },
    {
     "name": "stdout",
     "output_type": "stream",
     "text": [
      "[23:15:10] WARNING: C:/Users/Administrator/workspace/xgboost-win64_release_1.3.0/src/learner.cc:1061: Starting in XGBoost 1.3.0, the default evaluation metric used with the objective 'multi:softprob' was changed from 'merror' to 'mlogloss'. Explicitly set eval_metric if you'd like to restore the old behavior.\n",
      "3\n"
     ]
    },
    {
     "name": "stderr",
     "output_type": "stream",
     "text": [
      "C:\\Users\\hhong\\AppData\\Local\\Packages\\PythonSoftwareFoundation.Python.3.8_qbz5n2kfra8p0\\LocalCache\\local-packages\\Python38\\site-packages\\xgboost\\sklearn.py:888: UserWarning: The use of label encoder in XGBClassifier is deprecated and will be removed in a future release. To remove this warning, do the following: 1) Pass option use_label_encoder=False when constructing XGBClassifier object; and 2) Encode your labels (y) as integers starting with 0, i.e. 0, 1, 2, ..., [num_class - 1].\n",
      "  warnings.warn(label_encoder_deprecation_msg, UserWarning)\n",
      "C:\\Users\\hhong\\AppData\\Local\\Packages\\PythonSoftwareFoundation.Python.3.8_qbz5n2kfra8p0\\LocalCache\\local-packages\\Python38\\site-packages\\sklearn\\utils\\validation.py:72: DataConversionWarning: A column-vector y was passed when a 1d array was expected. Please change the shape of y to (n_samples, ), for example using ravel().\n",
      "  return f(**kwargs)\n"
     ]
    },
    {
     "name": "stdout",
     "output_type": "stream",
     "text": [
      "[23:15:10] WARNING: C:/Users/Administrator/workspace/xgboost-win64_release_1.3.0/src/learner.cc:1061: Starting in XGBoost 1.3.0, the default evaluation metric used with the objective 'multi:softprob' was changed from 'merror' to 'mlogloss'. Explicitly set eval_metric if you'd like to restore the old behavior.\n",
      "4\n"
     ]
    },
    {
     "name": "stderr",
     "output_type": "stream",
     "text": [
      "C:\\Users\\hhong\\AppData\\Local\\Packages\\PythonSoftwareFoundation.Python.3.8_qbz5n2kfra8p0\\LocalCache\\local-packages\\Python38\\site-packages\\xgboost\\sklearn.py:888: UserWarning: The use of label encoder in XGBClassifier is deprecated and will be removed in a future release. To remove this warning, do the following: 1) Pass option use_label_encoder=False when constructing XGBClassifier object; and 2) Encode your labels (y) as integers starting with 0, i.e. 0, 1, 2, ..., [num_class - 1].\n",
      "  warnings.warn(label_encoder_deprecation_msg, UserWarning)\n",
      "C:\\Users\\hhong\\AppData\\Local\\Packages\\PythonSoftwareFoundation.Python.3.8_qbz5n2kfra8p0\\LocalCache\\local-packages\\Python38\\site-packages\\sklearn\\utils\\validation.py:72: DataConversionWarning: A column-vector y was passed when a 1d array was expected. Please change the shape of y to (n_samples, ), for example using ravel().\n",
      "  return f(**kwargs)\n"
     ]
    },
    {
     "name": "stdout",
     "output_type": "stream",
     "text": [
      "[23:15:10] WARNING: C:/Users/Administrator/workspace/xgboost-win64_release_1.3.0/src/learner.cc:1061: Starting in XGBoost 1.3.0, the default evaluation metric used with the objective 'multi:softprob' was changed from 'merror' to 'mlogloss'. Explicitly set eval_metric if you'd like to restore the old behavior.\n",
      "5\n",
      "[23:15:11] WARNING: C:/Users/Administrator/workspace/xgboost-win64_release_1.3.0/src/learner.cc:1061: Starting in XGBoost 1.3.0, the default evaluation metric used with the objective 'multi:softprob' was changed from 'merror' to 'mlogloss'. Explicitly set eval_metric if you'd like to restore the old behavior.\n"
     ]
    },
    {
     "name": "stderr",
     "output_type": "stream",
     "text": [
      "C:\\Users\\hhong\\AppData\\Local\\Packages\\PythonSoftwareFoundation.Python.3.8_qbz5n2kfra8p0\\LocalCache\\local-packages\\Python38\\site-packages\\xgboost\\sklearn.py:888: UserWarning: The use of label encoder in XGBClassifier is deprecated and will be removed in a future release. To remove this warning, do the following: 1) Pass option use_label_encoder=False when constructing XGBClassifier object; and 2) Encode your labels (y) as integers starting with 0, i.e. 0, 1, 2, ..., [num_class - 1].\n",
      "  warnings.warn(label_encoder_deprecation_msg, UserWarning)\n",
      "C:\\Users\\hhong\\AppData\\Local\\Packages\\PythonSoftwareFoundation.Python.3.8_qbz5n2kfra8p0\\LocalCache\\local-packages\\Python38\\site-packages\\sklearn\\utils\\validation.py:72: DataConversionWarning: A column-vector y was passed when a 1d array was expected. Please change the shape of y to (n_samples, ), for example using ravel().\n",
      "  return f(**kwargs)\n"
     ]
    },
    {
     "name": "stdout",
     "output_type": "stream",
     "text": [
      "6\n",
      "[23:15:11] WARNING: C:/Users/Administrator/workspace/xgboost-win64_release_1.3.0/src/learner.cc:1061: Starting in XGBoost 1.3.0, the default evaluation metric used with the objective 'multi:softprob' was changed from 'merror' to 'mlogloss'. Explicitly set eval_metric if you'd like to restore the old behavior.\n"
     ]
    },
    {
     "name": "stderr",
     "output_type": "stream",
     "text": [
      "C:\\Users\\hhong\\AppData\\Local\\Packages\\PythonSoftwareFoundation.Python.3.8_qbz5n2kfra8p0\\LocalCache\\local-packages\\Python38\\site-packages\\xgboost\\sklearn.py:888: UserWarning: The use of label encoder in XGBClassifier is deprecated and will be removed in a future release. To remove this warning, do the following: 1) Pass option use_label_encoder=False when constructing XGBClassifier object; and 2) Encode your labels (y) as integers starting with 0, i.e. 0, 1, 2, ..., [num_class - 1].\n",
      "  warnings.warn(label_encoder_deprecation_msg, UserWarning)\n",
      "C:\\Users\\hhong\\AppData\\Local\\Packages\\PythonSoftwareFoundation.Python.3.8_qbz5n2kfra8p0\\LocalCache\\local-packages\\Python38\\site-packages\\sklearn\\utils\\validation.py:72: DataConversionWarning: A column-vector y was passed when a 1d array was expected. Please change the shape of y to (n_samples, ), for example using ravel().\n",
      "  return f(**kwargs)\n"
     ]
    },
    {
     "name": "stdout",
     "output_type": "stream",
     "text": [
      "7\n",
      "[23:15:11] WARNING: C:/Users/Administrator/workspace/xgboost-win64_release_1.3.0/src/learner.cc:1061: Starting in XGBoost 1.3.0, the default evaluation metric used with the objective 'multi:softprob' was changed from 'merror' to 'mlogloss'. Explicitly set eval_metric if you'd like to restore the old behavior.\n"
     ]
    },
    {
     "name": "stderr",
     "output_type": "stream",
     "text": [
      "C:\\Users\\hhong\\AppData\\Local\\Packages\\PythonSoftwareFoundation.Python.3.8_qbz5n2kfra8p0\\LocalCache\\local-packages\\Python38\\site-packages\\xgboost\\sklearn.py:888: UserWarning: The use of label encoder in XGBClassifier is deprecated and will be removed in a future release. To remove this warning, do the following: 1) Pass option use_label_encoder=False when constructing XGBClassifier object; and 2) Encode your labels (y) as integers starting with 0, i.e. 0, 1, 2, ..., [num_class - 1].\n",
      "  warnings.warn(label_encoder_deprecation_msg, UserWarning)\n",
      "C:\\Users\\hhong\\AppData\\Local\\Packages\\PythonSoftwareFoundation.Python.3.8_qbz5n2kfra8p0\\LocalCache\\local-packages\\Python38\\site-packages\\sklearn\\utils\\validation.py:72: DataConversionWarning: A column-vector y was passed when a 1d array was expected. Please change the shape of y to (n_samples, ), for example using ravel().\n",
      "  return f(**kwargs)\n"
     ]
    },
    {
     "name": "stdout",
     "output_type": "stream",
     "text": [
      "8\n",
      "[23:15:12] WARNING: C:/Users/Administrator/workspace/xgboost-win64_release_1.3.0/src/learner.cc:1061: Starting in XGBoost 1.3.0, the default evaluation metric used with the objective 'multi:softprob' was changed from 'merror' to 'mlogloss'. Explicitly set eval_metric if you'd like to restore the old behavior.\n"
     ]
    },
    {
     "name": "stderr",
     "output_type": "stream",
     "text": [
      "C:\\Users\\hhong\\AppData\\Local\\Packages\\PythonSoftwareFoundation.Python.3.8_qbz5n2kfra8p0\\LocalCache\\local-packages\\Python38\\site-packages\\xgboost\\sklearn.py:888: UserWarning: The use of label encoder in XGBClassifier is deprecated and will be removed in a future release. To remove this warning, do the following: 1) Pass option use_label_encoder=False when constructing XGBClassifier object; and 2) Encode your labels (y) as integers starting with 0, i.e. 0, 1, 2, ..., [num_class - 1].\n",
      "  warnings.warn(label_encoder_deprecation_msg, UserWarning)\n",
      "C:\\Users\\hhong\\AppData\\Local\\Packages\\PythonSoftwareFoundation.Python.3.8_qbz5n2kfra8p0\\LocalCache\\local-packages\\Python38\\site-packages\\sklearn\\utils\\validation.py:72: DataConversionWarning: A column-vector y was passed when a 1d array was expected. Please change the shape of y to (n_samples, ), for example using ravel().\n",
      "  return f(**kwargs)\n"
     ]
    },
    {
     "name": "stdout",
     "output_type": "stream",
     "text": [
      "9\n",
      "[23:15:13] WARNING: C:/Users/Administrator/workspace/xgboost-win64_release_1.3.0/src/learner.cc:1061: Starting in XGBoost 1.3.0, the default evaluation metric used with the objective 'multi:softprob' was changed from 'merror' to 'mlogloss'. Explicitly set eval_metric if you'd like to restore the old behavior.\n"
     ]
    },
    {
     "name": "stderr",
     "output_type": "stream",
     "text": [
      "C:\\Users\\hhong\\AppData\\Local\\Packages\\PythonSoftwareFoundation.Python.3.8_qbz5n2kfra8p0\\LocalCache\\local-packages\\Python38\\site-packages\\xgboost\\sklearn.py:888: UserWarning: The use of label encoder in XGBClassifier is deprecated and will be removed in a future release. To remove this warning, do the following: 1) Pass option use_label_encoder=False when constructing XGBClassifier object; and 2) Encode your labels (y) as integers starting with 0, i.e. 0, 1, 2, ..., [num_class - 1].\n",
      "  warnings.warn(label_encoder_deprecation_msg, UserWarning)\n",
      "C:\\Users\\hhong\\AppData\\Local\\Packages\\PythonSoftwareFoundation.Python.3.8_qbz5n2kfra8p0\\LocalCache\\local-packages\\Python38\\site-packages\\sklearn\\utils\\validation.py:72: DataConversionWarning: A column-vector y was passed when a 1d array was expected. Please change the shape of y to (n_samples, ), for example using ravel().\n",
      "  return f(**kwargs)\n"
     ]
    },
    {
     "name": "stdout",
     "output_type": "stream",
     "text": [
      "10\n",
      "[23:15:13] WARNING: C:/Users/Administrator/workspace/xgboost-win64_release_1.3.0/src/learner.cc:1061: Starting in XGBoost 1.3.0, the default evaluation metric used with the objective 'multi:softprob' was changed from 'merror' to 'mlogloss'. Explicitly set eval_metric if you'd like to restore the old behavior.\n"
     ]
    },
    {
     "name": "stderr",
     "output_type": "stream",
     "text": [
      "C:\\Users\\hhong\\AppData\\Local\\Packages\\PythonSoftwareFoundation.Python.3.8_qbz5n2kfra8p0\\LocalCache\\local-packages\\Python38\\site-packages\\xgboost\\sklearn.py:888: UserWarning: The use of label encoder in XGBClassifier is deprecated and will be removed in a future release. To remove this warning, do the following: 1) Pass option use_label_encoder=False when constructing XGBClassifier object; and 2) Encode your labels (y) as integers starting with 0, i.e. 0, 1, 2, ..., [num_class - 1].\n",
      "  warnings.warn(label_encoder_deprecation_msg, UserWarning)\n",
      "C:\\Users\\hhong\\AppData\\Local\\Packages\\PythonSoftwareFoundation.Python.3.8_qbz5n2kfra8p0\\LocalCache\\local-packages\\Python38\\site-packages\\sklearn\\utils\\validation.py:72: DataConversionWarning: A column-vector y was passed when a 1d array was expected. Please change the shape of y to (n_samples, ), for example using ravel().\n",
      "  return f(**kwargs)\n"
     ]
    },
    {
     "name": "stdout",
     "output_type": "stream",
     "text": [
      "11\n",
      "[23:15:14] WARNING: C:/Users/Administrator/workspace/xgboost-win64_release_1.3.0/src/learner.cc:1061: Starting in XGBoost 1.3.0, the default evaluation metric used with the objective 'multi:softprob' was changed from 'merror' to 'mlogloss'. Explicitly set eval_metric if you'd like to restore the old behavior.\n"
     ]
    },
    {
     "name": "stderr",
     "output_type": "stream",
     "text": [
      "C:\\Users\\hhong\\AppData\\Local\\Packages\\PythonSoftwareFoundation.Python.3.8_qbz5n2kfra8p0\\LocalCache\\local-packages\\Python38\\site-packages\\xgboost\\sklearn.py:888: UserWarning: The use of label encoder in XGBClassifier is deprecated and will be removed in a future release. To remove this warning, do the following: 1) Pass option use_label_encoder=False when constructing XGBClassifier object; and 2) Encode your labels (y) as integers starting with 0, i.e. 0, 1, 2, ..., [num_class - 1].\n",
      "  warnings.warn(label_encoder_deprecation_msg, UserWarning)\n",
      "C:\\Users\\hhong\\AppData\\Local\\Packages\\PythonSoftwareFoundation.Python.3.8_qbz5n2kfra8p0\\LocalCache\\local-packages\\Python38\\site-packages\\sklearn\\utils\\validation.py:72: DataConversionWarning: A column-vector y was passed when a 1d array was expected. Please change the shape of y to (n_samples, ), for example using ravel().\n",
      "  return f(**kwargs)\n"
     ]
    },
    {
     "name": "stdout",
     "output_type": "stream",
     "text": [
      "12\n",
      "[23:15:15] WARNING: C:/Users/Administrator/workspace/xgboost-win64_release_1.3.0/src/learner.cc:1061: Starting in XGBoost 1.3.0, the default evaluation metric used with the objective 'multi:softprob' was changed from 'merror' to 'mlogloss'. Explicitly set eval_metric if you'd like to restore the old behavior.\n"
     ]
    },
    {
     "name": "stderr",
     "output_type": "stream",
     "text": [
      "C:\\Users\\hhong\\AppData\\Local\\Packages\\PythonSoftwareFoundation.Python.3.8_qbz5n2kfra8p0\\LocalCache\\local-packages\\Python38\\site-packages\\xgboost\\sklearn.py:888: UserWarning: The use of label encoder in XGBClassifier is deprecated and will be removed in a future release. To remove this warning, do the following: 1) Pass option use_label_encoder=False when constructing XGBClassifier object; and 2) Encode your labels (y) as integers starting with 0, i.e. 0, 1, 2, ..., [num_class - 1].\n",
      "  warnings.warn(label_encoder_deprecation_msg, UserWarning)\n",
      "C:\\Users\\hhong\\AppData\\Local\\Packages\\PythonSoftwareFoundation.Python.3.8_qbz5n2kfra8p0\\LocalCache\\local-packages\\Python38\\site-packages\\sklearn\\utils\\validation.py:72: DataConversionWarning: A column-vector y was passed when a 1d array was expected. Please change the shape of y to (n_samples, ), for example using ravel().\n",
      "  return f(**kwargs)\n"
     ]
    },
    {
     "name": "stdout",
     "output_type": "stream",
     "text": [
      "13\n",
      "[23:15:16] WARNING: C:/Users/Administrator/workspace/xgboost-win64_release_1.3.0/src/learner.cc:1061: Starting in XGBoost 1.3.0, the default evaluation metric used with the objective 'multi:softprob' was changed from 'merror' to 'mlogloss'. Explicitly set eval_metric if you'd like to restore the old behavior.\n"
     ]
    },
    {
     "name": "stderr",
     "output_type": "stream",
     "text": [
      "C:\\Users\\hhong\\AppData\\Local\\Packages\\PythonSoftwareFoundation.Python.3.8_qbz5n2kfra8p0\\LocalCache\\local-packages\\Python38\\site-packages\\xgboost\\sklearn.py:888: UserWarning: The use of label encoder in XGBClassifier is deprecated and will be removed in a future release. To remove this warning, do the following: 1) Pass option use_label_encoder=False when constructing XGBClassifier object; and 2) Encode your labels (y) as integers starting with 0, i.e. 0, 1, 2, ..., [num_class - 1].\n",
      "  warnings.warn(label_encoder_deprecation_msg, UserWarning)\n",
      "C:\\Users\\hhong\\AppData\\Local\\Packages\\PythonSoftwareFoundation.Python.3.8_qbz5n2kfra8p0\\LocalCache\\local-packages\\Python38\\site-packages\\sklearn\\utils\\validation.py:72: DataConversionWarning: A column-vector y was passed when a 1d array was expected. Please change the shape of y to (n_samples, ), for example using ravel().\n",
      "  return f(**kwargs)\n"
     ]
    },
    {
     "name": "stdout",
     "output_type": "stream",
     "text": [
      "14\n",
      "[23:15:16] WARNING: C:/Users/Administrator/workspace/xgboost-win64_release_1.3.0/src/learner.cc:1061: Starting in XGBoost 1.3.0, the default evaluation metric used with the objective 'multi:softprob' was changed from 'merror' to 'mlogloss'. Explicitly set eval_metric if you'd like to restore the old behavior.\n"
     ]
    },
    {
     "name": "stderr",
     "output_type": "stream",
     "text": [
      "C:\\Users\\hhong\\AppData\\Local\\Packages\\PythonSoftwareFoundation.Python.3.8_qbz5n2kfra8p0\\LocalCache\\local-packages\\Python38\\site-packages\\xgboost\\sklearn.py:888: UserWarning: The use of label encoder in XGBClassifier is deprecated and will be removed in a future release. To remove this warning, do the following: 1) Pass option use_label_encoder=False when constructing XGBClassifier object; and 2) Encode your labels (y) as integers starting with 0, i.e. 0, 1, 2, ..., [num_class - 1].\n",
      "  warnings.warn(label_encoder_deprecation_msg, UserWarning)\n",
      "C:\\Users\\hhong\\AppData\\Local\\Packages\\PythonSoftwareFoundation.Python.3.8_qbz5n2kfra8p0\\LocalCache\\local-packages\\Python38\\site-packages\\sklearn\\utils\\validation.py:72: DataConversionWarning: A column-vector y was passed when a 1d array was expected. Please change the shape of y to (n_samples, ), for example using ravel().\n",
      "  return f(**kwargs)\n"
     ]
    },
    {
     "name": "stdout",
     "output_type": "stream",
     "text": [
      "15\n",
      "[23:15:17] WARNING: C:/Users/Administrator/workspace/xgboost-win64_release_1.3.0/src/learner.cc:1061: Starting in XGBoost 1.3.0, the default evaluation metric used with the objective 'multi:softprob' was changed from 'merror' to 'mlogloss'. Explicitly set eval_metric if you'd like to restore the old behavior.\n"
     ]
    },
    {
     "name": "stderr",
     "output_type": "stream",
     "text": [
      "C:\\Users\\hhong\\AppData\\Local\\Packages\\PythonSoftwareFoundation.Python.3.8_qbz5n2kfra8p0\\LocalCache\\local-packages\\Python38\\site-packages\\xgboost\\sklearn.py:888: UserWarning: The use of label encoder in XGBClassifier is deprecated and will be removed in a future release. To remove this warning, do the following: 1) Pass option use_label_encoder=False when constructing XGBClassifier object; and 2) Encode your labels (y) as integers starting with 0, i.e. 0, 1, 2, ..., [num_class - 1].\n",
      "  warnings.warn(label_encoder_deprecation_msg, UserWarning)\n",
      "C:\\Users\\hhong\\AppData\\Local\\Packages\\PythonSoftwareFoundation.Python.3.8_qbz5n2kfra8p0\\LocalCache\\local-packages\\Python38\\site-packages\\sklearn\\utils\\validation.py:72: DataConversionWarning: A column-vector y was passed when a 1d array was expected. Please change the shape of y to (n_samples, ), for example using ravel().\n",
      "  return f(**kwargs)\n"
     ]
    },
    {
     "name": "stdout",
     "output_type": "stream",
     "text": [
      "16\n",
      "[23:15:18] WARNING: C:/Users/Administrator/workspace/xgboost-win64_release_1.3.0/src/learner.cc:1061: Starting in XGBoost 1.3.0, the default evaluation metric used with the objective 'multi:softprob' was changed from 'merror' to 'mlogloss'. Explicitly set eval_metric if you'd like to restore the old behavior.\n"
     ]
    },
    {
     "name": "stderr",
     "output_type": "stream",
     "text": [
      "C:\\Users\\hhong\\AppData\\Local\\Packages\\PythonSoftwareFoundation.Python.3.8_qbz5n2kfra8p0\\LocalCache\\local-packages\\Python38\\site-packages\\xgboost\\sklearn.py:888: UserWarning: The use of label encoder in XGBClassifier is deprecated and will be removed in a future release. To remove this warning, do the following: 1) Pass option use_label_encoder=False when constructing XGBClassifier object; and 2) Encode your labels (y) as integers starting with 0, i.e. 0, 1, 2, ..., [num_class - 1].\n",
      "  warnings.warn(label_encoder_deprecation_msg, UserWarning)\n",
      "C:\\Users\\hhong\\AppData\\Local\\Packages\\PythonSoftwareFoundation.Python.3.8_qbz5n2kfra8p0\\LocalCache\\local-packages\\Python38\\site-packages\\sklearn\\utils\\validation.py:72: DataConversionWarning: A column-vector y was passed when a 1d array was expected. Please change the shape of y to (n_samples, ), for example using ravel().\n",
      "  return f(**kwargs)\n"
     ]
    },
    {
     "name": "stdout",
     "output_type": "stream",
     "text": [
      "17\n",
      "[23:15:19] WARNING: C:/Users/Administrator/workspace/xgboost-win64_release_1.3.0/src/learner.cc:1061: Starting in XGBoost 1.3.0, the default evaluation metric used with the objective 'multi:softprob' was changed from 'merror' to 'mlogloss'. Explicitly set eval_metric if you'd like to restore the old behavior.\n"
     ]
    },
    {
     "name": "stderr",
     "output_type": "stream",
     "text": [
      "C:\\Users\\hhong\\AppData\\Local\\Packages\\PythonSoftwareFoundation.Python.3.8_qbz5n2kfra8p0\\LocalCache\\local-packages\\Python38\\site-packages\\xgboost\\sklearn.py:888: UserWarning: The use of label encoder in XGBClassifier is deprecated and will be removed in a future release. To remove this warning, do the following: 1) Pass option use_label_encoder=False when constructing XGBClassifier object; and 2) Encode your labels (y) as integers starting with 0, i.e. 0, 1, 2, ..., [num_class - 1].\n",
      "  warnings.warn(label_encoder_deprecation_msg, UserWarning)\n",
      "C:\\Users\\hhong\\AppData\\Local\\Packages\\PythonSoftwareFoundation.Python.3.8_qbz5n2kfra8p0\\LocalCache\\local-packages\\Python38\\site-packages\\sklearn\\utils\\validation.py:72: DataConversionWarning: A column-vector y was passed when a 1d array was expected. Please change the shape of y to (n_samples, ), for example using ravel().\n",
      "  return f(**kwargs)\n"
     ]
    },
    {
     "name": "stdout",
     "output_type": "stream",
     "text": [
      "18\n",
      "[23:15:20] WARNING: C:/Users/Administrator/workspace/xgboost-win64_release_1.3.0/src/learner.cc:1061: Starting in XGBoost 1.3.0, the default evaluation metric used with the objective 'multi:softprob' was changed from 'merror' to 'mlogloss'. Explicitly set eval_metric if you'd like to restore the old behavior.\n"
     ]
    },
    {
     "name": "stderr",
     "output_type": "stream",
     "text": [
      "C:\\Users\\hhong\\AppData\\Local\\Packages\\PythonSoftwareFoundation.Python.3.8_qbz5n2kfra8p0\\LocalCache\\local-packages\\Python38\\site-packages\\xgboost\\sklearn.py:888: UserWarning: The use of label encoder in XGBClassifier is deprecated and will be removed in a future release. To remove this warning, do the following: 1) Pass option use_label_encoder=False when constructing XGBClassifier object; and 2) Encode your labels (y) as integers starting with 0, i.e. 0, 1, 2, ..., [num_class - 1].\n",
      "  warnings.warn(label_encoder_deprecation_msg, UserWarning)\n",
      "C:\\Users\\hhong\\AppData\\Local\\Packages\\PythonSoftwareFoundation.Python.3.8_qbz5n2kfra8p0\\LocalCache\\local-packages\\Python38\\site-packages\\sklearn\\utils\\validation.py:72: DataConversionWarning: A column-vector y was passed when a 1d array was expected. Please change the shape of y to (n_samples, ), for example using ravel().\n",
      "  return f(**kwargs)\n"
     ]
    },
    {
     "name": "stdout",
     "output_type": "stream",
     "text": [
      "19\n",
      "[23:15:21] WARNING: C:/Users/Administrator/workspace/xgboost-win64_release_1.3.0/src/learner.cc:1061: Starting in XGBoost 1.3.0, the default evaluation metric used with the objective 'multi:softprob' was changed from 'merror' to 'mlogloss'. Explicitly set eval_metric if you'd like to restore the old behavior.\n"
     ]
    },
    {
     "name": "stderr",
     "output_type": "stream",
     "text": [
      "C:\\Users\\hhong\\AppData\\Local\\Packages\\PythonSoftwareFoundation.Python.3.8_qbz5n2kfra8p0\\LocalCache\\local-packages\\Python38\\site-packages\\xgboost\\sklearn.py:888: UserWarning: The use of label encoder in XGBClassifier is deprecated and will be removed in a future release. To remove this warning, do the following: 1) Pass option use_label_encoder=False when constructing XGBClassifier object; and 2) Encode your labels (y) as integers starting with 0, i.e. 0, 1, 2, ..., [num_class - 1].\n",
      "  warnings.warn(label_encoder_deprecation_msg, UserWarning)\n",
      "C:\\Users\\hhong\\AppData\\Local\\Packages\\PythonSoftwareFoundation.Python.3.8_qbz5n2kfra8p0\\LocalCache\\local-packages\\Python38\\site-packages\\sklearn\\utils\\validation.py:72: DataConversionWarning: A column-vector y was passed when a 1d array was expected. Please change the shape of y to (n_samples, ), for example using ravel().\n",
      "  return f(**kwargs)\n"
     ]
    },
    {
     "name": "stdout",
     "output_type": "stream",
     "text": [
      "20\n",
      "[23:15:22] WARNING: C:/Users/Administrator/workspace/xgboost-win64_release_1.3.0/src/learner.cc:1061: Starting in XGBoost 1.3.0, the default evaluation metric used with the objective 'multi:softprob' was changed from 'merror' to 'mlogloss'. Explicitly set eval_metric if you'd like to restore the old behavior.\n"
     ]
    },
    {
     "name": "stderr",
     "output_type": "stream",
     "text": [
      "C:\\Users\\hhong\\AppData\\Local\\Packages\\PythonSoftwareFoundation.Python.3.8_qbz5n2kfra8p0\\LocalCache\\local-packages\\Python38\\site-packages\\xgboost\\sklearn.py:888: UserWarning: The use of label encoder in XGBClassifier is deprecated and will be removed in a future release. To remove this warning, do the following: 1) Pass option use_label_encoder=False when constructing XGBClassifier object; and 2) Encode your labels (y) as integers starting with 0, i.e. 0, 1, 2, ..., [num_class - 1].\n",
      "  warnings.warn(label_encoder_deprecation_msg, UserWarning)\n",
      "C:\\Users\\hhong\\AppData\\Local\\Packages\\PythonSoftwareFoundation.Python.3.8_qbz5n2kfra8p0\\LocalCache\\local-packages\\Python38\\site-packages\\sklearn\\utils\\validation.py:72: DataConversionWarning: A column-vector y was passed when a 1d array was expected. Please change the shape of y to (n_samples, ), for example using ravel().\n",
      "  return f(**kwargs)\n"
     ]
    },
    {
     "name": "stdout",
     "output_type": "stream",
     "text": [
      "21\n",
      "[23:15:23] WARNING: C:/Users/Administrator/workspace/xgboost-win64_release_1.3.0/src/learner.cc:1061: Starting in XGBoost 1.3.0, the default evaluation metric used with the objective 'multi:softprob' was changed from 'merror' to 'mlogloss'. Explicitly set eval_metric if you'd like to restore the old behavior.\n"
     ]
    },
    {
     "name": "stderr",
     "output_type": "stream",
     "text": [
      "C:\\Users\\hhong\\AppData\\Local\\Packages\\PythonSoftwareFoundation.Python.3.8_qbz5n2kfra8p0\\LocalCache\\local-packages\\Python38\\site-packages\\xgboost\\sklearn.py:888: UserWarning: The use of label encoder in XGBClassifier is deprecated and will be removed in a future release. To remove this warning, do the following: 1) Pass option use_label_encoder=False when constructing XGBClassifier object; and 2) Encode your labels (y) as integers starting with 0, i.e. 0, 1, 2, ..., [num_class - 1].\n",
      "  warnings.warn(label_encoder_deprecation_msg, UserWarning)\n",
      "C:\\Users\\hhong\\AppData\\Local\\Packages\\PythonSoftwareFoundation.Python.3.8_qbz5n2kfra8p0\\LocalCache\\local-packages\\Python38\\site-packages\\sklearn\\utils\\validation.py:72: DataConversionWarning: A column-vector y was passed when a 1d array was expected. Please change the shape of y to (n_samples, ), for example using ravel().\n",
      "  return f(**kwargs)\n"
     ]
    },
    {
     "name": "stdout",
     "output_type": "stream",
     "text": [
      "22\n"
     ]
    },
    {
     "name": "stderr",
     "output_type": "stream",
     "text": [
      "C:\\Users\\hhong\\AppData\\Local\\Packages\\PythonSoftwareFoundation.Python.3.8_qbz5n2kfra8p0\\LocalCache\\local-packages\\Python38\\site-packages\\xgboost\\sklearn.py:888: UserWarning: The use of label encoder in XGBClassifier is deprecated and will be removed in a future release. To remove this warning, do the following: 1) Pass option use_label_encoder=False when constructing XGBClassifier object; and 2) Encode your labels (y) as integers starting with 0, i.e. 0, 1, 2, ..., [num_class - 1].\n",
      "  warnings.warn(label_encoder_deprecation_msg, UserWarning)\n",
      "C:\\Users\\hhong\\AppData\\Local\\Packages\\PythonSoftwareFoundation.Python.3.8_qbz5n2kfra8p0\\LocalCache\\local-packages\\Python38\\site-packages\\sklearn\\utils\\validation.py:72: DataConversionWarning: A column-vector y was passed when a 1d array was expected. Please change the shape of y to (n_samples, ), for example using ravel().\n",
      "  return f(**kwargs)\n"
     ]
    },
    {
     "name": "stdout",
     "output_type": "stream",
     "text": [
      "[23:15:24] WARNING: C:/Users/Administrator/workspace/xgboost-win64_release_1.3.0/src/learner.cc:1061: Starting in XGBoost 1.3.0, the default evaluation metric used with the objective 'multi:softprob' was changed from 'merror' to 'mlogloss'. Explicitly set eval_metric if you'd like to restore the old behavior.\n",
      "23\n",
      "[23:15:25] WARNING: C:/Users/Administrator/workspace/xgboost-win64_release_1.3.0/src/learner.cc:1061: Starting in XGBoost 1.3.0, the default evaluation metric used with the objective 'multi:softprob' was changed from 'merror' to 'mlogloss'. Explicitly set eval_metric if you'd like to restore the old behavior.\n"
     ]
    },
    {
     "name": "stderr",
     "output_type": "stream",
     "text": [
      "C:\\Users\\hhong\\AppData\\Local\\Packages\\PythonSoftwareFoundation.Python.3.8_qbz5n2kfra8p0\\LocalCache\\local-packages\\Python38\\site-packages\\xgboost\\sklearn.py:888: UserWarning: The use of label encoder in XGBClassifier is deprecated and will be removed in a future release. To remove this warning, do the following: 1) Pass option use_label_encoder=False when constructing XGBClassifier object; and 2) Encode your labels (y) as integers starting with 0, i.e. 0, 1, 2, ..., [num_class - 1].\n",
      "  warnings.warn(label_encoder_deprecation_msg, UserWarning)\n",
      "C:\\Users\\hhong\\AppData\\Local\\Packages\\PythonSoftwareFoundation.Python.3.8_qbz5n2kfra8p0\\LocalCache\\local-packages\\Python38\\site-packages\\sklearn\\utils\\validation.py:72: DataConversionWarning: A column-vector y was passed when a 1d array was expected. Please change the shape of y to (n_samples, ), for example using ravel().\n",
      "  return f(**kwargs)\n"
     ]
    },
    {
     "name": "stdout",
     "output_type": "stream",
     "text": [
      "24\n",
      "[23:15:26] WARNING: C:/Users/Administrator/workspace/xgboost-win64_release_1.3.0/src/learner.cc:1061: Starting in XGBoost 1.3.0, the default evaluation metric used with the objective 'multi:softprob' was changed from 'merror' to 'mlogloss'. Explicitly set eval_metric if you'd like to restore the old behavior.\n"
     ]
    },
    {
     "name": "stderr",
     "output_type": "stream",
     "text": [
      "C:\\Users\\hhong\\AppData\\Local\\Packages\\PythonSoftwareFoundation.Python.3.8_qbz5n2kfra8p0\\LocalCache\\local-packages\\Python38\\site-packages\\xgboost\\sklearn.py:888: UserWarning: The use of label encoder in XGBClassifier is deprecated and will be removed in a future release. To remove this warning, do the following: 1) Pass option use_label_encoder=False when constructing XGBClassifier object; and 2) Encode your labels (y) as integers starting with 0, i.e. 0, 1, 2, ..., [num_class - 1].\n",
      "  warnings.warn(label_encoder_deprecation_msg, UserWarning)\n",
      "C:\\Users\\hhong\\AppData\\Local\\Packages\\PythonSoftwareFoundation.Python.3.8_qbz5n2kfra8p0\\LocalCache\\local-packages\\Python38\\site-packages\\sklearn\\utils\\validation.py:72: DataConversionWarning: A column-vector y was passed when a 1d array was expected. Please change the shape of y to (n_samples, ), for example using ravel().\n",
      "  return f(**kwargs)\n"
     ]
    },
    {
     "name": "stdout",
     "output_type": "stream",
     "text": [
      "25\n",
      "[23:15:27] WARNING: C:/Users/Administrator/workspace/xgboost-win64_release_1.3.0/src/learner.cc:1061: Starting in XGBoost 1.3.0, the default evaluation metric used with the objective 'multi:softprob' was changed from 'merror' to 'mlogloss'. Explicitly set eval_metric if you'd like to restore the old behavior.\n"
     ]
    },
    {
     "name": "stderr",
     "output_type": "stream",
     "text": [
      "C:\\Users\\hhong\\AppData\\Local\\Packages\\PythonSoftwareFoundation.Python.3.8_qbz5n2kfra8p0\\LocalCache\\local-packages\\Python38\\site-packages\\xgboost\\sklearn.py:888: UserWarning: The use of label encoder in XGBClassifier is deprecated and will be removed in a future release. To remove this warning, do the following: 1) Pass option use_label_encoder=False when constructing XGBClassifier object; and 2) Encode your labels (y) as integers starting with 0, i.e. 0, 1, 2, ..., [num_class - 1].\n",
      "  warnings.warn(label_encoder_deprecation_msg, UserWarning)\n",
      "C:\\Users\\hhong\\AppData\\Local\\Packages\\PythonSoftwareFoundation.Python.3.8_qbz5n2kfra8p0\\LocalCache\\local-packages\\Python38\\site-packages\\sklearn\\utils\\validation.py:72: DataConversionWarning: A column-vector y was passed when a 1d array was expected. Please change the shape of y to (n_samples, ), for example using ravel().\n",
      "  return f(**kwargs)\n"
     ]
    },
    {
     "name": "stdout",
     "output_type": "stream",
     "text": [
      "26\n",
      "[23:15:28] WARNING: C:/Users/Administrator/workspace/xgboost-win64_release_1.3.0/src/learner.cc:1061: Starting in XGBoost 1.3.0, the default evaluation metric used with the objective 'multi:softprob' was changed from 'merror' to 'mlogloss'. Explicitly set eval_metric if you'd like to restore the old behavior.\n"
     ]
    },
    {
     "name": "stderr",
     "output_type": "stream",
     "text": [
      "C:\\Users\\hhong\\AppData\\Local\\Packages\\PythonSoftwareFoundation.Python.3.8_qbz5n2kfra8p0\\LocalCache\\local-packages\\Python38\\site-packages\\xgboost\\sklearn.py:888: UserWarning: The use of label encoder in XGBClassifier is deprecated and will be removed in a future release. To remove this warning, do the following: 1) Pass option use_label_encoder=False when constructing XGBClassifier object; and 2) Encode your labels (y) as integers starting with 0, i.e. 0, 1, 2, ..., [num_class - 1].\n",
      "  warnings.warn(label_encoder_deprecation_msg, UserWarning)\n",
      "C:\\Users\\hhong\\AppData\\Local\\Packages\\PythonSoftwareFoundation.Python.3.8_qbz5n2kfra8p0\\LocalCache\\local-packages\\Python38\\site-packages\\sklearn\\utils\\validation.py:72: DataConversionWarning: A column-vector y was passed when a 1d array was expected. Please change the shape of y to (n_samples, ), for example using ravel().\n",
      "  return f(**kwargs)\n"
     ]
    },
    {
     "name": "stdout",
     "output_type": "stream",
     "text": [
      "27\n",
      "[23:15:29] WARNING: C:/Users/Administrator/workspace/xgboost-win64_release_1.3.0/src/learner.cc:1061: Starting in XGBoost 1.3.0, the default evaluation metric used with the objective 'multi:softprob' was changed from 'merror' to 'mlogloss'. Explicitly set eval_metric if you'd like to restore the old behavior.\n"
     ]
    },
    {
     "name": "stderr",
     "output_type": "stream",
     "text": [
      "C:\\Users\\hhong\\AppData\\Local\\Packages\\PythonSoftwareFoundation.Python.3.8_qbz5n2kfra8p0\\LocalCache\\local-packages\\Python38\\site-packages\\xgboost\\sklearn.py:888: UserWarning: The use of label encoder in XGBClassifier is deprecated and will be removed in a future release. To remove this warning, do the following: 1) Pass option use_label_encoder=False when constructing XGBClassifier object; and 2) Encode your labels (y) as integers starting with 0, i.e. 0, 1, 2, ..., [num_class - 1].\n",
      "  warnings.warn(label_encoder_deprecation_msg, UserWarning)\n",
      "C:\\Users\\hhong\\AppData\\Local\\Packages\\PythonSoftwareFoundation.Python.3.8_qbz5n2kfra8p0\\LocalCache\\local-packages\\Python38\\site-packages\\sklearn\\utils\\validation.py:72: DataConversionWarning: A column-vector y was passed when a 1d array was expected. Please change the shape of y to (n_samples, ), for example using ravel().\n",
      "  return f(**kwargs)\n"
     ]
    },
    {
     "name": "stdout",
     "output_type": "stream",
     "text": [
      "28\n",
      "[23:15:30] WARNING: C:/Users/Administrator/workspace/xgboost-win64_release_1.3.0/src/learner.cc:1061: Starting in XGBoost 1.3.0, the default evaluation metric used with the objective 'multi:softprob' was changed from 'merror' to 'mlogloss'. Explicitly set eval_metric if you'd like to restore the old behavior.\n"
     ]
    },
    {
     "name": "stderr",
     "output_type": "stream",
     "text": [
      "C:\\Users\\hhong\\AppData\\Local\\Packages\\PythonSoftwareFoundation.Python.3.8_qbz5n2kfra8p0\\LocalCache\\local-packages\\Python38\\site-packages\\xgboost\\sklearn.py:888: UserWarning: The use of label encoder in XGBClassifier is deprecated and will be removed in a future release. To remove this warning, do the following: 1) Pass option use_label_encoder=False when constructing XGBClassifier object; and 2) Encode your labels (y) as integers starting with 0, i.e. 0, 1, 2, ..., [num_class - 1].\n",
      "  warnings.warn(label_encoder_deprecation_msg, UserWarning)\n",
      "C:\\Users\\hhong\\AppData\\Local\\Packages\\PythonSoftwareFoundation.Python.3.8_qbz5n2kfra8p0\\LocalCache\\local-packages\\Python38\\site-packages\\sklearn\\utils\\validation.py:72: DataConversionWarning: A column-vector y was passed when a 1d array was expected. Please change the shape of y to (n_samples, ), for example using ravel().\n",
      "  return f(**kwargs)\n"
     ]
    },
    {
     "name": "stdout",
     "output_type": "stream",
     "text": [
      "29\n",
      "[23:15:31] WARNING: C:/Users/Administrator/workspace/xgboost-win64_release_1.3.0/src/learner.cc:1061: Starting in XGBoost 1.3.0, the default evaluation metric used with the objective 'multi:softprob' was changed from 'merror' to 'mlogloss'. Explicitly set eval_metric if you'd like to restore the old behavior.\n"
     ]
    },
    {
     "name": "stderr",
     "output_type": "stream",
     "text": [
      "C:\\Users\\hhong\\AppData\\Local\\Packages\\PythonSoftwareFoundation.Python.3.8_qbz5n2kfra8p0\\LocalCache\\local-packages\\Python38\\site-packages\\xgboost\\sklearn.py:888: UserWarning: The use of label encoder in XGBClassifier is deprecated and will be removed in a future release. To remove this warning, do the following: 1) Pass option use_label_encoder=False when constructing XGBClassifier object; and 2) Encode your labels (y) as integers starting with 0, i.e. 0, 1, 2, ..., [num_class - 1].\n",
      "  warnings.warn(label_encoder_deprecation_msg, UserWarning)\n",
      "C:\\Users\\hhong\\AppData\\Local\\Packages\\PythonSoftwareFoundation.Python.3.8_qbz5n2kfra8p0\\LocalCache\\local-packages\\Python38\\site-packages\\sklearn\\utils\\validation.py:72: DataConversionWarning: A column-vector y was passed when a 1d array was expected. Please change the shape of y to (n_samples, ), for example using ravel().\n",
      "  return f(**kwargs)\n"
     ]
    },
    {
     "name": "stdout",
     "output_type": "stream",
     "text": [
      "30\n",
      "[23:15:31] WARNING: C:/Users/Administrator/workspace/xgboost-win64_release_1.3.0/src/learner.cc:1061: Starting in XGBoost 1.3.0, the default evaluation metric used with the objective 'multi:softprob' was changed from 'merror' to 'mlogloss'. Explicitly set eval_metric if you'd like to restore the old behavior.\n"
     ]
    },
    {
     "name": "stderr",
     "output_type": "stream",
     "text": [
      "C:\\Users\\hhong\\AppData\\Local\\Packages\\PythonSoftwareFoundation.Python.3.8_qbz5n2kfra8p0\\LocalCache\\local-packages\\Python38\\site-packages\\xgboost\\sklearn.py:888: UserWarning: The use of label encoder in XGBClassifier is deprecated and will be removed in a future release. To remove this warning, do the following: 1) Pass option use_label_encoder=False when constructing XGBClassifier object; and 2) Encode your labels (y) as integers starting with 0, i.e. 0, 1, 2, ..., [num_class - 1].\n",
      "  warnings.warn(label_encoder_deprecation_msg, UserWarning)\n",
      "C:\\Users\\hhong\\AppData\\Local\\Packages\\PythonSoftwareFoundation.Python.3.8_qbz5n2kfra8p0\\LocalCache\\local-packages\\Python38\\site-packages\\sklearn\\utils\\validation.py:72: DataConversionWarning: A column-vector y was passed when a 1d array was expected. Please change the shape of y to (n_samples, ), for example using ravel().\n",
      "  return f(**kwargs)\n"
     ]
    },
    {
     "name": "stdout",
     "output_type": "stream",
     "text": [
      "31\n",
      "[23:15:32] WARNING: C:/Users/Administrator/workspace/xgboost-win64_release_1.3.0/src/learner.cc:1061: Starting in XGBoost 1.3.0, the default evaluation metric used with the objective 'multi:softprob' was changed from 'merror' to 'mlogloss'. Explicitly set eval_metric if you'd like to restore the old behavior.\n"
     ]
    },
    {
     "name": "stderr",
     "output_type": "stream",
     "text": [
      "C:\\Users\\hhong\\AppData\\Local\\Packages\\PythonSoftwareFoundation.Python.3.8_qbz5n2kfra8p0\\LocalCache\\local-packages\\Python38\\site-packages\\xgboost\\sklearn.py:888: UserWarning: The use of label encoder in XGBClassifier is deprecated and will be removed in a future release. To remove this warning, do the following: 1) Pass option use_label_encoder=False when constructing XGBClassifier object; and 2) Encode your labels (y) as integers starting with 0, i.e. 0, 1, 2, ..., [num_class - 1].\n",
      "  warnings.warn(label_encoder_deprecation_msg, UserWarning)\n",
      "C:\\Users\\hhong\\AppData\\Local\\Packages\\PythonSoftwareFoundation.Python.3.8_qbz5n2kfra8p0\\LocalCache\\local-packages\\Python38\\site-packages\\sklearn\\utils\\validation.py:72: DataConversionWarning: A column-vector y was passed when a 1d array was expected. Please change the shape of y to (n_samples, ), for example using ravel().\n",
      "  return f(**kwargs)\n"
     ]
    },
    {
     "name": "stdout",
     "output_type": "stream",
     "text": [
      "32\n",
      "[23:15:33] WARNING: C:/Users/Administrator/workspace/xgboost-win64_release_1.3.0/src/learner.cc:1061: Starting in XGBoost 1.3.0, the default evaluation metric used with the objective 'multi:softprob' was changed from 'merror' to 'mlogloss'. Explicitly set eval_metric if you'd like to restore the old behavior.\n"
     ]
    },
    {
     "name": "stderr",
     "output_type": "stream",
     "text": [
      "C:\\Users\\hhong\\AppData\\Local\\Packages\\PythonSoftwareFoundation.Python.3.8_qbz5n2kfra8p0\\LocalCache\\local-packages\\Python38\\site-packages\\xgboost\\sklearn.py:888: UserWarning: The use of label encoder in XGBClassifier is deprecated and will be removed in a future release. To remove this warning, do the following: 1) Pass option use_label_encoder=False when constructing XGBClassifier object; and 2) Encode your labels (y) as integers starting with 0, i.e. 0, 1, 2, ..., [num_class - 1].\n",
      "  warnings.warn(label_encoder_deprecation_msg, UserWarning)\n",
      "C:\\Users\\hhong\\AppData\\Local\\Packages\\PythonSoftwareFoundation.Python.3.8_qbz5n2kfra8p0\\LocalCache\\local-packages\\Python38\\site-packages\\sklearn\\utils\\validation.py:72: DataConversionWarning: A column-vector y was passed when a 1d array was expected. Please change the shape of y to (n_samples, ), for example using ravel().\n",
      "  return f(**kwargs)\n"
     ]
    },
    {
     "name": "stdout",
     "output_type": "stream",
     "text": [
      "33\n",
      "[23:15:34] WARNING: C:/Users/Administrator/workspace/xgboost-win64_release_1.3.0/src/learner.cc:1061: Starting in XGBoost 1.3.0, the default evaluation metric used with the objective 'multi:softprob' was changed from 'merror' to 'mlogloss'. Explicitly set eval_metric if you'd like to restore the old behavior.\n"
     ]
    },
    {
     "name": "stderr",
     "output_type": "stream",
     "text": [
      "C:\\Users\\hhong\\AppData\\Local\\Packages\\PythonSoftwareFoundation.Python.3.8_qbz5n2kfra8p0\\LocalCache\\local-packages\\Python38\\site-packages\\xgboost\\sklearn.py:888: UserWarning: The use of label encoder in XGBClassifier is deprecated and will be removed in a future release. To remove this warning, do the following: 1) Pass option use_label_encoder=False when constructing XGBClassifier object; and 2) Encode your labels (y) as integers starting with 0, i.e. 0, 1, 2, ..., [num_class - 1].\n",
      "  warnings.warn(label_encoder_deprecation_msg, UserWarning)\n",
      "C:\\Users\\hhong\\AppData\\Local\\Packages\\PythonSoftwareFoundation.Python.3.8_qbz5n2kfra8p0\\LocalCache\\local-packages\\Python38\\site-packages\\sklearn\\utils\\validation.py:72: DataConversionWarning: A column-vector y was passed when a 1d array was expected. Please change the shape of y to (n_samples, ), for example using ravel().\n",
      "  return f(**kwargs)\n"
     ]
    },
    {
     "name": "stdout",
     "output_type": "stream",
     "text": [
      "34\n",
      "[23:15:35] WARNING: C:/Users/Administrator/workspace/xgboost-win64_release_1.3.0/src/learner.cc:1061: Starting in XGBoost 1.3.0, the default evaluation metric used with the objective 'multi:softprob' was changed from 'merror' to 'mlogloss'. Explicitly set eval_metric if you'd like to restore the old behavior.\n"
     ]
    },
    {
     "name": "stderr",
     "output_type": "stream",
     "text": [
      "C:\\Users\\hhong\\AppData\\Local\\Packages\\PythonSoftwareFoundation.Python.3.8_qbz5n2kfra8p0\\LocalCache\\local-packages\\Python38\\site-packages\\xgboost\\sklearn.py:888: UserWarning: The use of label encoder in XGBClassifier is deprecated and will be removed in a future release. To remove this warning, do the following: 1) Pass option use_label_encoder=False when constructing XGBClassifier object; and 2) Encode your labels (y) as integers starting with 0, i.e. 0, 1, 2, ..., [num_class - 1].\n",
      "  warnings.warn(label_encoder_deprecation_msg, UserWarning)\n",
      "C:\\Users\\hhong\\AppData\\Local\\Packages\\PythonSoftwareFoundation.Python.3.8_qbz5n2kfra8p0\\LocalCache\\local-packages\\Python38\\site-packages\\sklearn\\utils\\validation.py:72: DataConversionWarning: A column-vector y was passed when a 1d array was expected. Please change the shape of y to (n_samples, ), for example using ravel().\n",
      "  return f(**kwargs)\n"
     ]
    },
    {
     "name": "stdout",
     "output_type": "stream",
     "text": [
      "35\n",
      "[23:15:36] WARNING: C:/Users/Administrator/workspace/xgboost-win64_release_1.3.0/src/learner.cc:1061: Starting in XGBoost 1.3.0, the default evaluation metric used with the objective 'multi:softprob' was changed from 'merror' to 'mlogloss'. Explicitly set eval_metric if you'd like to restore the old behavior.\n"
     ]
    },
    {
     "name": "stderr",
     "output_type": "stream",
     "text": [
      "C:\\Users\\hhong\\AppData\\Local\\Packages\\PythonSoftwareFoundation.Python.3.8_qbz5n2kfra8p0\\LocalCache\\local-packages\\Python38\\site-packages\\xgboost\\sklearn.py:888: UserWarning: The use of label encoder in XGBClassifier is deprecated and will be removed in a future release. To remove this warning, do the following: 1) Pass option use_label_encoder=False when constructing XGBClassifier object; and 2) Encode your labels (y) as integers starting with 0, i.e. 0, 1, 2, ..., [num_class - 1].\n",
      "  warnings.warn(label_encoder_deprecation_msg, UserWarning)\n",
      "C:\\Users\\hhong\\AppData\\Local\\Packages\\PythonSoftwareFoundation.Python.3.8_qbz5n2kfra8p0\\LocalCache\\local-packages\\Python38\\site-packages\\sklearn\\utils\\validation.py:72: DataConversionWarning: A column-vector y was passed when a 1d array was expected. Please change the shape of y to (n_samples, ), for example using ravel().\n",
      "  return f(**kwargs)\n"
     ]
    },
    {
     "name": "stdout",
     "output_type": "stream",
     "text": [
      "36\n",
      "[23:15:37] WARNING: C:/Users/Administrator/workspace/xgboost-win64_release_1.3.0/src/learner.cc:1061: Starting in XGBoost 1.3.0, the default evaluation metric used with the objective 'multi:softprob' was changed from 'merror' to 'mlogloss'. Explicitly set eval_metric if you'd like to restore the old behavior.\n"
     ]
    },
    {
     "name": "stderr",
     "output_type": "stream",
     "text": [
      "C:\\Users\\hhong\\AppData\\Local\\Packages\\PythonSoftwareFoundation.Python.3.8_qbz5n2kfra8p0\\LocalCache\\local-packages\\Python38\\site-packages\\xgboost\\sklearn.py:888: UserWarning: The use of label encoder in XGBClassifier is deprecated and will be removed in a future release. To remove this warning, do the following: 1) Pass option use_label_encoder=False when constructing XGBClassifier object; and 2) Encode your labels (y) as integers starting with 0, i.e. 0, 1, 2, ..., [num_class - 1].\n",
      "  warnings.warn(label_encoder_deprecation_msg, UserWarning)\n",
      "C:\\Users\\hhong\\AppData\\Local\\Packages\\PythonSoftwareFoundation.Python.3.8_qbz5n2kfra8p0\\LocalCache\\local-packages\\Python38\\site-packages\\sklearn\\utils\\validation.py:72: DataConversionWarning: A column-vector y was passed when a 1d array was expected. Please change the shape of y to (n_samples, ), for example using ravel().\n",
      "  return f(**kwargs)\n"
     ]
    },
    {
     "name": "stdout",
     "output_type": "stream",
     "text": [
      "37\n",
      "[23:15:38] WARNING: C:/Users/Administrator/workspace/xgboost-win64_release_1.3.0/src/learner.cc:1061: Starting in XGBoost 1.3.0, the default evaluation metric used with the objective 'multi:softprob' was changed from 'merror' to 'mlogloss'. Explicitly set eval_metric if you'd like to restore the old behavior.\n"
     ]
    },
    {
     "name": "stderr",
     "output_type": "stream",
     "text": [
      "C:\\Users\\hhong\\AppData\\Local\\Packages\\PythonSoftwareFoundation.Python.3.8_qbz5n2kfra8p0\\LocalCache\\local-packages\\Python38\\site-packages\\xgboost\\sklearn.py:888: UserWarning: The use of label encoder in XGBClassifier is deprecated and will be removed in a future release. To remove this warning, do the following: 1) Pass option use_label_encoder=False when constructing XGBClassifier object; and 2) Encode your labels (y) as integers starting with 0, i.e. 0, 1, 2, ..., [num_class - 1].\n",
      "  warnings.warn(label_encoder_deprecation_msg, UserWarning)\n",
      "C:\\Users\\hhong\\AppData\\Local\\Packages\\PythonSoftwareFoundation.Python.3.8_qbz5n2kfra8p0\\LocalCache\\local-packages\\Python38\\site-packages\\sklearn\\utils\\validation.py:72: DataConversionWarning: A column-vector y was passed when a 1d array was expected. Please change the shape of y to (n_samples, ), for example using ravel().\n",
      "  return f(**kwargs)\n"
     ]
    },
    {
     "name": "stdout",
     "output_type": "stream",
     "text": [
      "38\n",
      "[23:15:39] WARNING: C:/Users/Administrator/workspace/xgboost-win64_release_1.3.0/src/learner.cc:1061: Starting in XGBoost 1.3.0, the default evaluation metric used with the objective 'multi:softprob' was changed from 'merror' to 'mlogloss'. Explicitly set eval_metric if you'd like to restore the old behavior.\n"
     ]
    },
    {
     "name": "stderr",
     "output_type": "stream",
     "text": [
      "C:\\Users\\hhong\\AppData\\Local\\Packages\\PythonSoftwareFoundation.Python.3.8_qbz5n2kfra8p0\\LocalCache\\local-packages\\Python38\\site-packages\\xgboost\\sklearn.py:888: UserWarning: The use of label encoder in XGBClassifier is deprecated and will be removed in a future release. To remove this warning, do the following: 1) Pass option use_label_encoder=False when constructing XGBClassifier object; and 2) Encode your labels (y) as integers starting with 0, i.e. 0, 1, 2, ..., [num_class - 1].\n",
      "  warnings.warn(label_encoder_deprecation_msg, UserWarning)\n",
      "C:\\Users\\hhong\\AppData\\Local\\Packages\\PythonSoftwareFoundation.Python.3.8_qbz5n2kfra8p0\\LocalCache\\local-packages\\Python38\\site-packages\\sklearn\\utils\\validation.py:72: DataConversionWarning: A column-vector y was passed when a 1d array was expected. Please change the shape of y to (n_samples, ), for example using ravel().\n",
      "  return f(**kwargs)\n"
     ]
    },
    {
     "name": "stdout",
     "output_type": "stream",
     "text": [
      "39\n",
      "[23:15:40] WARNING: C:/Users/Administrator/workspace/xgboost-win64_release_1.3.0/src/learner.cc:1061: Starting in XGBoost 1.3.0, the default evaluation metric used with the objective 'multi:softprob' was changed from 'merror' to 'mlogloss'. Explicitly set eval_metric if you'd like to restore the old behavior.\n"
     ]
    },
    {
     "name": "stderr",
     "output_type": "stream",
     "text": [
      "C:\\Users\\hhong\\AppData\\Local\\Packages\\PythonSoftwareFoundation.Python.3.8_qbz5n2kfra8p0\\LocalCache\\local-packages\\Python38\\site-packages\\xgboost\\sklearn.py:888: UserWarning: The use of label encoder in XGBClassifier is deprecated and will be removed in a future release. To remove this warning, do the following: 1) Pass option use_label_encoder=False when constructing XGBClassifier object; and 2) Encode your labels (y) as integers starting with 0, i.e. 0, 1, 2, ..., [num_class - 1].\n",
      "  warnings.warn(label_encoder_deprecation_msg, UserWarning)\n",
      "C:\\Users\\hhong\\AppData\\Local\\Packages\\PythonSoftwareFoundation.Python.3.8_qbz5n2kfra8p0\\LocalCache\\local-packages\\Python38\\site-packages\\sklearn\\utils\\validation.py:72: DataConversionWarning: A column-vector y was passed when a 1d array was expected. Please change the shape of y to (n_samples, ), for example using ravel().\n",
      "  return f(**kwargs)\n"
     ]
    },
    {
     "name": "stdout",
     "output_type": "stream",
     "text": [
      "40\n",
      "[23:15:41] WARNING: C:/Users/Administrator/workspace/xgboost-win64_release_1.3.0/src/learner.cc:1061: Starting in XGBoost 1.3.0, the default evaluation metric used with the objective 'multi:softprob' was changed from 'merror' to 'mlogloss'. Explicitly set eval_metric if you'd like to restore the old behavior.\n"
     ]
    },
    {
     "name": "stderr",
     "output_type": "stream",
     "text": [
      "C:\\Users\\hhong\\AppData\\Local\\Packages\\PythonSoftwareFoundation.Python.3.8_qbz5n2kfra8p0\\LocalCache\\local-packages\\Python38\\site-packages\\xgboost\\sklearn.py:888: UserWarning: The use of label encoder in XGBClassifier is deprecated and will be removed in a future release. To remove this warning, do the following: 1) Pass option use_label_encoder=False when constructing XGBClassifier object; and 2) Encode your labels (y) as integers starting with 0, i.e. 0, 1, 2, ..., [num_class - 1].\n",
      "  warnings.warn(label_encoder_deprecation_msg, UserWarning)\n",
      "C:\\Users\\hhong\\AppData\\Local\\Packages\\PythonSoftwareFoundation.Python.3.8_qbz5n2kfra8p0\\LocalCache\\local-packages\\Python38\\site-packages\\sklearn\\utils\\validation.py:72: DataConversionWarning: A column-vector y was passed when a 1d array was expected. Please change the shape of y to (n_samples, ), for example using ravel().\n",
      "  return f(**kwargs)\n"
     ]
    },
    {
     "name": "stdout",
     "output_type": "stream",
     "text": [
      "41\n",
      "[23:15:42] WARNING: C:/Users/Administrator/workspace/xgboost-win64_release_1.3.0/src/learner.cc:1061: Starting in XGBoost 1.3.0, the default evaluation metric used with the objective 'multi:softprob' was changed from 'merror' to 'mlogloss'. Explicitly set eval_metric if you'd like to restore the old behavior.\n"
     ]
    },
    {
     "name": "stderr",
     "output_type": "stream",
     "text": [
      "C:\\Users\\hhong\\AppData\\Local\\Packages\\PythonSoftwareFoundation.Python.3.8_qbz5n2kfra8p0\\LocalCache\\local-packages\\Python38\\site-packages\\xgboost\\sklearn.py:888: UserWarning: The use of label encoder in XGBClassifier is deprecated and will be removed in a future release. To remove this warning, do the following: 1) Pass option use_label_encoder=False when constructing XGBClassifier object; and 2) Encode your labels (y) as integers starting with 0, i.e. 0, 1, 2, ..., [num_class - 1].\n",
      "  warnings.warn(label_encoder_deprecation_msg, UserWarning)\n",
      "C:\\Users\\hhong\\AppData\\Local\\Packages\\PythonSoftwareFoundation.Python.3.8_qbz5n2kfra8p0\\LocalCache\\local-packages\\Python38\\site-packages\\sklearn\\utils\\validation.py:72: DataConversionWarning: A column-vector y was passed when a 1d array was expected. Please change the shape of y to (n_samples, ), for example using ravel().\n",
      "  return f(**kwargs)\n"
     ]
    },
    {
     "name": "stdout",
     "output_type": "stream",
     "text": [
      "42\n",
      "[23:15:43] WARNING: C:/Users/Administrator/workspace/xgboost-win64_release_1.3.0/src/learner.cc:1061: Starting in XGBoost 1.3.0, the default evaluation metric used with the objective 'multi:softprob' was changed from 'merror' to 'mlogloss'. Explicitly set eval_metric if you'd like to restore the old behavior."
     ]
    },
    {
     "name": "stderr",
     "output_type": "stream",
     "text": [
      "C:\\Users\\hhong\\AppData\\Local\\Packages\\PythonSoftwareFoundation.Python.3.8_qbz5n2kfra8p0\\LocalCache\\local-packages\\Python38\\site-packages\\xgboost\\sklearn.py:888: UserWarning: The use of label encoder in XGBClassifier is deprecated and will be removed in a future release. To remove this warning, do the following: 1) Pass option use_label_encoder=False when constructing XGBClassifier object; and 2) Encode your labels (y) as integers starting with 0, i.e. 0, 1, 2, ..., [num_class - 1].\n",
      "  warnings.warn(label_encoder_deprecation_msg, UserWarning)\n",
      "C:\\Users\\hhong\\AppData\\Local\\Packages\\PythonSoftwareFoundation.Python.3.8_qbz5n2kfra8p0\\LocalCache\\local-packages\\Python38\\site-packages\\sklearn\\utils\\validation.py:72: DataConversionWarning: A column-vector y was passed when a 1d array was expected. Please change the shape of y to (n_samples, ), for example using ravel().\n",
      "  return f(**kwargs)\n"
     ]
    },
    {
     "name": "stdout",
     "output_type": "stream",
     "text": [
      "\n",
      "43\n",
      "[23:15:44] WARNING: C:/Users/Administrator/workspace/xgboost-win64_release_1.3.0/src/learner.cc:1061: Starting in XGBoost 1.3.0, the default evaluation metric used with the objective 'multi:softprob' was changed from 'merror' to 'mlogloss'. Explicitly set eval_metric if you'd like to restore the old behavior.\n"
     ]
    },
    {
     "name": "stderr",
     "output_type": "stream",
     "text": [
      "C:\\Users\\hhong\\AppData\\Local\\Packages\\PythonSoftwareFoundation.Python.3.8_qbz5n2kfra8p0\\LocalCache\\local-packages\\Python38\\site-packages\\xgboost\\sklearn.py:888: UserWarning: The use of label encoder in XGBClassifier is deprecated and will be removed in a future release. To remove this warning, do the following: 1) Pass option use_label_encoder=False when constructing XGBClassifier object; and 2) Encode your labels (y) as integers starting with 0, i.e. 0, 1, 2, ..., [num_class - 1].\n",
      "  warnings.warn(label_encoder_deprecation_msg, UserWarning)\n",
      "C:\\Users\\hhong\\AppData\\Local\\Packages\\PythonSoftwareFoundation.Python.3.8_qbz5n2kfra8p0\\LocalCache\\local-packages\\Python38\\site-packages\\sklearn\\utils\\validation.py:72: DataConversionWarning: A column-vector y was passed when a 1d array was expected. Please change the shape of y to (n_samples, ), for example using ravel().\n",
      "  return f(**kwargs)\n"
     ]
    },
    {
     "name": "stdout",
     "output_type": "stream",
     "text": [
      "44\n",
      "[23:15:45] WARNING: C:/Users/Administrator/workspace/xgboost-win64_release_1.3.0/src/learner.cc:1061: Starting in XGBoost 1.3.0, the default evaluation metric used with the objective 'multi:softprob' was changed from 'merror' to 'mlogloss'. Explicitly set eval_metric if you'd like to restore the old behavior.\n"
     ]
    },
    {
     "name": "stderr",
     "output_type": "stream",
     "text": [
      "C:\\Users\\hhong\\AppData\\Local\\Packages\\PythonSoftwareFoundation.Python.3.8_qbz5n2kfra8p0\\LocalCache\\local-packages\\Python38\\site-packages\\xgboost\\sklearn.py:888: UserWarning: The use of label encoder in XGBClassifier is deprecated and will be removed in a future release. To remove this warning, do the following: 1) Pass option use_label_encoder=False when constructing XGBClassifier object; and 2) Encode your labels (y) as integers starting with 0, i.e. 0, 1, 2, ..., [num_class - 1].\n",
      "  warnings.warn(label_encoder_deprecation_msg, UserWarning)\n",
      "C:\\Users\\hhong\\AppData\\Local\\Packages\\PythonSoftwareFoundation.Python.3.8_qbz5n2kfra8p0\\LocalCache\\local-packages\\Python38\\site-packages\\sklearn\\utils\\validation.py:72: DataConversionWarning: A column-vector y was passed when a 1d array was expected. Please change the shape of y to (n_samples, ), for example using ravel().\n",
      "  return f(**kwargs)\n"
     ]
    },
    {
     "name": "stdout",
     "output_type": "stream",
     "text": [
      "45\n",
      "[23:15:46] WARNING: C:/Users/Administrator/workspace/xgboost-win64_release_1.3.0/src/learner.cc:1061: Starting in XGBoost 1.3.0, the default evaluation metric used with the objective 'multi:softprob' was changed from 'merror' to 'mlogloss'. Explicitly set eval_metric if you'd like to restore the old behavior.\n"
     ]
    },
    {
     "name": "stderr",
     "output_type": "stream",
     "text": [
      "C:\\Users\\hhong\\AppData\\Local\\Packages\\PythonSoftwareFoundation.Python.3.8_qbz5n2kfra8p0\\LocalCache\\local-packages\\Python38\\site-packages\\xgboost\\sklearn.py:888: UserWarning: The use of label encoder in XGBClassifier is deprecated and will be removed in a future release. To remove this warning, do the following: 1) Pass option use_label_encoder=False when constructing XGBClassifier object; and 2) Encode your labels (y) as integers starting with 0, i.e. 0, 1, 2, ..., [num_class - 1].\n",
      "  warnings.warn(label_encoder_deprecation_msg, UserWarning)\n",
      "C:\\Users\\hhong\\AppData\\Local\\Packages\\PythonSoftwareFoundation.Python.3.8_qbz5n2kfra8p0\\LocalCache\\local-packages\\Python38\\site-packages\\sklearn\\utils\\validation.py:72: DataConversionWarning: A column-vector y was passed when a 1d array was expected. Please change the shape of y to (n_samples, ), for example using ravel().\n",
      "  return f(**kwargs)\n"
     ]
    },
    {
     "name": "stdout",
     "output_type": "stream",
     "text": [
      "46\n",
      "[23:15:47] WARNING: C:/Users/Administrator/workspace/xgboost-win64_release_1.3.0/src/learner.cc:1061: Starting in XGBoost 1.3.0, the default evaluation metric used with the objective 'multi:softprob' was changed from 'merror' to 'mlogloss'. Explicitly set eval_metric if you'd like to restore the old behavior.\n"
     ]
    },
    {
     "name": "stderr",
     "output_type": "stream",
     "text": [
      "C:\\Users\\hhong\\AppData\\Local\\Packages\\PythonSoftwareFoundation.Python.3.8_qbz5n2kfra8p0\\LocalCache\\local-packages\\Python38\\site-packages\\xgboost\\sklearn.py:888: UserWarning: The use of label encoder in XGBClassifier is deprecated and will be removed in a future release. To remove this warning, do the following: 1) Pass option use_label_encoder=False when constructing XGBClassifier object; and 2) Encode your labels (y) as integers starting with 0, i.e. 0, 1, 2, ..., [num_class - 1].\n",
      "  warnings.warn(label_encoder_deprecation_msg, UserWarning)\n",
      "C:\\Users\\hhong\\AppData\\Local\\Packages\\PythonSoftwareFoundation.Python.3.8_qbz5n2kfra8p0\\LocalCache\\local-packages\\Python38\\site-packages\\sklearn\\utils\\validation.py:72: DataConversionWarning: A column-vector y was passed when a 1d array was expected. Please change the shape of y to (n_samples, ), for example using ravel().\n",
      "  return f(**kwargs)\n"
     ]
    },
    {
     "name": "stdout",
     "output_type": "stream",
     "text": [
      "47\n",
      "[23:15:48] WARNING: C:/Users/Administrator/workspace/xgboost-win64_release_1.3.0/src/learner.cc:1061: Starting in XGBoost 1.3.0, the default evaluation metric used with the objective 'multi:softprob' was changed from 'merror' to 'mlogloss'. Explicitly set eval_metric if you'd like to restore the old behavior.\n"
     ]
    },
    {
     "name": "stderr",
     "output_type": "stream",
     "text": [
      "C:\\Users\\hhong\\AppData\\Local\\Packages\\PythonSoftwareFoundation.Python.3.8_qbz5n2kfra8p0\\LocalCache\\local-packages\\Python38\\site-packages\\xgboost\\sklearn.py:888: UserWarning: The use of label encoder in XGBClassifier is deprecated and will be removed in a future release. To remove this warning, do the following: 1) Pass option use_label_encoder=False when constructing XGBClassifier object; and 2) Encode your labels (y) as integers starting with 0, i.e. 0, 1, 2, ..., [num_class - 1].\n",
      "  warnings.warn(label_encoder_deprecation_msg, UserWarning)\n",
      "C:\\Users\\hhong\\AppData\\Local\\Packages\\PythonSoftwareFoundation.Python.3.8_qbz5n2kfra8p0\\LocalCache\\local-packages\\Python38\\site-packages\\sklearn\\utils\\validation.py:72: DataConversionWarning: A column-vector y was passed when a 1d array was expected. Please change the shape of y to (n_samples, ), for example using ravel().\n",
      "  return f(**kwargs)\n"
     ]
    },
    {
     "name": "stdout",
     "output_type": "stream",
     "text": [
      "48\n",
      "[23:15:49] WARNING: C:/Users/Administrator/workspace/xgboost-win64_release_1.3.0/src/learner.cc:1061: Starting in XGBoost 1.3.0, the default evaluation metric used with the objective 'multi:softprob' was changed from 'merror' to 'mlogloss'. Explicitly set eval_metric if you'd like to restore the old behavior.\n"
     ]
    },
    {
     "name": "stderr",
     "output_type": "stream",
     "text": [
      "C:\\Users\\hhong\\AppData\\Local\\Packages\\PythonSoftwareFoundation.Python.3.8_qbz5n2kfra8p0\\LocalCache\\local-packages\\Python38\\site-packages\\xgboost\\sklearn.py:888: UserWarning: The use of label encoder in XGBClassifier is deprecated and will be removed in a future release. To remove this warning, do the following: 1) Pass option use_label_encoder=False when constructing XGBClassifier object; and 2) Encode your labels (y) as integers starting with 0, i.e. 0, 1, 2, ..., [num_class - 1].\n",
      "  warnings.warn(label_encoder_deprecation_msg, UserWarning)\n",
      "C:\\Users\\hhong\\AppData\\Local\\Packages\\PythonSoftwareFoundation.Python.3.8_qbz5n2kfra8p0\\LocalCache\\local-packages\\Python38\\site-packages\\sklearn\\utils\\validation.py:72: DataConversionWarning: A column-vector y was passed when a 1d array was expected. Please change the shape of y to (n_samples, ), for example using ravel().\n",
      "  return f(**kwargs)\n"
     ]
    },
    {
     "name": "stdout",
     "output_type": "stream",
     "text": [
      "49\n",
      "[23:15:50] WARNING: C:/Users/Administrator/workspace/xgboost-win64_release_1.3.0/src/learner.cc:1061: Starting in XGBoost 1.3.0, the default evaluation metric used with the objective 'multi:softprob' was changed from 'merror' to 'mlogloss'. Explicitly set eval_metric if you'd like to restore the old behavior.\n"
     ]
    },
    {
     "name": "stderr",
     "output_type": "stream",
     "text": [
      "C:\\Users\\hhong\\AppData\\Local\\Packages\\PythonSoftwareFoundation.Python.3.8_qbz5n2kfra8p0\\LocalCache\\local-packages\\Python38\\site-packages\\xgboost\\sklearn.py:888: UserWarning: The use of label encoder in XGBClassifier is deprecated and will be removed in a future release. To remove this warning, do the following: 1) Pass option use_label_encoder=False when constructing XGBClassifier object; and 2) Encode your labels (y) as integers starting with 0, i.e. 0, 1, 2, ..., [num_class - 1].\n",
      "  warnings.warn(label_encoder_deprecation_msg, UserWarning)\n",
      "C:\\Users\\hhong\\AppData\\Local\\Packages\\PythonSoftwareFoundation.Python.3.8_qbz5n2kfra8p0\\LocalCache\\local-packages\\Python38\\site-packages\\sklearn\\utils\\validation.py:72: DataConversionWarning: A column-vector y was passed when a 1d array was expected. Please change the shape of y to (n_samples, ), for example using ravel().\n",
      "  return f(**kwargs)\n"
     ]
    },
    {
     "name": "stdout",
     "output_type": "stream",
     "text": [
      "50\n",
      "[23:15:51] WARNING: C:/Users/Administrator/workspace/xgboost-win64_release_1.3.0/src/learner.cc:1061: Starting in XGBoost 1.3.0, the default evaluation metric used with the objective 'multi:softprob' was changed from 'merror' to 'mlogloss'. Explicitly set eval_metric if you'd like to restore the old behavior.\n"
     ]
    },
    {
     "name": "stderr",
     "output_type": "stream",
     "text": [
      "C:\\Users\\hhong\\AppData\\Local\\Packages\\PythonSoftwareFoundation.Python.3.8_qbz5n2kfra8p0\\LocalCache\\local-packages\\Python38\\site-packages\\xgboost\\sklearn.py:888: UserWarning: The use of label encoder in XGBClassifier is deprecated and will be removed in a future release. To remove this warning, do the following: 1) Pass option use_label_encoder=False when constructing XGBClassifier object; and 2) Encode your labels (y) as integers starting with 0, i.e. 0, 1, 2, ..., [num_class - 1].\n",
      "  warnings.warn(label_encoder_deprecation_msg, UserWarning)\n",
      "C:\\Users\\hhong\\AppData\\Local\\Packages\\PythonSoftwareFoundation.Python.3.8_qbz5n2kfra8p0\\LocalCache\\local-packages\\Python38\\site-packages\\sklearn\\utils\\validation.py:72: DataConversionWarning: A column-vector y was passed when a 1d array was expected. Please change the shape of y to (n_samples, ), for example using ravel().\n",
      "  return f(**kwargs)\n"
     ]
    },
    {
     "name": "stdout",
     "output_type": "stream",
     "text": [
      "51\n",
      "[23:15:52] WARNING: C:/Users/Administrator/workspace/xgboost-win64_release_1.3.0/src/learner.cc:1061: Starting in XGBoost 1.3.0, the default evaluation metric used with the objective 'multi:softprob' was changed from 'merror' to 'mlogloss'. Explicitly set eval_metric if you'd like to restore the old behavior.\n"
     ]
    },
    {
     "name": "stderr",
     "output_type": "stream",
     "text": [
      "C:\\Users\\hhong\\AppData\\Local\\Packages\\PythonSoftwareFoundation.Python.3.8_qbz5n2kfra8p0\\LocalCache\\local-packages\\Python38\\site-packages\\xgboost\\sklearn.py:888: UserWarning: The use of label encoder in XGBClassifier is deprecated and will be removed in a future release. To remove this warning, do the following: 1) Pass option use_label_encoder=False when constructing XGBClassifier object; and 2) Encode your labels (y) as integers starting with 0, i.e. 0, 1, 2, ..., [num_class - 1].\n",
      "  warnings.warn(label_encoder_deprecation_msg, UserWarning)\n",
      "C:\\Users\\hhong\\AppData\\Local\\Packages\\PythonSoftwareFoundation.Python.3.8_qbz5n2kfra8p0\\LocalCache\\local-packages\\Python38\\site-packages\\sklearn\\utils\\validation.py:72: DataConversionWarning: A column-vector y was passed when a 1d array was expected. Please change the shape of y to (n_samples, ), for example using ravel().\n",
      "  return f(**kwargs)\n"
     ]
    },
    {
     "name": "stdout",
     "output_type": "stream",
     "text": [
      "52\n",
      "[23:15:53] WARNING: C:/Users/Administrator/workspace/xgboost-win64_release_1.3.0/src/learner.cc:1061: Starting in XGBoost 1.3.0, the default evaluation metric used with the objective 'multi:softprob' was changed from 'merror' to 'mlogloss'. Explicitly set eval_metric if you'd like to restore the old behavior.\n"
     ]
    },
    {
     "name": "stderr",
     "output_type": "stream",
     "text": [
      "C:\\Users\\hhong\\AppData\\Local\\Packages\\PythonSoftwareFoundation.Python.3.8_qbz5n2kfra8p0\\LocalCache\\local-packages\\Python38\\site-packages\\xgboost\\sklearn.py:888: UserWarning: The use of label encoder in XGBClassifier is deprecated and will be removed in a future release. To remove this warning, do the following: 1) Pass option use_label_encoder=False when constructing XGBClassifier object; and 2) Encode your labels (y) as integers starting with 0, i.e. 0, 1, 2, ..., [num_class - 1].\n",
      "  warnings.warn(label_encoder_deprecation_msg, UserWarning)\n",
      "C:\\Users\\hhong\\AppData\\Local\\Packages\\PythonSoftwareFoundation.Python.3.8_qbz5n2kfra8p0\\LocalCache\\local-packages\\Python38\\site-packages\\sklearn\\utils\\validation.py:72: DataConversionWarning: A column-vector y was passed when a 1d array was expected. Please change the shape of y to (n_samples, ), for example using ravel().\n",
      "  return f(**kwargs)\n"
     ]
    },
    {
     "name": "stdout",
     "output_type": "stream",
     "text": [
      "53\n",
      "[23:15:54] WARNING: C:/Users/Administrator/workspace/xgboost-win64_release_1.3.0/src/learner.cc:1061: Starting in XGBoost 1.3.0, the default evaluation metric used with the objective 'multi:softprob' was changed from 'merror' to 'mlogloss'. Explicitly set eval_metric if you'd like to restore the old behavior.\n"
     ]
    },
    {
     "name": "stderr",
     "output_type": "stream",
     "text": [
      "C:\\Users\\hhong\\AppData\\Local\\Packages\\PythonSoftwareFoundation.Python.3.8_qbz5n2kfra8p0\\LocalCache\\local-packages\\Python38\\site-packages\\xgboost\\sklearn.py:888: UserWarning: The use of label encoder in XGBClassifier is deprecated and will be removed in a future release. To remove this warning, do the following: 1) Pass option use_label_encoder=False when constructing XGBClassifier object; and 2) Encode your labels (y) as integers starting with 0, i.e. 0, 1, 2, ..., [num_class - 1].\n",
      "  warnings.warn(label_encoder_deprecation_msg, UserWarning)\n",
      "C:\\Users\\hhong\\AppData\\Local\\Packages\\PythonSoftwareFoundation.Python.3.8_qbz5n2kfra8p0\\LocalCache\\local-packages\\Python38\\site-packages\\sklearn\\utils\\validation.py:72: DataConversionWarning: A column-vector y was passed when a 1d array was expected. Please change the shape of y to (n_samples, ), for example using ravel().\n",
      "  return f(**kwargs)\n"
     ]
    },
    {
     "name": "stdout",
     "output_type": "stream",
     "text": [
      "54\n",
      "[23:15:55] WARNING: C:/Users/Administrator/workspace/xgboost-win64_release_1.3.0/src/learner.cc:1061: Starting in XGBoost 1.3.0, the default evaluation metric used with the objective 'multi:softprob' was changed from 'merror' to 'mlogloss'. Explicitly set eval_metric if you'd like to restore the old behavior.\n"
     ]
    },
    {
     "name": "stderr",
     "output_type": "stream",
     "text": [
      "C:\\Users\\hhong\\AppData\\Local\\Packages\\PythonSoftwareFoundation.Python.3.8_qbz5n2kfra8p0\\LocalCache\\local-packages\\Python38\\site-packages\\xgboost\\sklearn.py:888: UserWarning: The use of label encoder in XGBClassifier is deprecated and will be removed in a future release. To remove this warning, do the following: 1) Pass option use_label_encoder=False when constructing XGBClassifier object; and 2) Encode your labels (y) as integers starting with 0, i.e. 0, 1, 2, ..., [num_class - 1].\n",
      "  warnings.warn(label_encoder_deprecation_msg, UserWarning)\n",
      "C:\\Users\\hhong\\AppData\\Local\\Packages\\PythonSoftwareFoundation.Python.3.8_qbz5n2kfra8p0\\LocalCache\\local-packages\\Python38\\site-packages\\sklearn\\utils\\validation.py:72: DataConversionWarning: A column-vector y was passed when a 1d array was expected. Please change the shape of y to (n_samples, ), for example using ravel().\n",
      "  return f(**kwargs)\n"
     ]
    },
    {
     "name": "stdout",
     "output_type": "stream",
     "text": [
      "55\n",
      "[23:15:56] WARNING: C:/Users/Administrator/workspace/xgboost-win64_release_1.3.0/src/learner.cc:1061: Starting in XGBoost 1.3.0, the default evaluation metric used with the objective 'multi:softprob' was changed from 'merror' to 'mlogloss'. Explicitly set eval_metric if you'd like to restore the old behavior.\n"
     ]
    },
    {
     "name": "stderr",
     "output_type": "stream",
     "text": [
      "C:\\Users\\hhong\\AppData\\Local\\Packages\\PythonSoftwareFoundation.Python.3.8_qbz5n2kfra8p0\\LocalCache\\local-packages\\Python38\\site-packages\\xgboost\\sklearn.py:888: UserWarning: The use of label encoder in XGBClassifier is deprecated and will be removed in a future release. To remove this warning, do the following: 1) Pass option use_label_encoder=False when constructing XGBClassifier object; and 2) Encode your labels (y) as integers starting with 0, i.e. 0, 1, 2, ..., [num_class - 1].\n",
      "  warnings.warn(label_encoder_deprecation_msg, UserWarning)\n",
      "C:\\Users\\hhong\\AppData\\Local\\Packages\\PythonSoftwareFoundation.Python.3.8_qbz5n2kfra8p0\\LocalCache\\local-packages\\Python38\\site-packages\\sklearn\\utils\\validation.py:72: DataConversionWarning: A column-vector y was passed when a 1d array was expected. Please change the shape of y to (n_samples, ), for example using ravel().\n",
      "  return f(**kwargs)\n"
     ]
    },
    {
     "name": "stdout",
     "output_type": "stream",
     "text": [
      "56\n",
      "[23:15:57] WARNING: C:/Users/Administrator/workspace/xgboost-win64_release_1.3.0/src/learner.cc:1061: Starting in XGBoost 1.3.0, the default evaluation metric used with the objective 'multi:softprob' was changed from 'merror' to 'mlogloss'. Explicitly set eval_metric if you'd like to restore the old behavior.\n"
     ]
    },
    {
     "name": "stderr",
     "output_type": "stream",
     "text": [
      "C:\\Users\\hhong\\AppData\\Local\\Packages\\PythonSoftwareFoundation.Python.3.8_qbz5n2kfra8p0\\LocalCache\\local-packages\\Python38\\site-packages\\xgboost\\sklearn.py:888: UserWarning: The use of label encoder in XGBClassifier is deprecated and will be removed in a future release. To remove this warning, do the following: 1) Pass option use_label_encoder=False when constructing XGBClassifier object; and 2) Encode your labels (y) as integers starting with 0, i.e. 0, 1, 2, ..., [num_class - 1].\n",
      "  warnings.warn(label_encoder_deprecation_msg, UserWarning)\n",
      "C:\\Users\\hhong\\AppData\\Local\\Packages\\PythonSoftwareFoundation.Python.3.8_qbz5n2kfra8p0\\LocalCache\\local-packages\\Python38\\site-packages\\sklearn\\utils\\validation.py:72: DataConversionWarning: A column-vector y was passed when a 1d array was expected. Please change the shape of y to (n_samples, ), for example using ravel().\n",
      "  return f(**kwargs)\n"
     ]
    },
    {
     "name": "stdout",
     "output_type": "stream",
     "text": [
      "57\n",
      "[23:15:58] WARNING: C:/Users/Administrator/workspace/xgboost-win64_release_1.3.0/src/learner.cc:1061: Starting in XGBoost 1.3.0, the default evaluation metric used with the objective 'multi:softprob' was changed from 'merror' to 'mlogloss'. Explicitly set eval_metric if you'd like to restore the old behavior.\n"
     ]
    },
    {
     "name": "stderr",
     "output_type": "stream",
     "text": [
      "C:\\Users\\hhong\\AppData\\Local\\Packages\\PythonSoftwareFoundation.Python.3.8_qbz5n2kfra8p0\\LocalCache\\local-packages\\Python38\\site-packages\\xgboost\\sklearn.py:888: UserWarning: The use of label encoder in XGBClassifier is deprecated and will be removed in a future release. To remove this warning, do the following: 1) Pass option use_label_encoder=False when constructing XGBClassifier object; and 2) Encode your labels (y) as integers starting with 0, i.e. 0, 1, 2, ..., [num_class - 1].\n",
      "  warnings.warn(label_encoder_deprecation_msg, UserWarning)\n",
      "C:\\Users\\hhong\\AppData\\Local\\Packages\\PythonSoftwareFoundation.Python.3.8_qbz5n2kfra8p0\\LocalCache\\local-packages\\Python38\\site-packages\\sklearn\\utils\\validation.py:72: DataConversionWarning: A column-vector y was passed when a 1d array was expected. Please change the shape of y to (n_samples, ), for example using ravel().\n",
      "  return f(**kwargs)\n"
     ]
    },
    {
     "name": "stdout",
     "output_type": "stream",
     "text": [
      "58\n",
      "[23:15:58] WARNING: C:/Users/Administrator/workspace/xgboost-win64_release_1.3.0/src/learner.cc:1061: Starting in XGBoost 1.3.0, the default evaluation metric used with the objective 'multi:softprob' was changed from 'merror' to 'mlogloss'. Explicitly set eval_metric if you'd like to restore the old behavior.\n"
     ]
    },
    {
     "name": "stderr",
     "output_type": "stream",
     "text": [
      "C:\\Users\\hhong\\AppData\\Local\\Packages\\PythonSoftwareFoundation.Python.3.8_qbz5n2kfra8p0\\LocalCache\\local-packages\\Python38\\site-packages\\xgboost\\sklearn.py:888: UserWarning: The use of label encoder in XGBClassifier is deprecated and will be removed in a future release. To remove this warning, do the following: 1) Pass option use_label_encoder=False when constructing XGBClassifier object; and 2) Encode your labels (y) as integers starting with 0, i.e. 0, 1, 2, ..., [num_class - 1].\n",
      "  warnings.warn(label_encoder_deprecation_msg, UserWarning)\n",
      "C:\\Users\\hhong\\AppData\\Local\\Packages\\PythonSoftwareFoundation.Python.3.8_qbz5n2kfra8p0\\LocalCache\\local-packages\\Python38\\site-packages\\sklearn\\utils\\validation.py:72: DataConversionWarning: A column-vector y was passed when a 1d array was expected. Please change the shape of y to (n_samples, ), for example using ravel().\n",
      "  return f(**kwargs)\n"
     ]
    },
    {
     "name": "stdout",
     "output_type": "stream",
     "text": [
      "59\n",
      "[23:15:59] WARNING: C:/Users/Administrator/workspace/xgboost-win64_release_1.3.0/src/learner.cc:1061: Starting in XGBoost 1.3.0, the default evaluation metric used with the objective 'multi:softprob' was changed from 'merror' to 'mlogloss'. Explicitly set eval_metric if you'd like to restore the old behavior.\n"
     ]
    },
    {
     "name": "stderr",
     "output_type": "stream",
     "text": [
      "C:\\Users\\hhong\\AppData\\Local\\Packages\\PythonSoftwareFoundation.Python.3.8_qbz5n2kfra8p0\\LocalCache\\local-packages\\Python38\\site-packages\\xgboost\\sklearn.py:888: UserWarning: The use of label encoder in XGBClassifier is deprecated and will be removed in a future release. To remove this warning, do the following: 1) Pass option use_label_encoder=False when constructing XGBClassifier object; and 2) Encode your labels (y) as integers starting with 0, i.e. 0, 1, 2, ..., [num_class - 1].\n",
      "  warnings.warn(label_encoder_deprecation_msg, UserWarning)\n",
      "C:\\Users\\hhong\\AppData\\Local\\Packages\\PythonSoftwareFoundation.Python.3.8_qbz5n2kfra8p0\\LocalCache\\local-packages\\Python38\\site-packages\\sklearn\\utils\\validation.py:72: DataConversionWarning: A column-vector y was passed when a 1d array was expected. Please change the shape of y to (n_samples, ), for example using ravel().\n",
      "  return f(**kwargs)\n"
     ]
    },
    {
     "name": "stdout",
     "output_type": "stream",
     "text": [
      "60\n",
      "[23:16:00] WARNING: C:/Users/Administrator/workspace/xgboost-win64_release_1.3.0/src/learner.cc:1061: Starting in XGBoost 1.3.0, the default evaluation metric used with the objective 'multi:softprob' was changed from 'merror' to 'mlogloss'. Explicitly set eval_metric if you'd like to restore the old behavior.\n"
     ]
    },
    {
     "name": "stderr",
     "output_type": "stream",
     "text": [
      "C:\\Users\\hhong\\AppData\\Local\\Packages\\PythonSoftwareFoundation.Python.3.8_qbz5n2kfra8p0\\LocalCache\\local-packages\\Python38\\site-packages\\xgboost\\sklearn.py:888: UserWarning: The use of label encoder in XGBClassifier is deprecated and will be removed in a future release. To remove this warning, do the following: 1) Pass option use_label_encoder=False when constructing XGBClassifier object; and 2) Encode your labels (y) as integers starting with 0, i.e. 0, 1, 2, ..., [num_class - 1].\n",
      "  warnings.warn(label_encoder_deprecation_msg, UserWarning)\n",
      "C:\\Users\\hhong\\AppData\\Local\\Packages\\PythonSoftwareFoundation.Python.3.8_qbz5n2kfra8p0\\LocalCache\\local-packages\\Python38\\site-packages\\sklearn\\utils\\validation.py:72: DataConversionWarning: A column-vector y was passed when a 1d array was expected. Please change the shape of y to (n_samples, ), for example using ravel().\n",
      "  return f(**kwargs)\n"
     ]
    },
    {
     "name": "stdout",
     "output_type": "stream",
     "text": [
      "61\n",
      "[23:16:01] WARNING: C:/Users/Administrator/workspace/xgboost-win64_release_1.3.0/src/learner.cc:1061: Starting in XGBoost 1.3.0, the default evaluation metric used with the objective 'multi:softprob' was changed from 'merror' to 'mlogloss'. Explicitly set eval_metric if you'd like to restore the old behavior.\n"
     ]
    },
    {
     "name": "stderr",
     "output_type": "stream",
     "text": [
      "C:\\Users\\hhong\\AppData\\Local\\Packages\\PythonSoftwareFoundation.Python.3.8_qbz5n2kfra8p0\\LocalCache\\local-packages\\Python38\\site-packages\\xgboost\\sklearn.py:888: UserWarning: The use of label encoder in XGBClassifier is deprecated and will be removed in a future release. To remove this warning, do the following: 1) Pass option use_label_encoder=False when constructing XGBClassifier object; and 2) Encode your labels (y) as integers starting with 0, i.e. 0, 1, 2, ..., [num_class - 1].\n",
      "  warnings.warn(label_encoder_deprecation_msg, UserWarning)\n",
      "C:\\Users\\hhong\\AppData\\Local\\Packages\\PythonSoftwareFoundation.Python.3.8_qbz5n2kfra8p0\\LocalCache\\local-packages\\Python38\\site-packages\\sklearn\\utils\\validation.py:72: DataConversionWarning: A column-vector y was passed when a 1d array was expected. Please change the shape of y to (n_samples, ), for example using ravel().\n",
      "  return f(**kwargs)\n"
     ]
    },
    {
     "name": "stdout",
     "output_type": "stream",
     "text": [
      "62\n",
      "[23:16:02] WARNING: C:/Users/Administrator/workspace/xgboost-win64_release_1.3.0/src/learner.cc:1061: Starting in XGBoost 1.3.0, the default evaluation metric used with the objective 'multi:softprob' was changed from 'merror' to 'mlogloss'. Explicitly set eval_metric if you'd like to restore the old behavior.\n"
     ]
    },
    {
     "name": "stderr",
     "output_type": "stream",
     "text": [
      "C:\\Users\\hhong\\AppData\\Local\\Packages\\PythonSoftwareFoundation.Python.3.8_qbz5n2kfra8p0\\LocalCache\\local-packages\\Python38\\site-packages\\xgboost\\sklearn.py:888: UserWarning: The use of label encoder in XGBClassifier is deprecated and will be removed in a future release. To remove this warning, do the following: 1) Pass option use_label_encoder=False when constructing XGBClassifier object; and 2) Encode your labels (y) as integers starting with 0, i.e. 0, 1, 2, ..., [num_class - 1].\n",
      "  warnings.warn(label_encoder_deprecation_msg, UserWarning)\n",
      "C:\\Users\\hhong\\AppData\\Local\\Packages\\PythonSoftwareFoundation.Python.3.8_qbz5n2kfra8p0\\LocalCache\\local-packages\\Python38\\site-packages\\sklearn\\utils\\validation.py:72: DataConversionWarning: A column-vector y was passed when a 1d array was expected. Please change the shape of y to (n_samples, ), for example using ravel().\n",
      "  return f(**kwargs)\n"
     ]
    },
    {
     "name": "stdout",
     "output_type": "stream",
     "text": [
      "63\n",
      "[23:16:03] WARNING: C:/Users/Administrator/workspace/xgboost-win64_release_1.3.0/src/learner.cc:1061: Starting in XGBoost 1.3.0, the default evaluation metric used with the objective 'multi:softprob' was changed from 'merror' to 'mlogloss'. Explicitly set eval_metric if you'd like to restore the old behavior.\n"
     ]
    },
    {
     "name": "stderr",
     "output_type": "stream",
     "text": [
      "C:\\Users\\hhong\\AppData\\Local\\Packages\\PythonSoftwareFoundation.Python.3.8_qbz5n2kfra8p0\\LocalCache\\local-packages\\Python38\\site-packages\\xgboost\\sklearn.py:888: UserWarning: The use of label encoder in XGBClassifier is deprecated and will be removed in a future release. To remove this warning, do the following: 1) Pass option use_label_encoder=False when constructing XGBClassifier object; and 2) Encode your labels (y) as integers starting with 0, i.e. 0, 1, 2, ..., [num_class - 1].\n",
      "  warnings.warn(label_encoder_deprecation_msg, UserWarning)\n",
      "C:\\Users\\hhong\\AppData\\Local\\Packages\\PythonSoftwareFoundation.Python.3.8_qbz5n2kfra8p0\\LocalCache\\local-packages\\Python38\\site-packages\\sklearn\\utils\\validation.py:72: DataConversionWarning: A column-vector y was passed when a 1d array was expected. Please change the shape of y to (n_samples, ), for example using ravel().\n",
      "  return f(**kwargs)\n"
     ]
    },
    {
     "name": "stdout",
     "output_type": "stream",
     "text": [
      "64\n",
      "[23:16:04] WARNING: C:/Users/Administrator/workspace/xgboost-win64_release_1.3.0/src/learner.cc:1061: Starting in XGBoost 1.3.0, the default evaluation metric used with the objective 'multi:softprob' was changed from 'merror' to 'mlogloss'. Explicitly set eval_metric if you'd like to restore the old behavior.\n"
     ]
    },
    {
     "name": "stderr",
     "output_type": "stream",
     "text": [
      "C:\\Users\\hhong\\AppData\\Local\\Packages\\PythonSoftwareFoundation.Python.3.8_qbz5n2kfra8p0\\LocalCache\\local-packages\\Python38\\site-packages\\xgboost\\sklearn.py:888: UserWarning: The use of label encoder in XGBClassifier is deprecated and will be removed in a future release. To remove this warning, do the following: 1) Pass option use_label_encoder=False when constructing XGBClassifier object; and 2) Encode your labels (y) as integers starting with 0, i.e. 0, 1, 2, ..., [num_class - 1].\n",
      "  warnings.warn(label_encoder_deprecation_msg, UserWarning)\n",
      "C:\\Users\\hhong\\AppData\\Local\\Packages\\PythonSoftwareFoundation.Python.3.8_qbz5n2kfra8p0\\LocalCache\\local-packages\\Python38\\site-packages\\sklearn\\utils\\validation.py:72: DataConversionWarning: A column-vector y was passed when a 1d array was expected. Please change the shape of y to (n_samples, ), for example using ravel().\n",
      "  return f(**kwargs)\n"
     ]
    },
    {
     "name": "stdout",
     "output_type": "stream",
     "text": [
      "65\n",
      "[23:16:04] WARNING: C:/Users/Administrator/workspace/xgboost-win64_release_1.3.0/src/learner.cc:1061: Starting in XGBoost 1.3.0, the default evaluation metric used with the objective 'multi:softprob' was changed from 'merror' to 'mlogloss'. Explicitly set eval_metric if you'd like to restore the old behavior.\n"
     ]
    },
    {
     "name": "stderr",
     "output_type": "stream",
     "text": [
      "C:\\Users\\hhong\\AppData\\Local\\Packages\\PythonSoftwareFoundation.Python.3.8_qbz5n2kfra8p0\\LocalCache\\local-packages\\Python38\\site-packages\\xgboost\\sklearn.py:888: UserWarning: The use of label encoder in XGBClassifier is deprecated and will be removed in a future release. To remove this warning, do the following: 1) Pass option use_label_encoder=False when constructing XGBClassifier object; and 2) Encode your labels (y) as integers starting with 0, i.e. 0, 1, 2, ..., [num_class - 1].\n",
      "  warnings.warn(label_encoder_deprecation_msg, UserWarning)\n",
      "C:\\Users\\hhong\\AppData\\Local\\Packages\\PythonSoftwareFoundation.Python.3.8_qbz5n2kfra8p0\\LocalCache\\local-packages\\Python38\\site-packages\\sklearn\\utils\\validation.py:72: DataConversionWarning: A column-vector y was passed when a 1d array was expected. Please change the shape of y to (n_samples, ), for example using ravel().\n",
      "  return f(**kwargs)\n"
     ]
    },
    {
     "name": "stdout",
     "output_type": "stream",
     "text": [
      "66\n",
      "[23:16:05] WARNING: C:/Users/Administrator/workspace/xgboost-win64_release_1.3.0/src/learner.cc:1061: Starting in XGBoost 1.3.0, the default evaluation metric used with the objective 'multi:softprob' was changed from 'merror' to 'mlogloss'. Explicitly set eval_metric if you'd like to restore the old behavior.\n"
     ]
    },
    {
     "name": "stderr",
     "output_type": "stream",
     "text": [
      "C:\\Users\\hhong\\AppData\\Local\\Packages\\PythonSoftwareFoundation.Python.3.8_qbz5n2kfra8p0\\LocalCache\\local-packages\\Python38\\site-packages\\xgboost\\sklearn.py:888: UserWarning: The use of label encoder in XGBClassifier is deprecated and will be removed in a future release. To remove this warning, do the following: 1) Pass option use_label_encoder=False when constructing XGBClassifier object; and 2) Encode your labels (y) as integers starting with 0, i.e. 0, 1, 2, ..., [num_class - 1].\n",
      "  warnings.warn(label_encoder_deprecation_msg, UserWarning)\n",
      "C:\\Users\\hhong\\AppData\\Local\\Packages\\PythonSoftwareFoundation.Python.3.8_qbz5n2kfra8p0\\LocalCache\\local-packages\\Python38\\site-packages\\sklearn\\utils\\validation.py:72: DataConversionWarning: A column-vector y was passed when a 1d array was expected. Please change the shape of y to (n_samples, ), for example using ravel().\n",
      "  return f(**kwargs)\n"
     ]
    },
    {
     "name": "stdout",
     "output_type": "stream",
     "text": [
      "67\n",
      "[23:16:06] WARNING: C:/Users/Administrator/workspace/xgboost-win64_release_1.3.0/src/learner.cc:1061: Starting in XGBoost 1.3.0, the default evaluation metric used with the objective 'multi:softprob' was changed from 'merror' to 'mlogloss'. Explicitly set eval_metric if you'd like to restore the old behavior.\n"
     ]
    },
    {
     "name": "stderr",
     "output_type": "stream",
     "text": [
      "C:\\Users\\hhong\\AppData\\Local\\Packages\\PythonSoftwareFoundation.Python.3.8_qbz5n2kfra8p0\\LocalCache\\local-packages\\Python38\\site-packages\\xgboost\\sklearn.py:888: UserWarning: The use of label encoder in XGBClassifier is deprecated and will be removed in a future release. To remove this warning, do the following: 1) Pass option use_label_encoder=False when constructing XGBClassifier object; and 2) Encode your labels (y) as integers starting with 0, i.e. 0, 1, 2, ..., [num_class - 1].\n",
      "  warnings.warn(label_encoder_deprecation_msg, UserWarning)\n",
      "C:\\Users\\hhong\\AppData\\Local\\Packages\\PythonSoftwareFoundation.Python.3.8_qbz5n2kfra8p0\\LocalCache\\local-packages\\Python38\\site-packages\\sklearn\\utils\\validation.py:72: DataConversionWarning: A column-vector y was passed when a 1d array was expected. Please change the shape of y to (n_samples, ), for example using ravel().\n",
      "  return f(**kwargs)\n"
     ]
    },
    {
     "name": "stdout",
     "output_type": "stream",
     "text": [
      "68\n",
      "[23:16:08] WARNING: C:/Users/Administrator/workspace/xgboost-win64_release_1.3.0/src/learner.cc:1061: Starting in XGBoost 1.3.0, the default evaluation metric used with the objective 'multi:softprob' was changed from 'merror' to 'mlogloss'. Explicitly set eval_metric if you'd like to restore the old behavior.\n"
     ]
    },
    {
     "name": "stderr",
     "output_type": "stream",
     "text": [
      "C:\\Users\\hhong\\AppData\\Local\\Packages\\PythonSoftwareFoundation.Python.3.8_qbz5n2kfra8p0\\LocalCache\\local-packages\\Python38\\site-packages\\xgboost\\sklearn.py:888: UserWarning: The use of label encoder in XGBClassifier is deprecated and will be removed in a future release. To remove this warning, do the following: 1) Pass option use_label_encoder=False when constructing XGBClassifier object; and 2) Encode your labels (y) as integers starting with 0, i.e. 0, 1, 2, ..., [num_class - 1].\n",
      "  warnings.warn(label_encoder_deprecation_msg, UserWarning)\n",
      "C:\\Users\\hhong\\AppData\\Local\\Packages\\PythonSoftwareFoundation.Python.3.8_qbz5n2kfra8p0\\LocalCache\\local-packages\\Python38\\site-packages\\sklearn\\utils\\validation.py:72: DataConversionWarning: A column-vector y was passed when a 1d array was expected. Please change the shape of y to (n_samples, ), for example using ravel().\n",
      "  return f(**kwargs)\n"
     ]
    },
    {
     "name": "stdout",
     "output_type": "stream",
     "text": [
      "69\n",
      "[23:16:08] WARNING: C:/Users/Administrator/workspace/xgboost-win64_release_1.3.0/src/learner.cc:1061: Starting in XGBoost 1.3.0, the default evaluation metric used with the objective 'multi:softprob' was changed from 'merror' to 'mlogloss'. Explicitly set eval_metric if you'd like to restore the old behavior.\n"
     ]
    },
    {
     "name": "stderr",
     "output_type": "stream",
     "text": [
      "C:\\Users\\hhong\\AppData\\Local\\Packages\\PythonSoftwareFoundation.Python.3.8_qbz5n2kfra8p0\\LocalCache\\local-packages\\Python38\\site-packages\\xgboost\\sklearn.py:888: UserWarning: The use of label encoder in XGBClassifier is deprecated and will be removed in a future release. To remove this warning, do the following: 1) Pass option use_label_encoder=False when constructing XGBClassifier object; and 2) Encode your labels (y) as integers starting with 0, i.e. 0, 1, 2, ..., [num_class - 1].\n",
      "  warnings.warn(label_encoder_deprecation_msg, UserWarning)\n",
      "C:\\Users\\hhong\\AppData\\Local\\Packages\\PythonSoftwareFoundation.Python.3.8_qbz5n2kfra8p0\\LocalCache\\local-packages\\Python38\\site-packages\\sklearn\\utils\\validation.py:72: DataConversionWarning: A column-vector y was passed when a 1d array was expected. Please change the shape of y to (n_samples, ), for example using ravel().\n",
      "  return f(**kwargs)\n"
     ]
    },
    {
     "name": "stdout",
     "output_type": "stream",
     "text": [
      "70\n",
      "[23:16:09] WARNING: C:/Users/Administrator/workspace/xgboost-win64_release_1.3.0/src/learner.cc:1061: Starting in XGBoost 1.3.0, the default evaluation metric used with the objective 'multi:softprob' was changed from 'merror' to 'mlogloss'. Explicitly set eval_metric if you'd like to restore the old behavior.\n"
     ]
    },
    {
     "name": "stderr",
     "output_type": "stream",
     "text": [
      "C:\\Users\\hhong\\AppData\\Local\\Packages\\PythonSoftwareFoundation.Python.3.8_qbz5n2kfra8p0\\LocalCache\\local-packages\\Python38\\site-packages\\xgboost\\sklearn.py:888: UserWarning: The use of label encoder in XGBClassifier is deprecated and will be removed in a future release. To remove this warning, do the following: 1) Pass option use_label_encoder=False when constructing XGBClassifier object; and 2) Encode your labels (y) as integers starting with 0, i.e. 0, 1, 2, ..., [num_class - 1].\n",
      "  warnings.warn(label_encoder_deprecation_msg, UserWarning)\n",
      "C:\\Users\\hhong\\AppData\\Local\\Packages\\PythonSoftwareFoundation.Python.3.8_qbz5n2kfra8p0\\LocalCache\\local-packages\\Python38\\site-packages\\sklearn\\utils\\validation.py:72: DataConversionWarning: A column-vector y was passed when a 1d array was expected. Please change the shape of y to (n_samples, ), for example using ravel().\n",
      "  return f(**kwargs)\n"
     ]
    },
    {
     "name": "stdout",
     "output_type": "stream",
     "text": [
      "71\n",
      "[23:16:10] WARNING: C:/Users/Administrator/workspace/xgboost-win64_release_1.3.0/src/learner.cc:1061: Starting in XGBoost 1.3.0, the default evaluation metric used with the objective 'multi:softprob' was changed from 'merror' to 'mlogloss'. Explicitly set eval_metric if you'd like to restore the old behavior.\n"
     ]
    },
    {
     "name": "stderr",
     "output_type": "stream",
     "text": [
      "C:\\Users\\hhong\\AppData\\Local\\Packages\\PythonSoftwareFoundation.Python.3.8_qbz5n2kfra8p0\\LocalCache\\local-packages\\Python38\\site-packages\\xgboost\\sklearn.py:888: UserWarning: The use of label encoder in XGBClassifier is deprecated and will be removed in a future release. To remove this warning, do the following: 1) Pass option use_label_encoder=False when constructing XGBClassifier object; and 2) Encode your labels (y) as integers starting with 0, i.e. 0, 1, 2, ..., [num_class - 1].\n",
      "  warnings.warn(label_encoder_deprecation_msg, UserWarning)\n",
      "C:\\Users\\hhong\\AppData\\Local\\Packages\\PythonSoftwareFoundation.Python.3.8_qbz5n2kfra8p0\\LocalCache\\local-packages\\Python38\\site-packages\\sklearn\\utils\\validation.py:72: DataConversionWarning: A column-vector y was passed when a 1d array was expected. Please change the shape of y to (n_samples, ), for example using ravel().\n",
      "  return f(**kwargs)\n"
     ]
    },
    {
     "name": "stdout",
     "output_type": "stream",
     "text": [
      "72\n",
      "[23:16:11] WARNING: C:/Users/Administrator/workspace/xgboost-win64_release_1.3.0/src/learner.cc:1061: Starting in XGBoost 1.3.0, the default evaluation metric used with the objective 'multi:softprob' was changed from 'merror' to 'mlogloss'. Explicitly set eval_metric if you'd like to restore the old behavior.\n"
     ]
    },
    {
     "name": "stderr",
     "output_type": "stream",
     "text": [
      "C:\\Users\\hhong\\AppData\\Local\\Packages\\PythonSoftwareFoundation.Python.3.8_qbz5n2kfra8p0\\LocalCache\\local-packages\\Python38\\site-packages\\xgboost\\sklearn.py:888: UserWarning: The use of label encoder in XGBClassifier is deprecated and will be removed in a future release. To remove this warning, do the following: 1) Pass option use_label_encoder=False when constructing XGBClassifier object; and 2) Encode your labels (y) as integers starting with 0, i.e. 0, 1, 2, ..., [num_class - 1].\n",
      "  warnings.warn(label_encoder_deprecation_msg, UserWarning)\n",
      "C:\\Users\\hhong\\AppData\\Local\\Packages\\PythonSoftwareFoundation.Python.3.8_qbz5n2kfra8p0\\LocalCache\\local-packages\\Python38\\site-packages\\sklearn\\utils\\validation.py:72: DataConversionWarning: A column-vector y was passed when a 1d array was expected. Please change the shape of y to (n_samples, ), for example using ravel().\n",
      "  return f(**kwargs)\n"
     ]
    },
    {
     "name": "stdout",
     "output_type": "stream",
     "text": [
      "73\n",
      "[23:16:12] WARNING: C:/Users/Administrator/workspace/xgboost-win64_release_1.3.0/src/learner.cc:1061: Starting in XGBoost 1.3.0, the default evaluation metric used with the objective 'multi:softprob' was changed from 'merror' to 'mlogloss'. Explicitly set eval_metric if you'd like to restore the old behavior.\n"
     ]
    },
    {
     "name": "stderr",
     "output_type": "stream",
     "text": [
      "C:\\Users\\hhong\\AppData\\Local\\Packages\\PythonSoftwareFoundation.Python.3.8_qbz5n2kfra8p0\\LocalCache\\local-packages\\Python38\\site-packages\\xgboost\\sklearn.py:888: UserWarning: The use of label encoder in XGBClassifier is deprecated and will be removed in a future release. To remove this warning, do the following: 1) Pass option use_label_encoder=False when constructing XGBClassifier object; and 2) Encode your labels (y) as integers starting with 0, i.e. 0, 1, 2, ..., [num_class - 1].\n",
      "  warnings.warn(label_encoder_deprecation_msg, UserWarning)\n",
      "C:\\Users\\hhong\\AppData\\Local\\Packages\\PythonSoftwareFoundation.Python.3.8_qbz5n2kfra8p0\\LocalCache\\local-packages\\Python38\\site-packages\\sklearn\\utils\\validation.py:72: DataConversionWarning: A column-vector y was passed when a 1d array was expected. Please change the shape of y to (n_samples, ), for example using ravel().\n",
      "  return f(**kwargs)\n"
     ]
    },
    {
     "name": "stdout",
     "output_type": "stream",
     "text": [
      "74\n",
      "[23:16:13] WARNING: C:/Users/Administrator/workspace/xgboost-win64_release_1.3.0/src/learner.cc:1061: Starting in XGBoost 1.3.0, the default evaluation metric used with the objective 'multi:softprob' was changed from 'merror' to 'mlogloss'. Explicitly set eval_metric if you'd like to restore the old behavior.\n"
     ]
    },
    {
     "name": "stderr",
     "output_type": "stream",
     "text": [
      "C:\\Users\\hhong\\AppData\\Local\\Packages\\PythonSoftwareFoundation.Python.3.8_qbz5n2kfra8p0\\LocalCache\\local-packages\\Python38\\site-packages\\xgboost\\sklearn.py:888: UserWarning: The use of label encoder in XGBClassifier is deprecated and will be removed in a future release. To remove this warning, do the following: 1) Pass option use_label_encoder=False when constructing XGBClassifier object; and 2) Encode your labels (y) as integers starting with 0, i.e. 0, 1, 2, ..., [num_class - 1].\n",
      "  warnings.warn(label_encoder_deprecation_msg, UserWarning)\n",
      "C:\\Users\\hhong\\AppData\\Local\\Packages\\PythonSoftwareFoundation.Python.3.8_qbz5n2kfra8p0\\LocalCache\\local-packages\\Python38\\site-packages\\sklearn\\utils\\validation.py:72: DataConversionWarning: A column-vector y was passed when a 1d array was expected. Please change the shape of y to (n_samples, ), for example using ravel().\n",
      "  return f(**kwargs)\n"
     ]
    },
    {
     "name": "stdout",
     "output_type": "stream",
     "text": [
      "75\n",
      "[23:16:13] WARNING: C:/Users/Administrator/workspace/xgboost-win64_release_1.3.0/src/learner.cc:1061: Starting in XGBoost 1.3.0, the default evaluation metric used with the objective 'multi:softprob' was changed from 'merror' to 'mlogloss'. Explicitly set eval_metric if you'd like to restore the old behavior.\n"
     ]
    },
    {
     "name": "stderr",
     "output_type": "stream",
     "text": [
      "C:\\Users\\hhong\\AppData\\Local\\Packages\\PythonSoftwareFoundation.Python.3.8_qbz5n2kfra8p0\\LocalCache\\local-packages\\Python38\\site-packages\\xgboost\\sklearn.py:888: UserWarning: The use of label encoder in XGBClassifier is deprecated and will be removed in a future release. To remove this warning, do the following: 1) Pass option use_label_encoder=False when constructing XGBClassifier object; and 2) Encode your labels (y) as integers starting with 0, i.e. 0, 1, 2, ..., [num_class - 1].\n",
      "  warnings.warn(label_encoder_deprecation_msg, UserWarning)\n",
      "C:\\Users\\hhong\\AppData\\Local\\Packages\\PythonSoftwareFoundation.Python.3.8_qbz5n2kfra8p0\\LocalCache\\local-packages\\Python38\\site-packages\\sklearn\\utils\\validation.py:72: DataConversionWarning: A column-vector y was passed when a 1d array was expected. Please change the shape of y to (n_samples, ), for example using ravel().\n",
      "  return f(**kwargs)\n"
     ]
    },
    {
     "name": "stdout",
     "output_type": "stream",
     "text": [
      "76\n",
      "[23:16:14] WARNING: C:/Users/Administrator/workspace/xgboost-win64_release_1.3.0/src/learner.cc:1061: Starting in XGBoost 1.3.0, the default evaluation metric used with the objective 'multi:softprob' was changed from 'merror' to 'mlogloss'. Explicitly set eval_metric if you'd like to restore the old behavior.\n"
     ]
    },
    {
     "name": "stderr",
     "output_type": "stream",
     "text": [
      "C:\\Users\\hhong\\AppData\\Local\\Packages\\PythonSoftwareFoundation.Python.3.8_qbz5n2kfra8p0\\LocalCache\\local-packages\\Python38\\site-packages\\xgboost\\sklearn.py:888: UserWarning: The use of label encoder in XGBClassifier is deprecated and will be removed in a future release. To remove this warning, do the following: 1) Pass option use_label_encoder=False when constructing XGBClassifier object; and 2) Encode your labels (y) as integers starting with 0, i.e. 0, 1, 2, ..., [num_class - 1].\n",
      "  warnings.warn(label_encoder_deprecation_msg, UserWarning)\n",
      "C:\\Users\\hhong\\AppData\\Local\\Packages\\PythonSoftwareFoundation.Python.3.8_qbz5n2kfra8p0\\LocalCache\\local-packages\\Python38\\site-packages\\sklearn\\utils\\validation.py:72: DataConversionWarning: A column-vector y was passed when a 1d array was expected. Please change the shape of y to (n_samples, ), for example using ravel().\n",
      "  return f(**kwargs)\n"
     ]
    },
    {
     "name": "stdout",
     "output_type": "stream",
     "text": [
      "77\n",
      "[23:16:15] WARNING: C:/Users/Administrator/workspace/xgboost-win64_release_1.3.0/src/learner.cc:1061: Starting in XGBoost 1.3.0, the default evaluation metric used with the objective 'multi:softprob' was changed from 'merror' to 'mlogloss'. Explicitly set eval_metric if you'd like to restore the old behavior.\n"
     ]
    },
    {
     "name": "stderr",
     "output_type": "stream",
     "text": [
      "C:\\Users\\hhong\\AppData\\Local\\Packages\\PythonSoftwareFoundation.Python.3.8_qbz5n2kfra8p0\\LocalCache\\local-packages\\Python38\\site-packages\\xgboost\\sklearn.py:888: UserWarning: The use of label encoder in XGBClassifier is deprecated and will be removed in a future release. To remove this warning, do the following: 1) Pass option use_label_encoder=False when constructing XGBClassifier object; and 2) Encode your labels (y) as integers starting with 0, i.e. 0, 1, 2, ..., [num_class - 1].\n",
      "  warnings.warn(label_encoder_deprecation_msg, UserWarning)\n",
      "C:\\Users\\hhong\\AppData\\Local\\Packages\\PythonSoftwareFoundation.Python.3.8_qbz5n2kfra8p0\\LocalCache\\local-packages\\Python38\\site-packages\\sklearn\\utils\\validation.py:72: DataConversionWarning: A column-vector y was passed when a 1d array was expected. Please change the shape of y to (n_samples, ), for example using ravel().\n",
      "  return f(**kwargs)\n"
     ]
    },
    {
     "name": "stdout",
     "output_type": "stream",
     "text": [
      "78\n",
      "[23:16:16] WARNING: C:/Users/Administrator/workspace/xgboost-win64_release_1.3.0/src/learner.cc:1061: Starting in XGBoost 1.3.0, the default evaluation metric used with the objective 'multi:softprob' was changed from 'merror' to 'mlogloss'. Explicitly set eval_metric if you'd like to restore the old behavior.\n"
     ]
    },
    {
     "name": "stderr",
     "output_type": "stream",
     "text": [
      "C:\\Users\\hhong\\AppData\\Local\\Packages\\PythonSoftwareFoundation.Python.3.8_qbz5n2kfra8p0\\LocalCache\\local-packages\\Python38\\site-packages\\xgboost\\sklearn.py:888: UserWarning: The use of label encoder in XGBClassifier is deprecated and will be removed in a future release. To remove this warning, do the following: 1) Pass option use_label_encoder=False when constructing XGBClassifier object; and 2) Encode your labels (y) as integers starting with 0, i.e. 0, 1, 2, ..., [num_class - 1].\n",
      "  warnings.warn(label_encoder_deprecation_msg, UserWarning)\n",
      "C:\\Users\\hhong\\AppData\\Local\\Packages\\PythonSoftwareFoundation.Python.3.8_qbz5n2kfra8p0\\LocalCache\\local-packages\\Python38\\site-packages\\sklearn\\utils\\validation.py:72: DataConversionWarning: A column-vector y was passed when a 1d array was expected. Please change the shape of y to (n_samples, ), for example using ravel().\n",
      "  return f(**kwargs)\n"
     ]
    },
    {
     "name": "stdout",
     "output_type": "stream",
     "text": [
      "79\n",
      "[23:16:17] WARNING: C:/Users/Administrator/workspace/xgboost-win64_release_1.3.0/src/learner.cc:1061: Starting in XGBoost 1.3.0, the default evaluation metric used with the objective 'multi:softprob' was changed from 'merror' to 'mlogloss'. Explicitly set eval_metric if you'd like to restore the old behavior.\n"
     ]
    },
    {
     "name": "stderr",
     "output_type": "stream",
     "text": [
      "C:\\Users\\hhong\\AppData\\Local\\Packages\\PythonSoftwareFoundation.Python.3.8_qbz5n2kfra8p0\\LocalCache\\local-packages\\Python38\\site-packages\\xgboost\\sklearn.py:888: UserWarning: The use of label encoder in XGBClassifier is deprecated and will be removed in a future release. To remove this warning, do the following: 1) Pass option use_label_encoder=False when constructing XGBClassifier object; and 2) Encode your labels (y) as integers starting with 0, i.e. 0, 1, 2, ..., [num_class - 1].\n",
      "  warnings.warn(label_encoder_deprecation_msg, UserWarning)\n",
      "C:\\Users\\hhong\\AppData\\Local\\Packages\\PythonSoftwareFoundation.Python.3.8_qbz5n2kfra8p0\\LocalCache\\local-packages\\Python38\\site-packages\\sklearn\\utils\\validation.py:72: DataConversionWarning: A column-vector y was passed when a 1d array was expected. Please change the shape of y to (n_samples, ), for example using ravel().\n",
      "  return f(**kwargs)\n"
     ]
    },
    {
     "name": "stdout",
     "output_type": "stream",
     "text": [
      "80\n",
      "[23:16:18] WARNING: C:/Users/Administrator/workspace/xgboost-win64_release_1.3.0/src/learner.cc:1061: Starting in XGBoost 1.3.0, the default evaluation metric used with the objective 'multi:softprob' was changed from 'merror' to 'mlogloss'. Explicitly set eval_metric if you'd like to restore the old behavior.\n"
     ]
    },
    {
     "name": "stderr",
     "output_type": "stream",
     "text": [
      "C:\\Users\\hhong\\AppData\\Local\\Packages\\PythonSoftwareFoundation.Python.3.8_qbz5n2kfra8p0\\LocalCache\\local-packages\\Python38\\site-packages\\xgboost\\sklearn.py:888: UserWarning: The use of label encoder in XGBClassifier is deprecated and will be removed in a future release. To remove this warning, do the following: 1) Pass option use_label_encoder=False when constructing XGBClassifier object; and 2) Encode your labels (y) as integers starting with 0, i.e. 0, 1, 2, ..., [num_class - 1].\n",
      "  warnings.warn(label_encoder_deprecation_msg, UserWarning)\n",
      "C:\\Users\\hhong\\AppData\\Local\\Packages\\PythonSoftwareFoundation.Python.3.8_qbz5n2kfra8p0\\LocalCache\\local-packages\\Python38\\site-packages\\sklearn\\utils\\validation.py:72: DataConversionWarning: A column-vector y was passed when a 1d array was expected. Please change the shape of y to (n_samples, ), for example using ravel().\n",
      "  return f(**kwargs)\n"
     ]
    },
    {
     "name": "stdout",
     "output_type": "stream",
     "text": [
      "81\n",
      "[23:16:19] WARNING: C:/Users/Administrator/workspace/xgboost-win64_release_1.3.0/src/learner.cc:1061: Starting in XGBoost 1.3.0, the default evaluation metric used with the objective 'multi:softprob' was changed from 'merror' to 'mlogloss'. Explicitly set eval_metric if you'd like to restore the old behavior.\n"
     ]
    },
    {
     "name": "stderr",
     "output_type": "stream",
     "text": [
      "C:\\Users\\hhong\\AppData\\Local\\Packages\\PythonSoftwareFoundation.Python.3.8_qbz5n2kfra8p0\\LocalCache\\local-packages\\Python38\\site-packages\\xgboost\\sklearn.py:888: UserWarning: The use of label encoder in XGBClassifier is deprecated and will be removed in a future release. To remove this warning, do the following: 1) Pass option use_label_encoder=False when constructing XGBClassifier object; and 2) Encode your labels (y) as integers starting with 0, i.e. 0, 1, 2, ..., [num_class - 1].\n",
      "  warnings.warn(label_encoder_deprecation_msg, UserWarning)\n",
      "C:\\Users\\hhong\\AppData\\Local\\Packages\\PythonSoftwareFoundation.Python.3.8_qbz5n2kfra8p0\\LocalCache\\local-packages\\Python38\\site-packages\\sklearn\\utils\\validation.py:72: DataConversionWarning: A column-vector y was passed when a 1d array was expected. Please change the shape of y to (n_samples, ), for example using ravel().\n",
      "  return f(**kwargs)\n"
     ]
    },
    {
     "name": "stdout",
     "output_type": "stream",
     "text": [
      "82\n",
      "[23:16:20] WARNING: C:/Users/Administrator/workspace/xgboost-win64_release_1.3.0/src/learner.cc:1061: Starting in XGBoost 1.3.0, the default evaluation metric used with the objective 'multi:softprob' was changed from 'merror' to 'mlogloss'. Explicitly set eval_metric if you'd like to restore the old behavior.\n"
     ]
    },
    {
     "name": "stderr",
     "output_type": "stream",
     "text": [
      "C:\\Users\\hhong\\AppData\\Local\\Packages\\PythonSoftwareFoundation.Python.3.8_qbz5n2kfra8p0\\LocalCache\\local-packages\\Python38\\site-packages\\xgboost\\sklearn.py:888: UserWarning: The use of label encoder in XGBClassifier is deprecated and will be removed in a future release. To remove this warning, do the following: 1) Pass option use_label_encoder=False when constructing XGBClassifier object; and 2) Encode your labels (y) as integers starting with 0, i.e. 0, 1, 2, ..., [num_class - 1].\n",
      "  warnings.warn(label_encoder_deprecation_msg, UserWarning)\n",
      "C:\\Users\\hhong\\AppData\\Local\\Packages\\PythonSoftwareFoundation.Python.3.8_qbz5n2kfra8p0\\LocalCache\\local-packages\\Python38\\site-packages\\sklearn\\utils\\validation.py:72: DataConversionWarning: A column-vector y was passed when a 1d array was expected. Please change the shape of y to (n_samples, ), for example using ravel().\n",
      "  return f(**kwargs)\n"
     ]
    },
    {
     "name": "stdout",
     "output_type": "stream",
     "text": [
      "83\n",
      "[23:16:21] WARNING: C:/Users/Administrator/workspace/xgboost-win64_release_1.3.0/src/learner.cc:1061: Starting in XGBoost 1.3.0, the default evaluation metric used with the objective 'multi:softprob' was changed from 'merror' to 'mlogloss'. Explicitly set eval_metric if you'd like to restore the old behavior.\n"
     ]
    },
    {
     "name": "stderr",
     "output_type": "stream",
     "text": [
      "C:\\Users\\hhong\\AppData\\Local\\Packages\\PythonSoftwareFoundation.Python.3.8_qbz5n2kfra8p0\\LocalCache\\local-packages\\Python38\\site-packages\\xgboost\\sklearn.py:888: UserWarning: The use of label encoder in XGBClassifier is deprecated and will be removed in a future release. To remove this warning, do the following: 1) Pass option use_label_encoder=False when constructing XGBClassifier object; and 2) Encode your labels (y) as integers starting with 0, i.e. 0, 1, 2, ..., [num_class - 1].\n",
      "  warnings.warn(label_encoder_deprecation_msg, UserWarning)\n",
      "C:\\Users\\hhong\\AppData\\Local\\Packages\\PythonSoftwareFoundation.Python.3.8_qbz5n2kfra8p0\\LocalCache\\local-packages\\Python38\\site-packages\\sklearn\\utils\\validation.py:72: DataConversionWarning: A column-vector y was passed when a 1d array was expected. Please change the shape of y to (n_samples, ), for example using ravel().\n",
      "  return f(**kwargs)\n"
     ]
    },
    {
     "name": "stdout",
     "output_type": "stream",
     "text": [
      "84\n",
      "[23:16:22] WARNING: C:/Users/Administrator/workspace/xgboost-win64_release_1.3.0/src/learner.cc:1061: Starting in XGBoost 1.3.0, the default evaluation metric used with the objective 'multi:softprob' was changed from 'merror' to 'mlogloss'. Explicitly set eval_metric if you'd like to restore the old behavior.\n"
     ]
    },
    {
     "name": "stderr",
     "output_type": "stream",
     "text": [
      "C:\\Users\\hhong\\AppData\\Local\\Packages\\PythonSoftwareFoundation.Python.3.8_qbz5n2kfra8p0\\LocalCache\\local-packages\\Python38\\site-packages\\xgboost\\sklearn.py:888: UserWarning: The use of label encoder in XGBClassifier is deprecated and will be removed in a future release. To remove this warning, do the following: 1) Pass option use_label_encoder=False when constructing XGBClassifier object; and 2) Encode your labels (y) as integers starting with 0, i.e. 0, 1, 2, ..., [num_class - 1].\n",
      "  warnings.warn(label_encoder_deprecation_msg, UserWarning)\n",
      "C:\\Users\\hhong\\AppData\\Local\\Packages\\PythonSoftwareFoundation.Python.3.8_qbz5n2kfra8p0\\LocalCache\\local-packages\\Python38\\site-packages\\sklearn\\utils\\validation.py:72: DataConversionWarning: A column-vector y was passed when a 1d array was expected. Please change the shape of y to (n_samples, ), for example using ravel().\n",
      "  return f(**kwargs)\n"
     ]
    },
    {
     "name": "stdout",
     "output_type": "stream",
     "text": [
      "85\n",
      "[23:16:22] WARNING: C:/Users/Administrator/workspace/xgboost-win64_release_1.3.0/src/learner.cc:1061: Starting in XGBoost 1.3.0, the default evaluation metric used with the objective 'multi:softprob' was changed from 'merror' to 'mlogloss'. Explicitly set eval_metric if you'd like to restore the old behavior.\n"
     ]
    },
    {
     "name": "stderr",
     "output_type": "stream",
     "text": [
      "C:\\Users\\hhong\\AppData\\Local\\Packages\\PythonSoftwareFoundation.Python.3.8_qbz5n2kfra8p0\\LocalCache\\local-packages\\Python38\\site-packages\\xgboost\\sklearn.py:888: UserWarning: The use of label encoder in XGBClassifier is deprecated and will be removed in a future release. To remove this warning, do the following: 1) Pass option use_label_encoder=False when constructing XGBClassifier object; and 2) Encode your labels (y) as integers starting with 0, i.e. 0, 1, 2, ..., [num_class - 1].\n",
      "  warnings.warn(label_encoder_deprecation_msg, UserWarning)\n",
      "C:\\Users\\hhong\\AppData\\Local\\Packages\\PythonSoftwareFoundation.Python.3.8_qbz5n2kfra8p0\\LocalCache\\local-packages\\Python38\\site-packages\\sklearn\\utils\\validation.py:72: DataConversionWarning: A column-vector y was passed when a 1d array was expected. Please change the shape of y to (n_samples, ), for example using ravel().\n",
      "  return f(**kwargs)\n"
     ]
    },
    {
     "name": "stdout",
     "output_type": "stream",
     "text": [
      "86\n",
      "[23:16:23] WARNING: C:/Users/Administrator/workspace/xgboost-win64_release_1.3.0/src/learner.cc:1061: Starting in XGBoost 1.3.0, the default evaluation metric used with the objective 'multi:softprob' was changed from 'merror' to 'mlogloss'. Explicitly set eval_metric if you'd like to restore the old behavior.\n"
     ]
    },
    {
     "name": "stderr",
     "output_type": "stream",
     "text": [
      "C:\\Users\\hhong\\AppData\\Local\\Packages\\PythonSoftwareFoundation.Python.3.8_qbz5n2kfra8p0\\LocalCache\\local-packages\\Python38\\site-packages\\xgboost\\sklearn.py:888: UserWarning: The use of label encoder in XGBClassifier is deprecated and will be removed in a future release. To remove this warning, do the following: 1) Pass option use_label_encoder=False when constructing XGBClassifier object; and 2) Encode your labels (y) as integers starting with 0, i.e. 0, 1, 2, ..., [num_class - 1].\n",
      "  warnings.warn(label_encoder_deprecation_msg, UserWarning)\n",
      "C:\\Users\\hhong\\AppData\\Local\\Packages\\PythonSoftwareFoundation.Python.3.8_qbz5n2kfra8p0\\LocalCache\\local-packages\\Python38\\site-packages\\sklearn\\utils\\validation.py:72: DataConversionWarning: A column-vector y was passed when a 1d array was expected. Please change the shape of y to (n_samples, ), for example using ravel().\n",
      "  return f(**kwargs)\n"
     ]
    },
    {
     "name": "stdout",
     "output_type": "stream",
     "text": [
      "87\n",
      "[23:16:24] WARNING: C:/Users/Administrator/workspace/xgboost-win64_release_1.3.0/src/learner.cc:1061: Starting in XGBoost 1.3.0, the default evaluation metric used with the objective 'multi:softprob' was changed from 'merror' to 'mlogloss'. Explicitly set eval_metric if you'd like to restore the old behavior.\n"
     ]
    },
    {
     "name": "stderr",
     "output_type": "stream",
     "text": [
      "C:\\Users\\hhong\\AppData\\Local\\Packages\\PythonSoftwareFoundation.Python.3.8_qbz5n2kfra8p0\\LocalCache\\local-packages\\Python38\\site-packages\\xgboost\\sklearn.py:888: UserWarning: The use of label encoder in XGBClassifier is deprecated and will be removed in a future release. To remove this warning, do the following: 1) Pass option use_label_encoder=False when constructing XGBClassifier object; and 2) Encode your labels (y) as integers starting with 0, i.e. 0, 1, 2, ..., [num_class - 1].\n",
      "  warnings.warn(label_encoder_deprecation_msg, UserWarning)\n",
      "C:\\Users\\hhong\\AppData\\Local\\Packages\\PythonSoftwareFoundation.Python.3.8_qbz5n2kfra8p0\\LocalCache\\local-packages\\Python38\\site-packages\\sklearn\\utils\\validation.py:72: DataConversionWarning: A column-vector y was passed when a 1d array was expected. Please change the shape of y to (n_samples, ), for example using ravel().\n",
      "  return f(**kwargs)\n"
     ]
    },
    {
     "name": "stdout",
     "output_type": "stream",
     "text": [
      "88\n",
      "[23:16:25] WARNING: C:/Users/Administrator/workspace/xgboost-win64_release_1.3.0/src/learner.cc:1061: Starting in XGBoost 1.3.0, the default evaluation metric used with the objective 'multi:softprob' was changed from 'merror' to 'mlogloss'. Explicitly set eval_metric if you'd like to restore the old behavior.\n"
     ]
    },
    {
     "name": "stderr",
     "output_type": "stream",
     "text": [
      "C:\\Users\\hhong\\AppData\\Local\\Packages\\PythonSoftwareFoundation.Python.3.8_qbz5n2kfra8p0\\LocalCache\\local-packages\\Python38\\site-packages\\xgboost\\sklearn.py:888: UserWarning: The use of label encoder in XGBClassifier is deprecated and will be removed in a future release. To remove this warning, do the following: 1) Pass option use_label_encoder=False when constructing XGBClassifier object; and 2) Encode your labels (y) as integers starting with 0, i.e. 0, 1, 2, ..., [num_class - 1].\n",
      "  warnings.warn(label_encoder_deprecation_msg, UserWarning)\n",
      "C:\\Users\\hhong\\AppData\\Local\\Packages\\PythonSoftwareFoundation.Python.3.8_qbz5n2kfra8p0\\LocalCache\\local-packages\\Python38\\site-packages\\sklearn\\utils\\validation.py:72: DataConversionWarning: A column-vector y was passed when a 1d array was expected. Please change the shape of y to (n_samples, ), for example using ravel().\n",
      "  return f(**kwargs)\n"
     ]
    },
    {
     "name": "stdout",
     "output_type": "stream",
     "text": [
      "89\n",
      "[23:16:26] WARNING: C:/Users/Administrator/workspace/xgboost-win64_release_1.3.0/src/learner.cc:1061: Starting in XGBoost 1.3.0, the default evaluation metric used with the objective 'multi:softprob' was changed from 'merror' to 'mlogloss'. Explicitly set eval_metric if you'd like to restore the old behavior.\n"
     ]
    },
    {
     "name": "stderr",
     "output_type": "stream",
     "text": [
      "C:\\Users\\hhong\\AppData\\Local\\Packages\\PythonSoftwareFoundation.Python.3.8_qbz5n2kfra8p0\\LocalCache\\local-packages\\Python38\\site-packages\\xgboost\\sklearn.py:888: UserWarning: The use of label encoder in XGBClassifier is deprecated and will be removed in a future release. To remove this warning, do the following: 1) Pass option use_label_encoder=False when constructing XGBClassifier object; and 2) Encode your labels (y) as integers starting with 0, i.e. 0, 1, 2, ..., [num_class - 1].\n",
      "  warnings.warn(label_encoder_deprecation_msg, UserWarning)\n",
      "C:\\Users\\hhong\\AppData\\Local\\Packages\\PythonSoftwareFoundation.Python.3.8_qbz5n2kfra8p0\\LocalCache\\local-packages\\Python38\\site-packages\\sklearn\\utils\\validation.py:72: DataConversionWarning: A column-vector y was passed when a 1d array was expected. Please change the shape of y to (n_samples, ), for example using ravel().\n",
      "  return f(**kwargs)\n"
     ]
    },
    {
     "name": "stdout",
     "output_type": "stream",
     "text": [
      "90\n",
      "[23:16:27] WARNING: C:/Users/Administrator/workspace/xgboost-win64_release_1.3.0/src/learner.cc:1061: Starting in XGBoost 1.3.0, the default evaluation metric used with the objective 'multi:softprob' was changed from 'merror' to 'mlogloss'. Explicitly set eval_metric if you'd like to restore the old behavior.\n"
     ]
    },
    {
     "name": "stderr",
     "output_type": "stream",
     "text": [
      "C:\\Users\\hhong\\AppData\\Local\\Packages\\PythonSoftwareFoundation.Python.3.8_qbz5n2kfra8p0\\LocalCache\\local-packages\\Python38\\site-packages\\xgboost\\sklearn.py:888: UserWarning: The use of label encoder in XGBClassifier is deprecated and will be removed in a future release. To remove this warning, do the following: 1) Pass option use_label_encoder=False when constructing XGBClassifier object; and 2) Encode your labels (y) as integers starting with 0, i.e. 0, 1, 2, ..., [num_class - 1].\n",
      "  warnings.warn(label_encoder_deprecation_msg, UserWarning)\n",
      "C:\\Users\\hhong\\AppData\\Local\\Packages\\PythonSoftwareFoundation.Python.3.8_qbz5n2kfra8p0\\LocalCache\\local-packages\\Python38\\site-packages\\sklearn\\utils\\validation.py:72: DataConversionWarning: A column-vector y was passed when a 1d array was expected. Please change the shape of y to (n_samples, ), for example using ravel().\n",
      "  return f(**kwargs)\n"
     ]
    },
    {
     "name": "stdout",
     "output_type": "stream",
     "text": [
      "91\n",
      "[23:16:28] WARNING: C:/Users/Administrator/workspace/xgboost-win64_release_1.3.0/src/learner.cc:1061: Starting in XGBoost 1.3.0, the default evaluation metric used with the objective 'multi:softprob' was changed from 'merror' to 'mlogloss'. Explicitly set eval_metric if you'd like to restore the old behavior.\n"
     ]
    },
    {
     "name": "stderr",
     "output_type": "stream",
     "text": [
      "C:\\Users\\hhong\\AppData\\Local\\Packages\\PythonSoftwareFoundation.Python.3.8_qbz5n2kfra8p0\\LocalCache\\local-packages\\Python38\\site-packages\\xgboost\\sklearn.py:888: UserWarning: The use of label encoder in XGBClassifier is deprecated and will be removed in a future release. To remove this warning, do the following: 1) Pass option use_label_encoder=False when constructing XGBClassifier object; and 2) Encode your labels (y) as integers starting with 0, i.e. 0, 1, 2, ..., [num_class - 1].\n",
      "  warnings.warn(label_encoder_deprecation_msg, UserWarning)\n",
      "C:\\Users\\hhong\\AppData\\Local\\Packages\\PythonSoftwareFoundation.Python.3.8_qbz5n2kfra8p0\\LocalCache\\local-packages\\Python38\\site-packages\\sklearn\\utils\\validation.py:72: DataConversionWarning: A column-vector y was passed when a 1d array was expected. Please change the shape of y to (n_samples, ), for example using ravel().\n",
      "  return f(**kwargs)\n"
     ]
    },
    {
     "name": "stdout",
     "output_type": "stream",
     "text": [
      "92\n",
      "[23:16:28] WARNING: C:/Users/Administrator/workspace/xgboost-win64_release_1.3.0/src/learner.cc:1061: Starting in XGBoost 1.3.0, the default evaluation metric used with the objective 'multi:softprob' was changed from 'merror' to 'mlogloss'. Explicitly set eval_metric if you'd like to restore the old behavior.\n"
     ]
    },
    {
     "name": "stderr",
     "output_type": "stream",
     "text": [
      "C:\\Users\\hhong\\AppData\\Local\\Packages\\PythonSoftwareFoundation.Python.3.8_qbz5n2kfra8p0\\LocalCache\\local-packages\\Python38\\site-packages\\xgboost\\sklearn.py:888: UserWarning: The use of label encoder in XGBClassifier is deprecated and will be removed in a future release. To remove this warning, do the following: 1) Pass option use_label_encoder=False when constructing XGBClassifier object; and 2) Encode your labels (y) as integers starting with 0, i.e. 0, 1, 2, ..., [num_class - 1].\n",
      "  warnings.warn(label_encoder_deprecation_msg, UserWarning)\n",
      "C:\\Users\\hhong\\AppData\\Local\\Packages\\PythonSoftwareFoundation.Python.3.8_qbz5n2kfra8p0\\LocalCache\\local-packages\\Python38\\site-packages\\sklearn\\utils\\validation.py:72: DataConversionWarning: A column-vector y was passed when a 1d array was expected. Please change the shape of y to (n_samples, ), for example using ravel().\n",
      "  return f(**kwargs)\n"
     ]
    },
    {
     "name": "stdout",
     "output_type": "stream",
     "text": [
      "93\n",
      "[23:16:30] WARNING: C:/Users/Administrator/workspace/xgboost-win64_release_1.3.0/src/learner.cc:1061: Starting in XGBoost 1.3.0, the default evaluation metric used with the objective 'multi:softprob' was changed from 'merror' to 'mlogloss'. Explicitly set eval_metric if you'd like to restore the old behavior.\n"
     ]
    },
    {
     "name": "stderr",
     "output_type": "stream",
     "text": [
      "C:\\Users\\hhong\\AppData\\Local\\Packages\\PythonSoftwareFoundation.Python.3.8_qbz5n2kfra8p0\\LocalCache\\local-packages\\Python38\\site-packages\\xgboost\\sklearn.py:888: UserWarning: The use of label encoder in XGBClassifier is deprecated and will be removed in a future release. To remove this warning, do the following: 1) Pass option use_label_encoder=False when constructing XGBClassifier object; and 2) Encode your labels (y) as integers starting with 0, i.e. 0, 1, 2, ..., [num_class - 1].\n",
      "  warnings.warn(label_encoder_deprecation_msg, UserWarning)\n",
      "C:\\Users\\hhong\\AppData\\Local\\Packages\\PythonSoftwareFoundation.Python.3.8_qbz5n2kfra8p0\\LocalCache\\local-packages\\Python38\\site-packages\\sklearn\\utils\\validation.py:72: DataConversionWarning: A column-vector y was passed when a 1d array was expected. Please change the shape of y to (n_samples, ), for example using ravel().\n",
      "  return f(**kwargs)\n"
     ]
    },
    {
     "name": "stdout",
     "output_type": "stream",
     "text": [
      "94\n",
      "[23:16:30] WARNING: C:/Users/Administrator/workspace/xgboost-win64_release_1.3.0/src/learner.cc:1061: Starting in XGBoost 1.3.0, the default evaluation metric used with the objective 'multi:softprob' was changed from 'merror' to 'mlogloss'. Explicitly set eval_metric if you'd like to restore the old behavior.\n"
     ]
    },
    {
     "name": "stderr",
     "output_type": "stream",
     "text": [
      "C:\\Users\\hhong\\AppData\\Local\\Packages\\PythonSoftwareFoundation.Python.3.8_qbz5n2kfra8p0\\LocalCache\\local-packages\\Python38\\site-packages\\xgboost\\sklearn.py:888: UserWarning: The use of label encoder in XGBClassifier is deprecated and will be removed in a future release. To remove this warning, do the following: 1) Pass option use_label_encoder=False when constructing XGBClassifier object; and 2) Encode your labels (y) as integers starting with 0, i.e. 0, 1, 2, ..., [num_class - 1].\n",
      "  warnings.warn(label_encoder_deprecation_msg, UserWarning)\n",
      "C:\\Users\\hhong\\AppData\\Local\\Packages\\PythonSoftwareFoundation.Python.3.8_qbz5n2kfra8p0\\LocalCache\\local-packages\\Python38\\site-packages\\sklearn\\utils\\validation.py:72: DataConversionWarning: A column-vector y was passed when a 1d array was expected. Please change the shape of y to (n_samples, ), for example using ravel().\n",
      "  return f(**kwargs)\n"
     ]
    },
    {
     "name": "stdout",
     "output_type": "stream",
     "text": [
      "95\n",
      "[23:16:31] WARNING: C:/Users/Administrator/workspace/xgboost-win64_release_1.3.0/src/learner.cc:1061: Starting in XGBoost 1.3.0, the default evaluation metric used with the objective 'multi:softprob' was changed from 'merror' to 'mlogloss'. Explicitly set eval_metric if you'd like to restore the old behavior.\n"
     ]
    },
    {
     "name": "stderr",
     "output_type": "stream",
     "text": [
      "C:\\Users\\hhong\\AppData\\Local\\Packages\\PythonSoftwareFoundation.Python.3.8_qbz5n2kfra8p0\\LocalCache\\local-packages\\Python38\\site-packages\\xgboost\\sklearn.py:888: UserWarning: The use of label encoder in XGBClassifier is deprecated and will be removed in a future release. To remove this warning, do the following: 1) Pass option use_label_encoder=False when constructing XGBClassifier object; and 2) Encode your labels (y) as integers starting with 0, i.e. 0, 1, 2, ..., [num_class - 1].\n",
      "  warnings.warn(label_encoder_deprecation_msg, UserWarning)\n",
      "C:\\Users\\hhong\\AppData\\Local\\Packages\\PythonSoftwareFoundation.Python.3.8_qbz5n2kfra8p0\\LocalCache\\local-packages\\Python38\\site-packages\\sklearn\\utils\\validation.py:72: DataConversionWarning: A column-vector y was passed when a 1d array was expected. Please change the shape of y to (n_samples, ), for example using ravel().\n",
      "  return f(**kwargs)\n"
     ]
    },
    {
     "name": "stdout",
     "output_type": "stream",
     "text": [
      "96\n",
      "[23:16:32] WARNING: C:/Users/Administrator/workspace/xgboost-win64_release_1.3.0/src/learner.cc:1061: Starting in XGBoost 1.3.0, the default evaluation metric used with the objective 'multi:softprob' was changed from 'merror' to 'mlogloss'. Explicitly set eval_metric if you'd like to restore the old behavior.\n"
     ]
    },
    {
     "name": "stderr",
     "output_type": "stream",
     "text": [
      "C:\\Users\\hhong\\AppData\\Local\\Packages\\PythonSoftwareFoundation.Python.3.8_qbz5n2kfra8p0\\LocalCache\\local-packages\\Python38\\site-packages\\xgboost\\sklearn.py:888: UserWarning: The use of label encoder in XGBClassifier is deprecated and will be removed in a future release. To remove this warning, do the following: 1) Pass option use_label_encoder=False when constructing XGBClassifier object; and 2) Encode your labels (y) as integers starting with 0, i.e. 0, 1, 2, ..., [num_class - 1].\n",
      "  warnings.warn(label_encoder_deprecation_msg, UserWarning)\n",
      "C:\\Users\\hhong\\AppData\\Local\\Packages\\PythonSoftwareFoundation.Python.3.8_qbz5n2kfra8p0\\LocalCache\\local-packages\\Python38\\site-packages\\sklearn\\utils\\validation.py:72: DataConversionWarning: A column-vector y was passed when a 1d array was expected. Please change the shape of y to (n_samples, ), for example using ravel().\n",
      "  return f(**kwargs)\n"
     ]
    },
    {
     "name": "stdout",
     "output_type": "stream",
     "text": [
      "97\n",
      "[23:16:33] WARNING: C:/Users/Administrator/workspace/xgboost-win64_release_1.3.0/src/learner.cc:1061: Starting in XGBoost 1.3.0, the default evaluation metric used with the objective 'multi:softprob' was changed from 'merror' to 'mlogloss'. Explicitly set eval_metric if you'd like to restore the old behavior.\n"
     ]
    },
    {
     "name": "stderr",
     "output_type": "stream",
     "text": [
      "C:\\Users\\hhong\\AppData\\Local\\Packages\\PythonSoftwareFoundation.Python.3.8_qbz5n2kfra8p0\\LocalCache\\local-packages\\Python38\\site-packages\\xgboost\\sklearn.py:888: UserWarning: The use of label encoder in XGBClassifier is deprecated and will be removed in a future release. To remove this warning, do the following: 1) Pass option use_label_encoder=False when constructing XGBClassifier object; and 2) Encode your labels (y) as integers starting with 0, i.e. 0, 1, 2, ..., [num_class - 1].\n",
      "  warnings.warn(label_encoder_deprecation_msg, UserWarning)\n",
      "C:\\Users\\hhong\\AppData\\Local\\Packages\\PythonSoftwareFoundation.Python.3.8_qbz5n2kfra8p0\\LocalCache\\local-packages\\Python38\\site-packages\\sklearn\\utils\\validation.py:72: DataConversionWarning: A column-vector y was passed when a 1d array was expected. Please change the shape of y to (n_samples, ), for example using ravel().\n",
      "  return f(**kwargs)\n"
     ]
    },
    {
     "name": "stdout",
     "output_type": "stream",
     "text": [
      "98\n",
      "[23:16:34] WARNING: C:/Users/Administrator/workspace/xgboost-win64_release_1.3.0/src/learner.cc:1061: Starting in XGBoost 1.3.0, the default evaluation metric used with the objective 'multi:softprob' was changed from 'merror' to 'mlogloss'. Explicitly set eval_metric if you'd like to restore the old behavior.\n"
     ]
    },
    {
     "name": "stderr",
     "output_type": "stream",
     "text": [
      "C:\\Users\\hhong\\AppData\\Local\\Packages\\PythonSoftwareFoundation.Python.3.8_qbz5n2kfra8p0\\LocalCache\\local-packages\\Python38\\site-packages\\xgboost\\sklearn.py:888: UserWarning: The use of label encoder in XGBClassifier is deprecated and will be removed in a future release. To remove this warning, do the following: 1) Pass option use_label_encoder=False when constructing XGBClassifier object; and 2) Encode your labels (y) as integers starting with 0, i.e. 0, 1, 2, ..., [num_class - 1].\n",
      "  warnings.warn(label_encoder_deprecation_msg, UserWarning)\n",
      "C:\\Users\\hhong\\AppData\\Local\\Packages\\PythonSoftwareFoundation.Python.3.8_qbz5n2kfra8p0\\LocalCache\\local-packages\\Python38\\site-packages\\sklearn\\utils\\validation.py:72: DataConversionWarning: A column-vector y was passed when a 1d array was expected. Please change the shape of y to (n_samples, ), for example using ravel().\n",
      "  return f(**kwargs)\n"
     ]
    },
    {
     "name": "stdout",
     "output_type": "stream",
     "text": [
      "99\n",
      "[23:16:35] WARNING: C:/Users/Administrator/workspace/xgboost-win64_release_1.3.0/src/learner.cc:1061: Starting in XGBoost 1.3.0, the default evaluation metric used with the objective 'multi:softprob' was changed from 'merror' to 'mlogloss'. Explicitly set eval_metric if you'd like to restore the old behavior.\n"
     ]
    },
    {
     "name": "stderr",
     "output_type": "stream",
     "text": [
      "C:\\Users\\hhong\\AppData\\Local\\Packages\\PythonSoftwareFoundation.Python.3.8_qbz5n2kfra8p0\\LocalCache\\local-packages\\Python38\\site-packages\\xgboost\\sklearn.py:888: UserWarning: The use of label encoder in XGBClassifier is deprecated and will be removed in a future release. To remove this warning, do the following: 1) Pass option use_label_encoder=False when constructing XGBClassifier object; and 2) Encode your labels (y) as integers starting with 0, i.e. 0, 1, 2, ..., [num_class - 1].\n",
      "  warnings.warn(label_encoder_deprecation_msg, UserWarning)\n",
      "C:\\Users\\hhong\\AppData\\Local\\Packages\\PythonSoftwareFoundation.Python.3.8_qbz5n2kfra8p0\\LocalCache\\local-packages\\Python38\\site-packages\\sklearn\\utils\\validation.py:72: DataConversionWarning: A column-vector y was passed when a 1d array was expected. Please change the shape of y to (n_samples, ), for example using ravel().\n",
      "  return f(**kwargs)\n"
     ]
    },
    {
     "name": "stdout",
     "output_type": "stream",
     "text": [
      "4\n",
      "1.0331681996777369\n"
     ]
    }
   ],
   "source": [
    "minimum = 1000\n",
    "bestIndex = -1\n",
    "category_train_y = np.sign(np.log(train_y))\n",
    "category_val_y = np.sign(np.log(val_y))\n",
    "#you can't have 0 as n_estimator\n",
    "for ii in range(1, 100):\n",
    "    print(ii)\n",
    "    XG_model = XGBClassifier(n_estimators= ii)\n",
    "    XG_model.fit(train_X, category_train_y, \n",
    "                 early_stopping_rounds=5, \n",
    "                 eval_set=[(val_X, category_val_y)],\n",
    "                 verbose=False)\n",
    "    predictions = np.rint(XG_model.predict(val_X))\n",
    "    MAE = mean_absolute_error(val_y, predictions)\n",
    "    if MAE < minimum:\n",
    "        minimum = MAE\n",
    "        bestIndex = ii\n",
    "\n",
    "print(bestIndex)\n",
    "print(minimum)"
   ]
  },
  {
   "cell_type": "code",
   "execution_count": 25,
   "metadata": {},
   "outputs": [
    {
     "name": "stderr",
     "output_type": "stream",
     "text": [
      "C:\\Users\\hhong\\AppData\\Local\\Packages\\PythonSoftwareFoundation.Python.3.8_qbz5n2kfra8p0\\LocalCache\\local-packages\\Python38\\site-packages\\xgboost\\sklearn.py:888: UserWarning: The use of label encoder in XGBClassifier is deprecated and will be removed in a future release. To remove this warning, do the following: 1) Pass option use_label_encoder=False when constructing XGBClassifier object; and 2) Encode your labels (y) as integers starting with 0, i.e. 0, 1, 2, ..., [num_class - 1].\n",
      "  warnings.warn(label_encoder_deprecation_msg, UserWarning)\n",
      "C:\\Users\\hhong\\AppData\\Local\\Packages\\PythonSoftwareFoundation.Python.3.8_qbz5n2kfra8p0\\LocalCache\\local-packages\\Python38\\site-packages\\sklearn\\utils\\validation.py:72: DataConversionWarning: A column-vector y was passed when a 1d array was expected. Please change the shape of y to (n_samples, ), for example using ravel().\n",
      "  return f(**kwargs)\n"
     ]
    },
    {
     "name": "stdout",
     "output_type": "stream",
     "text": [
      "[23:18:05] WARNING: C:/Users/Administrator/workspace/xgboost-win64_release_1.3.0/src/learner.cc:541: \n",
      "Parameters: { n_estimator } might not be used.\n",
      "\n",
      "  This may not be accurate due to some parameters are only used in language bindings but\n",
      "  passed down to XGBoost core.  Or some parameters are not used but slip through this\n",
      "  verification. Please open an issue if you find above cases.\n",
      "\n",
      "\n",
      "[23:18:05] WARNING: C:/Users/Administrator/workspace/xgboost-win64_release_1.3.0/src/learner.cc:1061: Starting in XGBoost 1.3.0, the default evaluation metric used with the objective 'multi:softprob' was changed from 'merror' to 'mlogloss'. Explicitly set eval_metric if you'd like to restore the old behavior.\n"
     ]
    }
   ],
   "source": [
    "XG_model = XGBClassifier(n_estimator = 4)\n",
    "XG_model.fit(train_X, category_train_y, \n",
    "                 early_stopping_rounds=5, \n",
    "                 eval_set=[(val_X, category_val_y)],\n",
    "                 verbose=False)\n",
    "predictions = XG_model.predict(val_X)"
   ]
  },
  {
   "cell_type": "code",
   "execution_count": 26,
   "metadata": {},
   "outputs": [
    {
     "name": "stdout",
     "output_type": "stream",
     "text": [
      "[1. 1. 1. ... 1. 1. 1.]\n",
      "[ 0. -1. -1. ...  1. -1. -1.]\n"
     ]
    }
   ],
   "source": [
    "print(predictions)\n",
    "print(category_val_y.to_numpy().T[0])"
   ]
  },
  {
   "cell_type": "code",
   "execution_count": 27,
   "metadata": {},
   "outputs": [
    {
     "name": "stdout",
     "output_type": "stream",
     "text": [
      "0.46481034860776144\n"
     ]
    }
   ],
   "source": [
    "correct = np.sum(predictions == category_val_y.to_numpy().T[0])\n",
    "total = len(predictions)\n",
    "print(correct/total)"
   ]
  },
  {
   "cell_type": "code",
   "execution_count": 28,
   "metadata": {},
   "outputs": [],
   "source": [
    "reg = LinearRegression().fit(train_X, train_y)"
   ]
  },
  {
   "cell_type": "code",
   "execution_count": 29,
   "metadata": {},
   "outputs": [
    {
     "data": {
      "text/plain": [
       "0.8778279262161471"
      ]
     },
     "execution_count": 29,
     "metadata": {},
     "output_type": "execute_result"
    }
   ],
   "source": [
    "mean_absolute_error(val_y, reg.predict(val_X))"
   ]
  },
  {
   "cell_type": "code",
   "execution_count": 42,
   "metadata": {},
   "outputs": [
    {
     "name": "stdout",
     "output_type": "stream",
     "text": [
      "21.738259197064494\n"
     ]
    }
   ],
   "source": [
    "print(np.linalg.norm(reg.coef_[0], ord=1))"
   ]
  },
  {
   "cell_type": "code",
   "execution_count": 43,
   "metadata": {},
   "outputs": [
    {
     "name": "stdout",
     "output_type": "stream",
     "text": [
      "0.01 0.8778288126080973 3.004179688960258\n",
      "0.02 0.8778296961253585 3.0010321160315048\n",
      "0.03 0.8778305767833625 2.9978945025722274\n",
      "0.04 0.8778314545974172 2.994766790305679\n",
      "0.05 0.8778323295827104 2.9916489214553788\n",
      "0.06 0.8778332017543106 2.988540838739813\n",
      "0.07 0.877834071127166 2.9854424853665296\n",
      "0.08 0.8778349377161103 2.982353805026919\n",
      "0.09 0.877835801535859 2.9792747418908347\n",
      "0.1 0.8778366626010138 2.976205240601193\n",
      "0.11 0.877837520926062 2.9731452462689085\n",
      "0.12 0.8778383765253802 2.970094704467521\n",
      "0.13 0.877839229413232 2.9670535612283566\n",
      "0.14 0.877840079603772 2.9640217630353654\n",
      "0.15 0.8778409271110458 2.960999256820113\n",
      "0.16 0.8778417719489914 2.9579859899571037\n",
      "0.17 0.8778426141314388 2.954981910258754\n",
      "0.18 0.8778434536721152 2.9519869659706712\n",
      "0.19 0.8778442905846405 2.949001105767188\n",
      "0.2 0.8778451248825329 2.9460242787464583\n",
      "0.21 0.8778459565792078 2.9430564344258943\n",
      "0.22 0.8778467856879794 2.9400975227379336\n",
      "0.23 0.8778476122220616 2.937147494025325\n",
      "0.24 0.8778484361945692 2.934206299036866\n",
      "0.25 0.8778492576185184 2.9312738889228696\n",
      "0.26 0.8778500765068287 2.928350215231292\n",
      "0.27 0.8778508928723231 2.925435229903088\n",
      "0.28 0.8778517067277295 2.9225288852682776\n",
      "0.29 0.8778525180856808 2.9196311340418144\n",
      "0.3 0.8778533269587171 2.916741929319463\n",
      "0.31 0.8778541333592865 2.913861224573742\n",
      "0.32 0.8778549372997446 2.9109889736502117\n",
      "0.33 0.8778557387923568 2.9081251307633442\n",
      "0.34 0.8778565378492985 2.905269650492593\n",
      "0.35 0.8778573344826573 2.902422487778896\n",
      "0.36 0.8778581287044311 2.8995835979206945\n",
      "0.37 0.8778589205265321 2.89675293657028\n",
      "0.38 0.8778597116241392 2.893930459730102\n",
      "0.39 0.8778605363431528 2.891116123749264\n",
      "0.4 0.8778613586125283 2.8883098853198157\n",
      "0.41 0.8778621784441675 2.885511701473276\n",
      "0.42 0.8778629958498857 2.8827215295771484\n",
      "0.43 0.8778638108414151 2.8799393273315506\n",
      "0.44 0.8778646234304047 2.8771650527656885\n",
      "0.45 0.8778654336284208 2.874398664234773\n",
      "0.46 0.8778662546154634 2.8716401204162127\n",
      "0.47 0.8778670777306679 2.86888938030703\n",
      "0.48 0.8778678984596228 2.8661464032198434\n",
      "0.49 0.8778687376735173 2.863411148780515\n",
      "0.5 0.8778695859684155 2.8606835769242283\n",
      "0.51 0.8778704318533324 2.8579636478929498\n",
      "0.52 0.8778712753395843 2.855251322232082\n",
      "0.53 0.87787211643841 2.8525465607874927\n",
      "0.54 0.8778729734113704 2.849849324702428\n",
      "0.55 0.8778738280133688 2.8471595754147945\n",
      "0.56 0.8778746801909517 2.844477274653968\n",
      "0.57 0.8778755299555199 2.84180238443804\n",
      "0.58 0.8778763773183951 2.8391348670709564\n",
      "0.59 0.8778772222908217 2.8364746851396974\n",
      "0.6 0.8778780648839658 2.833821801511448\n",
      "0.61 0.8778789144537682 2.83117617933089\n",
      "0.62 0.8778797732258705 2.8285377820175195\n",
      "0.63 0.8778806295760332 2.825906573262674\n",
      "0.64 0.8778814835155239 2.823282517027637\n",
      "0.65 0.8778823350555339 2.8206655775400287\n",
      "0.66 0.8778831842071787 2.8180557192917917\n",
      "0.67 0.8778840309814979 2.8154529070365815\n",
      "0.68 0.8778848753894576 2.8128571057872884\n",
      "0.69 0.8778857174419492 2.8102682808132284\n",
      "0.7 0.8778866010919981 2.8076863976380357\n",
      "0.71 0.8778875080652789 2.8051114220369744\n",
      "0.72 0.8778884125276593 2.802543320034674\n",
      "0.73 0.8778893144906423 2.799982057902733\n",
      "0.74 0.8778902139656541 2.797427602157147\n",
      "0.75 0.8778911109640448 2.7948799195563523\n",
      "0.76 0.8778920054970886 2.792338977098646\n",
      "0.77 0.8778928975759852 2.789804742019999\n",
      "0.78 0.8778937872118594 2.787277181791835\n",
      "0.79 0.8778946744157635 2.7847562641186965\n",
      "0.8 0.8778955829968056 2.7822419569363146\n",
      "0.81 0.8778965019471814 2.7797342284090036\n",
      "0.82 0.8778974184868772 2.7772330469280146\n",
      "0.83 0.8778983326265488 2.774738381109026\n",
      "0.84 0.8778992443767818 2.772250199790257\n",
      "0.85 0.8779001537480942 2.7697684720303357\n",
      "0.86 0.8779010607509349 2.7672931671061676\n",
      "0.87 0.8779019653956869 2.764824254511137\n",
      "0.88 0.8779028676926637 2.762361703952756\n",
      "0.89 0.8779037676521158 2.759905485351107\n",
      "0.9 0.8779046652842247 2.7574555688365563\n",
      "0.91 0.8779055605991085 2.755011924747946\n",
      "0.92 0.8779064536068206 2.7525745236306594\n",
      "0.93 0.8779073443173494 2.750143336234743\n",
      "0.94 0.877908232740621 2.7477183335130286\n",
      "0.95 0.8779091188864974 2.745299486619293\n",
      "0.96 0.8779100027647786 2.742886766906504\n",
      "0.97 0.8779108843852034 2.740480145924744\n",
      "0.98 0.8779117637574478 2.7380795954198027\n",
      "0.99 0.8779126408911276 2.7356850873311664\n",
      "0.01\n",
      "0.8778288126080973\n"
     ]
    }
   ],
   "source": [
    "minimum = 1000\n",
    "bestIndex = -1\n",
    "\n",
    "for ii in range(1, 100):\n",
    "    ridge_reg = Ridge(alpha = ii/100)\n",
    "    ridge_reg.fit(train_X, train_y)\n",
    "    predictions = ridge_reg.predict(val_X)\n",
    "    MAE = mean_absolute_error(val_y, predictions)\n",
    "    if MAE < minimum:\n",
    "        minimum = MAE\n",
    "        bestIndex = ii/100\n",
    "    print(ii/100, MAE, np.linalg.norm(ridge_reg.coef_[0]))\n",
    "\n",
    "print(bestIndex)\n",
    "print(minimum) \n",
    "    "
   ]
  },
  {
   "cell_type": "code",
   "execution_count": 34,
   "metadata": {},
   "outputs": [
    {
     "name": "stdout",
     "output_type": "stream",
     "text": [
      "1 0.8952139450054222\n",
      "2 0.8952139450054222\n",
      "3 0.8952139450054222\n",
      "4 0.8952139450054222\n",
      "5 0.8952139450054222\n",
      "6 0.8952139450054222\n",
      "7 0.8952139450054222\n",
      "8 0.8952139450054222\n",
      "9 0.8952139450054222\n",
      "10 0.8952139450054222\n",
      "11 0.8952139450054222\n",
      "12 0.8952139450054222\n",
      "13 0.8952139450054222\n",
      "14 0.8952139450054222\n",
      "15 0.8952139450054222\n",
      "16 0.8952139450054222\n",
      "17 0.8952139450054222\n",
      "18 0.8952139450054222\n",
      "19 0.8952139450054222\n",
      "20 0.8952139450054222\n",
      "21 0.8952139450054222\n",
      "22 0.8952139450054222\n",
      "23 0.8952139450054222\n",
      "24 0.8952139450054222\n",
      "25 0.8952139450054222\n",
      "26 0.8952139450054222\n",
      "27 0.8952139450054222\n",
      "28 0.8952139450054222\n",
      "29 0.8952139450054222\n",
      "30 0.8952139450054222\n",
      "31 0.8952139450054222\n",
      "32 0.8952139450054222\n",
      "33 0.8952139450054222\n",
      "34 0.8952139450054222\n",
      "35 0.8952139450054222\n",
      "36 0.8952139450054222\n",
      "37 0.8952139450054222\n",
      "38 0.8952139450054222\n",
      "39 0.8952139450054222\n",
      "40 0.8952139450054222\n",
      "41 0.8952139450054222\n",
      "42 0.8952139450054222\n",
      "43 0.8952139450054222\n",
      "44 0.8952139450054222\n",
      "45 0.8952139450054222\n",
      "46 0.8952139450054222\n",
      "47 0.8952139450054222\n",
      "48 0.8952139450054222\n",
      "49 0.8952139450054222\n",
      "50 0.8952139450054222\n",
      "51 0.8952139450054222\n",
      "52 0.8952139450054222\n",
      "53 0.8952139450054222\n",
      "54 0.8952139450054222\n",
      "55 0.8952139450054222\n",
      "56 0.8952139450054222\n",
      "57 0.8952139450054222\n",
      "58 0.8952139450054222\n",
      "59 0.8952139450054222\n",
      "60 0.8952139450054222\n",
      "61 0.8952139450054222\n",
      "62 0.8952139450054222\n",
      "63 0.8952139450054222\n",
      "64 0.8952139450054222\n",
      "65 0.8952139450054222\n",
      "66 0.8952139450054222\n",
      "67 0.8952139450054222\n",
      "68 0.8952139450054222\n",
      "69 0.8952139450054222\n",
      "70 0.8952139450054222\n",
      "71 0.8952139450054222\n",
      "72 0.8952139450054222\n",
      "73 0.8952139450054222\n",
      "74 0.8952139450054222\n",
      "75 0.8952139450054222\n",
      "76 0.8952139450054222\n",
      "77 0.8952139450054222\n",
      "78 0.8952139450054222\n",
      "79 0.8952139450054222\n",
      "80 0.8952139450054222\n",
      "81 0.8952139450054222\n",
      "82 0.8952139450054222\n",
      "83 0.8952139450054222\n",
      "84 0.8952139450054222\n",
      "85 0.8952139450054222\n",
      "86 0.8952139450054222\n",
      "87 0.8952139450054222\n",
      "88 0.8952139450054222\n",
      "89 0.8952139450054222\n",
      "90 0.8952139450054222\n",
      "91 0.8952139450054222\n",
      "92 0.8952139450054222\n",
      "93 0.8952139450054222\n",
      "94 0.8952139450054222\n",
      "95 0.8952139450054222\n",
      "96 0.8952139450054222\n",
      "97 0.8952139450054222\n",
      "98 0.8952139450054222\n",
      "99 0.8952139450054222\n",
      "1\n",
      "0.8952139450054222\n"
     ]
    }
   ],
   "source": [
    "minimum = 1000\n",
    "bestIndex = -1\n",
    "\n",
    "for ii in range(1, 100):\n",
    "    lasso_reg = Lasso(alpha = ii)\n",
    "    lasso_reg.fit(train_X, train_y)\n",
    "    predictions = lasso_reg.predict(val_X)\n",
    "    MAE = mean_absolute_error(val_y, predictions)\n",
    "    if MAE < minimum:\n",
    "        minimum = MAE\n",
    "        bestIndex = ii\n",
    "    print(ii, MAE)\n",
    "\n",
    "print(bestIndex)\n",
    "print(minimum)    "
   ]
  },
  {
   "cell_type": "code",
   "execution_count": 44,
   "metadata": {},
   "outputs": [
    {
     "name": "stdout",
     "output_type": "stream",
     "text": [
      "PCR r-squared 0.003\n"
     ]
    }
   ],
   "source": [
    "pcr = make_pipeline(StandardScaler(), PCA(n_components=1), LinearRegression())\n",
    "pcr.fit(train_X, train_y)\n",
    "pca = pcr.named_steps['pca']  # retrieve the PCA step of the pipeline\n",
    "print(f\"PCR r-squared {pcr.score(val_X, val_y):.3f}\")"
   ]
  },
  {
   "cell_type": "code",
   "execution_count": 45,
   "metadata": {},
   "outputs": [
    {
     "name": "stdout",
     "output_type": "stream",
     "text": [
      "PLS r-squared 0.017\n"
     ]
    }
   ],
   "source": [
    "pls = PLSRegression(n_components=1)\n",
    "pls.fit(train_X, train_y)\n",
    "print(f\"PLS r-squared {pls.score(val_X, val_y):.3f}\")"
   ]
  },
  {
   "cell_type": "code",
   "execution_count": null,
   "metadata": {},
   "outputs": [],
   "source": [
    "prediction = grid.predict(val_X)\n",
    "correct = np.sum(predictions == answer)\n",
    "total = len(ultimate_predictions)"
   ]
  },
  {
   "cell_type": "code",
   "execution_count": 62,
   "metadata": {},
   "outputs": [
    {
     "ename": "FileNotFoundError",
     "evalue": "[Errno 2] No such file or directory: 'complete_match.pkl'",
     "output_type": "error",
     "traceback": [
      "\u001b[1;31m---------------------------------------------------------------------------\u001b[0m",
      "\u001b[1;31mFileNotFoundError\u001b[0m                         Traceback (most recent call last)",
      "\u001b[1;32m<ipython-input-62-71aa1d181434>\u001b[0m in \u001b[0;36m<module>\u001b[1;34m\u001b[0m\n\u001b[0;32m      1\u001b[0m \u001b[1;31m#we try to find the difference in score home_team_score - away_team_score\u001b[0m\u001b[1;33m\u001b[0m\u001b[1;33m\u001b[0m\u001b[1;33m\u001b[0m\u001b[0m\n\u001b[1;32m----> 2\u001b[1;33m \u001b[0mcomplete_matchDf\u001b[0m \u001b[1;33m=\u001b[0m \u001b[0mpd\u001b[0m\u001b[1;33m.\u001b[0m\u001b[0mread_pickle\u001b[0m\u001b[1;33m(\u001b[0m\u001b[1;34m'complete_match.pkl'\u001b[0m\u001b[1;33m)\u001b[0m\u001b[1;33m\u001b[0m\u001b[1;33m\u001b[0m\u001b[0m\n\u001b[0m",
      "\u001b[1;32m~\\AppData\\Local\\Packages\\PythonSoftwareFoundation.Python.3.8_qbz5n2kfra8p0\\LocalCache\\local-packages\\Python38\\site-packages\\pandas\\io\\pickle.py\u001b[0m in \u001b[0;36mread_pickle\u001b[1;34m(filepath_or_buffer, compression)\u001b[0m\n\u001b[0;32m    167\u001b[0m     \u001b[1;32mif\u001b[0m \u001b[1;32mnot\u001b[0m \u001b[0misinstance\u001b[0m\u001b[1;33m(\u001b[0m\u001b[0mfp_or_buf\u001b[0m\u001b[1;33m,\u001b[0m \u001b[0mstr\u001b[0m\u001b[1;33m)\u001b[0m \u001b[1;32mand\u001b[0m \u001b[0mcompression\u001b[0m \u001b[1;33m==\u001b[0m \u001b[1;34m\"infer\"\u001b[0m\u001b[1;33m:\u001b[0m\u001b[1;33m\u001b[0m\u001b[1;33m\u001b[0m\u001b[0m\n\u001b[0;32m    168\u001b[0m         \u001b[0mcompression\u001b[0m \u001b[1;33m=\u001b[0m \u001b[1;32mNone\u001b[0m\u001b[1;33m\u001b[0m\u001b[1;33m\u001b[0m\u001b[0m\n\u001b[1;32m--> 169\u001b[1;33m     \u001b[0mf\u001b[0m\u001b[1;33m,\u001b[0m \u001b[0mfh\u001b[0m \u001b[1;33m=\u001b[0m \u001b[0mget_handle\u001b[0m\u001b[1;33m(\u001b[0m\u001b[0mfp_or_buf\u001b[0m\u001b[1;33m,\u001b[0m \u001b[1;34m\"rb\"\u001b[0m\u001b[1;33m,\u001b[0m \u001b[0mcompression\u001b[0m\u001b[1;33m=\u001b[0m\u001b[0mcompression\u001b[0m\u001b[1;33m,\u001b[0m \u001b[0mis_text\u001b[0m\u001b[1;33m=\u001b[0m\u001b[1;32mFalse\u001b[0m\u001b[1;33m)\u001b[0m\u001b[1;33m\u001b[0m\u001b[1;33m\u001b[0m\u001b[0m\n\u001b[0m\u001b[0;32m    170\u001b[0m \u001b[1;33m\u001b[0m\u001b[0m\n\u001b[0;32m    171\u001b[0m     \u001b[1;31m# 1) try standard library Pickle\u001b[0m\u001b[1;33m\u001b[0m\u001b[1;33m\u001b[0m\u001b[1;33m\u001b[0m\u001b[0m\n",
      "\u001b[1;32m~\\AppData\\Local\\Packages\\PythonSoftwareFoundation.Python.3.8_qbz5n2kfra8p0\\LocalCache\\local-packages\\Python38\\site-packages\\pandas\\io\\common.py\u001b[0m in \u001b[0;36mget_handle\u001b[1;34m(path_or_buf, mode, encoding, compression, memory_map, is_text, errors)\u001b[0m\n\u001b[0;32m    497\u001b[0m         \u001b[1;32melse\u001b[0m\u001b[1;33m:\u001b[0m\u001b[1;33m\u001b[0m\u001b[1;33m\u001b[0m\u001b[0m\n\u001b[0;32m    498\u001b[0m             \u001b[1;31m# Binary mode\u001b[0m\u001b[1;33m\u001b[0m\u001b[1;33m\u001b[0m\u001b[1;33m\u001b[0m\u001b[0m\n\u001b[1;32m--> 499\u001b[1;33m             \u001b[0mf\u001b[0m \u001b[1;33m=\u001b[0m \u001b[0mopen\u001b[0m\u001b[1;33m(\u001b[0m\u001b[0mpath_or_buf\u001b[0m\u001b[1;33m,\u001b[0m \u001b[0mmode\u001b[0m\u001b[1;33m)\u001b[0m\u001b[1;33m\u001b[0m\u001b[1;33m\u001b[0m\u001b[0m\n\u001b[0m\u001b[0;32m    500\u001b[0m         \u001b[0mhandles\u001b[0m\u001b[1;33m.\u001b[0m\u001b[0mappend\u001b[0m\u001b[1;33m(\u001b[0m\u001b[0mf\u001b[0m\u001b[1;33m)\u001b[0m\u001b[1;33m\u001b[0m\u001b[1;33m\u001b[0m\u001b[0m\n\u001b[0;32m    501\u001b[0m \u001b[1;33m\u001b[0m\u001b[0m\n",
      "\u001b[1;31mFileNotFoundError\u001b[0m: [Errno 2] No such file or directory: 'complete_match.pkl'"
     ]
    }
   ],
   "source": [
    "\n",
    "#we try to find the difference in score home_team_score - away_team_score\n",
    "complete_matchDf = pd.read_pickle('complete_match.pkl')"
   ]
  },
  {
   "cell_type": "code",
   "execution_count": 4,
   "metadata": {},
   "outputs": [
    {
     "data": {
      "text/html": [
       "<div>\n",
       "<style scoped>\n",
       "    .dataframe tbody tr th:only-of-type {\n",
       "        vertical-align: middle;\n",
       "    }\n",
       "\n",
       "    .dataframe tbody tr th {\n",
       "        vertical-align: top;\n",
       "    }\n",
       "\n",
       "    .dataframe thead th {\n",
       "        text-align: right;\n",
       "    }\n",
       "</style>\n",
       "<table border=\"1\" class=\"dataframe\">\n",
       "  <thead>\n",
       "    <tr style=\"text-align: right;\">\n",
       "      <th></th>\n",
       "      <th>match_id</th>\n",
       "      <th>home_team_id</th>\n",
       "      <th>away_team_id</th>\n",
       "      <th>date</th>\n",
       "      <th>home_team_goal</th>\n",
       "      <th>away_team_goal</th>\n",
       "      <th>home_team_build_up_play_speed</th>\n",
       "      <th>home_team_build_up_play_dribbling</th>\n",
       "      <th>home_team_build_up_play_passing</th>\n",
       "      <th>home_team_chance_creationg_passing</th>\n",
       "      <th>...</th>\n",
       "      <th>home_team_defence_team_width</th>\n",
       "      <th>away_team_build_up_play_speed</th>\n",
       "      <th>away_team_build_up_play_dribbling</th>\n",
       "      <th>away_team_build_up_play_passing</th>\n",
       "      <th>away_team_chance_creationg_passing</th>\n",
       "      <th>away_team_chance_creation_crossing</th>\n",
       "      <th>away_team_chance_creation_shooting</th>\n",
       "      <th>away_team_defence_pressure</th>\n",
       "      <th>away_team_defence_aggression</th>\n",
       "      <th>away_team_defence_team_width</th>\n",
       "    </tr>\n",
       "  </thead>\n",
       "  <tbody>\n",
       "    <tr>\n",
       "      <th>0</th>\n",
       "      <td>665626</td>\n",
       "      <td>8635</td>\n",
       "      <td>8342</td>\n",
       "      <td>2010-02-03 00:00:00.000000</td>\n",
       "      <td>3</td>\n",
       "      <td>2</td>\n",
       "      <td>50</td>\n",
       "      <td>48.607362</td>\n",
       "      <td>35</td>\n",
       "      <td>70</td>\n",
       "      <td>...</td>\n",
       "      <td>70</td>\n",
       "      <td>35</td>\n",
       "      <td>48.607362</td>\n",
       "      <td>40</td>\n",
       "      <td>45</td>\n",
       "      <td>50</td>\n",
       "      <td>45</td>\n",
       "      <td>60</td>\n",
       "      <td>70</td>\n",
       "      <td>70</td>\n",
       "    </tr>\n",
       "    <tr>\n",
       "      <th>1</th>\n",
       "      <td>665630</td>\n",
       "      <td>9986</td>\n",
       "      <td>9985</td>\n",
       "      <td>2010-02-04 00:00:00.000000</td>\n",
       "      <td>2</td>\n",
       "      <td>3</td>\n",
       "      <td>40</td>\n",
       "      <td>48.607362</td>\n",
       "      <td>50</td>\n",
       "      <td>45</td>\n",
       "      <td>...</td>\n",
       "      <td>70</td>\n",
       "      <td>53</td>\n",
       "      <td>48.607362</td>\n",
       "      <td>40</td>\n",
       "      <td>55</td>\n",
       "      <td>55</td>\n",
       "      <td>65</td>\n",
       "      <td>70</td>\n",
       "      <td>70</td>\n",
       "      <td>65</td>\n",
       "    </tr>\n",
       "    <tr>\n",
       "      <th>2</th>\n",
       "      <td>665634</td>\n",
       "      <td>8203</td>\n",
       "      <td>9993</td>\n",
       "      <td>2010-02-02 00:00:00.000000</td>\n",
       "      <td>1</td>\n",
       "      <td>0</td>\n",
       "      <td>65</td>\n",
       "      <td>48.607362</td>\n",
       "      <td>60</td>\n",
       "      <td>50</td>\n",
       "      <td>...</td>\n",
       "      <td>60</td>\n",
       "      <td>35</td>\n",
       "      <td>48.607362</td>\n",
       "      <td>35</td>\n",
       "      <td>45</td>\n",
       "      <td>40</td>\n",
       "      <td>50</td>\n",
       "      <td>70</td>\n",
       "      <td>70</td>\n",
       "      <td>70</td>\n",
       "    </tr>\n",
       "    <tr>\n",
       "      <th>3</th>\n",
       "      <td>665665</td>\n",
       "      <td>8342</td>\n",
       "      <td>10001</td>\n",
       "      <td>2010-01-30 00:00:00.000000</td>\n",
       "      <td>2</td>\n",
       "      <td>1</td>\n",
       "      <td>35</td>\n",
       "      <td>48.607362</td>\n",
       "      <td>40</td>\n",
       "      <td>45</td>\n",
       "      <td>...</td>\n",
       "      <td>70</td>\n",
       "      <td>45</td>\n",
       "      <td>48.607362</td>\n",
       "      <td>60</td>\n",
       "      <td>40</td>\n",
       "      <td>45</td>\n",
       "      <td>55</td>\n",
       "      <td>70</td>\n",
       "      <td>70</td>\n",
       "      <td>70</td>\n",
       "    </tr>\n",
       "    <tr>\n",
       "      <th>4</th>\n",
       "      <td>665666</td>\n",
       "      <td>9985</td>\n",
       "      <td>8635</td>\n",
       "      <td>2010-01-17 00:00:00.000000</td>\n",
       "      <td>0</td>\n",
       "      <td>4</td>\n",
       "      <td>53</td>\n",
       "      <td>48.607362</td>\n",
       "      <td>40</td>\n",
       "      <td>55</td>\n",
       "      <td>...</td>\n",
       "      <td>65</td>\n",
       "      <td>50</td>\n",
       "      <td>48.607362</td>\n",
       "      <td>35</td>\n",
       "      <td>70</td>\n",
       "      <td>50</td>\n",
       "      <td>60</td>\n",
       "      <td>70</td>\n",
       "      <td>50</td>\n",
       "      <td>70</td>\n",
       "    </tr>\n",
       "  </tbody>\n",
       "</table>\n",
       "<p>5 rows × 24 columns</p>\n",
       "</div>"
      ],
      "text/plain": [
       "   match_id  home_team_id  away_team_id                        date  \\\n",
       "0    665626          8635          8342  2010-02-03 00:00:00.000000   \n",
       "1    665630          9986          9985  2010-02-04 00:00:00.000000   \n",
       "2    665634          8203          9993  2010-02-02 00:00:00.000000   \n",
       "3    665665          8342         10001  2010-01-30 00:00:00.000000   \n",
       "4    665666          9985          8635  2010-01-17 00:00:00.000000   \n",
       "\n",
       "   home_team_goal  away_team_goal  home_team_build_up_play_speed  \\\n",
       "0               3               2                             50   \n",
       "1               2               3                             40   \n",
       "2               1               0                             65   \n",
       "3               2               1                             35   \n",
       "4               0               4                             53   \n",
       "\n",
       "   home_team_build_up_play_dribbling  home_team_build_up_play_passing  \\\n",
       "0                          48.607362                               35   \n",
       "1                          48.607362                               50   \n",
       "2                          48.607362                               60   \n",
       "3                          48.607362                               40   \n",
       "4                          48.607362                               40   \n",
       "\n",
       "   home_team_chance_creationg_passing  ...  home_team_defence_team_width  \\\n",
       "0                                  70  ...                            70   \n",
       "1                                  45  ...                            70   \n",
       "2                                  50  ...                            60   \n",
       "3                                  45  ...                            70   \n",
       "4                                  55  ...                            65   \n",
       "\n",
       "   away_team_build_up_play_speed  away_team_build_up_play_dribbling  \\\n",
       "0                             35                          48.607362   \n",
       "1                             53                          48.607362   \n",
       "2                             35                          48.607362   \n",
       "3                             45                          48.607362   \n",
       "4                             50                          48.607362   \n",
       "\n",
       "   away_team_build_up_play_passing  away_team_chance_creationg_passing  \\\n",
       "0                               40                                  45   \n",
       "1                               40                                  55   \n",
       "2                               35                                  45   \n",
       "3                               60                                  40   \n",
       "4                               35                                  70   \n",
       "\n",
       "   away_team_chance_creation_crossing  away_team_chance_creation_shooting  \\\n",
       "0                                  50                                  45   \n",
       "1                                  55                                  65   \n",
       "2                                  40                                  50   \n",
       "3                                  45                                  55   \n",
       "4                                  50                                  60   \n",
       "\n",
       "   away_team_defence_pressure  away_team_defence_aggression  \\\n",
       "0                          60                            70   \n",
       "1                          70                            70   \n",
       "2                          70                            70   \n",
       "3                          70                            70   \n",
       "4                          70                            50   \n",
       "\n",
       "   away_team_defence_team_width  \n",
       "0                            70  \n",
       "1                            65  \n",
       "2                            70  \n",
       "3                            70  \n",
       "4                            70  \n",
       "\n",
       "[5 rows x 24 columns]"
      ]
     },
     "execution_count": 4,
     "metadata": {},
     "output_type": "execute_result"
    }
   ],
   "source": [
    "complete_matchDf.head()"
   ]
  },
  {
   "cell_type": "code",
   "execution_count": 5,
   "metadata": {},
   "outputs": [],
   "source": [
    " complete_matchDf['result'] = complete_matchDf['home_team_goal'] - complete_matchDf['away_team_goal']"
   ]
  },
  {
   "cell_type": "code",
   "execution_count": 6,
   "metadata": {},
   "outputs": [
    {
     "data": {
      "text/plain": [
       "0        1\n",
       "1       -1\n",
       "2        1\n",
       "3        1\n",
       "4       -4\n",
       "        ..\n",
       "18238    0\n",
       "18239    1\n",
       "18240   -1\n",
       "18241    2\n",
       "18242    1\n",
       "Name: result, Length: 18243, dtype: int64"
      ]
     },
     "execution_count": 6,
     "metadata": {},
     "output_type": "execute_result"
    }
   ],
   "source": [
    "complete_matchDf['result']"
   ]
  },
  {
   "cell_type": "code",
   "execution_count": 7,
   "metadata": {},
   "outputs": [],
   "source": [
    "y = complete_matchDf.result\n",
    "features_of_interest = [\n",
    "    'home_team_build_up_play_speed',\n",
    "    'home_team_build_up_play_dribbling',\n",
    "    'home_team_build_up_play_passing',\n",
    "    'home_team_chance_creationg_passing',\n",
    "    'home_team_chance_creation_crossing',\n",
    "    'home_team_chance_creation_shooting',\n",
    "    'home_team_defence_pressure',\n",
    "    'home_team_defence_aggression',\n",
    "    'home_team_defence_team_width',\n",
    "    'away_team_build_up_play_speed',\n",
    "    'away_team_build_up_play_dribbling',\n",
    "    'away_team_build_up_play_passing',\n",
    "    'away_team_chance_creationg_passing',\n",
    "    'away_team_chance_creation_crossing',\n",
    "    'away_team_chance_creation_shooting',\n",
    "    'away_team_defence_pressure',\n",
    "    'away_team_defence_aggression',\n",
    "    'away_team_defence_team_width',\n",
    "]\n",
    "X = complete_matchDf[features_of_interest]"
   ]
  },
  {
   "cell_type": "code",
   "execution_count": 8,
   "metadata": {},
   "outputs": [
    {
     "name": "stdout",
     "output_type": "stream",
     "text": [
      "1.825032531599074\n"
     ]
    }
   ],
   "source": [
    "train_X, val_X, train_y, val_y = train_test_split(X, y, random_state = 0)\n",
    "# Define model\n",
    "decision_tree = DecisionTreeRegressor()\n",
    "# Fit model\n",
    "decision_tree.fit(train_X, train_y)\n",
    "\n",
    "# get predicted prices on validation data\n",
    "val_predictions = decision_tree.predict(val_X)\n",
    "print(mean_absolute_error(val_y, val_predictions))"
   ]
  },
  {
   "cell_type": "code",
   "execution_count": 9,
   "metadata": {},
   "outputs": [
    {
     "name": "stdout",
     "output_type": "stream",
     "text": [
      "1.4060983398862479\n"
     ]
    }
   ],
   "source": [
    "forest_model = RandomForestRegressor(random_state=1)\n",
    "forest_model.fit(train_X, train_y)\n",
    "prediction = forest_model.predict(val_X)\n",
    "print(mean_absolute_error(val_y, prediction))\n",
    "#mean absolute error of 1.4060983398862479. Not bad?"
   ]
  },
  {
   "cell_type": "code",
   "execution_count": 84,
   "metadata": {},
   "outputs": [
    {
     "name": "stdout",
     "output_type": "stream",
     "text": [
      "7\n",
      "1.3014689761017322\n"
     ]
    }
   ],
   "source": [
    "minimum = 1000\n",
    "bestIndex = -1\n",
    "#you can't have 0 as n_estimator\n",
    "for ii in range(1, 100):\n",
    "    XG_model = XGBRegressor(n_estimators= ii)\n",
    "    XG_model.fit(train_X, train_y, \n",
    "                 early_stopping_rounds=5, \n",
    "                 eval_set=[(val_X, val_y)],\n",
    "                 verbose=False)\n",
    "    predictions = np.rint(XG_model.predict(val_X))\n",
    "    MAE = mean_absolute_error(val_y, predictions)\n",
    "    if MAE < minimum:\n",
    "        minimum = MAE\n",
    "        bestIndex = ii\n",
    "\n",
    "print(bestIndex)\n",
    "print(minimum)"
   ]
  },
  {
   "cell_type": "code",
   "execution_count": 87,
   "metadata": {},
   "outputs": [
    {
     "name": "stdout",
     "output_type": "stream",
     "text": [
      "[23:38:15] WARNING: C:/Users/Administrator/workspace/xgboost-win64_release_1.3.0/src/learner.cc:541: \n",
      "Parameters: { n_estimator } might not be used.\n",
      "\n",
      "  This may not be accurate due to some parameters are only used in language bindings but\n",
      "  passed down to XGBoost core.  Or some parameters are not used but slip through this\n",
      "  verification. Please open an issue if you find above cases.\n",
      "\n",
      "\n",
      "0.39026529269896953\n"
     ]
    }
   ],
   "source": [
    "XG_model = XGBRegressor(n_estimator = 7)\n",
    "XG_model.fit(train_X, train_y, \n",
    "                 early_stopping_rounds=5, \n",
    "                 eval_set=[(val_X, val_y)],\n",
    "                 verbose=False)\n",
    "predictions = XG_model.predict(val_X)\n",
    "ultimate_predictions = np.rint(predictions)\n",
    "total = len(ultimate_predictions)\n",
    "just_win_loss_tie = np.sign(val_y)\n",
    "just_win_loss_tie_predictions = np.sign(ultimate_predictions)\n",
    "correct = np.sum(just_win_loss_tie == just_win_loss_tie_predictions)\n",
    "print(correct/total)\n",
    "#so this is terrible\n",
    "\n",
    "\n"
   ]
  },
  {
   "cell_type": "code",
   "execution_count": 25,
   "metadata": {},
   "outputs": [],
   "source": [
    "#best mean_absolute_error at around:\n",
    "#1.3262471103714237"
   ]
  },
  {
   "cell_type": "code",
   "execution_count": 33,
   "metadata": {},
   "outputs": [],
   "source": [
    "reg = LinearRegression().fit(train_X, train_y)"
   ]
  },
  {
   "cell_type": "code",
   "execution_count": 35,
   "metadata": {},
   "outputs": [
    {
     "data": {
      "text/plain": [
       "1.3628156770705915"
      ]
     },
     "execution_count": 35,
     "metadata": {},
     "output_type": "execute_result"
    }
   ],
   "source": [
    "mean_absolute_error(val_y, reg.predict(val_X))"
   ]
  },
  {
   "cell_type": "code",
   "execution_count": 68,
   "metadata": {},
   "outputs": [
    {
     "name": "stdout",
     "output_type": "stream",
     "text": [
      "1\n",
      "1.3628156772632816\n"
     ]
    }
   ],
   "source": [
    "minimum = 1000\n",
    "bestIndex = -1\n",
    "\n",
    "for ii in range(1, 100):\n",
    "    ridge_reg = Ridge(alpha = ii)\n",
    "    ridge_reg.fit(train_X, train_y)\n",
    "    predictions = ridge_reg.predict(val_X)\n",
    "    MAE = mean_absolute_error(val_y, predictions)\n",
    "    if MAE < minimum:\n",
    "        minimum = MAE\n",
    "        bestIndex = ii\n",
    "\n",
    "print(bestIndex)\n",
    "print(minimum) \n",
    "    "
   ]
  },
  {
   "cell_type": "code",
   "execution_count": 73,
   "metadata": {},
   "outputs": [
    {
     "name": "stdout",
     "output_type": "stream",
     "text": [
      "1\n",
      "1.3806849231284506\n"
     ]
    }
   ],
   "source": [
    "minimum = 1000\n",
    "bestIndex = -1\n",
    "\n",
    "for ii in range(1, 100):\n",
    "    lasso_reg = Lasso(alpha = ii)\n",
    "    lasso_reg.fit(train_X, train_y)\n",
    "    predictions = lasso_reg.predict(val_X)\n",
    "    MAE = mean_absolute_error(val_y, predictions)\n",
    "    if MAE < minimum:\n",
    "        minimum = MAE\n",
    "        bestIndex = ii\n",
    "\n",
    "print(bestIndex)\n",
    "print(minimum)    "
   ]
  },
  {
   "cell_type": "code",
   "execution_count": 78,
   "metadata": {},
   "outputs": [
    {
     "name": "stdout",
     "output_type": "stream",
     "text": [
      "PCR r-squared -0.000\n"
     ]
    }
   ],
   "source": [
    "pcr = make_pipeline(StandardScaler(), PCA(n_components=1), LinearRegression())\n",
    "pcr.fit(train_X, train_y)\n",
    "pca = pcr.named_steps['pca']  # retrieve the PCA step of the pipeline\n",
    "print(f\"PCR r-squared {pcr.score(val_X, val_y):.3f}\")"
   ]
  },
  {
   "cell_type": "code",
   "execution_count": 79,
   "metadata": {},
   "outputs": [
    {
     "name": "stdout",
     "output_type": "stream",
     "text": [
      "PLS r-squared 0.024\n"
     ]
    }
   ],
   "source": [
    "pls = PLSRegression(n_components=1)\n",
    "pls.fit(train_X, train_y)\n",
    "print(f\"PLS r-squared {pls.score(val_X, val_y):.3f}\")"
   ]
  },
  {
   "cell_type": "code",
   "execution_count": null,
   "metadata": {},
   "outputs": [],
   "source": []
  }
 ],
 "metadata": {
  "kernelspec": {
   "display_name": "Python 3",
   "language": "python",
   "name": "python3"
  },
  "language_info": {
   "codemirror_mode": {
    "name": "ipython",
    "version": 3
   },
   "file_extension": ".py",
   "mimetype": "text/x-python",
   "name": "python",
   "nbconvert_exporter": "python",
   "pygments_lexer": "ipython3",
   "version": "3.8.8"
  }
 },
 "nbformat": 4,
 "nbformat_minor": 4
}
