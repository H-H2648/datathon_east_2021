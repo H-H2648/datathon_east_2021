{
 "cells": [
  {
   "cell_type": "code",
   "execution_count": 1,
   "metadata": {},
   "outputs": [
    {
     "name": "stdout",
     "output_type": "stream",
     "text": [
      "Requirement already satisfied: xgboost in c:\\users\\hhong\\appdata\\local\\packages\\pythonsoftwarefoundation.python.3.8_qbz5n2kfra8p0\\localcache\\local-packages\\python38\\site-packages (1.3.3)\n",
      "Requirement already satisfied: scipy in c:\\users\\hhong\\appdata\\local\\packages\\pythonsoftwarefoundation.python.3.8_qbz5n2kfra8p0\\localcache\\local-packages\\python38\\site-packages (from xgboost) (1.4.1)\n",
      "Requirement already satisfied: numpy in c:\\users\\hhong\\appdata\\local\\packages\\pythonsoftwarefoundation.python.3.8_qbz5n2kfra8p0\\localcache\\local-packages\\python38\\site-packages (from xgboost) (1.18.5)\n"
     ]
    },
    {
     "name": "stderr",
     "output_type": "stream",
     "text": [
      "WARNING: You are using pip version 20.2.3; however, version 21.0.1 is available.\n",
      "You should consider upgrading via the 'C:\\Users\\hhong\\AppData\\Local\\Microsoft\\WindowsApps\\PythonSoftwareFoundation.Python.3.8_qbz5n2kfra8p0\\python.exe -m pip install --upgrade pip' command.\n"
     ]
    }
   ],
   "source": [
    "!pip install xgboost"
   ]
  },
  {
   "cell_type": "code",
   "execution_count": 83,
   "metadata": {},
   "outputs": [],
   "source": [
    "#quick random forest regression for predicting wins\n",
    "import pandas as pd\n",
    "from sklearn.ensemble import RandomForestRegressor\n",
    "from sklearn.metrics import mean_absolute_error\n",
    "from sklearn.tree import DecisionTreeRegressor\n",
    "from sklearn.model_selection import train_test_split\n",
    "from xgboost import XGBRegressor\n",
    "from sklearn.linear_model import LinearRegression\n",
    "from sklearn.linear_model import Ridge\n",
    "from sklearn.linear_model import Lasso\n",
    "from sklearn.pipeline import make_pipeline\n",
    "from sklearn.decomposition import PCA\n",
    "from sklearn.cross_decomposition import PLSRegression\n",
    "from sklearn.preprocessing import StandardScaler\n",
    "import numpy as np"
   ]
  },
  {
   "cell_type": "code",
   "execution_count": 3,
   "metadata": {},
   "outputs": [],
   "source": [
    "#we try to find the difference in score home_team_score - away_team_score\n",
    "complete_matchDf = pd.read_pickle('complete_match.pkl')"
   ]
  },
  {
   "cell_type": "code",
   "execution_count": 4,
   "metadata": {},
   "outputs": [
    {
     "data": {
      "text/html": [
       "<div>\n",
       "<style scoped>\n",
       "    .dataframe tbody tr th:only-of-type {\n",
       "        vertical-align: middle;\n",
       "    }\n",
       "\n",
       "    .dataframe tbody tr th {\n",
       "        vertical-align: top;\n",
       "    }\n",
       "\n",
       "    .dataframe thead th {\n",
       "        text-align: right;\n",
       "    }\n",
       "</style>\n",
       "<table border=\"1\" class=\"dataframe\">\n",
       "  <thead>\n",
       "    <tr style=\"text-align: right;\">\n",
       "      <th></th>\n",
       "      <th>match_id</th>\n",
       "      <th>home_team_id</th>\n",
       "      <th>away_team_id</th>\n",
       "      <th>date</th>\n",
       "      <th>home_team_goal</th>\n",
       "      <th>away_team_goal</th>\n",
       "      <th>home_team_build_up_play_speed</th>\n",
       "      <th>home_team_build_up_play_dribbling</th>\n",
       "      <th>home_team_build_up_play_passing</th>\n",
       "      <th>home_team_chance_creationg_passing</th>\n",
       "      <th>...</th>\n",
       "      <th>home_team_defence_team_width</th>\n",
       "      <th>away_team_build_up_play_speed</th>\n",
       "      <th>away_team_build_up_play_dribbling</th>\n",
       "      <th>away_team_build_up_play_passing</th>\n",
       "      <th>away_team_chance_creationg_passing</th>\n",
       "      <th>away_team_chance_creation_crossing</th>\n",
       "      <th>away_team_chance_creation_shooting</th>\n",
       "      <th>away_team_defence_pressure</th>\n",
       "      <th>away_team_defence_aggression</th>\n",
       "      <th>away_team_defence_team_width</th>\n",
       "    </tr>\n",
       "  </thead>\n",
       "  <tbody>\n",
       "    <tr>\n",
       "      <th>0</th>\n",
       "      <td>665626</td>\n",
       "      <td>8635</td>\n",
       "      <td>8342</td>\n",
       "      <td>2010-02-03 00:00:00.000000</td>\n",
       "      <td>3</td>\n",
       "      <td>2</td>\n",
       "      <td>50</td>\n",
       "      <td>48.607362</td>\n",
       "      <td>35</td>\n",
       "      <td>70</td>\n",
       "      <td>...</td>\n",
       "      <td>70</td>\n",
       "      <td>35</td>\n",
       "      <td>48.607362</td>\n",
       "      <td>40</td>\n",
       "      <td>45</td>\n",
       "      <td>50</td>\n",
       "      <td>45</td>\n",
       "      <td>60</td>\n",
       "      <td>70</td>\n",
       "      <td>70</td>\n",
       "    </tr>\n",
       "    <tr>\n",
       "      <th>1</th>\n",
       "      <td>665630</td>\n",
       "      <td>9986</td>\n",
       "      <td>9985</td>\n",
       "      <td>2010-02-04 00:00:00.000000</td>\n",
       "      <td>2</td>\n",
       "      <td>3</td>\n",
       "      <td>40</td>\n",
       "      <td>48.607362</td>\n",
       "      <td>50</td>\n",
       "      <td>45</td>\n",
       "      <td>...</td>\n",
       "      <td>70</td>\n",
       "      <td>53</td>\n",
       "      <td>48.607362</td>\n",
       "      <td>40</td>\n",
       "      <td>55</td>\n",
       "      <td>55</td>\n",
       "      <td>65</td>\n",
       "      <td>70</td>\n",
       "      <td>70</td>\n",
       "      <td>65</td>\n",
       "    </tr>\n",
       "    <tr>\n",
       "      <th>2</th>\n",
       "      <td>665634</td>\n",
       "      <td>8203</td>\n",
       "      <td>9993</td>\n",
       "      <td>2010-02-02 00:00:00.000000</td>\n",
       "      <td>1</td>\n",
       "      <td>0</td>\n",
       "      <td>65</td>\n",
       "      <td>48.607362</td>\n",
       "      <td>60</td>\n",
       "      <td>50</td>\n",
       "      <td>...</td>\n",
       "      <td>60</td>\n",
       "      <td>35</td>\n",
       "      <td>48.607362</td>\n",
       "      <td>35</td>\n",
       "      <td>45</td>\n",
       "      <td>40</td>\n",
       "      <td>50</td>\n",
       "      <td>70</td>\n",
       "      <td>70</td>\n",
       "      <td>70</td>\n",
       "    </tr>\n",
       "    <tr>\n",
       "      <th>3</th>\n",
       "      <td>665665</td>\n",
       "      <td>8342</td>\n",
       "      <td>10001</td>\n",
       "      <td>2010-01-30 00:00:00.000000</td>\n",
       "      <td>2</td>\n",
       "      <td>1</td>\n",
       "      <td>35</td>\n",
       "      <td>48.607362</td>\n",
       "      <td>40</td>\n",
       "      <td>45</td>\n",
       "      <td>...</td>\n",
       "      <td>70</td>\n",
       "      <td>45</td>\n",
       "      <td>48.607362</td>\n",
       "      <td>60</td>\n",
       "      <td>40</td>\n",
       "      <td>45</td>\n",
       "      <td>55</td>\n",
       "      <td>70</td>\n",
       "      <td>70</td>\n",
       "      <td>70</td>\n",
       "    </tr>\n",
       "    <tr>\n",
       "      <th>4</th>\n",
       "      <td>665666</td>\n",
       "      <td>9985</td>\n",
       "      <td>8635</td>\n",
       "      <td>2010-01-17 00:00:00.000000</td>\n",
       "      <td>0</td>\n",
       "      <td>4</td>\n",
       "      <td>53</td>\n",
       "      <td>48.607362</td>\n",
       "      <td>40</td>\n",
       "      <td>55</td>\n",
       "      <td>...</td>\n",
       "      <td>65</td>\n",
       "      <td>50</td>\n",
       "      <td>48.607362</td>\n",
       "      <td>35</td>\n",
       "      <td>70</td>\n",
       "      <td>50</td>\n",
       "      <td>60</td>\n",
       "      <td>70</td>\n",
       "      <td>50</td>\n",
       "      <td>70</td>\n",
       "    </tr>\n",
       "  </tbody>\n",
       "</table>\n",
       "<p>5 rows × 24 columns</p>\n",
       "</div>"
      ],
      "text/plain": [
       "   match_id  home_team_id  away_team_id                        date  \\\n",
       "0    665626          8635          8342  2010-02-03 00:00:00.000000   \n",
       "1    665630          9986          9985  2010-02-04 00:00:00.000000   \n",
       "2    665634          8203          9993  2010-02-02 00:00:00.000000   \n",
       "3    665665          8342         10001  2010-01-30 00:00:00.000000   \n",
       "4    665666          9985          8635  2010-01-17 00:00:00.000000   \n",
       "\n",
       "   home_team_goal  away_team_goal  home_team_build_up_play_speed  \\\n",
       "0               3               2                             50   \n",
       "1               2               3                             40   \n",
       "2               1               0                             65   \n",
       "3               2               1                             35   \n",
       "4               0               4                             53   \n",
       "\n",
       "   home_team_build_up_play_dribbling  home_team_build_up_play_passing  \\\n",
       "0                          48.607362                               35   \n",
       "1                          48.607362                               50   \n",
       "2                          48.607362                               60   \n",
       "3                          48.607362                               40   \n",
       "4                          48.607362                               40   \n",
       "\n",
       "   home_team_chance_creationg_passing  ...  home_team_defence_team_width  \\\n",
       "0                                  70  ...                            70   \n",
       "1                                  45  ...                            70   \n",
       "2                                  50  ...                            60   \n",
       "3                                  45  ...                            70   \n",
       "4                                  55  ...                            65   \n",
       "\n",
       "   away_team_build_up_play_speed  away_team_build_up_play_dribbling  \\\n",
       "0                             35                          48.607362   \n",
       "1                             53                          48.607362   \n",
       "2                             35                          48.607362   \n",
       "3                             45                          48.607362   \n",
       "4                             50                          48.607362   \n",
       "\n",
       "   away_team_build_up_play_passing  away_team_chance_creationg_passing  \\\n",
       "0                               40                                  45   \n",
       "1                               40                                  55   \n",
       "2                               35                                  45   \n",
       "3                               60                                  40   \n",
       "4                               35                                  70   \n",
       "\n",
       "   away_team_chance_creation_crossing  away_team_chance_creation_shooting  \\\n",
       "0                                  50                                  45   \n",
       "1                                  55                                  65   \n",
       "2                                  40                                  50   \n",
       "3                                  45                                  55   \n",
       "4                                  50                                  60   \n",
       "\n",
       "   away_team_defence_pressure  away_team_defence_aggression  \\\n",
       "0                          60                            70   \n",
       "1                          70                            70   \n",
       "2                          70                            70   \n",
       "3                          70                            70   \n",
       "4                          70                            50   \n",
       "\n",
       "   away_team_defence_team_width  \n",
       "0                            70  \n",
       "1                            65  \n",
       "2                            70  \n",
       "3                            70  \n",
       "4                            70  \n",
       "\n",
       "[5 rows x 24 columns]"
      ]
     },
     "execution_count": 4,
     "metadata": {},
     "output_type": "execute_result"
    }
   ],
   "source": [
    "complete_matchDf.head()"
   ]
  },
  {
   "cell_type": "code",
   "execution_count": 5,
   "metadata": {},
   "outputs": [],
   "source": [
    " complete_matchDf['result'] = complete_matchDf['home_team_goal'] - complete_matchDf['away_team_goal']"
   ]
  },
  {
   "cell_type": "code",
   "execution_count": 6,
   "metadata": {},
   "outputs": [
    {
     "data": {
      "text/plain": [
       "0        1\n",
       "1       -1\n",
       "2        1\n",
       "3        1\n",
       "4       -4\n",
       "        ..\n",
       "18238    0\n",
       "18239    1\n",
       "18240   -1\n",
       "18241    2\n",
       "18242    1\n",
       "Name: result, Length: 18243, dtype: int64"
      ]
     },
     "execution_count": 6,
     "metadata": {},
     "output_type": "execute_result"
    }
   ],
   "source": [
    "complete_matchDf['result']"
   ]
  },
  {
   "cell_type": "code",
   "execution_count": 7,
   "metadata": {},
   "outputs": [],
   "source": [
    "y = complete_matchDf.result\n",
    "features_of_interest = [\n",
    "    'home_team_build_up_play_speed',\n",
    "    'home_team_build_up_play_dribbling',\n",
    "    'home_team_build_up_play_passing',\n",
    "    'home_team_chance_creationg_passing',\n",
    "    'home_team_chance_creation_crossing',\n",
    "    'home_team_chance_creation_shooting',\n",
    "    'home_team_defence_pressure',\n",
    "    'home_team_defence_aggression',\n",
    "    'home_team_defence_team_width',\n",
    "    'away_team_build_up_play_speed',\n",
    "    'away_team_build_up_play_dribbling',\n",
    "    'away_team_build_up_play_passing',\n",
    "    'away_team_chance_creationg_passing',\n",
    "    'away_team_chance_creation_crossing',\n",
    "    'away_team_chance_creation_shooting',\n",
    "    'away_team_defence_pressure',\n",
    "    'away_team_defence_aggression',\n",
    "    'away_team_defence_team_width',\n",
    "]\n",
    "X = complete_matchDf[features_of_interest]"
   ]
  },
  {
   "cell_type": "code",
   "execution_count": 8,
   "metadata": {},
   "outputs": [
    {
     "name": "stdout",
     "output_type": "stream",
     "text": [
      "1.825032531599074\n"
     ]
    }
   ],
   "source": [
    "train_X, val_X, train_y, val_y = train_test_split(X, y, random_state = 0)\n",
    "# Define model\n",
    "decision_tree = DecisionTreeRegressor()\n",
    "# Fit model\n",
    "decision_tree.fit(train_X, train_y)\n",
    "\n",
    "# get predicted prices on validation data\n",
    "val_predictions = decision_tree.predict(val_X)\n",
    "print(mean_absolute_error(val_y, val_predictions))"
   ]
  },
  {
   "cell_type": "code",
   "execution_count": 9,
   "metadata": {},
   "outputs": [
    {
     "name": "stdout",
     "output_type": "stream",
     "text": [
      "1.4060983398862479\n"
     ]
    }
   ],
   "source": [
    "forest_model = RandomForestRegressor(random_state=1)\n",
    "forest_model.fit(train_X, train_y)\n",
    "prediction = forest_model.predict(val_X)\n",
    "print(mean_absolute_error(val_y, prediction))\n",
    "#mean absolute error of 1.4060983398862479. Not bad?"
   ]
  },
  {
   "cell_type": "code",
   "execution_count": 84,
   "metadata": {},
   "outputs": [
    {
     "name": "stdout",
     "output_type": "stream",
     "text": [
      "7\n",
      "1.3014689761017322\n"
     ]
    }
   ],
   "source": [
    "minimum = 1000\n",
    "bestIndex = -1\n",
    "#you can't have 0 as n_estimator\n",
    "for ii in range(1, 100):\n",
    "    XG_model = XGBRegressor(n_estimators= ii)\n",
    "    XG_model.fit(train_X, train_y, \n",
    "                 early_stopping_rounds=5, \n",
    "                 eval_set=[(val_X, val_y)],\n",
    "                 verbose=False)\n",
    "    predictions = np.rint(XG_model.predict(val_X))\n",
    "    MAE = mean_absolute_error(val_y, predictions)\n",
    "    if MAE < minimum:\n",
    "        minimum = MAE\n",
    "        bestIndex = ii\n",
    "\n",
    "print(bestIndex)\n",
    "print(minimum)"
   ]
  },
  {
   "cell_type": "code",
   "execution_count": 87,
   "metadata": {},
   "outputs": [
    {
     "name": "stdout",
     "output_type": "stream",
     "text": [
      "[23:38:15] WARNING: C:/Users/Administrator/workspace/xgboost-win64_release_1.3.0/src/learner.cc:541: \n",
      "Parameters: { n_estimator } might not be used.\n",
      "\n",
      "  This may not be accurate due to some parameters are only used in language bindings but\n",
      "  passed down to XGBoost core.  Or some parameters are not used but slip through this\n",
      "  verification. Please open an issue if you find above cases.\n",
      "\n",
      "\n",
      "0.39026529269896953\n"
     ]
    }
   ],
   "source": [
    "XG_model = XGBRegressor(n_estimator = 7)\n",
    "XG_model.fit(train_X, train_y, \n",
    "                 early_stopping_rounds=5, \n",
    "                 eval_set=[(val_X, val_y)],\n",
    "                 verbose=False)\n",
    "predictions = XG_model.predict(val_X)\n",
    "ultimate_predictions = np.rint(predictions)\n",
    "total = len(ultimate_predictions)\n",
    "just_win_loss_tie = np.sign(val_y)\n",
    "just_win_loss_tie_predictions = np.sign(ultimate_predictions)\n",
    "correct = np.sum(just_win_loss_tie == just_win_loss_tie_predictions)\n",
    "print(correct/total)\n",
    "#so this is terrible\n",
    "\n",
    "\n"
   ]
  },
  {
   "cell_type": "code",
   "execution_count": 25,
   "metadata": {},
   "outputs": [],
   "source": [
    "#best mean_absolute_error at around:\n",
    "#1.3262471103714237"
   ]
  },
  {
   "cell_type": "code",
   "execution_count": 33,
   "metadata": {},
   "outputs": [],
   "source": [
    "reg = LinearRegression().fit(train_X, train_y)"
   ]
  },
  {
   "cell_type": "code",
   "execution_count": 35,
   "metadata": {},
   "outputs": [
    {
     "data": {
      "text/plain": [
       "1.3628156770705915"
      ]
     },
     "execution_count": 35,
     "metadata": {},
     "output_type": "execute_result"
    }
   ],
   "source": [
    "mean_absolute_error(val_y, reg.predict(val_X))"
   ]
  },
  {
   "cell_type": "code",
   "execution_count": 68,
   "metadata": {},
   "outputs": [
    {
     "name": "stdout",
     "output_type": "stream",
     "text": [
      "1\n",
      "1.3628156772632816\n"
     ]
    }
   ],
   "source": [
    "minimum = 1000\n",
    "bestIndex = -1\n",
    "\n",
    "for ii in range(1, 100):\n",
    "    ridge_reg = Ridge(alpha = ii)\n",
    "    ridge_reg.fit(train_X, train_y)\n",
    "    predictions = ridge_reg.predict(val_X)\n",
    "    MAE = mean_absolute_error(val_y, predictions)\n",
    "    if MAE < minimum:\n",
    "        minimum = MAE\n",
    "        bestIndex = ii\n",
    "\n",
    "print(bestIndex)\n",
    "print(minimum) \n",
    "    "
   ]
  },
  {
   "cell_type": "code",
   "execution_count": 73,
   "metadata": {},
   "outputs": [
    {
     "name": "stdout",
     "output_type": "stream",
     "text": [
      "1\n",
      "1.3806849231284506\n"
     ]
    }
   ],
   "source": [
    "minimum = 1000\n",
    "bestIndex = -1\n",
    "\n",
    "for ii in range(1, 100):\n",
    "    lasso_reg = Lasso(alpha = ii)\n",
    "    lasso_reg.fit(train_X, train_y)\n",
    "    predictions = lasso_reg.predict(val_X)\n",
    "    MAE = mean_absolute_error(val_y, predictions)\n",
    "    if MAE < minimum:\n",
    "        minimum = MAE\n",
    "        bestIndex = ii\n",
    "\n",
    "print(bestIndex)\n",
    "print(minimum)    "
   ]
  },
  {
   "cell_type": "code",
   "execution_count": 78,
   "metadata": {},
   "outputs": [
    {
     "name": "stdout",
     "output_type": "stream",
     "text": [
      "PCR r-squared -0.000\n"
     ]
    }
   ],
   "source": [
    "pcr = make_pipeline(StandardScaler(), PCA(n_components=1), LinearRegression())\n",
    "pcr.fit(train_X, train_y)\n",
    "pca = pcr.named_steps['pca']  # retrieve the PCA step of the pipeline\n",
    "print(f\"PCR r-squared {pcr.score(val_X, val_y):.3f}\")"
   ]
  },
  {
   "cell_type": "code",
   "execution_count": 79,
   "metadata": {},
   "outputs": [
    {
     "name": "stdout",
     "output_type": "stream",
     "text": [
      "PLS r-squared 0.024\n"
     ]
    }
   ],
   "source": [
    "pls = PLSRegression(n_components=1)\n",
    "pls.fit(train_X, train_y)\n",
    "print(f\"PLS r-squared {pls.score(val_X, val_y):.3f}\")"
   ]
  },
  {
   "cell_type": "code",
   "execution_count": null,
   "metadata": {},
   "outputs": [],
   "source": []
  }
 ],
 "metadata": {
  "kernelspec": {
   "display_name": "Python 3",
   "language": "python",
   "name": "python3"
  },
  "language_info": {
   "codemirror_mode": {
    "name": "ipython",
    "version": 3
   },
   "file_extension": ".py",
   "mimetype": "text/x-python",
   "name": "python",
   "nbconvert_exporter": "python",
   "pygments_lexer": "ipython3",
   "version": "3.8.8"
  }
 },
 "nbformat": 4,
 "nbformat_minor": 4
}
